{
 "cells": [
  {
   "cell_type": "markdown",
   "metadata": {},
   "source": [
    " # This is my first notebook on Machine Learning Model\n",
    " \n",
    " ## BY: Monica.M.Mbabazi"
   ]
  },
  {
   "cell_type": "markdown",
   "metadata": {},
   "source": [
    "<div class=\"alert alert-block alert-info\">\n",
    "\n",
    "# Over all comments\n",
    "\n",
    "- I like the work you are putting into commenting on your code.\n",
    "- The work is so far coherent, meaning I can follow from one step to another while understanding what you are doing and why you are doing it.\n",
    "\n",
    "- Keep it up so far so good."
   ]
  },
  {
   "cell_type": "code",
   "execution_count": 1,
   "metadata": {
    "_cell_guid": "b1076dfc-b9ad-4769-8c92-a6c4dae69d19",
    "_uuid": "8f2839f25d086af736a60e9eeb907d3b93b6e0e5"
   },
   "outputs": [
    {
     "name": "stdout",
     "output_type": "stream",
     "text": [
      "/kaggle/input/amp-data-set/Test.csv\n",
      "/kaggle/input/amp-data-set/AMP_TrainSet.csv\n"
     ]
    }
   ],
   "source": [
    "#Here i am importing all the necessary libraries to be used in this analysis\n",
    "\n",
    "import numpy as np # linear algebra\n",
    "import pandas as pd # data processing, CSV file I/O (e.g. pd.read_csv)\n",
    "import matplotlib.pyplot as plt# for plotting\n",
    "from sklearn.preprocessing import StandardScaler\n",
    "import seaborn as sns #data visualization library based on matplotlib\n",
    "import os # for accessing directory structures\n",
    "# let's us remove all the uncessary warnings from our cells\n",
    "import warnings\n",
    "warnings.filterwarnings('ignore')\n",
    "\n",
    "# Input data files to be used are available in \"../input/\" directory.\n",
    "# running the below command lists all the availabe files under the input directory\n",
    "\n",
    "for dirname, _, filenames in os.walk('/kaggle/input'):\n",
    "    for filename in filenames:\n",
    "        print(os.path.join(dirname, filename))\n",
    "\n",
    "# Any results you write to the current directory are saved as output."
   ]
  },
  {
   "cell_type": "code",
   "execution_count": 2,
   "metadata": {},
   "outputs": [
    {
     "data": {
      "text/plain": [
       "'/kaggle/working'"
      ]
     },
     "execution_count": 2,
     "metadata": {},
     "output_type": "execute_result"
    }
   ],
   "source": [
    "# let's check our current working directory using the os modules\n",
    "os.getcwd()"
   ]
  },
  {
   "cell_type": "markdown",
   "metadata": {},
   "source": [
    "## From the above, it shows that i have two csv files to work with in this analysis.\n",
    " - Test.csv\n",
    " - AMP_TrainSet.csv"
   ]
  },
  {
   "cell_type": "markdown",
   "metadata": {},
   "source": [
    "### Now let us load and read in our data with the code below and assign it to new names.Here we use the \"pd.read_csv\" since the files are in csv format. CSV files are comma separated files.\n",
    "\n",
    "### Also, we have check the dimensions of our data and this helps us to an insight about the data we are working with in terms of how big the data is."
   ]
  },
  {
   "cell_type": "code",
   "execution_count": 3,
   "metadata": {},
   "outputs": [
    {
     "name": "stdout",
     "output_type": "stream",
     "text": [
      "There are 3038 rows and 12 columns\n"
     ]
    }
   ],
   "source": [
    "# Loading the dataset1 (AMP_TrainSet.csv). Our datasets are csv files and a csv is a comma separated file\n",
    "Train=pd.read_csv(\"/kaggle/input/amp-data-set/AMP_TrainSet.csv\", delimiter=',')\n",
    "nRow, nCol = Train.shape\n",
    "print(f'There are {nRow} rows and {nCol} columns')"
   ]
  },
  {
   "cell_type": "code",
   "execution_count": 4,
   "metadata": {},
   "outputs": [
    {
     "name": "stdout",
     "output_type": "stream",
     "text": [
      "There are 758 rows and 11 columns\n"
     ]
    }
   ],
   "source": [
    "# Loading the dataset2 (Test.csv)\n",
    "Test=pd.read_csv(\"/kaggle/input/amp-data-set/Test.csv\", delimiter=',')\n",
    "nRow, nCol = Test.shape\n",
    "print(f'There are {nRow} rows and {nCol} columns')"
   ]
  },
  {
   "cell_type": "markdown",
   "metadata": {},
   "source": [
    "#### Based on the data dimensions above, it tells me that i am working with small datasets. \n",
    "- One having 3038 observations and 12 features/variables (Train)\n",
    "- Another dataset having 758 observations/records and 11 features (Test)"
   ]
  },
  {
   "cell_type": "markdown",
   "metadata": {},
   "source": [
    "#### Let's have a quick look on our data looks like: Since we have to datasets, we shall first view one and then we handle another dataset after.\n",
    "- let's start with the Train dataset\n",
    "- later we shall emback on the Test dataset"
   ]
  },
  {
   "cell_type": "markdown",
   "metadata": {},
   "source": [
    "# Data dimensions\n",
    "## We can merge our two datasets for the purpose of pre-processing, since this does not affect the model and the check for the dimensions.\n",
    "> You need to know how much data you have both in terms of row and column number\n",
    "- This will give an insight on how much time the algorithm might take to train, algorithms take long to train on data with many rows and fewer rows may lead to underfitting of the model.\n",
    "- Too many features/columns may cause overfitting of some algorithms due to the curse of dimensionality."
   ]
  },
  {
   "cell_type": "code",
   "execution_count": 5,
   "metadata": {},
   "outputs": [
    {
     "name": "stdout",
     "output_type": "stream",
     "text": [
      "There are 3796 rows and 12 columns\n"
     ]
    }
   ],
   "source": [
    "#combining two datasets for the ease of the pre-processing step \n",
    "Combined_data=Train.append(Test)\n",
    "# let's check the dimension of the combined data\n",
    "nRow, nCol = Combined_data.shape\n",
    "print(f'There are {nRow} rows and {nCol} columns')"
   ]
  },
  {
   "cell_type": "markdown",
   "metadata": {},
   "source": [
    "#### Let's take a quick look at what the data looks like:This helps us to know whether our data is clean.\n",
    "> let's us diplay the first few rows"
   ]
  },
  {
   "cell_type": "code",
   "execution_count": 6,
   "metadata": {},
   "outputs": [
    {
     "data": {
      "text/html": [
       "<div>\n",
       "<style scoped>\n",
       "    .dataframe tbody tr th:only-of-type {\n",
       "        vertical-align: middle;\n",
       "    }\n",
       "\n",
       "    .dataframe tbody tr th {\n",
       "        vertical-align: top;\n",
       "    }\n",
       "\n",
       "    .dataframe thead th {\n",
       "        text-align: right;\n",
       "    }\n",
       "</style>\n",
       "<table border=\"1\" class=\"dataframe\">\n",
       "  <thead>\n",
       "    <tr style=\"text-align: right;\">\n",
       "      <th></th>\n",
       "      <th>AS_DAYM780201</th>\n",
       "      <th>AS_FUKS010112</th>\n",
       "      <th>AS_MeanAmphiMoment</th>\n",
       "      <th>CLASS</th>\n",
       "      <th>CT_RACS820104</th>\n",
       "      <th>FULL_AURR980107</th>\n",
       "      <th>FULL_AcidicMolPerc</th>\n",
       "      <th>FULL_Charge</th>\n",
       "      <th>FULL_DAYM780201</th>\n",
       "      <th>FULL_GEOR030101</th>\n",
       "      <th>FULL_OOBM850104</th>\n",
       "      <th>NT_EFC195</th>\n",
       "    </tr>\n",
       "  </thead>\n",
       "  <tbody>\n",
       "    <tr>\n",
       "      <th>0</th>\n",
       "      <td>73.444</td>\n",
       "      <td>5.661</td>\n",
       "      <td>0.282</td>\n",
       "      <td>1.0</td>\n",
       "      <td>1.041</td>\n",
       "      <td>0.951</td>\n",
       "      <td>0.000</td>\n",
       "      <td>5.0</td>\n",
       "      <td>74.842</td>\n",
       "      <td>0.975</td>\n",
       "      <td>-3.663</td>\n",
       "      <td>0</td>\n",
       "    </tr>\n",
       "    <tr>\n",
       "      <th>1</th>\n",
       "      <td>68.222</td>\n",
       "      <td>6.537</td>\n",
       "      <td>0.600</td>\n",
       "      <td>1.0</td>\n",
       "      <td>1.453</td>\n",
       "      <td>0.931</td>\n",
       "      <td>5.405</td>\n",
       "      <td>4.0</td>\n",
       "      <td>71.595</td>\n",
       "      <td>0.957</td>\n",
       "      <td>-4.011</td>\n",
       "      <td>1</td>\n",
       "    </tr>\n",
       "    <tr>\n",
       "      <th>2</th>\n",
       "      <td>69.444</td>\n",
       "      <td>4.934</td>\n",
       "      <td>0.593</td>\n",
       "      <td>1.0</td>\n",
       "      <td>1.722</td>\n",
       "      <td>0.873</td>\n",
       "      <td>5.405</td>\n",
       "      <td>5.5</td>\n",
       "      <td>73.595</td>\n",
       "      <td>0.961</td>\n",
       "      <td>-2.512</td>\n",
       "      <td>0</td>\n",
       "    </tr>\n",
       "    <tr>\n",
       "      <th>3</th>\n",
       "      <td>67.222</td>\n",
       "      <td>4.316</td>\n",
       "      <td>0.614</td>\n",
       "      <td>1.0</td>\n",
       "      <td>1.382</td>\n",
       "      <td>0.895</td>\n",
       "      <td>4.167</td>\n",
       "      <td>5.0</td>\n",
       "      <td>66.250</td>\n",
       "      <td>0.999</td>\n",
       "      <td>-1.362</td>\n",
       "      <td>0</td>\n",
       "    </tr>\n",
       "    <tr>\n",
       "      <th>4</th>\n",
       "      <td>72.944</td>\n",
       "      <td>4.540</td>\n",
       "      <td>0.616</td>\n",
       "      <td>1.0</td>\n",
       "      <td>1.539</td>\n",
       "      <td>0.932</td>\n",
       "      <td>8.537</td>\n",
       "      <td>7.5</td>\n",
       "      <td>64.720</td>\n",
       "      <td>0.979</td>\n",
       "      <td>-2.091</td>\n",
       "      <td>0</td>\n",
       "    </tr>\n",
       "  </tbody>\n",
       "</table>\n",
       "</div>"
      ],
      "text/plain": [
       "   AS_DAYM780201  AS_FUKS010112  AS_MeanAmphiMoment  CLASS  CT_RACS820104  \\\n",
       "0         73.444          5.661               0.282    1.0          1.041   \n",
       "1         68.222          6.537               0.600    1.0          1.453   \n",
       "2         69.444          4.934               0.593    1.0          1.722   \n",
       "3         67.222          4.316               0.614    1.0          1.382   \n",
       "4         72.944          4.540               0.616    1.0          1.539   \n",
       "\n",
       "   FULL_AURR980107  FULL_AcidicMolPerc  FULL_Charge  FULL_DAYM780201  \\\n",
       "0            0.951               0.000          5.0           74.842   \n",
       "1            0.931               5.405          4.0           71.595   \n",
       "2            0.873               5.405          5.5           73.595   \n",
       "3            0.895               4.167          5.0           66.250   \n",
       "4            0.932               8.537          7.5           64.720   \n",
       "\n",
       "   FULL_GEOR030101  FULL_OOBM850104  NT_EFC195  \n",
       "0            0.975           -3.663          0  \n",
       "1            0.957           -4.011          1  \n",
       "2            0.961           -2.512          0  \n",
       "3            0.999           -1.362          0  \n",
       "4            0.979           -2.091          0  "
      ]
     },
     "execution_count": 6,
     "metadata": {},
     "output_type": "execute_result"
    }
   ],
   "source": [
    "#displaying the first 5 rows of our combined data\n",
    "Combined_data.head(5)"
   ]
  },
  {
   "cell_type": "markdown",
   "metadata": {},
   "source": [
    "#### we can have a look on the column names of our data because these are the names we shall use do plot our data"
   ]
  },
  {
   "cell_type": "code",
   "execution_count": 7,
   "metadata": {},
   "outputs": [
    {
     "data": {
      "text/plain": [
       "Index(['AS_DAYM780201', 'AS_FUKS010112', 'AS_MeanAmphiMoment', 'CLASS',\n",
       "       'CT_RACS820104', 'FULL_AURR980107', 'FULL_AcidicMolPerc', 'FULL_Charge',\n",
       "       'FULL_DAYM780201', 'FULL_GEOR030101', 'FULL_OOBM850104', 'NT_EFC195'],\n",
       "      dtype='object')"
      ]
     },
     "execution_count": 7,
     "metadata": {},
     "output_type": "execute_result"
    }
   ],
   "source": [
    "Combined_data.columns # This prints out the column names"
   ]
  },
  {
   "cell_type": "markdown",
   "metadata": {},
   "source": [
    "## Data Type For Each Attribute\n",
    "> Understanding the type of each attribute is very important. In case of the presence of strings, we may need to convert them to floats or integers.\n"
   ]
  },
  {
   "cell_type": "code",
   "execution_count": 8,
   "metadata": {},
   "outputs": [
    {
     "data": {
      "text/plain": [
       "AS_DAYM780201         float64\n",
       "AS_FUKS010112         float64\n",
       "AS_MeanAmphiMoment    float64\n",
       "CLASS                 float64\n",
       "CT_RACS820104         float64\n",
       "FULL_AURR980107       float64\n",
       "FULL_AcidicMolPerc    float64\n",
       "FULL_Charge           float64\n",
       "FULL_DAYM780201       float64\n",
       "FULL_GEOR030101       float64\n",
       "FULL_OOBM850104       float64\n",
       "NT_EFC195               int64\n",
       "dtype: object"
      ]
     },
     "execution_count": 8,
     "metadata": {},
     "output_type": "execute_result"
    }
   ],
   "source": [
    "# Checeking for the data types of each attribute\n",
    "Combined_data.dtypes"
   ]
  },
  {
   "cell_type": "markdown",
   "metadata": {},
   "source": [
    "## Descriptive Statistics\n",
    ">Descriptive statistics can give us great insight into the shape of each attribute. \n",
    "> By default the describe() function on the Pandas lists 8 statistical properties of each attribute as indicated in the output below."
   ]
  },
  {
   "cell_type": "code",
   "execution_count": 9,
   "metadata": {
    "scrolled": true
   },
   "outputs": [
    {
     "data": {
      "text/html": [
       "<div>\n",
       "<style scoped>\n",
       "    .dataframe tbody tr th:only-of-type {\n",
       "        vertical-align: middle;\n",
       "    }\n",
       "\n",
       "    .dataframe tbody tr th {\n",
       "        vertical-align: top;\n",
       "    }\n",
       "\n",
       "    .dataframe thead th {\n",
       "        text-align: right;\n",
       "    }\n",
       "</style>\n",
       "<table border=\"1\" class=\"dataframe\">\n",
       "  <thead>\n",
       "    <tr style=\"text-align: right;\">\n",
       "      <th></th>\n",
       "      <th>AS_DAYM780201</th>\n",
       "      <th>AS_FUKS010112</th>\n",
       "      <th>AS_MeanAmphiMoment</th>\n",
       "      <th>CLASS</th>\n",
       "      <th>CT_RACS820104</th>\n",
       "      <th>FULL_AURR980107</th>\n",
       "      <th>FULL_AcidicMolPerc</th>\n",
       "      <th>FULL_Charge</th>\n",
       "      <th>FULL_DAYM780201</th>\n",
       "      <th>FULL_GEOR030101</th>\n",
       "      <th>FULL_OOBM850104</th>\n",
       "      <th>NT_EFC195</th>\n",
       "    </tr>\n",
       "  </thead>\n",
       "  <tbody>\n",
       "    <tr>\n",
       "      <th>count</th>\n",
       "      <td>3796.000000</td>\n",
       "      <td>3796.000000</td>\n",
       "      <td>3796.000000</td>\n",
       "      <td>3038.000000</td>\n",
       "      <td>3796.000000</td>\n",
       "      <td>3796.000000</td>\n",
       "      <td>3796.000000</td>\n",
       "      <td>3796.000000</td>\n",
       "      <td>3796.000000</td>\n",
       "      <td>3796.000000</td>\n",
       "      <td>3796.000000</td>\n",
       "      <td>3796.000000</td>\n",
       "    </tr>\n",
       "    <tr>\n",
       "      <th>mean</th>\n",
       "      <td>73.689442</td>\n",
       "      <td>5.909989</td>\n",
       "      <td>15.660636</td>\n",
       "      <td>0.500000</td>\n",
       "      <td>1.238237</td>\n",
       "      <td>0.971737</td>\n",
       "      <td>8.606101</td>\n",
       "      <td>2.062961</td>\n",
       "      <td>73.699337</td>\n",
       "      <td>0.994048</td>\n",
       "      <td>-2.425937</td>\n",
       "      <td>0.087724</td>\n",
       "    </tr>\n",
       "    <tr>\n",
       "      <th>std</th>\n",
       "      <td>9.115709</td>\n",
       "      <td>0.686423</td>\n",
       "      <td>11.532034</td>\n",
       "      <td>0.500082</td>\n",
       "      <td>0.211707</td>\n",
       "      <td>0.108059</td>\n",
       "      <td>7.633520</td>\n",
       "      <td>3.904811</td>\n",
       "      <td>8.429593</td>\n",
       "      <td>0.031539</td>\n",
       "      <td>1.685668</td>\n",
       "      <td>0.282930</td>\n",
       "    </tr>\n",
       "    <tr>\n",
       "      <th>min</th>\n",
       "      <td>42.778000</td>\n",
       "      <td>3.533000</td>\n",
       "      <td>0.041000</td>\n",
       "      <td>0.000000</td>\n",
       "      <td>0.785000</td>\n",
       "      <td>0.684000</td>\n",
       "      <td>0.000000</td>\n",
       "      <td>-16.000000</td>\n",
       "      <td>42.750000</td>\n",
       "      <td>0.866000</td>\n",
       "      <td>-10.432000</td>\n",
       "      <td>0.000000</td>\n",
       "    </tr>\n",
       "    <tr>\n",
       "      <th>25%</th>\n",
       "      <td>67.667000</td>\n",
       "      <td>5.462000</td>\n",
       "      <td>5.629750</td>\n",
       "      <td>0.000000</td>\n",
       "      <td>1.085750</td>\n",
       "      <td>0.895000</td>\n",
       "      <td>2.632000</td>\n",
       "      <td>0.000000</td>\n",
       "      <td>68.415750</td>\n",
       "      <td>0.974000</td>\n",
       "      <td>-3.574250</td>\n",
       "      <td>0.000000</td>\n",
       "    </tr>\n",
       "    <tr>\n",
       "      <th>50%</th>\n",
       "      <td>73.677500</td>\n",
       "      <td>5.927000</td>\n",
       "      <td>15.012000</td>\n",
       "      <td>0.500000</td>\n",
       "      <td>1.185000</td>\n",
       "      <td>0.963000</td>\n",
       "      <td>7.143000</td>\n",
       "      <td>2.000000</td>\n",
       "      <td>74.059500</td>\n",
       "      <td>0.994000</td>\n",
       "      <td>-2.283500</td>\n",
       "      <td>0.000000</td>\n",
       "    </tr>\n",
       "    <tr>\n",
       "      <th>75%</th>\n",
       "      <td>79.889000</td>\n",
       "      <td>6.381000</td>\n",
       "      <td>26.514000</td>\n",
       "      <td>1.000000</td>\n",
       "      <td>1.356000</td>\n",
       "      <td>1.042000</td>\n",
       "      <td>13.333000</td>\n",
       "      <td>4.000000</td>\n",
       "      <td>79.321750</td>\n",
       "      <td>1.011000</td>\n",
       "      <td>-1.289000</td>\n",
       "      <td>0.000000</td>\n",
       "    </tr>\n",
       "    <tr>\n",
       "      <th>max</th>\n",
       "      <td>103.167000</td>\n",
       "      <td>8.662000</td>\n",
       "      <td>51.280000</td>\n",
       "      <td>1.000000</td>\n",
       "      <td>2.283000</td>\n",
       "      <td>1.451000</td>\n",
       "      <td>46.667000</td>\n",
       "      <td>30.000000</td>\n",
       "      <td>102.929000</td>\n",
       "      <td>1.196000</td>\n",
       "      <td>3.576000</td>\n",
       "      <td>1.000000</td>\n",
       "    </tr>\n",
       "  </tbody>\n",
       "</table>\n",
       "</div>"
      ],
      "text/plain": [
       "       AS_DAYM780201  AS_FUKS010112  AS_MeanAmphiMoment        CLASS  \\\n",
       "count    3796.000000    3796.000000         3796.000000  3038.000000   \n",
       "mean       73.689442       5.909989           15.660636     0.500000   \n",
       "std         9.115709       0.686423           11.532034     0.500082   \n",
       "min        42.778000       3.533000            0.041000     0.000000   \n",
       "25%        67.667000       5.462000            5.629750     0.000000   \n",
       "50%        73.677500       5.927000           15.012000     0.500000   \n",
       "75%        79.889000       6.381000           26.514000     1.000000   \n",
       "max       103.167000       8.662000           51.280000     1.000000   \n",
       "\n",
       "       CT_RACS820104  FULL_AURR980107  FULL_AcidicMolPerc  FULL_Charge  \\\n",
       "count    3796.000000      3796.000000         3796.000000  3796.000000   \n",
       "mean        1.238237         0.971737            8.606101     2.062961   \n",
       "std         0.211707         0.108059            7.633520     3.904811   \n",
       "min         0.785000         0.684000            0.000000   -16.000000   \n",
       "25%         1.085750         0.895000            2.632000     0.000000   \n",
       "50%         1.185000         0.963000            7.143000     2.000000   \n",
       "75%         1.356000         1.042000           13.333000     4.000000   \n",
       "max         2.283000         1.451000           46.667000    30.000000   \n",
       "\n",
       "       FULL_DAYM780201  FULL_GEOR030101  FULL_OOBM850104    NT_EFC195  \n",
       "count      3796.000000      3796.000000      3796.000000  3796.000000  \n",
       "mean         73.699337         0.994048        -2.425937     0.087724  \n",
       "std           8.429593         0.031539         1.685668     0.282930  \n",
       "min          42.750000         0.866000       -10.432000     0.000000  \n",
       "25%          68.415750         0.974000        -3.574250     0.000000  \n",
       "50%          74.059500         0.994000        -2.283500     0.000000  \n",
       "75%          79.321750         1.011000        -1.289000     0.000000  \n",
       "max         102.929000         1.196000         3.576000     1.000000  "
      ]
     },
     "execution_count": 9,
     "metadata": {},
     "output_type": "execute_result"
    }
   ],
   "source": [
    "## Displays the basic statical properties using the describe() function\n",
    "Combined_data.describe()"
   ]
  },
  {
   "cell_type": "markdown",
   "metadata": {},
   "source": [
    "<div class=\"alert alert-block alert-success\"/>\n",
    "\n",
    "# Note!\n",
    "\n",
    "I think the way you are explaining your concepts here below is a great job! Keep it up, It shows me that you are putting in time into understanding where this is coming and going to."
   ]
  },
  {
   "cell_type": "markdown",
   "metadata": {},
   "source": [
    "## Class Distribution\n",
    "> When solving Classification problems in Machine Learning, we need to know how class values are balanced.\n",
    "\n",
    ">Imbalanced classes are a common problem in machine learning classification where there are a disproportionate ratio of observations in each class.\n",
    "\n",
    ">Most machine learning algorithms work best when the number of samples in each class are about equal. This is because most algorithms are designed to maximize accuracy and reduce error.\n",
    "\n",
    ">Highly imbalanced data may need special handling in the data preparation stage and below are different popular methods of dealing with class imbalance\n",
    "- Change the performance metric: As we saw above, accuracy is not the best metric to use when evaluating imbalanced datasets as it can be very misleading. Metrics that can provide better insight include: Confusion Matrix, precision and F1 Score.\n",
    "\n",
    "- Change the algorithm: While in every machine learning problem, it’s a good rule of thumb to try a variety of algorithms, it can be especially beneficial with imbalanced datasets. Decision trees frequently perform well on imbalanced data.\n",
    "\n",
    "- Resampling Techniques: We can Oversample minority class or Undersample majority class\n",
    "> Oversampling can be defined as adding more copies of the minority class.However, this can lead to overfitting and poor generization to the test data.\n",
    "\n",
    ">Undersampling can be defined as removing some observations of the majority class.However,it could lead to underfitting and poor generalization to the test set.\n",
    "- Generate synthetic samples: A technique similar to upsampling is to create synthetic samples. Here we will use imblearn’s SMOTE or Synthetic Minority Oversampling Technique."
   ]
  },
  {
   "cell_type": "code",
   "execution_count": 10,
   "metadata": {},
   "outputs": [
    {
     "data": {
      "text/plain": [
       "<matplotlib.axes._subplots.AxesSubplot at 0x7f3bc815ae80>"
      ]
     },
     "execution_count": 10,
     "metadata": {},
     "output_type": "execute_result"
    },
    {
     "data": {
      "image/png": "[encoded data removed]",
      "text/plain": [
       "<Figure size 432x288 with 1 Axes>"
      ]
     },
     "metadata": {
      "needs_background": "light"
     },
     "output_type": "display_data"
    }
   ],
   "source": [
    "# This shows the distribution of the class\n",
    "# We only do this when we are solving a classification problem \n",
    "Combined_data.groupby('CLASS').size().plot(kind='bar')"
   ]
  },
  {
   "cell_type": "markdown",
   "metadata": {},
   "source": [
    "<div class=\"alert alert-block alert-success\"/>\n",
    "\n",
    "I like the way you are finalizing what you realized from the visualization above. Its a great thing to do."
   ]
  },
  {
   "cell_type": "markdown",
   "metadata": {},
   "source": [
    "### Our data has well balanced class values, so no need to balance it at the preparation step."
   ]
  },
  {
   "cell_type": "markdown",
   "metadata": {},
   "source": []
  }
 ],
 "metadata": {
  "kernelspec": {
   "display_name": "Python 3",
   "language": "python",
   "name": "python3"
  },
  "language_info": {
   "codemirror_mode": {
    "name": "ipython",
    "version": 3
   },
   "file_extension": ".py",
   "mimetype": "text/x-python",
   "name": "python",
   "nbconvert_exporter": "python",
   "pygments_lexer": "ipython3",
   "version": "3.7.4"
  },
  "varInspector": {
   "cols": {
    "lenName": 16,
    "lenType": 16,
    "lenVar": 40
   },
   "kernels_config": {
    "python": {
     "delete_cmd_postfix": "",
     "delete_cmd_prefix": "del ",
     "library": "var_list.py",
     "varRefreshCmd": "print(var_dic_list())"
    },
    "r": {
     "delete_cmd_postfix": ") ",
     "delete_cmd_prefix": "rm(",
     "library": "var_list.r",
     "varRefreshCmd": "cat(var_dic_list()) "
    }
   },
   "types_to_exclude": [
    "module",
    "function",
    "builtin_function_or_method",
    "instance",
    "_Feature"
   ],
   "window_display": false
  }
 },
 "nbformat": 4,
 "nbformat_minor": 4
}
