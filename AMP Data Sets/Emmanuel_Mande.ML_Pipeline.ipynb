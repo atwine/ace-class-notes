{
 "cells": [
  {
   "cell_type": "markdown",
   "metadata": {},
   "source": [
    "# Machine Learning Pipeline for Classification of Dataset"
   ]
  },
  {
   "cell_type": "markdown",
   "metadata": {},
   "source": [
    "By: `Emmanuel Mande`\n",
    "\n",
    "\n",
    "The goal here is to build a Machine Learning (ML) pipeline with algorithms to help me predict the 'CLASS' in the data sets \"AMP_TrainSet.csv\" and \"Test.csv\".\n",
    "\n",
    "Useful Resources:\n",
    "\n",
    "1. [Machine Learning Mastery](https://machinelearningmastery.com/)\n",
    "2. [Medium-Machine Learning](https://medium.com/topic/machine-learning)\n",
    "3. [Towards Data Science](https://towardsdatascience.com/)\n",
    "4. [Andreas Mueller-Introduction to ML with Python](https://github.com/amueller/introduction_to_ml_with_python)\n",
    "5. [Free Code Camp- Machine Learning](https://www.freecodecamp.org/news/tag/machine-learning/)\n",
    "6. [nkmk note](https://note.nkmk.me/en/)"
   ]
  },
  {
   "cell_type": "markdown",
   "metadata": {},
   "source": [
    "### Importing ML libraries.\n",
    "\"Libraries are sets of routines and functions that are written in a given language. A robust set of libraries can make it easier for developers to perform complex tasks without rewriting many lines of code.\" -[Shubhi Asthana](https://www.freecodecamp.org/news/essential-libraries-for-machine-learning-in-python-82a9ada57aeb/)\n",
    "\n",
    "Much as ML has numerous libraries at our disposal for use, the ones am going to use in this pipeline include;\n",
    "1. [Numpy](https://numpy.org/)(Numerical Python) - a library consisting of multidimensional array objects and a collection of routines for processing those arrays. It's ideal for scientific computations.\n",
    "2. [Pandas](https://pandas.pydata.org/) - Offers data structures and operations for manipulating, analysis and cleaning dataframes and series. This will be handy because the data am going to work with is tabular.\n",
    "3. [Matplotlib](https://matplotlib.org/) - It is a standard Python library used by every data scientist for creating 2D plots and graphs. It's thus ideal for data visualization.\n",
    "4. [Seaborn](https://seaborn.pydata.org/tutorial.html)- It's a Python data visualization library based on matplotlib. It provides a high-level interface for drawing attractive and informative statistical graphics.\n",
    "5. [Scikit-learn](https://scikit-learn.org/stable/index.html) - It's one the most popular ML libraries. It's built on two basic libraries of Python, NumPy and SciPy. It adds a set of algorithms for common machine learning and data mining tasks, including clustering, regression and classification.\n",
    "\n",
    "To import these libraries into my environment, am going to use python's `import` statement."
   ]
  },
  {
   "cell_type": "code",
   "execution_count": 59,
   "metadata": {},
   "outputs": [],
   "source": [
    "import numpy as np\n",
    "import pandas as pd\n",
    "import matplotlib.pyplot as plt\n",
    "import seaborn as sns\n",
    "\n",
    "#more libraries from the sklearn will be imported along the way."
   ]
  },
  {
   "cell_type": "markdown",
   "metadata": {},
   "source": [
    "## Reading and Taking a 'Snaek-Peek' at the Data\n",
    "\n",
    "Here, am going to take a close look at the data, in order to have a clue on which algorithms i can use."
   ]
  },
  {
   "cell_type": "code",
   "execution_count": 60,
   "metadata": {},
   "outputs": [
    {
     "name": "stdout",
     "output_type": "stream",
     "text": [
      "\u001b[0m\u001b[01;31mace-class-assignment.zip\u001b[0m  Emmanuel_Mande.ML_Pipeline.ipynb\r\n",
      "AMP_TrainSet.csv          Test.csv\r\n"
     ]
    }
   ],
   "source": [
    "ls"
   ]
  },
  {
   "cell_type": "code",
   "execution_count": 61,
   "metadata": {},
   "outputs": [
    {
     "name": "stdout",
     "output_type": "stream",
     "text": [
      "   FULL_Charge  FULL_AcidicMolPerc  FULL_AURR980107  FULL_DAYM780201  \\\n",
      "0          5.0               0.000            0.951           74.842   \n",
      "1          4.0               5.405            0.931           71.595   \n",
      "2          5.5               5.405            0.873           73.595   \n",
      "\n",
      "   FULL_GEOR030101  FULL_OOBM850104  NT_EFC195  AS_MeanAmphiMoment  \\\n",
      "0            0.975           -3.663          0               0.282   \n",
      "1            0.957           -4.011          1               0.600   \n",
      "2            0.961           -2.512          0               0.593   \n",
      "\n",
      "   AS_DAYM780201  AS_FUKS010112  CT_RACS820104  CLASS  \n",
      "0         73.444          5.661          1.041      1  \n",
      "1         68.222          6.537          1.453      1  \n",
      "2         69.444          4.934          1.722      1  \n",
      "      FULL_Charge  FULL_AcidicMolPerc  FULL_AURR980107  FULL_DAYM780201  \\\n",
      "3035         -1.5              12.500            1.091           76.542   \n",
      "3036          2.0               5.000            0.849           73.750   \n",
      "3037         -1.0              15.789            1.066           66.158   \n",
      "\n",
      "      FULL_GEOR030101  FULL_OOBM850104  NT_EFC195  AS_MeanAmphiMoment  \\\n",
      "3035            0.991           -0.918          0              16.918   \n",
      "3036            1.017           -2.722          0              17.131   \n",
      "3037            0.998           -2.080          0              17.151   \n",
      "\n",
      "      AS_DAYM780201  AS_FUKS010112  CT_RACS820104  CLASS  \n",
      "3035         82.111          5.889          1.131      0  \n",
      "3036         74.722          6.055          1.270      0  \n",
      "3037         67.111          5.853          1.136      0  \n"
     ]
    }
   ],
   "source": [
    "df = pd.read_csv('AMP_TrainSet.csv')\n",
    "print(df.head(3))\n",
    "print(df.tail(3))"
   ]
  },
  {
   "cell_type": "code",
   "execution_count": 62,
   "metadata": {},
   "outputs": [
    {
     "name": "stdout",
     "output_type": "stream",
     "text": [
      "(3038, 12)\n",
      "3038\n",
      "12\n"
     ]
    }
   ],
   "source": [
    "#I need to look at the number of rows and columns in my data\n",
    "print(df.shape) #This will print rows and columns as a tuple (number of rows, number of columns)\n",
    "print(df.shape[0]) #only the number of rows\n",
    "print(df.shape[1]) #print only the number of columns"
   ]
  },
  {
   "cell_type": "code",
   "execution_count": 63,
   "metadata": {
    "scrolled": true
   },
   "outputs": [
    {
     "name": "stdout",
     "output_type": "stream",
     "text": [
      "<class 'pandas.core.frame.DataFrame'>\n",
      "RangeIndex: 3038 entries, 0 to 3037\n",
      "Data columns (total 12 columns):\n",
      "FULL_Charge           3038 non-null float64\n",
      "FULL_AcidicMolPerc    3038 non-null float64\n",
      "FULL_AURR980107       3038 non-null float64\n",
      "FULL_DAYM780201       3038 non-null float64\n",
      "FULL_GEOR030101       3038 non-null float64\n",
      "FULL_OOBM850104       3038 non-null float64\n",
      "NT_EFC195             3038 non-null int64\n",
      "AS_MeanAmphiMoment    3038 non-null float64\n",
      "AS_DAYM780201         3038 non-null float64\n",
      "AS_FUKS010112         3038 non-null float64\n",
      "CT_RACS820104         3038 non-null float64\n",
      "CLASS                 3038 non-null int64\n",
      "dtypes: float64(10), int64(2)\n",
      "memory usage: 284.9 KB\n",
      "None\n"
     ]
    }
   ],
   "source": [
    "#I need to know more about this data, so am going to use 'info' to get a collective information on the data including data types missing data etc\n",
    "print(df.info())\n"
   ]
  },
  {
   "cell_type": "code",
   "execution_count": 64,
   "metadata": {},
   "outputs": [
    {
     "name": "stdout",
     "output_type": "stream",
     "text": [
      "FULL_Charge           0\n",
      "FULL_AcidicMolPerc    0\n",
      "FULL_AURR980107       0\n",
      "FULL_DAYM780201       0\n",
      "FULL_GEOR030101       0\n",
      "FULL_OOBM850104       0\n",
      "NT_EFC195             0\n",
      "AS_MeanAmphiMoment    0\n",
      "AS_DAYM780201         0\n",
      "AS_FUKS010112         0\n",
      "CT_RACS820104         0\n",
      "CLASS                 0\n",
      "dtype: int64\n"
     ]
    }
   ],
   "source": [
    "print(df.isnull().sum()) #print a summary of the missing values in the data"
   ]
  },
  {
   "cell_type": "code",
   "execution_count": 65,
   "metadata": {},
   "outputs": [
    {
     "name": "stdout",
     "output_type": "stream",
     "text": [
      "       FULL_Charge  FULL_AcidicMolPerc  FULL_AURR980107  FULL_DAYM780201  \\\n",
      "count  3038.000000         3038.000000      3038.000000      3038.000000   \n",
      "mean      2.060237            8.521520         0.971410        73.668760   \n",
      "std       3.819929            7.586652         0.107413         8.527489   \n",
      "min     -16.000000            0.000000         0.684000        42.750000   \n",
      "25%       0.000000            2.516000         0.895000        68.294000   \n",
      "50%       2.000000            7.143000         0.963000        74.059500   \n",
      "75%       4.000000           13.158000         1.041000        79.343750   \n",
      "max      30.000000           46.667000         1.451000       101.682000   \n",
      "\n",
      "       FULL_GEOR030101  FULL_OOBM850104    NT_EFC195  AS_MeanAmphiMoment  \\\n",
      "count      3038.000000      3038.000000  3038.000000         3038.000000   \n",
      "mean          0.994007        -2.432927     0.088545           15.683233   \n",
      "std           0.031333         1.707223     0.284133           11.575665   \n",
      "min           0.866000       -10.432000     0.000000            0.041000   \n",
      "25%           0.974000        -3.606000     0.000000            5.587500   \n",
      "50%           0.994000        -2.296500     0.000000           14.988500   \n",
      "75%           1.011000        -1.283250     0.000000           26.807750   \n",
      "max           1.196000         3.576000     1.000000           51.280000   \n",
      "\n",
      "       AS_DAYM780201  AS_FUKS010112  CT_RACS820104        CLASS  \n",
      "count    3038.000000    3038.000000    3038.000000  3038.000000  \n",
      "mean       73.650828       5.911361       1.235255     0.500000  \n",
      "std         9.166092       0.693689       0.210012     0.500082  \n",
      "min        42.778000       3.533000       0.785000     0.000000  \n",
      "25%        67.556000       5.459250       1.082000     0.000000  \n",
      "50%        73.697000       5.925500       1.184000     0.500000  \n",
      "75%        79.778000       6.382000       1.351000     1.000000  \n",
      "max       103.167000       8.662000       2.192000     1.000000  \n"
     ]
    }
   ],
   "source": [
    "# Now i can dive deeper into the data by obtaining some mathematical summaries like mean, SD, max median and Min values,  etc.\n",
    "#There I can know exactly how my data is spread and shaped.\n",
    "print(df.describe())"
   ]
  },
  {
   "cell_type": "code",
   "execution_count": 66,
   "metadata": {},
   "outputs": [
    {
     "name": "stdout",
     "output_type": "stream",
     "text": [
      "CLASS\n",
      "0    1519\n",
      "1    1519\n",
      "dtype: int64\n"
     ]
    },
    {
     "data": {
      "text/plain": [
       "<matplotlib.axes._subplots.AxesSubplot at 0x7fbe282105f8>"
      ]
     },
     "execution_count": 66,
     "metadata": {},
     "output_type": "execute_result"
    },
    {
     "data": {
      "image/png": "[encoded data removed]",
      "text/plain": [
       "<Figure size 432x288 with 1 Axes>"
      ]
     },
     "metadata": {
      "needs_background": "light"
     },
     "output_type": "display_data"
    }
   ],
   "source": [
    "#Now, I need to look at how balanced or distributed my CLASS values are.\n",
    "cd = df.groupby('CLASS').size()\n",
    "print(cd)\n",
    "cd.plot(kind='bar',color='red')"
   ]
  },
  {
   "cell_type": "markdown",
   "metadata": {},
   "source": [
    "### Correletions Between Attributes\n",
    "\n",
    "Correlation is a measure of how variables within a dataset can be related. This usually happens for lots of reasons.\n",
    "For example:\n",
    "\n",
    "    One variable could cause or depend on the values of another variable.\n",
    "    One variable could be lightly associated with another variable.\n",
    "    Two variables could depend on a third unknown variable.\n",
    "\n",
    "It can be useful in data analysis and modeling to better understand the statistical relationships between variables. A correlation could be positive, meaning both variables move in the same direction, or negative, meaning that when one variable’s value increases, the other variables’ values decrease. Correlation can also be neural or zero, meaning that the variables are unrelated."
   ]
  },
  {
   "cell_type": "code",
   "execution_count": 67,
   "metadata": {
    "scrolled": true
   },
   "outputs": [
    {
     "name": "stdout",
     "output_type": "stream",
     "text": [
      "                    FULL_Charge  FULL_AcidicMolPerc  FULL_AURR980107  \\\n",
      "FULL_Charge            1.000000           -0.612996        -0.490977   \n",
      "FULL_AcidicMolPerc    -0.612996            1.000000         0.794796   \n",
      "FULL_AURR980107       -0.490977            0.794796         1.000000   \n",
      "FULL_DAYM780201       -0.434603            0.541481         0.548253   \n",
      "FULL_GEOR030101       -0.058725            0.115201         0.346139   \n",
      "FULL_OOBM850104       -0.283758            0.513344         0.462712   \n",
      "NT_EFC195              0.088068           -0.143168        -0.169540   \n",
      "AS_MeanAmphiMoment     0.355477           -0.431590        -0.426097   \n",
      "AS_DAYM780201         -0.365374            0.449621         0.456260   \n",
      "AS_FUKS010112         -0.090570            0.002334         0.032958   \n",
      "CT_RACS820104          0.232929           -0.213543        -0.403599   \n",
      "CLASS                  0.534602           -0.598816        -0.584111   \n",
      "\n",
      "                    FULL_DAYM780201  FULL_GEOR030101  FULL_OOBM850104  \\\n",
      "FULL_Charge               -0.434603        -0.058725        -0.283758   \n",
      "FULL_AcidicMolPerc         0.541481         0.115201         0.513344   \n",
      "FULL_AURR980107            0.548253         0.346139         0.462712   \n",
      "FULL_DAYM780201            1.000000         0.010118         0.334778   \n",
      "FULL_GEOR030101            0.010118         1.000000         0.319157   \n",
      "FULL_OOBM850104            0.334778         0.319157         1.000000   \n",
      "NT_EFC195                 -0.090058        -0.230417        -0.230561   \n",
      "AS_MeanAmphiMoment        -0.408793        -0.160269        -0.336297   \n",
      "AS_DAYM780201              0.894191        -0.029085         0.275640   \n",
      "AS_FUKS010112              0.055915         0.040480        -0.452769   \n",
      "CT_RACS820104             -0.326792        -0.151935         0.155304   \n",
      "CLASS                     -0.554838        -0.260470        -0.453287   \n",
      "\n",
      "                    NT_EFC195  AS_MeanAmphiMoment  AS_DAYM780201  \\\n",
      "FULL_Charge          0.088068            0.355477      -0.365374   \n",
      "FULL_AcidicMolPerc  -0.143168           -0.431590       0.449621   \n",
      "FULL_AURR980107     -0.169540           -0.426097       0.456260   \n",
      "FULL_DAYM780201     -0.090058           -0.408793       0.894191   \n",
      "FULL_GEOR030101     -0.230417           -0.160269      -0.029085   \n",
      "FULL_OOBM850104     -0.230561           -0.336297       0.275640   \n",
      "NT_EFC195            1.000000            0.178683      -0.036844   \n",
      "AS_MeanAmphiMoment   0.178683            1.000000      -0.322378   \n",
      "AS_DAYM780201       -0.036844           -0.322378       1.000000   \n",
      "AS_FUKS010112        0.145924            0.025580       0.045562   \n",
      "CT_RACS820104        0.080898            0.171524      -0.256060   \n",
      "CLASS                0.260702            0.693552      -0.437168   \n",
      "\n",
      "                    AS_FUKS010112  CT_RACS820104     CLASS  \n",
      "FULL_Charge             -0.090570       0.232929  0.534602  \n",
      "FULL_AcidicMolPerc       0.002334      -0.213543 -0.598816  \n",
      "FULL_AURR980107          0.032958      -0.403599 -0.584111  \n",
      "FULL_DAYM780201          0.055915      -0.326792 -0.554838  \n",
      "FULL_GEOR030101          0.040480      -0.151935 -0.260470  \n",
      "FULL_OOBM850104         -0.452769       0.155304 -0.453287  \n",
      "NT_EFC195                0.145924       0.080898  0.260702  \n",
      "AS_MeanAmphiMoment       0.025580       0.171524  0.693552  \n",
      "AS_DAYM780201            0.045562      -0.256060 -0.437168  \n",
      "AS_FUKS010112            1.000000      -0.445284  0.033432  \n",
      "CT_RACS820104           -0.445284       1.000000  0.267652  \n",
      "CLASS                    0.033432       0.267652  1.000000  \n"
     ]
    }
   ],
   "source": [
    "cor = df.corr() #Using the corr function in pandas, I can get the pearson's correlation.\n",
    "print(cor)"
   ]
  },
  {
   "cell_type": "code",
   "execution_count": 68,
   "metadata": {},
   "outputs": [
    {
     "data": {
      "text/plain": [
       "FULL_Charge           0.534602\n",
       "FULL_AcidicMolPerc   -0.598816\n",
       "FULL_AURR980107      -0.584111\n",
       "FULL_DAYM780201      -0.554838\n",
       "FULL_GEOR030101      -0.260470\n",
       "FULL_OOBM850104      -0.453287\n",
       "NT_EFC195             0.260702\n",
       "AS_MeanAmphiMoment    0.693552\n",
       "AS_DAYM780201        -0.437168\n",
       "AS_FUKS010112         0.033432\n",
       "CT_RACS820104         0.267652\n",
       "CLASS                 1.000000\n",
       "Name: CLASS, dtype: float64"
      ]
     },
     "execution_count": 68,
     "metadata": {},
     "output_type": "execute_result"
    }
   ],
   "source": [
    "#I can also chose to select out the correlation in regards to the CLASS.\n",
    "#I'll need to do this by indexing the 'CLASS' in the correlated data.\n",
    "cor['CLASS']"
   ]
  },
  {
   "cell_type": "code",
   "execution_count": 69,
   "metadata": {},
   "outputs": [
    {
     "data": {
      "text/plain": [
       "<matplotlib.axes._subplots.AxesSubplot at 0x7fbe27ec4a58>"
      ]
     },
     "execution_count": 69,
     "metadata": {},
     "output_type": "execute_result"
    },
    {
     "data": {
      "image/png": "[encoded data removed]",
      "text/plain": [
       "<Figure size 720x720 with 2 Axes>"
      ]
     },
     "metadata": {
      "needs_background": "light"
     },
     "output_type": "display_data"
    }
   ],
   "source": [
    "#In order to beautifully see the whole correlation, I can use Seaborn's heatmap.\n",
    "plt.figure(figsize=(10,10))\n",
    "sns.heatmap(cor)"
   ]
  },
  {
   "cell_type": "code",
   "execution_count": null,
   "metadata": {},
   "outputs": [],
   "source": []
  }
 ],
 "metadata": {
  "kernelspec": {
   "display_name": "Python 3",
   "language": "python",
   "name": "python3"
  },
  "language_info": {
   "codemirror_mode": {
    "name": "ipython",
    "version": 3
   },
   "file_extension": ".py",
   "mimetype": "text/x-python",
   "name": "python",
   "nbconvert_exporter": "python",
   "pygments_lexer": "ipython3",
   "version": "3.7.3"
  }
 },
 "nbformat": 4,
 "nbformat_minor": 2
}
