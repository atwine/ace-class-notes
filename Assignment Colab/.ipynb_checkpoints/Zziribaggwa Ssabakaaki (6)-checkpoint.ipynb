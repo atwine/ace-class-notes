{
 "cells": [
  {
   "cell_type": "markdown",
   "metadata": {},
   "source": [
    "# **BIG BIO-DATA ANALYSIS - PRACTICE : 1**\n",
    "### **SABAKAKI PETER ZIRIBAGWA** (MSC. BIOINFORMATICS)"
   ]
  },
  {
   "cell_type": "markdown",
   "metadata": {},
   "source": [
    "## 1. Importing the neccessary libraries"
   ]
  },
  {
   "cell_type": "code",
   "execution_count": 94,
   "metadata": {
    "_cell_guid": "b1076dfc-b9ad-4769-8c92-a6c4dae69d19",
    "_uuid": "8f2839f25d086af736a60e9eeb907d3b93b6e0e5"
   },
   "outputs": [],
   "source": [
    "### importing the required libraries\n",
    "import numpy as np # linear algebra\n",
    "import pandas as pd # data processing,allows to perform data manipulation in Python\n",
    "import matplotlib.pyplot as plt # used for data visualisation\n",
    "import seaborn as sns # used for data visualization\n",
    "\n",
    "#Removing the annoying warnings from our cells.\n",
    "import warnings\n",
    "warnings.filterwarnings('ignore')"
   ]
  },
  {
   "cell_type": "markdown",
   "metadata": {
    "_cell_guid": "79c7e3d0-c299-4dcb-8224-4455121ee9b0",
    "_uuid": "d629ff2d2480ee46fbb7e2d37f6b5fab8052498a",
    "collapsed": true
   },
   "source": [
    "## 2. Loading the datasets"
   ]
  },
  {
   "cell_type": "code",
   "execution_count": 95,
   "metadata": {
    "_cell_guid": "",
    "_uuid": ""
   },
   "outputs": [],
   "source": [
    "train = pd.read_csv(\"../input/amp-data-set/AMP_TrainSet.csv\") # this is the trainning dataset\n",
    "test = pd.read_csv(\"../input/amp-data-set/Test.csv\") # this is the testing dataset"
   ]
  },
  {
   "cell_type": "markdown",
   "metadata": {},
   "source": [
    "#### 3. Checking dataset content\n",
    "- This helps to give a quick insight about the content of the datasete. i.e it answers the question, \"What is within the datasets?\"\n",
    "\n",
    "<div class = 'alert alert-success'>\n",
    "    Great job"
   ]
  },
  {
   "cell_type": "code",
   "execution_count": 96,
   "metadata": {},
   "outputs": [
    {
     "data": {
      "text/html": [
       "<div>\n",
       "<style scoped>\n",
       "    .dataframe tbody tr th:only-of-type {\n",
       "        vertical-align: middle;\n",
       "    }\n",
       "\n",
       "    .dataframe tbody tr th {\n",
       "        vertical-align: top;\n",
       "    }\n",
       "\n",
       "    .dataframe thead th {\n",
       "        text-align: right;\n",
       "    }\n",
       "</style>\n",
       "<table border=\"1\" class=\"dataframe\">\n",
       "  <thead>\n",
       "    <tr style=\"text-align: right;\">\n",
       "      <th></th>\n",
       "      <th>FULL_Charge</th>\n",
       "      <th>FULL_AcidicMolPerc</th>\n",
       "      <th>FULL_AURR980107</th>\n",
       "      <th>FULL_DAYM780201</th>\n",
       "      <th>FULL_GEOR030101</th>\n",
       "      <th>FULL_OOBM850104</th>\n",
       "      <th>NT_EFC195</th>\n",
       "      <th>AS_MeanAmphiMoment</th>\n",
       "      <th>AS_DAYM780201</th>\n",
       "      <th>AS_FUKS010112</th>\n",
       "      <th>CT_RACS820104</th>\n",
       "      <th>CLASS</th>\n",
       "    </tr>\n",
       "  </thead>\n",
       "  <tbody>\n",
       "    <tr>\n",
       "      <th>0</th>\n",
       "      <td>5.0</td>\n",
       "      <td>0.000</td>\n",
       "      <td>0.951</td>\n",
       "      <td>74.842</td>\n",
       "      <td>0.975</td>\n",
       "      <td>-3.663</td>\n",
       "      <td>0</td>\n",
       "      <td>0.282</td>\n",
       "      <td>73.444</td>\n",
       "      <td>5.661</td>\n",
       "      <td>1.041</td>\n",
       "      <td>1</td>\n",
       "    </tr>\n",
       "    <tr>\n",
       "      <th>1</th>\n",
       "      <td>4.0</td>\n",
       "      <td>5.405</td>\n",
       "      <td>0.931</td>\n",
       "      <td>71.595</td>\n",
       "      <td>0.957</td>\n",
       "      <td>-4.011</td>\n",
       "      <td>1</td>\n",
       "      <td>0.600</td>\n",
       "      <td>68.222</td>\n",
       "      <td>6.537</td>\n",
       "      <td>1.453</td>\n",
       "      <td>1</td>\n",
       "    </tr>\n",
       "    <tr>\n",
       "      <th>2</th>\n",
       "      <td>5.5</td>\n",
       "      <td>5.405</td>\n",
       "      <td>0.873</td>\n",
       "      <td>73.595</td>\n",
       "      <td>0.961</td>\n",
       "      <td>-2.512</td>\n",
       "      <td>0</td>\n",
       "      <td>0.593</td>\n",
       "      <td>69.444</td>\n",
       "      <td>4.934</td>\n",
       "      <td>1.722</td>\n",
       "      <td>1</td>\n",
       "    </tr>\n",
       "    <tr>\n",
       "      <th>3</th>\n",
       "      <td>5.0</td>\n",
       "      <td>4.167</td>\n",
       "      <td>0.895</td>\n",
       "      <td>66.250</td>\n",
       "      <td>0.999</td>\n",
       "      <td>-1.362</td>\n",
       "      <td>0</td>\n",
       "      <td>0.614</td>\n",
       "      <td>67.222</td>\n",
       "      <td>4.316</td>\n",
       "      <td>1.382</td>\n",
       "      <td>1</td>\n",
       "    </tr>\n",
       "    <tr>\n",
       "      <th>4</th>\n",
       "      <td>7.5</td>\n",
       "      <td>8.537</td>\n",
       "      <td>0.932</td>\n",
       "      <td>64.720</td>\n",
       "      <td>0.979</td>\n",
       "      <td>-2.091</td>\n",
       "      <td>0</td>\n",
       "      <td>0.616</td>\n",
       "      <td>72.944</td>\n",
       "      <td>4.540</td>\n",
       "      <td>1.539</td>\n",
       "      <td>1</td>\n",
       "    </tr>\n",
       "  </tbody>\n",
       "</table>\n",
       "</div>"
      ],
      "text/plain": [
       "   FULL_Charge  FULL_AcidicMolPerc  FULL_AURR980107  FULL_DAYM780201  \\\n",
       "0          5.0               0.000            0.951           74.842   \n",
       "1          4.0               5.405            0.931           71.595   \n",
       "2          5.5               5.405            0.873           73.595   \n",
       "3          5.0               4.167            0.895           66.250   \n",
       "4          7.5               8.537            0.932           64.720   \n",
       "\n",
       "   FULL_GEOR030101  FULL_OOBM850104  NT_EFC195  AS_MeanAmphiMoment  \\\n",
       "0            0.975           -3.663          0               0.282   \n",
       "1            0.957           -4.011          1               0.600   \n",
       "2            0.961           -2.512          0               0.593   \n",
       "3            0.999           -1.362          0               0.614   \n",
       "4            0.979           -2.091          0               0.616   \n",
       "\n",
       "   AS_DAYM780201  AS_FUKS010112  CT_RACS820104  CLASS  \n",
       "0         73.444          5.661          1.041      1  \n",
       "1         68.222          6.537          1.453      1  \n",
       "2         69.444          4.934          1.722      1  \n",
       "3         67.222          4.316          1.382      1  \n",
       "4         72.944          4.540          1.539      1  "
      ]
     },
     "execution_count": 96,
     "metadata": {},
     "output_type": "execute_result"
    }
   ],
   "source": [
    "train.head() # to see what is in the first 5 rows of the train dataset"
   ]
  },
  {
   "cell_type": "code",
   "execution_count": 97,
   "metadata": {},
   "outputs": [
    {
     "data": {
      "text/html": [
       "<div>\n",
       "<style scoped>\n",
       "    .dataframe tbody tr th:only-of-type {\n",
       "        vertical-align: middle;\n",
       "    }\n",
       "\n",
       "    .dataframe tbody tr th {\n",
       "        vertical-align: top;\n",
       "    }\n",
       "\n",
       "    .dataframe thead th {\n",
       "        text-align: right;\n",
       "    }\n",
       "</style>\n",
       "<table border=\"1\" class=\"dataframe\">\n",
       "  <thead>\n",
       "    <tr style=\"text-align: right;\">\n",
       "      <th></th>\n",
       "      <th>FULL_Charge</th>\n",
       "      <th>FULL_AcidicMolPerc</th>\n",
       "      <th>FULL_AURR980107</th>\n",
       "      <th>FULL_DAYM780201</th>\n",
       "      <th>FULL_GEOR030101</th>\n",
       "      <th>FULL_OOBM850104</th>\n",
       "      <th>NT_EFC195</th>\n",
       "      <th>AS_MeanAmphiMoment</th>\n",
       "      <th>AS_DAYM780201</th>\n",
       "      <th>AS_FUKS010112</th>\n",
       "      <th>CT_RACS820104</th>\n",
       "    </tr>\n",
       "  </thead>\n",
       "  <tbody>\n",
       "    <tr>\n",
       "      <th>0</th>\n",
       "      <td>4.0</td>\n",
       "      <td>3.704</td>\n",
       "      <td>0.873</td>\n",
       "      <td>73.519</td>\n",
       "      <td>0.987</td>\n",
       "      <td>-4.833</td>\n",
       "      <td>0</td>\n",
       "      <td>0.382</td>\n",
       "      <td>74.556</td>\n",
       "      <td>7.225</td>\n",
       "      <td>1.234</td>\n",
       "    </tr>\n",
       "    <tr>\n",
       "      <th>1</th>\n",
       "      <td>4.0</td>\n",
       "      <td>4.444</td>\n",
       "      <td>0.892</td>\n",
       "      <td>62.444</td>\n",
       "      <td>0.931</td>\n",
       "      <td>-0.584</td>\n",
       "      <td>0</td>\n",
       "      <td>0.320</td>\n",
       "      <td>56.056</td>\n",
       "      <td>4.942</td>\n",
       "      <td>1.853</td>\n",
       "    </tr>\n",
       "    <tr>\n",
       "      <th>2</th>\n",
       "      <td>2.0</td>\n",
       "      <td>0.000</td>\n",
       "      <td>0.901</td>\n",
       "      <td>47.000</td>\n",
       "      <td>1.039</td>\n",
       "      <td>-5.664</td>\n",
       "      <td>0</td>\n",
       "      <td>0.164</td>\n",
       "      <td>47.000</td>\n",
       "      <td>5.969</td>\n",
       "      <td>1.174</td>\n",
       "    </tr>\n",
       "    <tr>\n",
       "      <th>3</th>\n",
       "      <td>4.5</td>\n",
       "      <td>0.000</td>\n",
       "      <td>0.869</td>\n",
       "      <td>69.222</td>\n",
       "      <td>0.982</td>\n",
       "      <td>-5.423</td>\n",
       "      <td>0</td>\n",
       "      <td>2.010</td>\n",
       "      <td>69.222</td>\n",
       "      <td>5.462</td>\n",
       "      <td>1.138</td>\n",
       "    </tr>\n",
       "    <tr>\n",
       "      <th>4</th>\n",
       "      <td>-4.0</td>\n",
       "      <td>21.591</td>\n",
       "      <td>1.061</td>\n",
       "      <td>71.682</td>\n",
       "      <td>0.976</td>\n",
       "      <td>-2.002</td>\n",
       "      <td>0</td>\n",
       "      <td>2.758</td>\n",
       "      <td>66.000</td>\n",
       "      <td>5.582</td>\n",
       "      <td>1.453</td>\n",
       "    </tr>\n",
       "  </tbody>\n",
       "</table>\n",
       "</div>"
      ],
      "text/plain": [
       "   FULL_Charge  FULL_AcidicMolPerc  FULL_AURR980107  FULL_DAYM780201  \\\n",
       "0          4.0               3.704            0.873           73.519   \n",
       "1          4.0               4.444            0.892           62.444   \n",
       "2          2.0               0.000            0.901           47.000   \n",
       "3          4.5               0.000            0.869           69.222   \n",
       "4         -4.0              21.591            1.061           71.682   \n",
       "\n",
       "   FULL_GEOR030101  FULL_OOBM850104  NT_EFC195  AS_MeanAmphiMoment  \\\n",
       "0            0.987           -4.833          0               0.382   \n",
       "1            0.931           -0.584          0               0.320   \n",
       "2            1.039           -5.664          0               0.164   \n",
       "3            0.982           -5.423          0               2.010   \n",
       "4            0.976           -2.002          0               2.758   \n",
       "\n",
       "   AS_DAYM780201  AS_FUKS010112  CT_RACS820104  \n",
       "0         74.556          7.225          1.234  \n",
       "1         56.056          4.942          1.853  \n",
       "2         47.000          5.969          1.174  \n",
       "3         69.222          5.462          1.138  \n",
       "4         66.000          5.582          1.453  "
      ]
     },
     "execution_count": 97,
     "metadata": {},
     "output_type": "execute_result"
    }
   ],
   "source": [
    "test.head() # to see what is in the first 5 rows of the test data set"
   ]
  },
  {
   "cell_type": "markdown",
   "metadata": {},
   "source": [
    "## **4.Checking the dimensions of the dataset**\n",
    "- it is important to know the number of columns and rows with in the dataset, because to big data set may take so long to train whereas too small dataset may reduce the performance of the model.\n",
    "\n",
    "- to know which program to use when loading the data,forexample, pandas can't be used to load data with a big dimension\n",
    "\n",
    "<div class = 'alert alert-success'>\n",
    "    Great job"
   ]
  },
  {
   "cell_type": "code",
   "execution_count": 98,
   "metadata": {},
   "outputs": [
    {
     "data": {
      "text/plain": [
       "(3038, 12)"
      ]
     },
     "execution_count": 98,
     "metadata": {},
     "output_type": "execute_result"
    }
   ],
   "source": [
    "train.shape # to cheak the dimension i.e the number of rows and columns"
   ]
  },
  {
   "cell_type": "markdown",
   "metadata": {},
   "source": [
    "`The above results show that there are 3038 rows and 12 columns.`"
   ]
  },
  {
   "cell_type": "markdown",
   "metadata": {},
   "source": [
    "## **5. Checking column names of the train dataset**"
   ]
  },
  {
   "cell_type": "code",
   "execution_count": 99,
   "metadata": {},
   "outputs": [
    {
     "data": {
      "text/plain": [
       "Index(['FULL_Charge', 'FULL_AcidicMolPerc', 'FULL_AURR980107',\n",
       "       'FULL_DAYM780201', 'FULL_GEOR030101', 'FULL_OOBM850104', 'NT_EFC195',\n",
       "       'AS_MeanAmphiMoment', 'AS_DAYM780201', 'AS_FUKS010112', 'CT_RACS820104',\n",
       "       'CLASS'],\n",
       "      dtype='object')"
      ]
     },
     "execution_count": 99,
     "metadata": {},
     "output_type": "execute_result"
    }
   ],
   "source": [
    "train.columns  #checking the column names with in the train dataset \n",
    "#This gives an insight on the features available in the dataset\n",
    " "
   ]
  },
  {
   "cell_type": "markdown",
   "metadata": {},
   "source": [
    "## **6.Checking the data type of each feature / column**\n",
    "- This is important because some algorithms prefer certain data types to others. so it is good for me to first ensure the data type of my features is appropriate for the algorithm am intending to use, and if not, i should then convert the data types to the suitable ones."
   ]
  },
  {
   "cell_type": "code",
   "execution_count": 100,
   "metadata": {},
   "outputs": [
    {
     "data": {
      "text/plain": [
       "FULL_Charge           float64\n",
       "FULL_AcidicMolPerc    float64\n",
       "FULL_AURR980107       float64\n",
       "FULL_DAYM780201       float64\n",
       "FULL_GEOR030101       float64\n",
       "FULL_OOBM850104       float64\n",
       "NT_EFC195               int64\n",
       "AS_MeanAmphiMoment    float64\n",
       "AS_DAYM780201         float64\n",
       "AS_FUKS010112         float64\n",
       "CT_RACS820104         float64\n",
       "CLASS                   int64\n",
       "dtype: object"
      ]
     },
     "execution_count": 100,
     "metadata": {},
     "output_type": "execute_result"
    }
   ],
   "source": [
    "train.dtypes # cheaking datatypes in the train dataset"
   ]
  },
  {
   "cell_type": "markdown",
   "metadata": {},
   "source": [
    "## 7. Descriptive Statistics \n",
    "- This is important to understand and draw conclusions about the data in each column of the dataset.\n",
    "- It enable one to describe the size, center and spread of the data in each column; i.e the count, mean, max, min, standard deviations and the percentage quartiles.\n",
    "\n",
    "<div class = 'alert alert-success'>\n",
    "    Great job"
   ]
  },
  {
   "cell_type": "code",
   "execution_count": 101,
   "metadata": {},
   "outputs": [
    {
     "data": {
      "text/html": [
       "<div>\n",
       "<style scoped>\n",
       "    .dataframe tbody tr th:only-of-type {\n",
       "        vertical-align: middle;\n",
       "    }\n",
       "\n",
       "    .dataframe tbody tr th {\n",
       "        vertical-align: top;\n",
       "    }\n",
       "\n",
       "    .dataframe thead th {\n",
       "        text-align: right;\n",
       "    }\n",
       "</style>\n",
       "<table border=\"1\" class=\"dataframe\">\n",
       "  <thead>\n",
       "    <tr style=\"text-align: right;\">\n",
       "      <th></th>\n",
       "      <th>FULL_Charge</th>\n",
       "      <th>FULL_AcidicMolPerc</th>\n",
       "      <th>FULL_AURR980107</th>\n",
       "      <th>FULL_DAYM780201</th>\n",
       "      <th>FULL_GEOR030101</th>\n",
       "      <th>FULL_OOBM850104</th>\n",
       "      <th>NT_EFC195</th>\n",
       "      <th>AS_MeanAmphiMoment</th>\n",
       "      <th>AS_DAYM780201</th>\n",
       "      <th>AS_FUKS010112</th>\n",
       "      <th>CT_RACS820104</th>\n",
       "      <th>CLASS</th>\n",
       "    </tr>\n",
       "  </thead>\n",
       "  <tbody>\n",
       "    <tr>\n",
       "      <th>count</th>\n",
       "      <td>3038.000000</td>\n",
       "      <td>3038.000000</td>\n",
       "      <td>3038.000000</td>\n",
       "      <td>3038.000000</td>\n",
       "      <td>3038.000000</td>\n",
       "      <td>3038.000000</td>\n",
       "      <td>3038.000000</td>\n",
       "      <td>3038.000000</td>\n",
       "      <td>3038.000000</td>\n",
       "      <td>3038.000000</td>\n",
       "      <td>3038.000000</td>\n",
       "      <td>3038.000000</td>\n",
       "    </tr>\n",
       "    <tr>\n",
       "      <th>mean</th>\n",
       "      <td>2.060237</td>\n",
       "      <td>8.521520</td>\n",
       "      <td>0.971410</td>\n",
       "      <td>73.668760</td>\n",
       "      <td>0.994007</td>\n",
       "      <td>-2.432927</td>\n",
       "      <td>0.088545</td>\n",
       "      <td>15.683233</td>\n",
       "      <td>73.650828</td>\n",
       "      <td>5.911361</td>\n",
       "      <td>1.235255</td>\n",
       "      <td>0.500000</td>\n",
       "    </tr>\n",
       "    <tr>\n",
       "      <th>std</th>\n",
       "      <td>3.819929</td>\n",
       "      <td>7.586652</td>\n",
       "      <td>0.107413</td>\n",
       "      <td>8.527489</td>\n",
       "      <td>0.031333</td>\n",
       "      <td>1.707223</td>\n",
       "      <td>0.284133</td>\n",
       "      <td>11.575665</td>\n",
       "      <td>9.166092</td>\n",
       "      <td>0.693689</td>\n",
       "      <td>0.210012</td>\n",
       "      <td>0.500082</td>\n",
       "    </tr>\n",
       "    <tr>\n",
       "      <th>min</th>\n",
       "      <td>-16.000000</td>\n",
       "      <td>0.000000</td>\n",
       "      <td>0.684000</td>\n",
       "      <td>42.750000</td>\n",
       "      <td>0.866000</td>\n",
       "      <td>-10.432000</td>\n",
       "      <td>0.000000</td>\n",
       "      <td>0.041000</td>\n",
       "      <td>42.778000</td>\n",
       "      <td>3.533000</td>\n",
       "      <td>0.785000</td>\n",
       "      <td>0.000000</td>\n",
       "    </tr>\n",
       "    <tr>\n",
       "      <th>25%</th>\n",
       "      <td>0.000000</td>\n",
       "      <td>2.516000</td>\n",
       "      <td>0.895000</td>\n",
       "      <td>68.294000</td>\n",
       "      <td>0.974000</td>\n",
       "      <td>-3.606000</td>\n",
       "      <td>0.000000</td>\n",
       "      <td>5.587500</td>\n",
       "      <td>67.556000</td>\n",
       "      <td>5.459250</td>\n",
       "      <td>1.082000</td>\n",
       "      <td>0.000000</td>\n",
       "    </tr>\n",
       "    <tr>\n",
       "      <th>50%</th>\n",
       "      <td>2.000000</td>\n",
       "      <td>7.143000</td>\n",
       "      <td>0.963000</td>\n",
       "      <td>74.059500</td>\n",
       "      <td>0.994000</td>\n",
       "      <td>-2.296500</td>\n",
       "      <td>0.000000</td>\n",
       "      <td>14.988500</td>\n",
       "      <td>73.697000</td>\n",
       "      <td>5.925500</td>\n",
       "      <td>1.184000</td>\n",
       "      <td>0.500000</td>\n",
       "    </tr>\n",
       "    <tr>\n",
       "      <th>75%</th>\n",
       "      <td>4.000000</td>\n",
       "      <td>13.158000</td>\n",
       "      <td>1.041000</td>\n",
       "      <td>79.343750</td>\n",
       "      <td>1.011000</td>\n",
       "      <td>-1.283250</td>\n",
       "      <td>0.000000</td>\n",
       "      <td>26.807750</td>\n",
       "      <td>79.778000</td>\n",
       "      <td>6.382000</td>\n",
       "      <td>1.351000</td>\n",
       "      <td>1.000000</td>\n",
       "    </tr>\n",
       "    <tr>\n",
       "      <th>max</th>\n",
       "      <td>30.000000</td>\n",
       "      <td>46.667000</td>\n",
       "      <td>1.451000</td>\n",
       "      <td>101.682000</td>\n",
       "      <td>1.196000</td>\n",
       "      <td>3.576000</td>\n",
       "      <td>1.000000</td>\n",
       "      <td>51.280000</td>\n",
       "      <td>103.167000</td>\n",
       "      <td>8.662000</td>\n",
       "      <td>2.192000</td>\n",
       "      <td>1.000000</td>\n",
       "    </tr>\n",
       "  </tbody>\n",
       "</table>\n",
       "</div>"
      ],
      "text/plain": [
       "       FULL_Charge  FULL_AcidicMolPerc  FULL_AURR980107  FULL_DAYM780201  \\\n",
       "count  3038.000000         3038.000000      3038.000000      3038.000000   \n",
       "mean      2.060237            8.521520         0.971410        73.668760   \n",
       "std       3.819929            7.586652         0.107413         8.527489   \n",
       "min     -16.000000            0.000000         0.684000        42.750000   \n",
       "25%       0.000000            2.516000         0.895000        68.294000   \n",
       "50%       2.000000            7.143000         0.963000        74.059500   \n",
       "75%       4.000000           13.158000         1.041000        79.343750   \n",
       "max      30.000000           46.667000         1.451000       101.682000   \n",
       "\n",
       "       FULL_GEOR030101  FULL_OOBM850104    NT_EFC195  AS_MeanAmphiMoment  \\\n",
       "count      3038.000000      3038.000000  3038.000000         3038.000000   \n",
       "mean          0.994007        -2.432927     0.088545           15.683233   \n",
       "std           0.031333         1.707223     0.284133           11.575665   \n",
       "min           0.866000       -10.432000     0.000000            0.041000   \n",
       "25%           0.974000        -3.606000     0.000000            5.587500   \n",
       "50%           0.994000        -2.296500     0.000000           14.988500   \n",
       "75%           1.011000        -1.283250     0.000000           26.807750   \n",
       "max           1.196000         3.576000     1.000000           51.280000   \n",
       "\n",
       "       AS_DAYM780201  AS_FUKS010112  CT_RACS820104        CLASS  \n",
       "count    3038.000000    3038.000000    3038.000000  3038.000000  \n",
       "mean       73.650828       5.911361       1.235255     0.500000  \n",
       "std         9.166092       0.693689       0.210012     0.500082  \n",
       "min        42.778000       3.533000       0.785000     0.000000  \n",
       "25%        67.556000       5.459250       1.082000     0.000000  \n",
       "50%        73.697000       5.925500       1.184000     0.500000  \n",
       "75%        79.778000       6.382000       1.351000     1.000000  \n",
       "max       103.167000       8.662000       2.192000     1.000000  "
      ]
     },
     "execution_count": 101,
     "metadata": {},
     "output_type": "execute_result"
    }
   ],
   "source": [
    "train.describe() # to output the statistics of each attribute in the entire dataset"
   ]
  },
  {
   "cell_type": "markdown",
   "metadata": {},
   "source": [
    "## 8. Checking the distribution of the class\n",
    "- It is important to know how balanced the frequency of the outcome categories is !. This is because imbalanced frequncies of the outcome categories may cause bias in the performance of the final model."
   ]
  },
  {
   "cell_type": "code",
   "execution_count": 102,
   "metadata": {},
   "outputs": [
    {
     "data": {
      "text/plain": [
       "<matplotlib.axes._subplots.AxesSubplot at 0x7f9d5313b940>"
      ]
     },
     "execution_count": 102,
     "metadata": {},
     "output_type": "execute_result"
    },
    {
     "data": {
      "image/png": "[encoded data removed]",
      "text/plain": [
       "<Figure size 432x288 with 1 Axes>"
      ]
     },
     "metadata": {},
     "output_type": "display_data"
    }
   ],
   "source": [
    "train.groupby('CLASS').size().plot(kind='pie') #a bar-graph is used to visualize the distribution of the values in the class atribute"
   ]
  },
  {
   "cell_type": "markdown",
   "metadata": {},
   "source": [
    " `From the above bar graph, i deduce that the \"class attribute\" is evenly distributed;` \n",
    " `hence, there is no need to use methods such as smote to balance the class attribute`"
   ]
  },
  {
   "cell_type": "markdown",
   "metadata": {},
   "source": [
    "## Visualization of the outcome distribution using a line graph. "
   ]
  },
  {
   "cell_type": "code",
   "execution_count": 103,
   "metadata": {},
   "outputs": [
    {
     "data": {
      "text/plain": [
       "<matplotlib.axes._subplots.AxesSubplot at 0x7f9d4a7bfac8>"
      ]
     },
     "execution_count": 103,
     "metadata": {},
     "output_type": "execute_result"
    },
    {
     "data": {
      "image/png": "[encoded data removed]",
      "text/plain": [
       "<Figure size 432x288 with 1 Axes>"
      ]
     },
     "metadata": {
      "needs_background": "light"
     },
     "output_type": "display_data"
    }
   ],
   "source": [
    "train[\"CLASS\"].plot(title=\"LINE GRAPH SHOWING THE DISTRIBUTION OF THE CLASS ATTRIBUTE\", color=\"red\")"
   ]
  },
  {
   "cell_type": "markdown",
   "metadata": {},
   "source": [
    "## **9. Determining the corrlation between the all the atributes across the entire dataset**\n",
    "- it is important to know how attributes are related to each other.\n",
    "- Attributes which are more related to the outcome are more likely to produce a better performing model.\n",
    "\n",
    "<div class = 'alert alert-info'>\n",
    "Your explanation doesn't match the info below, you would rather use the corr to see the relationship with the rest of the variables with a different syntax\n",
    "    \n",
    "```\n",
    "    train.corr(method='pearson') ['CLASS']\n",
    "```"
   ]
  },
  {
   "cell_type": "code",
   "execution_count": 104,
   "metadata": {},
   "outputs": [
    {
     "data": {
      "text/html": [
       "<div>\n",
       "<style scoped>\n",
       "    .dataframe tbody tr th:only-of-type {\n",
       "        vertical-align: middle;\n",
       "    }\n",
       "\n",
       "    .dataframe tbody tr th {\n",
       "        vertical-align: top;\n",
       "    }\n",
       "\n",
       "    .dataframe thead th {\n",
       "        text-align: right;\n",
       "    }\n",
       "</style>\n",
       "<table border=\"1\" class=\"dataframe\">\n",
       "  <thead>\n",
       "    <tr style=\"text-align: right;\">\n",
       "      <th></th>\n",
       "      <th>FULL_Charge</th>\n",
       "      <th>FULL_AcidicMolPerc</th>\n",
       "      <th>FULL_AURR980107</th>\n",
       "      <th>FULL_DAYM780201</th>\n",
       "      <th>FULL_GEOR030101</th>\n",
       "      <th>FULL_OOBM850104</th>\n",
       "      <th>NT_EFC195</th>\n",
       "      <th>AS_MeanAmphiMoment</th>\n",
       "      <th>AS_DAYM780201</th>\n",
       "      <th>AS_FUKS010112</th>\n",
       "      <th>CT_RACS820104</th>\n",
       "      <th>CLASS</th>\n",
       "    </tr>\n",
       "  </thead>\n",
       "  <tbody>\n",
       "    <tr>\n",
       "      <th>FULL_Charge</th>\n",
       "      <td>1.000000</td>\n",
       "      <td>-0.612996</td>\n",
       "      <td>-0.490977</td>\n",
       "      <td>-0.434603</td>\n",
       "      <td>-0.058725</td>\n",
       "      <td>-0.283758</td>\n",
       "      <td>0.088068</td>\n",
       "      <td>0.355477</td>\n",
       "      <td>-0.365374</td>\n",
       "      <td>-0.090570</td>\n",
       "      <td>0.232929</td>\n",
       "      <td>0.534602</td>\n",
       "    </tr>\n",
       "    <tr>\n",
       "      <th>FULL_AcidicMolPerc</th>\n",
       "      <td>-0.612996</td>\n",
       "      <td>1.000000</td>\n",
       "      <td>0.794796</td>\n",
       "      <td>0.541481</td>\n",
       "      <td>0.115201</td>\n",
       "      <td>0.513344</td>\n",
       "      <td>-0.143168</td>\n",
       "      <td>-0.431590</td>\n",
       "      <td>0.449621</td>\n",
       "      <td>0.002334</td>\n",
       "      <td>-0.213543</td>\n",
       "      <td>-0.598816</td>\n",
       "    </tr>\n",
       "    <tr>\n",
       "      <th>FULL_AURR980107</th>\n",
       "      <td>-0.490977</td>\n",
       "      <td>0.794796</td>\n",
       "      <td>1.000000</td>\n",
       "      <td>0.548253</td>\n",
       "      <td>0.346139</td>\n",
       "      <td>0.462712</td>\n",
       "      <td>-0.169540</td>\n",
       "      <td>-0.426097</td>\n",
       "      <td>0.456260</td>\n",
       "      <td>0.032958</td>\n",
       "      <td>-0.403599</td>\n",
       "      <td>-0.584111</td>\n",
       "    </tr>\n",
       "    <tr>\n",
       "      <th>FULL_DAYM780201</th>\n",
       "      <td>-0.434603</td>\n",
       "      <td>0.541481</td>\n",
       "      <td>0.548253</td>\n",
       "      <td>1.000000</td>\n",
       "      <td>0.010118</td>\n",
       "      <td>0.334778</td>\n",
       "      <td>-0.090058</td>\n",
       "      <td>-0.408793</td>\n",
       "      <td>0.894191</td>\n",
       "      <td>0.055915</td>\n",
       "      <td>-0.326792</td>\n",
       "      <td>-0.554838</td>\n",
       "    </tr>\n",
       "    <tr>\n",
       "      <th>FULL_GEOR030101</th>\n",
       "      <td>-0.058725</td>\n",
       "      <td>0.115201</td>\n",
       "      <td>0.346139</td>\n",
       "      <td>0.010118</td>\n",
       "      <td>1.000000</td>\n",
       "      <td>0.319157</td>\n",
       "      <td>-0.230417</td>\n",
       "      <td>-0.160269</td>\n",
       "      <td>-0.029085</td>\n",
       "      <td>0.040480</td>\n",
       "      <td>-0.151935</td>\n",
       "      <td>-0.260470</td>\n",
       "    </tr>\n",
       "    <tr>\n",
       "      <th>FULL_OOBM850104</th>\n",
       "      <td>-0.283758</td>\n",
       "      <td>0.513344</td>\n",
       "      <td>0.462712</td>\n",
       "      <td>0.334778</td>\n",
       "      <td>0.319157</td>\n",
       "      <td>1.000000</td>\n",
       "      <td>-0.230561</td>\n",
       "      <td>-0.336297</td>\n",
       "      <td>0.275640</td>\n",
       "      <td>-0.452769</td>\n",
       "      <td>0.155304</td>\n",
       "      <td>-0.453287</td>\n",
       "    </tr>\n",
       "    <tr>\n",
       "      <th>NT_EFC195</th>\n",
       "      <td>0.088068</td>\n",
       "      <td>-0.143168</td>\n",
       "      <td>-0.169540</td>\n",
       "      <td>-0.090058</td>\n",
       "      <td>-0.230417</td>\n",
       "      <td>-0.230561</td>\n",
       "      <td>1.000000</td>\n",
       "      <td>0.178683</td>\n",
       "      <td>-0.036844</td>\n",
       "      <td>0.145924</td>\n",
       "      <td>0.080898</td>\n",
       "      <td>0.260702</td>\n",
       "    </tr>\n",
       "    <tr>\n",
       "      <th>AS_MeanAmphiMoment</th>\n",
       "      <td>0.355477</td>\n",
       "      <td>-0.431590</td>\n",
       "      <td>-0.426097</td>\n",
       "      <td>-0.408793</td>\n",
       "      <td>-0.160269</td>\n",
       "      <td>-0.336297</td>\n",
       "      <td>0.178683</td>\n",
       "      <td>1.000000</td>\n",
       "      <td>-0.322378</td>\n",
       "      <td>0.025580</td>\n",
       "      <td>0.171524</td>\n",
       "      <td>0.693552</td>\n",
       "    </tr>\n",
       "    <tr>\n",
       "      <th>AS_DAYM780201</th>\n",
       "      <td>-0.365374</td>\n",
       "      <td>0.449621</td>\n",
       "      <td>0.456260</td>\n",
       "      <td>0.894191</td>\n",
       "      <td>-0.029085</td>\n",
       "      <td>0.275640</td>\n",
       "      <td>-0.036844</td>\n",
       "      <td>-0.322378</td>\n",
       "      <td>1.000000</td>\n",
       "      <td>0.045562</td>\n",
       "      <td>-0.256060</td>\n",
       "      <td>-0.437168</td>\n",
       "    </tr>\n",
       "    <tr>\n",
       "      <th>AS_FUKS010112</th>\n",
       "      <td>-0.090570</td>\n",
       "      <td>0.002334</td>\n",
       "      <td>0.032958</td>\n",
       "      <td>0.055915</td>\n",
       "      <td>0.040480</td>\n",
       "      <td>-0.452769</td>\n",
       "      <td>0.145924</td>\n",
       "      <td>0.025580</td>\n",
       "      <td>0.045562</td>\n",
       "      <td>1.000000</td>\n",
       "      <td>-0.445284</td>\n",
       "      <td>0.033432</td>\n",
       "    </tr>\n",
       "    <tr>\n",
       "      <th>CT_RACS820104</th>\n",
       "      <td>0.232929</td>\n",
       "      <td>-0.213543</td>\n",
       "      <td>-0.403599</td>\n",
       "      <td>-0.326792</td>\n",
       "      <td>-0.151935</td>\n",
       "      <td>0.155304</td>\n",
       "      <td>0.080898</td>\n",
       "      <td>0.171524</td>\n",
       "      <td>-0.256060</td>\n",
       "      <td>-0.445284</td>\n",
       "      <td>1.000000</td>\n",
       "      <td>0.267652</td>\n",
       "    </tr>\n",
       "    <tr>\n",
       "      <th>CLASS</th>\n",
       "      <td>0.534602</td>\n",
       "      <td>-0.598816</td>\n",
       "      <td>-0.584111</td>\n",
       "      <td>-0.554838</td>\n",
       "      <td>-0.260470</td>\n",
       "      <td>-0.453287</td>\n",
       "      <td>0.260702</td>\n",
       "      <td>0.693552</td>\n",
       "      <td>-0.437168</td>\n",
       "      <td>0.033432</td>\n",
       "      <td>0.267652</td>\n",
       "      <td>1.000000</td>\n",
       "    </tr>\n",
       "  </tbody>\n",
       "</table>\n",
       "</div>"
      ],
      "text/plain": [
       "                    FULL_Charge  FULL_AcidicMolPerc  FULL_AURR980107  \\\n",
       "FULL_Charge            1.000000           -0.612996        -0.490977   \n",
       "FULL_AcidicMolPerc    -0.612996            1.000000         0.794796   \n",
       "FULL_AURR980107       -0.490977            0.794796         1.000000   \n",
       "FULL_DAYM780201       -0.434603            0.541481         0.548253   \n",
       "FULL_GEOR030101       -0.058725            0.115201         0.346139   \n",
       "FULL_OOBM850104       -0.283758            0.513344         0.462712   \n",
       "NT_EFC195              0.088068           -0.143168        -0.169540   \n",
       "AS_MeanAmphiMoment     0.355477           -0.431590        -0.426097   \n",
       "AS_DAYM780201         -0.365374            0.449621         0.456260   \n",
       "AS_FUKS010112         -0.090570            0.002334         0.032958   \n",
       "CT_RACS820104          0.232929           -0.213543        -0.403599   \n",
       "CLASS                  0.534602           -0.598816        -0.584111   \n",
       "\n",
       "                    FULL_DAYM780201  FULL_GEOR030101  FULL_OOBM850104  \\\n",
       "FULL_Charge               -0.434603        -0.058725        -0.283758   \n",
       "FULL_AcidicMolPerc         0.541481         0.115201         0.513344   \n",
       "FULL_AURR980107            0.548253         0.346139         0.462712   \n",
       "FULL_DAYM780201            1.000000         0.010118         0.334778   \n",
       "FULL_GEOR030101            0.010118         1.000000         0.319157   \n",
       "FULL_OOBM850104            0.334778         0.319157         1.000000   \n",
       "NT_EFC195                 -0.090058        -0.230417        -0.230561   \n",
       "AS_MeanAmphiMoment        -0.408793        -0.160269        -0.336297   \n",
       "AS_DAYM780201              0.894191        -0.029085         0.275640   \n",
       "AS_FUKS010112              0.055915         0.040480        -0.452769   \n",
       "CT_RACS820104             -0.326792        -0.151935         0.155304   \n",
       "CLASS                     -0.554838        -0.260470        -0.453287   \n",
       "\n",
       "                    NT_EFC195  AS_MeanAmphiMoment  AS_DAYM780201  \\\n",
       "FULL_Charge          0.088068            0.355477      -0.365374   \n",
       "FULL_AcidicMolPerc  -0.143168           -0.431590       0.449621   \n",
       "FULL_AURR980107     -0.169540           -0.426097       0.456260   \n",
       "FULL_DAYM780201     -0.090058           -0.408793       0.894191   \n",
       "FULL_GEOR030101     -0.230417           -0.160269      -0.029085   \n",
       "FULL_OOBM850104     -0.230561           -0.336297       0.275640   \n",
       "NT_EFC195            1.000000            0.178683      -0.036844   \n",
       "AS_MeanAmphiMoment   0.178683            1.000000      -0.322378   \n",
       "AS_DAYM780201       -0.036844           -0.322378       1.000000   \n",
       "AS_FUKS010112        0.145924            0.025580       0.045562   \n",
       "CT_RACS820104        0.080898            0.171524      -0.256060   \n",
       "CLASS                0.260702            0.693552      -0.437168   \n",
       "\n",
       "                    AS_FUKS010112  CT_RACS820104     CLASS  \n",
       "FULL_Charge             -0.090570       0.232929  0.534602  \n",
       "FULL_AcidicMolPerc       0.002334      -0.213543 -0.598816  \n",
       "FULL_AURR980107          0.032958      -0.403599 -0.584111  \n",
       "FULL_DAYM780201          0.055915      -0.326792 -0.554838  \n",
       "FULL_GEOR030101          0.040480      -0.151935 -0.260470  \n",
       "FULL_OOBM850104         -0.452769       0.155304 -0.453287  \n",
       "NT_EFC195                0.145924       0.080898  0.260702  \n",
       "AS_MeanAmphiMoment       0.025580       0.171524  0.693552  \n",
       "AS_DAYM780201            0.045562      -0.256060 -0.437168  \n",
       "AS_FUKS010112            1.000000      -0.445284  0.033432  \n",
       "CT_RACS820104           -0.445284       1.000000  0.267652  \n",
       "CLASS                    0.033432       0.267652  1.000000  "
      ]
     },
     "execution_count": 104,
     "metadata": {},
     "output_type": "execute_result"
    }
   ],
   "source": [
    "train.corr(method='pearson') # do correlation using pearson correlation coeficient"
   ]
  },
  {
   "cell_type": "markdown",
   "metadata": {},
   "source": [
    "## Plot showing the correlation between attributes across the entire train dataset"
   ]
  },
  {
   "cell_type": "markdown",
   "metadata": {},
   "source": []
  },
  {
   "cell_type": "code",
   "execution_count": 105,
   "metadata": {},
   "outputs": [
    {
     "data": {
      "text/plain": [
       "<matplotlib.axes._subplots.AxesSubplot at 0x7f9d4a4b9470>"
      ]
     },
     "execution_count": 105,
     "metadata": {},
     "output_type": "execute_result"
    },
    {
     "data": {
      "image/png": "[encoded data removed]",
      "text/plain": [
       "<Figure size 432x432 with 2 Axes>"
      ]
     },
     "metadata": {
      "needs_background": "light"
     },
     "output_type": "display_data"
    }
   ],
   "source": [
    "plt.figure(figsize=(6,6))\n",
    "sns.heatmap(train.corr(method='pearson')) # constract a heatmap to visually display the pearson correlation between attributes across the entire train databse"
   ]
  },
  {
   "cell_type": "markdown",
   "metadata": {},
   "source": [
    "## **10.Checking the skewness of the data**\n",
    "- it is important to know the skewness of the data, because some algorithm perform better with gaussian data"
   ]
  },
  {
   "cell_type": "code",
   "execution_count": 106,
   "metadata": {},
   "outputs": [
    {
     "data": {
      "text/plain": [
       "FULL_Charge           0.601716\n",
       "FULL_AcidicMolPerc    0.994487\n",
       "FULL_AURR980107       0.490291\n",
       "FULL_DAYM780201      -0.216841\n",
       "FULL_GEOR030101       0.883022\n",
       "FULL_OOBM850104      -0.207124\n",
       "NT_EFC195             2.898124\n",
       "AS_MeanAmphiMoment    0.383682\n",
       "AS_DAYM780201        -0.070879\n",
       "AS_FUKS010112        -0.112632\n",
       "CT_RACS820104         0.999487\n",
       "CLASS                 0.000000\n",
       "dtype: float64"
      ]
     },
     "execution_count": 106,
     "metadata": {},
     "output_type": "execute_result"
    }
   ],
   "source": [
    "train.skew() # compute the level of skewness of each attribute in the train dataset"
   ]
  },
  {
   "cell_type": "code",
   "execution_count": 107,
   "metadata": {},
   "outputs": [
    {
     "data": {
      "text/plain": [
       "<matplotlib.axes._subplots.AxesSubplot at 0x7f9d4ac0af98>"
      ]
     },
     "execution_count": 107,
     "metadata": {},
     "output_type": "execute_result"
    },
    {
     "data": {
      "image/png": "[encoded data removed]",
      "text/plain": [
       "<Figure size 432x288 with 1 Axes>"
      ]
     },
     "metadata": {
      "needs_background": "light"
     },
     "output_type": "display_data"
    }
   ],
   "source": [
    "train.skew().plot(kind='bar', color='red') # visualise the level of skewness of each attribute in the train dataset"
   ]
  },
  {
   "cell_type": "markdown",
   "metadata": {},
   "source": [
    "`The graph above shows that the \" NT_EFC195\" attribute is highly posiively skewed. i may consider transforming\n",
    "it in future`"
   ]
  },
  {
   "cell_type": "markdown",
   "metadata": {},
   "source": [
    " ## 11. Univariate data visualisation \n",
    "- it is importart to observe the distribution of each attribute independently\n",
    "- it also shades a picture of the data skewness. i.e how are values spread in the entire attribute and how many are distributed around the center.\n",
    "- it looks at the range of values and the central tendacy of the values.\n",
    "-  Univariate data analysis also enables one to Know that an attribute has a skew. this allows one to perform data preparation to correct the skew and later improve the accuracy of your models. \n",
    "\n",
    "<div class = 'alert alert-success'>\n",
    "    draw better graphs, well spaced."
   ]
  },
  {
   "cell_type": "code",
   "execution_count": 108,
   "metadata": {},
   "outputs": [
    {
     "data": {
      "text/plain": [
       "array([[<matplotlib.axes._subplots.AxesSubplot object at 0x7f9d530788d0>,\n",
       "        <matplotlib.axes._subplots.AxesSubplot object at 0x7f9d4ac33d68>,\n",
       "        <matplotlib.axes._subplots.AxesSubplot object at 0x7f9d4acf7f28>],\n",
       "       [<matplotlib.axes._subplots.AxesSubplot object at 0x7f9d4ac624a8>,\n",
       "        <matplotlib.axes._subplots.AxesSubplot object at 0x7f9d5231ea20>,\n",
       "        <matplotlib.axes._subplots.AxesSubplot object at 0x7f9d55df6f98>],\n",
       "       [<matplotlib.axes._subplots.AxesSubplot object at 0x7f9d5595d550>,\n",
       "        <matplotlib.axes._subplots.AxesSubplot object at 0x7f9d55936b00>,\n",
       "        <matplotlib.axes._subplots.AxesSubplot object at 0x7f9d55936b38>],\n",
       "       [<matplotlib.axes._subplots.AxesSubplot object at 0x7f9d55e7f5f8>,\n",
       "        <matplotlib.axes._subplots.AxesSubplot object at 0x7f9d56130b70>,\n",
       "        <matplotlib.axes._subplots.AxesSubplot object at 0x7f9d51dea128>]],\n",
       "      dtype=object)"
      ]
     },
     "execution_count": 108,
     "metadata": {},
     "output_type": "execute_result"
    },
    {
     "data": {
      "image/png": "[encoded data removed]",
      "text/plain": [
       "<Figure size 432x288 with 12 Axes>"
      ]
     },
     "metadata": {
      "needs_background": "light"
     },
     "output_type": "display_data"
    }
   ],
   "source": [
    "train.plot(title=\"LINE GRAPH SHOWING THE UNIVARIATE ANALYSIS OF THE  EACH ATTRIBUTE\", color=\"red\", subplots=True, layout=(4,3), sharex=False)"
   ]
  },
  {
   "cell_type": "code",
   "execution_count": 109,
   "metadata": {},
   "outputs": [
    {
     "data": {
      "image/png": "[encoded data removed]",
      "text/plain": [
       "<Figure size 1296x432 with 1 Axes>"
      ]
     },
     "metadata": {
      "needs_background": "light"
     },
     "output_type": "display_data"
    }
   ],
   "source": [
    "from matplotlib.ticker import AutoMinorLocator\n",
    "fig = plt.figure(figsize=(18,6))\n",
    "\n",
    "ax1 = sns.violinplot( data=train)\n",
    "ax1.minorticks_on()\n",
    "ax1.xaxis.set_minor_locator(AutoMinorLocator(2))\n",
    "ax1.grid(which='minor', axis='x', linewidth=1)"
   ]
  },
  {
   "cell_type": "code",
   "execution_count": 110,
   "metadata": {},
   "outputs": [
    {
     "data": {
      "text/plain": [
       "<function matplotlib.pyplot.show(*args, **kw)>"
      ]
     },
     "execution_count": 110,
     "metadata": {},
     "output_type": "execute_result"
    },
    {
     "data": {
      "image/png": "[encoded data removed]",
      "text/plain": [
       "<Figure size 432x288 with 12 Axes>"
      ]
     },
     "metadata": {
      "needs_background": "light"
     },
     "output_type": "display_data"
    }
   ],
   "source": [
    "# Density plots\n",
    "train.plot(kind='density', subplots=True, layout=(4,3), sharex=False)\n",
    "plt.subplots_adjust(wspace=0.5, hspace=0.5)\n",
    "plt.show"
   ]
  },
  {
   "cell_type": "code",
   "execution_count": 111,
   "metadata": {
    "scrolled": true
   },
   "outputs": [
    {
     "data": {
      "image/png": "[encoded data removed]",
      "text/plain": [
       "<Figure size 432x288 with 12 Axes>"
      ]
     },
     "metadata": {
      "needs_background": "light"
     },
     "output_type": "display_data"
    }
   ],
   "source": [
    "# Box and whisker plots\n",
    "# This gives a visual of the median, the range between 25% and 75% quartiles, and the outliers on the whiskers \n",
    "c = \"red\"\n",
    "a = \"green\"\n",
    "train.plot(kind='box', subplots=True, layout=(4,3), sharex=False, sharey=False, patch_artist=True,boxprops=dict(facecolor=a, color=a),capprops=dict(color=c),whiskerprops=dict(color=c),flierprops=dict(color=c, markeredgecolor=c),medianprops=dict(color=c))\n",
    "\n",
    "plt.show()"
   ]
  },
  {
   "cell_type": "markdown",
   "metadata": {},
   "source": [
    "<div class = 'alert alert-info'>\n",
    "\n",
    "Please explain all the above graphs."
   ]
  },
  {
   "cell_type": "markdown",
   "metadata": {},
   "source": [
    "## **12. Multivariate data visualization**\n",
    "- Differing from univariate,this shows how each attribute is correlated with other attributes in the dataset"
   ]
  },
  {
   "cell_type": "markdown",
   "metadata": {},
   "source": [
    "### Correlation matrix "
   ]
  },
  {
   "cell_type": "code",
   "execution_count": 112,
   "metadata": {},
   "outputs": [
    {
     "data": {
      "image/png": "[encoded data removed]",
      "text/plain": [
       "<Figure size 432x288 with 2 Axes>"
      ]
     },
     "metadata": {
      "needs_background": "light"
     },
     "output_type": "display_data"
    }
   ],
   "source": [
    "# plot a correlation matrix across the train dataset.\n",
    "# this displays a heatmap that shows how each attribute is correlated with the other in the dataset\n",
    "correlations = train.corr()\n",
    "fig = plt.figure()\n",
    "ax = fig.add_subplot(111)\n",
    "cax = ax.matshow(correlations, vmin=-1, vmax=1)\n",
    "fig.colorbar(cax)\n",
    "ticks = np.arange(0,9,1)\n",
    "ax.set_xticks(ticks)\n",
    "ax.set_yticks(ticks)\n",
    "ax.set_xticklabels(train.columns)\n",
    "ax.set_yticklabels(train.columns)\n",
    "plt.setp(ax.get_xticklabels(), rotation=45, ha=\"right\",\n",
    "         rotation_mode=\"anchor\",)\n",
    "plt.show()"
   ]
  },
  {
   "cell_type": "markdown",
   "metadata": {},
   "source": [
    "## **13. Data preparation**"
   ]
  },
  {
   "cell_type": "markdown",
   "metadata": {},
   "source": [
    "## Standardizing the train data\n",
    "- this is done so that all the values of the attributes assume a guasian "
   ]
  },
  {
   "cell_type": "code",
   "execution_count": 113,
   "metadata": {},
   "outputs": [
    {
     "name": "stdout",
     "output_type": "stream",
     "text": [
      "[[ 7.697e-01 -1.123e+00 -1.900e-01  1.376e-01 -6.067e-01 -7.206e-01\n",
      "  -3.117e-01 -1.331e+00 -2.257e-02 -3.610e-01 -9.251e-01]\n",
      " [ 5.079e-01 -4.109e-01 -3.763e-01 -2.432e-01 -1.181e+00 -9.245e-01\n",
      "   3.208e+00 -1.303e+00 -5.924e-01  9.021e-01  1.037e+00]\n",
      " [ 9.006e-01 -4.109e-01 -9.163e-01 -8.651e-03 -1.054e+00 -4.632e-02\n",
      "  -3.117e-01 -1.304e+00 -4.590e-01 -1.409e+00  2.318e+00]\n",
      " [ 7.697e-01 -5.741e-01 -7.115e-01 -8.701e-01  1.594e-01  6.274e-01\n",
      "  -3.117e-01 -1.302e+00 -7.015e-01 -2.300e+00  6.989e-01]\n",
      " [ 1.424e+00  2.041e-03 -3.670e-01 -1.050e+00 -4.790e-01  2.003e-01\n",
      "  -3.117e-01 -1.302e+00 -7.713e-02 -1.977e+00  1.447e+00]]\n"
     ]
    }
   ],
   "source": [
    "#Standardizing the data.\n",
    "from sklearn.preprocessing import StandardScaler\n",
    "array = train.values\n",
    "# Separate the array into input and output componets\n",
    "x = array[:,0:11]\n",
    "y = array[:,11]\n",
    "scaler = StandardScaler().fit(x)\n",
    "standardizedX = scaler.transform(x)\n",
    "# summurized transformed data\n",
    "np.set_printoptions(precision=3)\n",
    "print(standardizedX[0:5,:])"
   ]
  },
  {
   "cell_type": "markdown",
   "metadata": {},
   "source": [
    "## Rescaling the train dataset\n",
    "- this is done so that all the values of the attributes range between 0 -1 . this saves the smaller values from being affected by the bigger values."
   ]
  },
  {
   "cell_type": "code",
   "execution_count": 114,
   "metadata": {},
   "outputs": [
    {
     "name": "stdout",
     "output_type": "stream",
     "text": [
      "[[0.457 0.    0.348 0.545 0.33  0.483 0.    0.005 0.508 0.415 0.182]\n",
      " [0.435 0.116 0.322 0.489 0.276 0.458 1.    0.011 0.421 0.586 0.475]\n",
      " [0.467 0.116 0.246 0.523 0.288 0.565 0.    0.011 0.442 0.273 0.666]\n",
      " [0.457 0.089 0.275 0.399 0.403 0.647 0.    0.011 0.405 0.153 0.424]\n",
      " [0.511 0.183 0.323 0.373 0.342 0.595 0.    0.011 0.5   0.196 0.536]]\n"
     ]
    }
   ],
   "source": [
    "#Rescaling the data.\n",
    "from numpy import set_printoptions\n",
    "from sklearn.preprocessing import MinMaxScaler\n",
    "\n",
    "array = train.values\n",
    "# separate array into input and output components\n",
    "X = array[:,0:11]\n",
    "Y = array[:,11]\n",
    "scaler = MinMaxScaler(feature_range=(0, 1))\n",
    "rescalledX = scaler.fit_transform(X)\n",
    "# summarize transformed data\n",
    "set_printoptions(precision=3)\n",
    "print(rescalledX[0:5,:])"
   ]
  },
  {
   "cell_type": "markdown",
   "metadata": {},
   "source": [
    "## Normalizing the train dataset\n",
    "- Normalization is done to change the values of numeric columns in the dataset to a common scale, without distorting differences in the ranges of values.\n"
   ]
  },
  {
   "cell_type": "code",
   "execution_count": 115,
   "metadata": {},
   "outputs": [
    {
     "name": "stdout",
     "output_type": "stream",
     "text": [
      "[[ 0.048  0.     0.009  0.711  0.009 -0.035  0.     0.003  0.698  0.054\n",
      "   0.01 ]\n",
      " [ 0.04   0.054  0.009  0.72   0.01  -0.04   0.01   0.006  0.686  0.066\n",
      "   0.015]\n",
      " [ 0.054  0.053  0.009  0.724  0.009 -0.025  0.     0.006  0.683  0.049\n",
      "   0.017]\n",
      " [ 0.053  0.044  0.009  0.699  0.011 -0.014  0.     0.006  0.71   0.046\n",
      "   0.015]\n",
      " [ 0.076  0.087  0.009  0.658  0.01  -0.021  0.     0.006  0.742  0.046\n",
      "   0.016]]\n",
      "<class 'numpy.ndarray'>\n"
     ]
    }
   ],
   "source": [
    "from sklearn.preprocessing import Normalizer\n",
    "\n",
    "array = train.values\n",
    "# separate array into input and output components\n",
    "X = array[:,0:11]\n",
    "Y = array[:,11]\n",
    "scaler = Normalizer().fit(X)\n",
    "normalizedX = scaler.transform(X)\n",
    "# summarize transformed data\n",
    "set_printoptions(precision=3)\n",
    "print(normalizedX[0:5,:])\n",
    "print(type(normalizedX))#print the data type so we can know what we are \n",
    "#working with in the dataset."
   ]
  },
  {
   "cell_type": "markdown",
   "metadata": {},
   "source": [
    "## Feature selection"
   ]
  },
  {
   "cell_type": "markdown",
   "metadata": {},
   "source": [
    "## Recursive feature elimination."
   ]
  },
  {
   "cell_type": "code",
   "execution_count": 116,
   "metadata": {},
   "outputs": [
    {
     "name": "stdout",
     "output_type": "stream",
     "text": [
      "Num Features:  5\n",
      "Selected Features: [ True  True False  True  True False False  True False False False]\n",
      "Feature Ranking:  [1 1 3 1 1 2 4 1 6 7 5]\n",
      "Index(['FULL_Charge', 'FULL_AcidicMolPerc', 'FULL_DAYM780201',\n",
      "       'FULL_GEOR030101', 'AS_MeanAmphiMoment'],\n",
      "      dtype='object')\n",
      "      FULL_Charge  FULL_AcidicMolPerc  FULL_DAYM780201  FULL_GEOR030101  \\\n",
      "0             5.0               0.000           74.842            0.975   \n",
      "1             4.0               5.405           71.595            0.957   \n",
      "2             5.5               5.405           73.595            0.961   \n",
      "3             5.0               4.167           66.250            0.999   \n",
      "4             7.5               8.537           64.720            0.979   \n",
      "...           ...                 ...              ...              ...   \n",
      "3033          1.0               5.263           67.947            1.006   \n",
      "3034         -6.5              21.667           75.433            1.015   \n",
      "3035         -1.5              12.500           76.542            0.991   \n",
      "3036          2.0               5.000           73.750            1.017   \n",
      "3037         -1.0              15.789           66.158            0.998   \n",
      "\n",
      "      AS_MeanAmphiMoment  \n",
      "0                  0.282  \n",
      "1                  0.600  \n",
      "2                  0.593  \n",
      "3                  0.614  \n",
      "4                  0.616  \n",
      "...                  ...  \n",
      "3033              16.706  \n",
      "3034              16.897  \n",
      "3035              16.918  \n",
      "3036              17.131  \n",
      "3037              17.151  \n",
      "\n",
      "[3038 rows x 5 columns]\n"
     ]
    }
   ],
   "source": [
    "# Recursive feature elimination using the LogisticRegression model.\n",
    "\n",
    "from sklearn.feature_selection import RFE\n",
    "from sklearn.linear_model import LogisticRegression\n",
    "\n",
    "array = train.values\n",
    "X = rescalledX[:,0:11]\n",
    "Y = array[:,11]\n",
    "# feature extraction\n",
    "model = LogisticRegression()\n",
    "rfe = RFE(model, 5) # select the best 5 attributes.\n",
    "fit = rfe.fit(X, Y)\n",
    "print(\"Num Features: \",  fit.n_features_)\n",
    "print(\"Selected Features:\",  fit.support_)\n",
    "print(\"Feature Ranking: \",  fit.ranking_)\n",
    "\n",
    "print(train.columns[fit.get_support(indices=True)])\n",
    "selected = train.loc[:,(train.columns[fit.get_support(indices=True)])]\n",
    "print(selected)"
   ]
  },
  {
   "cell_type": "markdown",
   "metadata": {},
   "source": [
    "## Comparing mutiple classification algorithms with rescaled Data\n",
    "- This helps to determine the performance of multiple algorithms on the same train dataset. it gives an overview on which algo is best for the problem."
   ]
  },
  {
   "cell_type": "code",
   "execution_count": 117,
   "metadata": {},
   "outputs": [
    {
     "name": "stdout",
     "output_type": "stream",
     "text": [
      "('LR', 0.9134206183776271, 0.018373095588636527)\n",
      "('LDA', 0.9186935469862776, 0.016466147460455934)\n",
      "('KNN', 0.925614469341671, 0.016958294314786942)\n",
      "('CART', 0.904211177696717, 0.017321674515756995)\n",
      "('NB', 0.9193546986277574, 0.0227548320695639)\n",
      "('SVM', 0.9328447976376586, 0.018291327116532134)\n"
     ]
    },
    {
     "data": {
      "image/png": "[encoded data removed]",
      "text/plain": [
       "<Figure size 432x288 with 1 Axes>"
      ]
     },
     "metadata": {
      "needs_background": "light"
     },
     "output_type": "display_data"
    }
   ],
   "source": [
    "# Compare Algorithms\n",
    "from pandas import read_csv\n",
    "from matplotlib import pyplot\n",
    "from sklearn.model_selection import KFold\n",
    "from sklearn.model_selection import cross_val_score\n",
    "from sklearn.linear_model import LogisticRegression\n",
    "from sklearn.tree import DecisionTreeClassifier\n",
    "from sklearn.neighbors import KNeighborsClassifier\n",
    "from sklearn.discriminant_analysis import LinearDiscriminantAnalysis\n",
    "from sklearn.naive_bayes import GaussianNB\n",
    "from sklearn.svm import SVC\n",
    "# load dataset\n",
    "\n",
    "#split the dataset \n",
    "X = rescalledX[:,0:11]\n",
    "Y = array[:,11]\n",
    "\n",
    "# prepare models and add them to a list\n",
    "models = []\n",
    "models.append(('LR', LogisticRegression()))\n",
    "models.append(('LDA', LinearDiscriminantAnalysis()))\n",
    "models.append(('KNN', KNeighborsClassifier()))\n",
    "models.append(('CART', DecisionTreeClassifier()))\n",
    "models.append(('NB', GaussianNB()))\n",
    "models.append(('SVM', SVC()))\n",
    "\n",
    "# evaluate each model in turn\n",
    "results = []\n",
    "names = []\n",
    "scoring = 'accuracy'\n",
    "\n",
    "for name, model in models:\n",
    "    kfold = KFold(n_splits=10,random_state=7, shuffle=True)\n",
    "    cv_results = cross_val_score(model, X, Y, cv=kfold, scoring=scoring)\n",
    "    results.append(cv_results)\n",
    "    names.append(name)\n",
    "    msg = (name, cv_results.mean(), cv_results.std())\n",
    "    print(msg)\n",
    "\n",
    "# boxplot algorithm comparison\n",
    "fig = pyplot.figure()\n",
    "fig.suptitle('Algorithm Comparison')\n",
    "ax = fig.add_subplot(111)\n",
    "pyplot.boxplot(results)\n",
    "ax.set_xticklabels(names)\n",
    "pyplot.show()"
   ]
  },
  {
   "cell_type": "markdown",
   "metadata": {},
   "source": [
    "## Comparing multiple algorithms with standardized data"
   ]
  },
  {
   "cell_type": "code",
   "execution_count": 118,
   "metadata": {},
   "outputs": [
    {
     "name": "stdout",
     "output_type": "stream",
     "text": [
      "('LR', 0.9180334809796769, 0.016437961517351062)\n",
      "('LDA', 0.9186935469862776, 0.016466147460455934)\n",
      "('KNN', 0.926268021538996, 0.017353096536560104)\n",
      "('CART', 0.9042133489664756, 0.014525750423541144)\n",
      "('NB', 0.9193546986277574, 0.0227548320695639)\n",
      "('SVM', 0.9377866076081294, 0.01712709999836976)\n"
     ]
    },
    {
     "data": {
      "image/png": "[encoded data removed]",
      "text/plain": [
       "<Figure size 432x288 with 1 Axes>"
      ]
     },
     "metadata": {
      "needs_background": "light"
     },
     "output_type": "display_data"
    }
   ],
   "source": [
    "# Compare Algorithms\n",
    "from pandas import read_csv\n",
    "from matplotlib import pyplot\n",
    "from sklearn.model_selection import KFold\n",
    "from sklearn.model_selection import cross_val_score\n",
    "from sklearn.linear_model import LogisticRegression\n",
    "from sklearn.tree import DecisionTreeClassifier\n",
    "from sklearn.neighbors import KNeighborsClassifier\n",
    "from sklearn.discriminant_analysis import LinearDiscriminantAnalysis\n",
    "from sklearn.naive_bayes import GaussianNB\n",
    "from sklearn.svm import SVC\n",
    "# load dataset\n",
    "array = train.values\n",
    "#split the dataset \n",
    "X = standardizedX[:,0:11]\n",
    "Y = array[:,11]\n",
    "\n",
    "# prepare models and add them to a list\n",
    "models = []\n",
    "models.append(('LR', LogisticRegression()))\n",
    "models.append(('LDA', LinearDiscriminantAnalysis()))\n",
    "models.append(('KNN', KNeighborsClassifier()))\n",
    "models.append(('CART', DecisionTreeClassifier()))\n",
    "models.append(('NB', GaussianNB()))\n",
    "models.append(('SVM', SVC()))\n",
    "\n",
    "# evaluate each model in turn\n",
    "results = []\n",
    "names = []\n",
    "scoring = 'accuracy'\n",
    "\n",
    "for name, model in models:\n",
    "    kfold = KFold(n_splits=10,random_state=7, shuffle=True)\n",
    "    cv_results = cross_val_score(model, X, Y, cv=kfold, scoring=scoring)\n",
    "    results.append(cv_results)\n",
    "    names.append(name)\n",
    "    msg = (name, cv_results.mean(), cv_results.std())\n",
    "    print(msg)\n",
    "\n",
    "# boxplot algorithm comparison\n",
    "fig = pyplot.figure()\n",
    "fig.suptitle('Algorithm Comparison')\n",
    "ax = fig.add_subplot(111)\n",
    "pyplot.boxplot(results)\n",
    "ax.set_xticklabels(names)\n",
    "pyplot.show()"
   ]
  },
  {
   "cell_type": "markdown",
   "metadata": {},
   "source": [
    "## Comparing multiple algorithms using normalized data"
   ]
  },
  {
   "cell_type": "code",
   "execution_count": 119,
   "metadata": {},
   "outputs": [
    {
     "name": "stdout",
     "output_type": "stream",
     "text": [
      "('LR', 0.8870983150946673, 0.01597238721350432)\n",
      "('LDA', 0.9052001910717389, 0.018009503919343053)\n",
      "('KNN', 0.9134325603612995, 0.024610336289473577)\n",
      "('CART', 0.8933613427132187, 0.019699460416984508)\n",
      "('NB', 0.9167263765850269, 0.017010876111678355)\n",
      "('SVM', 0.8989469341671009, 0.01604909195908454)\n"
     ]
    },
    {
     "data": {
      "image/png": "[encoded data removed]",
      "text/plain": [
       "<Figure size 432x288 with 1 Axes>"
      ]
     },
     "metadata": {
      "needs_background": "light"
     },
     "output_type": "display_data"
    }
   ],
   "source": [
    "# Compare Algorithms\n",
    "from pandas import read_csv\n",
    "from matplotlib import pyplot\n",
    "from sklearn.model_selection import KFold\n",
    "from sklearn.model_selection import cross_val_score\n",
    "from sklearn.linear_model import LogisticRegression\n",
    "from sklearn.tree import DecisionTreeClassifier\n",
    "from sklearn.neighbors import KNeighborsClassifier\n",
    "from sklearn.discriminant_analysis import LinearDiscriminantAnalysis\n",
    "from sklearn.naive_bayes import GaussianNB\n",
    "from sklearn.svm import SVC\n",
    "# load dataset\n",
    "array = train.values\n",
    "#split the dataset \n",
    "X = normalizedX[:,0:11]\n",
    "Y = array[:,11]\n",
    "\n",
    "# prepare models and add them to a list\n",
    "models = []\n",
    "models.append(('LR', LogisticRegression()))\n",
    "models.append(('LDA', LinearDiscriminantAnalysis()))\n",
    "models.append(('KNN', KNeighborsClassifier()))\n",
    "models.append(('CART', DecisionTreeClassifier()))\n",
    "models.append(('NB', GaussianNB()))\n",
    "models.append(('SVM', SVC()))\n",
    "\n",
    "# evaluate each model in turn\n",
    "results = []\n",
    "names = []\n",
    "scoring = 'accuracy'\n",
    "\n",
    "for name, model in models:\n",
    "    kfold = KFold(n_splits=10,random_state=7, shuffle=True)\n",
    "    cv_results = cross_val_score(model, X, Y, cv=kfold, scoring=scoring)\n",
    "    results.append(cv_results)\n",
    "    names.append(name)\n",
    "    msg = (name, cv_results.mean(), cv_results.std())\n",
    "    print(msg)\n",
    "\n",
    "# boxplot algorithm comparison\n",
    "fig = pyplot.figure()\n",
    "fig.suptitle('Algorithm Comparison')\n",
    "ax = fig.add_subplot(111)\n",
    "pyplot.boxplot(results)\n",
    "ax.set_xticklabels(names)\n",
    "pyplot.show()"
   ]
  },
  {
   "cell_type": "markdown",
   "metadata": {},
   "source": [
    "`From the above comparisions, rescaled data provided a better accuracy across multiple algorithms`"
   ]
  },
  {
   "cell_type": "markdown",
   "metadata": {},
   "source": [
    " ## Rescaling the test_dataset\n",
    "- the test dataset is rescaled because the model was developed using rescaled train dataset"
   ]
  },
  {
   "cell_type": "code",
   "execution_count": 120,
   "metadata": {},
   "outputs": [
    {
     "name": "stdout",
     "output_type": "stream",
     "text": [
      "[[0.395 0.084 0.238 0.474 0.334 0.305 0.    0.006 0.493 0.903 0.273]\n",
      " [0.395 0.101 0.264 0.276 0.143 0.736 0.    0.005 0.162 0.293 0.702]\n",
      " [0.349 0.    0.276 0.    0.512 0.221 0.    0.002 0.    0.568 0.231]\n",
      " [0.407 0.    0.232 0.397 0.317 0.246 0.    0.039 0.397 0.432 0.206]\n",
      " [0.209 0.489 0.495 0.441 0.297 0.592 0.    0.054 0.34  0.464 0.424]]\n"
     ]
    }
   ],
   "source": [
    "#Rescaling the test_data.\n",
    "from numpy import set_printoptions\n",
    "from sklearn.preprocessing import MinMaxScaler\n",
    "\n",
    "array = test.values\n",
    "# separate array into input and output components\n",
    "x = array[:,0:11]\n",
    "scaler = MinMaxScaler(feature_range=(0, 1))\n",
    "rescalled_test = scaler.fit_transform(x)\n",
    "# summarize transformed data\n",
    "set_printoptions(precision=3)\n",
    "print(rescalled_test[0:5,:])"
   ]
  },
  {
   "cell_type": "markdown",
   "metadata": {},
   "source": [
    " ## Generating the model using Gausian/Naive_Bayes with rescaled data\n",
    " - Naive Bayes classifier assumes that the presence of a particular feature in a class is unrelated to the presence of any other feature"
   ]
  },
  {
   "cell_type": "code",
   "execution_count": 121,
   "metadata": {},
   "outputs": [],
   "source": [
    "# using naive_bayes\n",
    "\n",
    "from sklearn.naive_bayes import GaussianNB\n",
    "array = train.values\n",
    "\n",
    "# splitting the train dataset\n",
    "X = rescalledX[:,0:11]\n",
    "Y = array[:,11]\n",
    "\n",
    "# Resampling the train dataset using kfold spli\n",
    "kfold = KFold(n_splits=10,random_state=7, shuffle=True)\n",
    "model = GaussianNB()  # Using naive bayes\n",
    "\n",
    "# fitting the model\n",
    "model.fit(X,Y)\n",
    "\n",
    "# predicting the test_dataset using the model\n",
    "Class= model.predict(rescalled_test[:,0:11])\n",
    "\n",
    "#Returning the Naive Bayes output in a dataframe\n",
    "report = pd.DataFrame(Class)\n",
    "\n",
    "report.columns=['CLASS'] # Creating a class column\n",
    "report.index.name='Index' #Creating a culumn index\n",
    "\n",
    "# Map function to change the 0.0 and 1.0 into False and True repectively\n",
    "report['CLASS']= report['CLASS'].map({0.0:False, 1.0:True})\n",
    "report\n",
    "\n",
    "#Storing the dataframe output in a csv file.\n",
    "report.to_csv(\"predicted_outcome.csv\")\n",
    "\n"
   ]
  },
  {
   "cell_type": "markdown",
   "metadata": {},
   "source": [
    "## Generating the model using the Logistic Regression with rescalled data"
   ]
  },
  {
   "cell_type": "code",
   "execution_count": 122,
   "metadata": {},
   "outputs": [],
   "source": [
    "# Logistic Regression Classification\n",
    "from pandas import read_csv\n",
    "from sklearn.model_selection import KFold\n",
    "from sklearn.model_selection import cross_val_score\n",
    "from sklearn.linear_model import LogisticRegression\n",
    "\n",
    "array = train.values\n",
    "X = rescalledX[:,0:11]\n",
    "Y = array[:,11]\n",
    "num_folds = 10\n",
    "kfold = KFold(n_splits=10, random_state=7, shuffle=True)\n",
    "model1 = LogisticRegression()\n",
    "# fitting the model\n",
    "model1.fit(X,Y)\n",
    "\n",
    "Class1= model1.predict(rescalled_test)\n",
    "\n",
    "#Returning the LR output in a dataframe\n",
    "report1 = pd.DataFrame(Class1)\n",
    "\n",
    "report1.columns=['CLASS'] # Creating a class column\n",
    "report1.index.name='Index' #Creating a culumn index\n",
    "\n",
    "# Map function to change the 0.0 and 1.0 into False and True repectively\n",
    "report1['CLASS']= report1['CLASS'].map({0.0:False, 1.0:True})\n",
    "report1\n",
    "\n",
    "#Storing the dataframe output in a csv file.\n",
    "report1.to_csv(\"model1.csv\")\n"
   ]
  },
  {
   "cell_type": "markdown",
   "metadata": {},
   "source": [
    "## Generating the model using Stochastic Gradient Descent"
   ]
  },
  {
   "cell_type": "code",
   "execution_count": 123,
   "metadata": {},
   "outputs": [],
   "source": [
    "## Stochastic Gradient Descent\n",
    "from sklearn.linear_model import SGDClassifier\n",
    "\n",
    "array = train.values\n",
    "X = rescalledX[:,0:11]\n",
    "Y = array[:,11]\n",
    "num_folds = 10\n",
    "kfold = KFold(n_splits=10, random_state=7, shuffle=True)\n",
    "model2 = SGDClassifier(loss=\"hinge\", penalty=\"l2\", max_iter=5)\n",
    "\n",
    "# fitting the model\n",
    "model2.fit(X,Y)\n",
    "\n",
    "Classl2= model2.predict(rescalled_test)\n",
    "\n",
    "#Returning the LR output in a dataframe\n",
    "report2 = pd.DataFrame(Class1)\n",
    "\n",
    "report2.columns=['CLASS'] # Creating a class column\n",
    "report2.index.name='Index' #Creating a culumn index\n",
    "\n",
    "# Map function to change the 0.0 and 1.0 into False and True repectively\n",
    "report2['CLASS']= report2['CLASS'].map({0.0:False, 1.0:True})\n",
    "report2\n",
    "\n",
    "#Storing the dataframe output in a csv file.\n",
    "report2.to_csv(\"predicted_outcome2.csv\")"
   ]
  },
  {
   "cell_type": "markdown",
   "metadata": {},
   "source": [
    "## Generating a model using VotingClassifier algorithm\n",
    "- This is done to combine the prediction from different algorithms"
   ]
  },
  {
   "cell_type": "code",
   "execution_count": 124,
   "metadata": {},
   "outputs": [],
   "source": [
    "# Voting Ensemble for Classification\n",
    "from pandas import read_csv\n",
    "from sklearn.model_selection import KFold\n",
    "from sklearn.model_selection import cross_val_score\n",
    "from sklearn.linear_model import LogisticRegression\n",
    "from sklearn.tree import DecisionTreeClassifier\n",
    "from xgboost import XGBClassifier\n",
    "from sklearn.ensemble import RandomForestClassifier\n",
    "from sklearn.svm import SVC\n",
    "from sklearn.ensemble import VotingClassifier\n",
    "\n",
    "array = train.values\n",
    "X = rescalledX[:,0:11]\n",
    "Y = array[:,11]\n",
    "kfold = KFold(n_splits=10,random_state=7, shuffle=True)\n",
    "\n",
    "# create the sub models\n",
    "estimators = []\n",
    "model1 = LogisticRegression()\n",
    "estimators.append(('logistic', model1))\n",
    "\n",
    "model2 = DecisionTreeClassifier()\n",
    "estimators.append(('cart', model2))\n",
    "\n",
    "model3 = SVC()\n",
    "estimators.append(('svm', model3))\n",
    "\n",
    "model4 = XGBClassifier()\n",
    "estimators.append(('xgb', model4))\n",
    "\n",
    "model5 = RandomForestClassifier()\n",
    "estimators.append(('rfc', model5))\n",
    "\n",
    "# create the ensemble model\n",
    "model3 = VotingClassifier(estimators)\n",
    "# fitting the model\n",
    "model3.fit(X,Y)\n",
    "\n",
    "Class3= model3.predict(rescalled_test)\n",
    "\n",
    "#Returning the LR output in a dataframe\n",
    "report3 = pd.DataFrame(Class3)\n",
    "\n",
    "report3.columns=['CLASS'] # Creating a class column\n",
    "report3.index.name='Index' #Creating a culumn index\n",
    "\n",
    "# Map function to change the 0.0 and 1.0 into False and True repectively\n",
    "report3['CLASS']= report3['CLASS'].map({0.0:False, 1.0:True})\n",
    "report3\n",
    "\n",
    "#Storing the dataframe output in a csv file.\n",
    "report3.to_csv(\"predicted_outcome3.csv\")"
   ]
  },
  {
   "cell_type": "markdown",
   "metadata": {},
   "source": [
    "## Generating a model using Neural Networks with MLPclassifier"
   ]
  },
  {
   "cell_type": "code",
   "execution_count": 125,
   "metadata": {},
   "outputs": [],
   "source": [
    "## MLPClassifier\n",
    "from sklearn.neural_network import MLPClassifier\n",
    "array = train.values\n",
    "\n",
    "# splitting the training dataset\n",
    "X = rescalledX[:,0:11] # training attributes\n",
    "Y = array[:,11] # training outcome\n",
    "\n",
    "# using the Kfold\n",
    "num_folds = 10\n",
    "kfold = KFold(n_splits=10, random_state=7, shuffle=True)\n",
    "\n",
    "model8 = MLPClassifier(solver='lbfgs', alpha=1e-5,hidden_layer_sizes=(5, 2), random_state=1)\n",
    "\n",
    "# fitting the model\n",
    "model8.fit(X,Y)\n",
    "\n",
    "#Asighning the class outcome into the variable named Class8\n",
    "Class8= model8.predict(rescalled_test[:,0:11])\n",
    "\n",
    "#Returning the LR output in a dataframe\n",
    "report8 = pd.DataFrame(Class8)\n",
    "\n",
    "report8.columns=['CLASS'] # Creating a class column\n",
    "report8.index.name='Index' #Creating a culumn index\n",
    "\n",
    "# Map function to change the 0.0 and 1.0 into False and True repectively\n",
    "report8['CLASS']= report8['CLASS'].map({0.0:False, 1.0:True})\n",
    "report8\n",
    "\n",
    "#Storing the dataframe output in a csv file.\n",
    "report8.to_csv(\"prediced_outcome8.csv\")"
   ]
  },
  {
   "cell_type": "markdown",
   "metadata": {},
   "source": [
    "## Generating a model using Linear Discriminant Analysis"
   ]
  },
  {
   "cell_type": "code",
   "execution_count": 126,
   "metadata": {},
   "outputs": [
    {
     "name": "stdout",
     "output_type": "stream",
     "text": [
      "MCC:  0.8394003381204443\n",
      "confusion matrix: [[470  52]\n",
      " [ 29 452]]\n"
     ]
    }
   ],
   "source": [
    "# using Linear Discriminant Analysis\n",
    "from sklearn.discriminant_analysis import LinearDiscriminantAnalysis\n",
    "from sklearn.model_selection import train_test_split\n",
    "from sklearn.metrics import matthews_corrcoef\n",
    "array = train.values\n",
    "X = rescalledX[:,0:11]\n",
    "Y = array[:,11]\n",
    "test_size = 0.33\n",
    "seed = 7\n",
    "X_train, X_test, Y_train, Y_test = train_test_split(X, Y, test_size=test_size,random_state=seed)\n",
    "\n",
    "model7 = LinearDiscriminantAnalysis()\n",
    "\n",
    "# fitting the model\n",
    "model7.fit(X_train, Y_train) \n",
    "\n",
    "# Print the mathew's corelation coefficient result of the algorithm\n",
    "predicted = model7.predict(X_test)\n",
    "print('MCC: ', matthews_corrcoef(model7.predict(X_test),Y_test))\n",
    "\n",
    "# print the confusion matrix of the algorithm\n",
    "from sklearn.metrics import confusion_matrix\n",
    "print('confusion matrix:', confusion_matrix( model7.predict(X_test), Y_test))\n",
    "\n",
    "# predicting the test_dataset using the model\n",
    "Class7= model7.predict(rescalled_test[:,0:11])\n",
    "\n",
    "#Returning the Linear Discriminnat Analysis output in a dataframe\n",
    "report7 = pd.DataFrame(Class7)\n",
    "\n",
    "report7.columns=['CLASS'] # Creating a class column\n",
    "report7.index.name='Index' #Creating a culumn index\n",
    "\n",
    "# Map function to change the 0.0 and 1.0 into False and True repectively\n",
    "report7['CLASS']= report7['CLASS'].map({0.0:False, 1.0:True})\n",
    "report7\n",
    "\n",
    "#Storing the dataframe output in a csv file.\n",
    "report7.to_csv(\"Predicted_outcome7.csv\")\n",
    "\n"
   ]
  },
  {
   "cell_type": "markdown",
   "metadata": {},
   "source": [
    "## Generating a model using K Nearest Neighbour algorithm"
   ]
  },
  {
   "cell_type": "code",
   "execution_count": 127,
   "metadata": {},
   "outputs": [
    {
     "ename": "NotFittedError",
     "evalue": "This KNeighborsClassifier instance is not fitted yet. Call 'fit' with appropriate arguments before using this estimator.",
     "output_type": "error",
     "traceback": [
      "\u001b[0;31m---------------------------------------------------------------------------\u001b[0m",
      "\u001b[0;31mNotFittedError\u001b[0m                            Traceback (most recent call last)",
      "\u001b[0;32m<ipython-input-127-111146e79aed>\u001b[0m in \u001b[0;36m<module>\u001b[0;34m\u001b[0m\n\u001b[1;32m     17\u001b[0m \u001b[0;31m#print the results\u001b[0m\u001b[0;34m\u001b[0m\u001b[0;34m\u001b[0m\u001b[0m\n\u001b[1;32m     18\u001b[0m \u001b[0;31m# Print the mathew's corelation coefficient result of the algorithm\u001b[0m\u001b[0;34m\u001b[0m\u001b[0;34m\u001b[0m\u001b[0m\n\u001b[0;32m---> 19\u001b[0;31m \u001b[0mpredicted\u001b[0m \u001b[0;34m=\u001b[0m \u001b[0mmodel3\u001b[0m\u001b[0;34m.\u001b[0m\u001b[0mpredict\u001b[0m\u001b[0;34m(\u001b[0m\u001b[0mX_test\u001b[0m\u001b[0;34m)\u001b[0m\u001b[0;34m\u001b[0m\u001b[0m\n\u001b[0m\u001b[1;32m     20\u001b[0m \u001b[0mprint\u001b[0m\u001b[0;34m(\u001b[0m\u001b[0;34m'MCC: '\u001b[0m\u001b[0;34m,\u001b[0m \u001b[0mmatthews_corrcoef\u001b[0m\u001b[0;34m(\u001b[0m\u001b[0mmodel3\u001b[0m\u001b[0;34m.\u001b[0m\u001b[0mpredict\u001b[0m\u001b[0;34m(\u001b[0m\u001b[0mX_test\u001b[0m\u001b[0;34m)\u001b[0m\u001b[0;34m,\u001b[0m\u001b[0mY_test\u001b[0m\u001b[0;34m)\u001b[0m\u001b[0;34m)\u001b[0m\u001b[0;34m\u001b[0m\u001b[0m\n\u001b[1;32m     21\u001b[0m \u001b[0;34m\u001b[0m\u001b[0m\n",
      "\u001b[0;32m/opt/conda/lib/python3.6/site-packages/sklearn/neighbors/_classification.py\u001b[0m in \u001b[0;36mpredict\u001b[0;34m(self, X)\u001b[0m\n\u001b[1;32m    171\u001b[0m         \u001b[0mX\u001b[0m \u001b[0;34m=\u001b[0m \u001b[0mcheck_array\u001b[0m\u001b[0;34m(\u001b[0m\u001b[0mX\u001b[0m\u001b[0;34m,\u001b[0m \u001b[0maccept_sparse\u001b[0m\u001b[0;34m=\u001b[0m\u001b[0;34m'csr'\u001b[0m\u001b[0;34m)\u001b[0m\u001b[0;34m\u001b[0m\u001b[0m\n\u001b[1;32m    172\u001b[0m \u001b[0;34m\u001b[0m\u001b[0m\n\u001b[0;32m--> 173\u001b[0;31m         \u001b[0mneigh_dist\u001b[0m\u001b[0;34m,\u001b[0m \u001b[0mneigh_ind\u001b[0m \u001b[0;34m=\u001b[0m \u001b[0mself\u001b[0m\u001b[0;34m.\u001b[0m\u001b[0mkneighbors\u001b[0m\u001b[0;34m(\u001b[0m\u001b[0mX\u001b[0m\u001b[0;34m)\u001b[0m\u001b[0;34m\u001b[0m\u001b[0m\n\u001b[0m\u001b[1;32m    174\u001b[0m         \u001b[0mclasses_\u001b[0m \u001b[0;34m=\u001b[0m \u001b[0mself\u001b[0m\u001b[0;34m.\u001b[0m\u001b[0mclasses_\u001b[0m\u001b[0;34m\u001b[0m\u001b[0m\n\u001b[1;32m    175\u001b[0m         \u001b[0m_y\u001b[0m \u001b[0;34m=\u001b[0m \u001b[0mself\u001b[0m\u001b[0;34m.\u001b[0m\u001b[0m_y\u001b[0m\u001b[0;34m\u001b[0m\u001b[0m\n",
      "\u001b[0;32m/opt/conda/lib/python3.6/site-packages/sklearn/neighbors/_base.py\u001b[0m in \u001b[0;36mkneighbors\u001b[0;34m(self, X, n_neighbors, return_distance)\u001b[0m\n\u001b[1;32m    581\u001b[0m \u001b[0;34m\u001b[0m\u001b[0m\n\u001b[1;32m    582\u001b[0m         \"\"\"\n\u001b[0;32m--> 583\u001b[0;31m         \u001b[0mcheck_is_fitted\u001b[0m\u001b[0;34m(\u001b[0m\u001b[0mself\u001b[0m\u001b[0;34m)\u001b[0m\u001b[0;34m\u001b[0m\u001b[0m\n\u001b[0m\u001b[1;32m    584\u001b[0m \u001b[0;34m\u001b[0m\u001b[0m\n\u001b[1;32m    585\u001b[0m         \u001b[0;32mif\u001b[0m \u001b[0mn_neighbors\u001b[0m \u001b[0;32mis\u001b[0m \u001b[0;32mNone\u001b[0m\u001b[0;34m:\u001b[0m\u001b[0;34m\u001b[0m\u001b[0m\n",
      "\u001b[0;32m/opt/conda/lib/python3.6/site-packages/sklearn/utils/validation.py\u001b[0m in \u001b[0;36mcheck_is_fitted\u001b[0;34m(estimator, attributes, msg, all_or_any)\u001b[0m\n\u001b[1;32m    965\u001b[0m \u001b[0;34m\u001b[0m\u001b[0m\n\u001b[1;32m    966\u001b[0m     \u001b[0;32mif\u001b[0m \u001b[0;32mnot\u001b[0m \u001b[0mattrs\u001b[0m\u001b[0;34m:\u001b[0m\u001b[0;34m\u001b[0m\u001b[0m\n\u001b[0;32m--> 967\u001b[0;31m         \u001b[0;32mraise\u001b[0m \u001b[0mNotFittedError\u001b[0m\u001b[0;34m(\u001b[0m\u001b[0mmsg\u001b[0m \u001b[0;34m%\u001b[0m \u001b[0;34m{\u001b[0m\u001b[0;34m'name'\u001b[0m\u001b[0;34m:\u001b[0m \u001b[0mtype\u001b[0m\u001b[0;34m(\u001b[0m\u001b[0mestimator\u001b[0m\u001b[0;34m)\u001b[0m\u001b[0;34m.\u001b[0m\u001b[0m__name__\u001b[0m\u001b[0;34m}\u001b[0m\u001b[0;34m)\u001b[0m\u001b[0;34m\u001b[0m\u001b[0m\n\u001b[0m\u001b[1;32m    968\u001b[0m \u001b[0;34m\u001b[0m\u001b[0m\n\u001b[1;32m    969\u001b[0m \u001b[0;34m\u001b[0m\u001b[0m\n",
      "\u001b[0;31mNotFittedError\u001b[0m: This KNeighborsClassifier instance is not fitted yet. Call 'fit' with appropriate arguments before using this estimator."
     ]
    }
   ],
   "source": [
    "from sklearn.neighbors import KNeighborsClassifier\n",
    "\n",
    "array = train.values\n",
    "\n",
    "# spliting the train dataset\n",
    "X = rescalledX[:,0:11] \n",
    "Y = array[:,11]\n",
    "\n",
    "# Resample using Kfold\n",
    "test_size = 0.33\n",
    "seed = 42\n",
    "X_train, X_test, Y_train, Y_test = train_test_split(X, Y, test_size=test_size,random_state=seed)\n",
    "\n",
    "# use the KNeighboursClassifier algorithm\n",
    "model3 = KNeighborsClassifier()\n",
    "\n",
    "\n",
    "\n",
    "# fitting the model\n",
    "model3.fit(X_train, Y_train)\n",
    "\n",
    "#print the results\n",
    "# Print the mathew's corelation coefficient result of the algorithm\n",
    "predicted = model3.predict(X_test)\n",
    "print('MCC: ', matthews_corrcoef(model3.predict(X_test),Y_test))\n",
    "\n",
    "# print the confusion matrix of the algorithm\n",
    "from sklearn.metrics import confusion_matrix\n",
    "print('confusion matrix:', confusion_matrix( model.predict(X_test), Y_test))\n",
    "\n",
    "# Using the model to predict the outcome class\n",
    "Class3= model3.predict(rescalled_test)\n",
    "\n",
    "#Returning the LR output in a dataframe\n",
    "report3 = pd.DataFrame(Class3)\n",
    "\n",
    "report3.columns=['CLASS'] # Creating a class column\n",
    "report3.index.name='Index' #Creating a culumn index\n",
    "\n",
    "# Map function to change the 0.0 and 1.0 into False and True repectively\n",
    "report3['CLASS']= report3['CLASS'].map({0.0:False, 1.0:True})\n",
    "report3\n",
    "\n",
    "#Storing the dataframe output in a csv file.\n",
    "report3.to_csv(\"predicted_outcome4.csv\")"
   ]
  },
  {
   "cell_type": "markdown",
   "metadata": {},
   "source": [
    "## Generating a model using Support Vector Machine\n",
    "- Support Vector Machines seek a line that best separates two classes."
   ]
  },
  {
   "cell_type": "code",
   "execution_count": null,
   "metadata": {},
   "outputs": [],
   "source": [
    "from sklearn.svm import SVC\n",
    "\n",
    "array = train.values\n",
    "\n",
    "# Splitting the dataset\n",
    "X = rescalledX[:,0:11]\n",
    "Y = array[:,11]\n",
    "\n",
    "# Resample the data using train test split method\n",
    "test_size = 0.33\n",
    "seed = 42\n",
    "X_train, X_test, Y_train, Y_test = train_test_split(X, Y, test_size=test_size,random_state=seed)\n",
    "\n",
    "# develop the model using support vector machine\n",
    "model3 = SVC()\n",
    "\n",
    "# Print the mathew's corelation coefficient result of the algorithm\n",
    "predicted = model.predict(X_test)\n",
    "print('MCC: ', matthews_corrcoef(model.predict(X_test),Y_test))\n",
    "\n",
    "# print the confusion matrix of the algorithm\n",
    "from sklearn.metrics import confusion_matrix\n",
    "print('confusion matrix:', confusion_matrix( model.predict(X_test), Y_test))\n",
    "\n",
    "# fitting the model\n",
    "model3.fit(X,Y)\n",
    "\n",
    "Class3= model3.predict(rescalled_test)\n",
    "\n",
    "#Returning the LR output in a dataframe\n",
    "report3 = pd.DataFrame(Class3)\n",
    "\n",
    "report3.columns=['CLASS'] # Creating a class column\n",
    "report3.index.name='Index' #Creating a culumn index\n",
    "\n",
    "# Map function to change the 0.0 and 1.0 into False and True repectively\n",
    "report3['CLASS']= report3['CLASS'].map({0.0:False, 1.0:True})\n",
    "report3\n",
    "\n",
    "#Storing the dataframe output in a csv file.\n",
    "report3.to_csv(\"model5.csv\")"
   ]
  },
  {
   "cell_type": "markdown",
   "metadata": {},
   "source": [
    "##  Generating a model using Classification and regression tree algorithm"
   ]
  },
  {
   "cell_type": "code",
   "execution_count": null,
   "metadata": {},
   "outputs": [],
   "source": [
    "from sklearn.model_selection import train_test_split\n",
    "from sklearn.tree import DecisionTreeClassifier\n",
    "from sklearn.metrics import matthews_corrcoef\n",
    "array = train.values\n",
    "X = rescalledX[:,0:11]\n",
    "Y = array[:,11]\n",
    "test_size = 0.33\n",
    "seed = 42\n",
    "X_train, X_test, Y_train, Y_test = train_test_split(X, Y, test_size=test_size,random_state=seed)\n",
    "\n",
    "model = DecisionTreeClassifier()\n",
    "model.fit(X_train, Y_train)\n",
    "predicted = model.predict(X_test)\n",
    "print('MCC: ', matthews_corrcoef(model.predict(X_test),Y_test))"
   ]
  },
  {
   "cell_type": "markdown",
   "metadata": {},
   "source": [
    "## Generating Naive bayes model "
   ]
  },
  {
   "cell_type": "code",
   "execution_count": null,
   "metadata": {},
   "outputs": [],
   "source": [
    "# using naive_bayes\n",
    "\n",
    "from sklearn.naive_bayes import GaussianNB\n",
    "array = train.values\n",
    "\n",
    "# split the train dataset\n",
    "X = rescalledX[:,0:11]\n",
    "Y = array[:,11]\n",
    "\n",
    "#Resample the train dataset using Kfold split\n",
    "test_size = 0.33\n",
    "seed = 42\n",
    "X_train, X_test, Y_train, Y_test = train_test_split(X, Y, test_size=test_size,random_state=seed)\n",
    "\n",
    "model = GaussianNB()  # Using naive bayes\n",
    "\n",
    "model.fit(X_train, Y_train) # fitting the model\n",
    "\n",
    "# predicting the test_dataset using the model\n",
    "Class= model.predict(rescalled_test[:,0:11])\n",
    "\n",
    "#Returning the Naive Bayes output in a dataframe\n",
    "report = pd.DataFrame(Class)\n",
    "\n",
    "report.columns=['CLASS'] # Creating a class column\n",
    "report.index.name='Index' #Creating a culumn index\n",
    "\n",
    "# Map function to change the 0.0 and 1.0 into False and True repectively\n",
    "report['CLASS']= report['CLASS'].map({0.0:False, 1.0:True})\n",
    "report\n",
    "\n",
    "#Storing the dataframe output in a csv file.\n",
    "report.to_csv(\"predicted_outcome1.csv\")\n",
    "\n",
    "# Print the mathew's corelation coefficient result of the algorithm\n",
    "predicted = model.predict(X_test)\n",
    "print('MCC: ', matthews_corrcoef(model.predict(X_test),Y_test))\n",
    "\n",
    "# print the confusion matrix of the algorithm\n",
    "from sklearn.metrics import confusion_matrix\n",
    "print('confusion matrix:', confusion_matrix( model.predict(X_test), Y_test))"
   ]
  }
 ],
 "metadata": {
  "kernelspec": {
   "display_name": "Python 3",
   "language": "python",
   "name": "python3"
  },
  "language_info": {
   "codemirror_mode": {
    "name": "ipython",
    "version": 3
   },
   "file_extension": ".py",
   "mimetype": "text/x-python",
   "name": "python",
   "nbconvert_exporter": "python",
   "pygments_lexer": "ipython3",
   "version": "3.7.4"
  },
  "varInspector": {
   "cols": {
    "lenName": 16,
    "lenType": 16,
    "lenVar": 40
   },
   "kernels_config": {
    "python": {
     "delete_cmd_postfix": "",
     "delete_cmd_prefix": "del ",
     "library": "var_list.py",
     "varRefreshCmd": "print(var_dic_list())"
    },
    "r": {
     "delete_cmd_postfix": ") ",
     "delete_cmd_prefix": "rm(",
     "library": "var_list.r",
     "varRefreshCmd": "cat(var_dic_list()) "
    }
   },
   "types_to_exclude": [
    "module",
    "function",
    "builtin_function_or_method",
    "instance",
    "_Feature"
   ],
   "window_display": false
  }
 },
 "nbformat": 4,
 "nbformat_minor": 4
}
