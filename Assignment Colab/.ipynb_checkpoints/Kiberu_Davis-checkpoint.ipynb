{
 "cells": [
  {
   "cell_type": "markdown",
   "metadata": {},
   "source": [
    "# ACE CLASS ASSIGNMENT\n",
    "by `Davis Kiberu`"
   ]
  },
  {
   "cell_type": "markdown",
   "metadata": {},
   "source": [
    "   <div class = 'alert alert-info'>\n",
    "\n",
    "## ?? This means I need to see more\n",
    "</div>\n",
    "\n",
    "\n",
    "<div class = 'alert alert-success'>\n",
    "\n",
    "## This represents a good job done\n",
    "</div>\n",
    "\n",
    "\n",
    "<div class = 'alert alert-danger'>\n",
    "\n",
    "## This is danger!\n",
    "</div>"
   ]
  },
  {
   "cell_type": "markdown",
   "metadata": {},
   "source": [
    "## Outline:\n",
    "  1. Import required packages\n",
    "  2. Reading in Datasets\n",
    "  3. Data exploration\n",
    "  4. Descriptive statistics for the data\n",
    "  5. Class distribution of the data \n",
    "  6. Checking for correlation between the different attributes\n",
    "  7. Cheking for skewdness of the data\n",
    "  8. Understanding Data with visualization\n",
    "  9. Preparing Data for Machine Learning\n",
    "  10. Feature selection\n",
    "  11. Predictions by algorithm\n",
    "  12. Improving performance with Ensembles\n",
    "  13. Comparing Machine Learning Algorithms used\n",
    "  \n",
    "  \n",
    "<div class = 'alert alert-success'>\n",
    "Great summary, really helpful!\n",
    "</div>\n",
    " "
   ]
  },
  {
   "cell_type": "markdown",
   "metadata": {},
   "source": [
    "## 1. Import required packages\n",
    "For this assignment, the required packages and modules are;\n",
    "* numpy;for computing scientific/mathematical data.\n",
    "* pandas; for data wrangling and manipulation\n",
    "* seaborn; for statistical data visualization\n",
    "* matplotlib.pyplot;  for plots\n",
    "\n",
    "\n",
    "<div class = 'alert alert-success'>\n",
    "\n",
    "Great job!\n",
    "\n",
    "</div>"
   ]
  },
  {
   "cell_type": "raw",
   "metadata": {
    "_cell_guid": "b1076dfc-b9ad-4769-8c92-a6c4dae69d19",
    "_uuid": "8f2839f25d086af736a60e9eeb907d3b93b6e0e5"
   },
   "source": [
    "# This Python 3 environment comes with many helpful analytics libraries installed\n",
    "# It is defined by the kaggle/python docker image: https://github.com/kaggle/docker-python\n",
    "# For example, here's several helpful packages to load in \n",
    "\n",
    "import numpy as np # linear algebra\n",
    "import pandas as pd # data processing, CSV file I/O (e.g. pd.read_csv)\n",
    "import seaborn as sns\n",
    "import matplotlib.pyplot as plt\n",
    "\n",
    "# Input data files are available in the \"../input/\" directory.\n",
    "# For example, running this (by clicking run or pressing Shift+Enter) will list all files under the input directory\n",
    "\n",
    "import os\n",
    "for dirname, _, filenames in os.walk('/kaggle/input'):\n",
    "    for filename in filenames:\n",
    "        print(os.path.join(dirname, filename))\n",
    "\n",
    "# Remove unnecessary warnings\n",
    "import warnings\n",
    "warnings.filterwarnings('ignore')\n",
    "# Any results you write to the current directory are saved as output."
   ]
  },
  {
   "cell_type": "code",
   "execution_count": 1,
   "metadata": {},
   "outputs": [],
   "source": [
    "import numpy as np # linear algebra\n",
    "import pandas as pd # data processing, CSV file I/O (e.g. pd.read_csv)\n",
    "import seaborn as sns\n",
    "import matplotlib.pyplot as plt"
   ]
  },
  {
   "cell_type": "markdown",
   "metadata": {},
   "source": [
    "## 2. Reading in Datasets\n",
    "Comma Seperated Variables(CSV) data files are read into DataFrame objects using Pandas' read_csv() method.\n",
    "Two datasets are read in: \n",
    "* The train set assigned to train\n",
    "* The test set assigned to test"
   ]
  },
  {
   "cell_type": "code",
   "execution_count": 2,
   "metadata": {
    "_cell_guid": "79c7e3d0-c299-4dcb-8224-4455121ee9b0",
    "_uuid": "d629ff2d2480ee46fbb7e2d37f6b5fab8052498a"
   },
   "outputs": [],
   "source": [
    "# Reading in Datasets\n",
    "train = pd.read_csv(\"../AMP Data Sets/AMP_TrainSet.csv\")\n",
    "test = pd.read_csv(\"../AMP Data Sets/Test.csv\")"
   ]
  },
  {
   "cell_type": "markdown",
   "metadata": {},
   "source": [
    "## 3. Data exploration\n",
    "To get a feel of the data, we visualize a few of the rows(instances) and columns(attributes) of the data using the `head()` function which shows the first five rows.\n",
    "\n",
    "a) We the check for the dimensions of the data using the `shape` property of the data which returns a tuple indicating number of rows and columns.\n",
    "\n",
    "b) We can then explore the names of the various attributes using the columns property and then check for the data type of each attribute using the `dtypes` property.\n",
    "\n",
    "c) We can also check for missing values (NAs and NaNs) using the `isnull()` function\n",
    "\n",
    "\n",
    "<div class = 'alert alert-success'>\n",
    "\n",
    "Great job!\n",
    "\n",
    "</div>"
   ]
  },
  {
   "cell_type": "code",
   "execution_count": 3,
   "metadata": {},
   "outputs": [
    {
     "data": {
      "text/html": [
       "<div>\n",
       "<style scoped>\n",
       "    .dataframe tbody tr th:only-of-type {\n",
       "        vertical-align: middle;\n",
       "    }\n",
       "\n",
       "    .dataframe tbody tr th {\n",
       "        vertical-align: top;\n",
       "    }\n",
       "\n",
       "    .dataframe thead th {\n",
       "        text-align: right;\n",
       "    }\n",
       "</style>\n",
       "<table border=\"1\" class=\"dataframe\">\n",
       "  <thead>\n",
       "    <tr style=\"text-align: right;\">\n",
       "      <th></th>\n",
       "      <th>FULL_Charge</th>\n",
       "      <th>FULL_AcidicMolPerc</th>\n",
       "      <th>FULL_AURR980107</th>\n",
       "      <th>FULL_DAYM780201</th>\n",
       "      <th>FULL_GEOR030101</th>\n",
       "      <th>FULL_OOBM850104</th>\n",
       "      <th>NT_EFC195</th>\n",
       "      <th>AS_MeanAmphiMoment</th>\n",
       "      <th>AS_DAYM780201</th>\n",
       "      <th>AS_FUKS010112</th>\n",
       "      <th>CT_RACS820104</th>\n",
       "      <th>CLASS</th>\n",
       "    </tr>\n",
       "  </thead>\n",
       "  <tbody>\n",
       "    <tr>\n",
       "      <th>0</th>\n",
       "      <td>5.0</td>\n",
       "      <td>0.000</td>\n",
       "      <td>0.951</td>\n",
       "      <td>74.842</td>\n",
       "      <td>0.975</td>\n",
       "      <td>-3.663</td>\n",
       "      <td>0</td>\n",
       "      <td>0.282</td>\n",
       "      <td>73.444</td>\n",
       "      <td>5.661</td>\n",
       "      <td>1.041</td>\n",
       "      <td>1</td>\n",
       "    </tr>\n",
       "    <tr>\n",
       "      <th>1</th>\n",
       "      <td>4.0</td>\n",
       "      <td>5.405</td>\n",
       "      <td>0.931</td>\n",
       "      <td>71.595</td>\n",
       "      <td>0.957</td>\n",
       "      <td>-4.011</td>\n",
       "      <td>1</td>\n",
       "      <td>0.600</td>\n",
       "      <td>68.222</td>\n",
       "      <td>6.537</td>\n",
       "      <td>1.453</td>\n",
       "      <td>1</td>\n",
       "    </tr>\n",
       "    <tr>\n",
       "      <th>2</th>\n",
       "      <td>5.5</td>\n",
       "      <td>5.405</td>\n",
       "      <td>0.873</td>\n",
       "      <td>73.595</td>\n",
       "      <td>0.961</td>\n",
       "      <td>-2.512</td>\n",
       "      <td>0</td>\n",
       "      <td>0.593</td>\n",
       "      <td>69.444</td>\n",
       "      <td>4.934</td>\n",
       "      <td>1.722</td>\n",
       "      <td>1</td>\n",
       "    </tr>\n",
       "    <tr>\n",
       "      <th>3</th>\n",
       "      <td>5.0</td>\n",
       "      <td>4.167</td>\n",
       "      <td>0.895</td>\n",
       "      <td>66.250</td>\n",
       "      <td>0.999</td>\n",
       "      <td>-1.362</td>\n",
       "      <td>0</td>\n",
       "      <td>0.614</td>\n",
       "      <td>67.222</td>\n",
       "      <td>4.316</td>\n",
       "      <td>1.382</td>\n",
       "      <td>1</td>\n",
       "    </tr>\n",
       "    <tr>\n",
       "      <th>4</th>\n",
       "      <td>7.5</td>\n",
       "      <td>8.537</td>\n",
       "      <td>0.932</td>\n",
       "      <td>64.720</td>\n",
       "      <td>0.979</td>\n",
       "      <td>-2.091</td>\n",
       "      <td>0</td>\n",
       "      <td>0.616</td>\n",
       "      <td>72.944</td>\n",
       "      <td>4.540</td>\n",
       "      <td>1.539</td>\n",
       "      <td>1</td>\n",
       "    </tr>\n",
       "  </tbody>\n",
       "</table>\n",
       "</div>"
      ],
      "text/plain": [
       "   FULL_Charge  FULL_AcidicMolPerc  FULL_AURR980107  FULL_DAYM780201  \\\n",
       "0          5.0               0.000            0.951           74.842   \n",
       "1          4.0               5.405            0.931           71.595   \n",
       "2          5.5               5.405            0.873           73.595   \n",
       "3          5.0               4.167            0.895           66.250   \n",
       "4          7.5               8.537            0.932           64.720   \n",
       "\n",
       "   FULL_GEOR030101  FULL_OOBM850104  NT_EFC195  AS_MeanAmphiMoment  \\\n",
       "0            0.975           -3.663          0               0.282   \n",
       "1            0.957           -4.011          1               0.600   \n",
       "2            0.961           -2.512          0               0.593   \n",
       "3            0.999           -1.362          0               0.614   \n",
       "4            0.979           -2.091          0               0.616   \n",
       "\n",
       "   AS_DAYM780201  AS_FUKS010112  CT_RACS820104  CLASS  \n",
       "0         73.444          5.661          1.041      1  \n",
       "1         68.222          6.537          1.453      1  \n",
       "2         69.444          4.934          1.722      1  \n",
       "3         67.222          4.316          1.382      1  \n",
       "4         72.944          4.540          1.539      1  "
      ]
     },
     "execution_count": 3,
     "metadata": {},
     "output_type": "execute_result"
    }
   ],
   "source": [
    "# Viewing the first five rows of the data\n",
    "train.head()"
   ]
  },
  {
   "cell_type": "code",
   "execution_count": 4,
   "metadata": {},
   "outputs": [
    {
     "data": {
      "text/html": [
       "<div>\n",
       "<style scoped>\n",
       "    .dataframe tbody tr th:only-of-type {\n",
       "        vertical-align: middle;\n",
       "    }\n",
       "\n",
       "    .dataframe tbody tr th {\n",
       "        vertical-align: top;\n",
       "    }\n",
       "\n",
       "    .dataframe thead th {\n",
       "        text-align: right;\n",
       "    }\n",
       "</style>\n",
       "<table border=\"1\" class=\"dataframe\">\n",
       "  <thead>\n",
       "    <tr style=\"text-align: right;\">\n",
       "      <th></th>\n",
       "      <th>FULL_Charge</th>\n",
       "      <th>FULL_AcidicMolPerc</th>\n",
       "      <th>FULL_AURR980107</th>\n",
       "      <th>FULL_DAYM780201</th>\n",
       "      <th>FULL_GEOR030101</th>\n",
       "      <th>FULL_OOBM850104</th>\n",
       "      <th>NT_EFC195</th>\n",
       "      <th>AS_MeanAmphiMoment</th>\n",
       "      <th>AS_DAYM780201</th>\n",
       "      <th>AS_FUKS010112</th>\n",
       "      <th>CT_RACS820104</th>\n",
       "    </tr>\n",
       "  </thead>\n",
       "  <tbody>\n",
       "    <tr>\n",
       "      <th>0</th>\n",
       "      <td>4.0</td>\n",
       "      <td>3.704</td>\n",
       "      <td>0.873</td>\n",
       "      <td>73.519</td>\n",
       "      <td>0.987</td>\n",
       "      <td>-4.833</td>\n",
       "      <td>0</td>\n",
       "      <td>0.382</td>\n",
       "      <td>74.556</td>\n",
       "      <td>7.225</td>\n",
       "      <td>1.234</td>\n",
       "    </tr>\n",
       "    <tr>\n",
       "      <th>1</th>\n",
       "      <td>4.0</td>\n",
       "      <td>4.444</td>\n",
       "      <td>0.892</td>\n",
       "      <td>62.444</td>\n",
       "      <td>0.931</td>\n",
       "      <td>-0.584</td>\n",
       "      <td>0</td>\n",
       "      <td>0.320</td>\n",
       "      <td>56.056</td>\n",
       "      <td>4.942</td>\n",
       "      <td>1.853</td>\n",
       "    </tr>\n",
       "    <tr>\n",
       "      <th>2</th>\n",
       "      <td>2.0</td>\n",
       "      <td>0.000</td>\n",
       "      <td>0.901</td>\n",
       "      <td>47.000</td>\n",
       "      <td>1.039</td>\n",
       "      <td>-5.664</td>\n",
       "      <td>0</td>\n",
       "      <td>0.164</td>\n",
       "      <td>47.000</td>\n",
       "      <td>5.969</td>\n",
       "      <td>1.174</td>\n",
       "    </tr>\n",
       "    <tr>\n",
       "      <th>3</th>\n",
       "      <td>4.5</td>\n",
       "      <td>0.000</td>\n",
       "      <td>0.869</td>\n",
       "      <td>69.222</td>\n",
       "      <td>0.982</td>\n",
       "      <td>-5.423</td>\n",
       "      <td>0</td>\n",
       "      <td>2.010</td>\n",
       "      <td>69.222</td>\n",
       "      <td>5.462</td>\n",
       "      <td>1.138</td>\n",
       "    </tr>\n",
       "    <tr>\n",
       "      <th>4</th>\n",
       "      <td>-4.0</td>\n",
       "      <td>21.591</td>\n",
       "      <td>1.061</td>\n",
       "      <td>71.682</td>\n",
       "      <td>0.976</td>\n",
       "      <td>-2.002</td>\n",
       "      <td>0</td>\n",
       "      <td>2.758</td>\n",
       "      <td>66.000</td>\n",
       "      <td>5.582</td>\n",
       "      <td>1.453</td>\n",
       "    </tr>\n",
       "  </tbody>\n",
       "</table>\n",
       "</div>"
      ],
      "text/plain": [
       "   FULL_Charge  FULL_AcidicMolPerc  FULL_AURR980107  FULL_DAYM780201  \\\n",
       "0          4.0               3.704            0.873           73.519   \n",
       "1          4.0               4.444            0.892           62.444   \n",
       "2          2.0               0.000            0.901           47.000   \n",
       "3          4.5               0.000            0.869           69.222   \n",
       "4         -4.0              21.591            1.061           71.682   \n",
       "\n",
       "   FULL_GEOR030101  FULL_OOBM850104  NT_EFC195  AS_MeanAmphiMoment  \\\n",
       "0            0.987           -4.833          0               0.382   \n",
       "1            0.931           -0.584          0               0.320   \n",
       "2            1.039           -5.664          0               0.164   \n",
       "3            0.982           -5.423          0               2.010   \n",
       "4            0.976           -2.002          0               2.758   \n",
       "\n",
       "   AS_DAYM780201  AS_FUKS010112  CT_RACS820104  \n",
       "0         74.556          7.225          1.234  \n",
       "1         56.056          4.942          1.853  \n",
       "2         47.000          5.969          1.174  \n",
       "3         69.222          5.462          1.138  \n",
       "4         66.000          5.582          1.453  "
      ]
     },
     "execution_count": 4,
     "metadata": {},
     "output_type": "execute_result"
    }
   ],
   "source": [
    "test.head()"
   ]
  },
  {
   "cell_type": "markdown",
   "metadata": {},
   "source": [
    "### a) Data dimensions"
   ]
  },
  {
   "cell_type": "code",
   "execution_count": 5,
   "metadata": {},
   "outputs": [
    {
     "data": {
      "text/plain": [
       "((3038, 12), (758, 11))"
      ]
     },
     "execution_count": 5,
     "metadata": {},
     "output_type": "execute_result"
    }
   ],
   "source": [
    "# Checking for number of rows and columns in the datasets\n",
    "train.shape, test.shape"
   ]
  },
  {
   "cell_type": "markdown",
   "metadata": {},
   "source": [
    "### b) Data type for each attribute"
   ]
  },
  {
   "cell_type": "code",
   "execution_count": 6,
   "metadata": {},
   "outputs": [
    {
     "data": {
      "text/plain": [
       "Index(['FULL_Charge', 'FULL_AcidicMolPerc', 'FULL_AURR980107',\n",
       "       'FULL_DAYM780201', 'FULL_GEOR030101', 'FULL_OOBM850104', 'NT_EFC195',\n",
       "       'AS_MeanAmphiMoment', 'AS_DAYM780201', 'AS_FUKS010112', 'CT_RACS820104',\n",
       "       'CLASS'],\n",
       "      dtype='object')"
      ]
     },
     "execution_count": 6,
     "metadata": {},
     "output_type": "execute_result"
    }
   ],
   "source": [
    "# First lets take a look at the column names.\n",
    "train.columns"
   ]
  },
  {
   "cell_type": "code",
   "execution_count": 7,
   "metadata": {},
   "outputs": [
    {
     "data": {
      "text/plain": [
       "Index(['FULL_Charge', 'FULL_AcidicMolPerc', 'FULL_AURR980107',\n",
       "       'FULL_DAYM780201', 'FULL_GEOR030101', 'FULL_OOBM850104', 'NT_EFC195',\n",
       "       'AS_MeanAmphiMoment', 'AS_DAYM780201', 'AS_FUKS010112',\n",
       "       'CT_RACS820104'],\n",
       "      dtype='object')"
      ]
     },
     "execution_count": 7,
     "metadata": {},
     "output_type": "execute_result"
    }
   ],
   "source": [
    "test.columns"
   ]
  },
  {
   "cell_type": "code",
   "execution_count": 8,
   "metadata": {},
   "outputs": [
    {
     "data": {
      "text/plain": [
       "FULL_Charge           float64\n",
       "FULL_AcidicMolPerc    float64\n",
       "FULL_AURR980107       float64\n",
       "FULL_DAYM780201       float64\n",
       "FULL_GEOR030101       float64\n",
       "FULL_OOBM850104       float64\n",
       "NT_EFC195               int64\n",
       "AS_MeanAmphiMoment    float64\n",
       "AS_DAYM780201         float64\n",
       "AS_FUKS010112         float64\n",
       "CT_RACS820104         float64\n",
       "CLASS                   int64\n",
       "dtype: object"
      ]
     },
     "execution_count": 8,
     "metadata": {},
     "output_type": "execute_result"
    }
   ],
   "source": [
    "# Next, determine the data type for each column\n",
    "train.dtypes"
   ]
  },
  {
   "cell_type": "code",
   "execution_count": 9,
   "metadata": {},
   "outputs": [
    {
     "data": {
      "text/plain": [
       "FULL_Charge           float64\n",
       "FULL_AcidicMolPerc    float64\n",
       "FULL_AURR980107       float64\n",
       "FULL_DAYM780201       float64\n",
       "FULL_GEOR030101       float64\n",
       "FULL_OOBM850104       float64\n",
       "NT_EFC195               int64\n",
       "AS_MeanAmphiMoment    float64\n",
       "AS_DAYM780201         float64\n",
       "AS_FUKS010112         float64\n",
       "CT_RACS820104         float64\n",
       "dtype: object"
      ]
     },
     "execution_count": 9,
     "metadata": {},
     "output_type": "execute_result"
    }
   ],
   "source": [
    "test.dtypes"
   ]
  },
  {
   "cell_type": "markdown",
   "metadata": {},
   "source": [
    "### c) Missing values\n",
    "Missing values include the standard `NaN` and `Na` "
   ]
  },
  {
   "cell_type": "code",
   "execution_count": 10,
   "metadata": {},
   "outputs": [
    {
     "data": {
      "text/plain": [
       "FULL_Charge           0\n",
       "FULL_AcidicMolPerc    0\n",
       "FULL_AURR980107       0\n",
       "FULL_DAYM780201       0\n",
       "FULL_GEOR030101       0\n",
       "FULL_OOBM850104       0\n",
       "NT_EFC195             0\n",
       "AS_MeanAmphiMoment    0\n",
       "AS_DAYM780201         0\n",
       "AS_FUKS010112         0\n",
       "CT_RACS820104         0\n",
       "CLASS                 0\n",
       "dtype: int64"
      ]
     },
     "execution_count": 10,
     "metadata": {},
     "output_type": "execute_result"
    }
   ],
   "source": [
    "# Check for missing values.\n",
    "train.isnull().sum()"
   ]
  },
  {
   "cell_type": "code",
   "execution_count": 11,
   "metadata": {},
   "outputs": [
    {
     "data": {
      "text/plain": [
       "0"
      ]
     },
     "execution_count": 11,
     "metadata": {},
     "output_type": "execute_result"
    }
   ],
   "source": [
    "test.isnull().sum().sum()"
   ]
  },
  {
   "cell_type": "code",
   "execution_count": 12,
   "metadata": {},
   "outputs": [
    {
     "name": "stdout",
     "output_type": "stream",
     "text": [
      "<class 'pandas.core.frame.DataFrame'>\n",
      "RangeIndex: 758 entries, 0 to 757\n",
      "Data columns (total 11 columns):\n",
      "FULL_Charge           758 non-null float64\n",
      "FULL_AcidicMolPerc    758 non-null float64\n",
      "FULL_AURR980107       758 non-null float64\n",
      "FULL_DAYM780201       758 non-null float64\n",
      "FULL_GEOR030101       758 non-null float64\n",
      "FULL_OOBM850104       758 non-null float64\n",
      "NT_EFC195             758 non-null int64\n",
      "AS_MeanAmphiMoment    758 non-null float64\n",
      "AS_DAYM780201         758 non-null float64\n",
      "AS_FUKS010112         758 non-null float64\n",
      "CT_RACS820104         758 non-null float64\n",
      "dtypes: float64(10), int64(1)\n",
      "memory usage: 65.2 KB\n"
     ]
    }
   ],
   "source": [
    "# Another way to check for null values and datatypes is using the .info() function. \n",
    "test.info()"
   ]
  },
  {
   "cell_type": "code",
   "execution_count": 13,
   "metadata": {},
   "outputs": [
    {
     "data": {
      "text/plain": [
       "<matplotlib.axes._subplots.AxesSubplot at 0x1a113afc50>"
      ]
     },
     "execution_count": 13,
     "metadata": {},
     "output_type": "execute_result"
    },
    {
     "data": {
      "image/png": "[encoded data removed]",
      "text/plain": [
       "<Figure size 1728x720 with 3 Axes>"
      ]
     },
     "metadata": {
      "needs_background": "light"
     },
     "output_type": "display_data"
    }
   ],
   "source": [
    "# visualization to check for missing data\n",
    "import missingno as msno\n",
    "msno.bar(train)"
   ]
  },
  {
   "cell_type": "markdown",
   "metadata": {},
   "source": [
    "The above plot indicates that there are no missing values in the `train` dataset"
   ]
  },
  {
   "cell_type": "markdown",
   "metadata": {},
   "source": [
    "In summary, the train data has 3028 instances and 12 attributes while the test dataset has 758 instances and 11 attributes. \n",
    "The data types for each instance are numerical i.e. integers(int64) and floating point numbers(float64).\n",
    "There are no missing values in the datasets.\n",
    "\n",
    "\n",
    "<div class = 'alert alert-success'>\n",
    "\n",
    "Great job!\n",
    "\n",
    "</div>"
   ]
  },
  {
   "cell_type": "markdown",
   "metadata": {},
   "source": [
    "## 4. Descriptive statistics for the data\n",
    "For descriptive statistics, a summary is obtained using the `describe()` function.\n",
    "The statistics summary show the counts for each attribtute, the mean, standard deviation, the minimum value for numerical atrributes, the 25th, 50th and 75th percentile for each numeric attribute andthe maximum value.\n",
    "\n",
    "\n",
    "<div class = 'alert alert-info'>\n",
    "\n",
    "## What do we learn from this step?\n",
    "\n",
    "</div>"
   ]
  },
  {
   "cell_type": "code",
   "execution_count": 14,
   "metadata": {},
   "outputs": [
    {
     "data": {
      "text/html": [
       "<div>\n",
       "<style scoped>\n",
       "    .dataframe tbody tr th:only-of-type {\n",
       "        vertical-align: middle;\n",
       "    }\n",
       "\n",
       "    .dataframe tbody tr th {\n",
       "        vertical-align: top;\n",
       "    }\n",
       "\n",
       "    .dataframe thead th {\n",
       "        text-align: right;\n",
       "    }\n",
       "</style>\n",
       "<table border=\"1\" class=\"dataframe\">\n",
       "  <thead>\n",
       "    <tr style=\"text-align: right;\">\n",
       "      <th></th>\n",
       "      <th>FULL_Charge</th>\n",
       "      <th>FULL_AcidicMolPerc</th>\n",
       "      <th>FULL_AURR980107</th>\n",
       "      <th>FULL_DAYM780201</th>\n",
       "      <th>FULL_GEOR030101</th>\n",
       "      <th>FULL_OOBM850104</th>\n",
       "      <th>NT_EFC195</th>\n",
       "      <th>AS_MeanAmphiMoment</th>\n",
       "      <th>AS_DAYM780201</th>\n",
       "      <th>AS_FUKS010112</th>\n",
       "      <th>CT_RACS820104</th>\n",
       "      <th>CLASS</th>\n",
       "    </tr>\n",
       "  </thead>\n",
       "  <tbody>\n",
       "    <tr>\n",
       "      <th>count</th>\n",
       "      <td>3038.000000</td>\n",
       "      <td>3038.000000</td>\n",
       "      <td>3038.000000</td>\n",
       "      <td>3038.000000</td>\n",
       "      <td>3038.000000</td>\n",
       "      <td>3038.000000</td>\n",
       "      <td>3038.000000</td>\n",
       "      <td>3038.000000</td>\n",
       "      <td>3038.000000</td>\n",
       "      <td>3038.000000</td>\n",
       "      <td>3038.000000</td>\n",
       "      <td>3038.000000</td>\n",
       "    </tr>\n",
       "    <tr>\n",
       "      <th>mean</th>\n",
       "      <td>2.060237</td>\n",
       "      <td>8.521520</td>\n",
       "      <td>0.971410</td>\n",
       "      <td>73.668760</td>\n",
       "      <td>0.994007</td>\n",
       "      <td>-2.432927</td>\n",
       "      <td>0.088545</td>\n",
       "      <td>15.683233</td>\n",
       "      <td>73.650828</td>\n",
       "      <td>5.911361</td>\n",
       "      <td>1.235255</td>\n",
       "      <td>0.500000</td>\n",
       "    </tr>\n",
       "    <tr>\n",
       "      <th>std</th>\n",
       "      <td>3.819929</td>\n",
       "      <td>7.586652</td>\n",
       "      <td>0.107413</td>\n",
       "      <td>8.527489</td>\n",
       "      <td>0.031333</td>\n",
       "      <td>1.707223</td>\n",
       "      <td>0.284133</td>\n",
       "      <td>11.575665</td>\n",
       "      <td>9.166092</td>\n",
       "      <td>0.693689</td>\n",
       "      <td>0.210012</td>\n",
       "      <td>0.500082</td>\n",
       "    </tr>\n",
       "    <tr>\n",
       "      <th>min</th>\n",
       "      <td>-16.000000</td>\n",
       "      <td>0.000000</td>\n",
       "      <td>0.684000</td>\n",
       "      <td>42.750000</td>\n",
       "      <td>0.866000</td>\n",
       "      <td>-10.432000</td>\n",
       "      <td>0.000000</td>\n",
       "      <td>0.041000</td>\n",
       "      <td>42.778000</td>\n",
       "      <td>3.533000</td>\n",
       "      <td>0.785000</td>\n",
       "      <td>0.000000</td>\n",
       "    </tr>\n",
       "    <tr>\n",
       "      <th>25%</th>\n",
       "      <td>0.000000</td>\n",
       "      <td>2.516000</td>\n",
       "      <td>0.895000</td>\n",
       "      <td>68.294000</td>\n",
       "      <td>0.974000</td>\n",
       "      <td>-3.606000</td>\n",
       "      <td>0.000000</td>\n",
       "      <td>5.587500</td>\n",
       "      <td>67.556000</td>\n",
       "      <td>5.459250</td>\n",
       "      <td>1.082000</td>\n",
       "      <td>0.000000</td>\n",
       "    </tr>\n",
       "    <tr>\n",
       "      <th>50%</th>\n",
       "      <td>2.000000</td>\n",
       "      <td>7.143000</td>\n",
       "      <td>0.963000</td>\n",
       "      <td>74.059500</td>\n",
       "      <td>0.994000</td>\n",
       "      <td>-2.296500</td>\n",
       "      <td>0.000000</td>\n",
       "      <td>14.988500</td>\n",
       "      <td>73.697000</td>\n",
       "      <td>5.925500</td>\n",
       "      <td>1.184000</td>\n",
       "      <td>0.500000</td>\n",
       "    </tr>\n",
       "    <tr>\n",
       "      <th>75%</th>\n",
       "      <td>4.000000</td>\n",
       "      <td>13.158000</td>\n",
       "      <td>1.041000</td>\n",
       "      <td>79.343750</td>\n",
       "      <td>1.011000</td>\n",
       "      <td>-1.283250</td>\n",
       "      <td>0.000000</td>\n",
       "      <td>26.807750</td>\n",
       "      <td>79.778000</td>\n",
       "      <td>6.382000</td>\n",
       "      <td>1.351000</td>\n",
       "      <td>1.000000</td>\n",
       "    </tr>\n",
       "    <tr>\n",
       "      <th>max</th>\n",
       "      <td>30.000000</td>\n",
       "      <td>46.667000</td>\n",
       "      <td>1.451000</td>\n",
       "      <td>101.682000</td>\n",
       "      <td>1.196000</td>\n",
       "      <td>3.576000</td>\n",
       "      <td>1.000000</td>\n",
       "      <td>51.280000</td>\n",
       "      <td>103.167000</td>\n",
       "      <td>8.662000</td>\n",
       "      <td>2.192000</td>\n",
       "      <td>1.000000</td>\n",
       "    </tr>\n",
       "  </tbody>\n",
       "</table>\n",
       "</div>"
      ],
      "text/plain": [
       "       FULL_Charge  FULL_AcidicMolPerc  FULL_AURR980107  FULL_DAYM780201  \\\n",
       "count  3038.000000         3038.000000      3038.000000      3038.000000   \n",
       "mean      2.060237            8.521520         0.971410        73.668760   \n",
       "std       3.819929            7.586652         0.107413         8.527489   \n",
       "min     -16.000000            0.000000         0.684000        42.750000   \n",
       "25%       0.000000            2.516000         0.895000        68.294000   \n",
       "50%       2.000000            7.143000         0.963000        74.059500   \n",
       "75%       4.000000           13.158000         1.041000        79.343750   \n",
       "max      30.000000           46.667000         1.451000       101.682000   \n",
       "\n",
       "       FULL_GEOR030101  FULL_OOBM850104    NT_EFC195  AS_MeanAmphiMoment  \\\n",
       "count      3038.000000      3038.000000  3038.000000         3038.000000   \n",
       "mean          0.994007        -2.432927     0.088545           15.683233   \n",
       "std           0.031333         1.707223     0.284133           11.575665   \n",
       "min           0.866000       -10.432000     0.000000            0.041000   \n",
       "25%           0.974000        -3.606000     0.000000            5.587500   \n",
       "50%           0.994000        -2.296500     0.000000           14.988500   \n",
       "75%           1.011000        -1.283250     0.000000           26.807750   \n",
       "max           1.196000         3.576000     1.000000           51.280000   \n",
       "\n",
       "       AS_DAYM780201  AS_FUKS010112  CT_RACS820104        CLASS  \n",
       "count    3038.000000    3038.000000    3038.000000  3038.000000  \n",
       "mean       73.650828       5.911361       1.235255     0.500000  \n",
       "std         9.166092       0.693689       0.210012     0.500082  \n",
       "min        42.778000       3.533000       0.785000     0.000000  \n",
       "25%        67.556000       5.459250       1.082000     0.000000  \n",
       "50%        73.697000       5.925500       1.184000     0.500000  \n",
       "75%        79.778000       6.382000       1.351000     1.000000  \n",
       "max       103.167000       8.662000       2.192000     1.000000  "
      ]
     },
     "execution_count": 14,
     "metadata": {},
     "output_type": "execute_result"
    }
   ],
   "source": [
    "# Obtain summary statistics\n",
    "train.describe()"
   ]
  },
  {
   "cell_type": "code",
   "execution_count": 15,
   "metadata": {},
   "outputs": [
    {
     "data": {
      "text/html": [
       "<div>\n",
       "<style scoped>\n",
       "    .dataframe tbody tr th:only-of-type {\n",
       "        vertical-align: middle;\n",
       "    }\n",
       "\n",
       "    .dataframe tbody tr th {\n",
       "        vertical-align: top;\n",
       "    }\n",
       "\n",
       "    .dataframe thead th {\n",
       "        text-align: right;\n",
       "    }\n",
       "</style>\n",
       "<table border=\"1\" class=\"dataframe\">\n",
       "  <thead>\n",
       "    <tr style=\"text-align: right;\">\n",
       "      <th></th>\n",
       "      <th>FULL_Charge</th>\n",
       "      <th>FULL_AcidicMolPerc</th>\n",
       "      <th>FULL_AURR980107</th>\n",
       "      <th>FULL_DAYM780201</th>\n",
       "      <th>FULL_GEOR030101</th>\n",
       "      <th>FULL_OOBM850104</th>\n",
       "      <th>NT_EFC195</th>\n",
       "      <th>AS_MeanAmphiMoment</th>\n",
       "      <th>AS_DAYM780201</th>\n",
       "      <th>AS_FUKS010112</th>\n",
       "      <th>CT_RACS820104</th>\n",
       "    </tr>\n",
       "  </thead>\n",
       "  <tbody>\n",
       "    <tr>\n",
       "      <th>count</th>\n",
       "      <td>758.000000</td>\n",
       "      <td>758.000000</td>\n",
       "      <td>758.000000</td>\n",
       "      <td>758.000000</td>\n",
       "      <td>758.000000</td>\n",
       "      <td>758.000000</td>\n",
       "      <td>758.000000</td>\n",
       "      <td>758.000000</td>\n",
       "      <td>758.000000</td>\n",
       "      <td>758.000000</td>\n",
       "      <td>758.000000</td>\n",
       "    </tr>\n",
       "    <tr>\n",
       "      <th>mean</th>\n",
       "      <td>2.073879</td>\n",
       "      <td>8.945091</td>\n",
       "      <td>0.973046</td>\n",
       "      <td>73.821891</td>\n",
       "      <td>0.994212</td>\n",
       "      <td>-2.397922</td>\n",
       "      <td>0.084433</td>\n",
       "      <td>15.570067</td>\n",
       "      <td>73.844204</td>\n",
       "      <td>5.904492</td>\n",
       "      <td>1.250189</td>\n",
       "    </tr>\n",
       "    <tr>\n",
       "      <th>std</th>\n",
       "      <td>4.230615</td>\n",
       "      <td>7.814449</td>\n",
       "      <td>0.110676</td>\n",
       "      <td>8.029524</td>\n",
       "      <td>0.032370</td>\n",
       "      <td>1.597138</td>\n",
       "      <td>0.278219</td>\n",
       "      <td>11.362589</td>\n",
       "      <td>8.915193</td>\n",
       "      <td>0.656911</td>\n",
       "      <td>0.218102</td>\n",
       "    </tr>\n",
       "    <tr>\n",
       "      <th>min</th>\n",
       "      <td>-13.000000</td>\n",
       "      <td>0.000000</td>\n",
       "      <td>0.699000</td>\n",
       "      <td>47.000000</td>\n",
       "      <td>0.889000</td>\n",
       "      <td>-7.844000</td>\n",
       "      <td>0.000000</td>\n",
       "      <td>0.060000</td>\n",
       "      <td>47.000000</td>\n",
       "      <td>3.843000</td>\n",
       "      <td>0.841000</td>\n",
       "    </tr>\n",
       "    <tr>\n",
       "      <th>25%</th>\n",
       "      <td>-0.500000</td>\n",
       "      <td>2.721750</td>\n",
       "      <td>0.894000</td>\n",
       "      <td>68.740250</td>\n",
       "      <td>0.973000</td>\n",
       "      <td>-3.457250</td>\n",
       "      <td>0.000000</td>\n",
       "      <td>5.709000</td>\n",
       "      <td>68.346000</td>\n",
       "      <td>5.471250</td>\n",
       "      <td>1.096000</td>\n",
       "    </tr>\n",
       "    <tr>\n",
       "      <th>50%</th>\n",
       "      <td>2.000000</td>\n",
       "      <td>7.500000</td>\n",
       "      <td>0.965000</td>\n",
       "      <td>74.069500</td>\n",
       "      <td>0.994000</td>\n",
       "      <td>-2.238000</td>\n",
       "      <td>0.000000</td>\n",
       "      <td>15.057000</td>\n",
       "      <td>73.646000</td>\n",
       "      <td>5.935500</td>\n",
       "      <td>1.188000</td>\n",
       "    </tr>\n",
       "    <tr>\n",
       "      <th>75%</th>\n",
       "      <td>4.000000</td>\n",
       "      <td>14.230250</td>\n",
       "      <td>1.053500</td>\n",
       "      <td>79.284750</td>\n",
       "      <td>1.013000</td>\n",
       "      <td>-1.306250</td>\n",
       "      <td>0.000000</td>\n",
       "      <td>25.290250</td>\n",
       "      <td>80.069250</td>\n",
       "      <td>6.375250</td>\n",
       "      <td>1.378500</td>\n",
       "    </tr>\n",
       "    <tr>\n",
       "      <th>max</th>\n",
       "      <td>30.000000</td>\n",
       "      <td>44.118000</td>\n",
       "      <td>1.431000</td>\n",
       "      <td>102.929000</td>\n",
       "      <td>1.182000</td>\n",
       "      <td>2.017000</td>\n",
       "      <td>1.000000</td>\n",
       "      <td>50.098000</td>\n",
       "      <td>102.929000</td>\n",
       "      <td>7.588000</td>\n",
       "      <td>2.283000</td>\n",
       "    </tr>\n",
       "  </tbody>\n",
       "</table>\n",
       "</div>"
      ],
      "text/plain": [
       "       FULL_Charge  FULL_AcidicMolPerc  FULL_AURR980107  FULL_DAYM780201  \\\n",
       "count   758.000000          758.000000       758.000000       758.000000   \n",
       "mean      2.073879            8.945091         0.973046        73.821891   \n",
       "std       4.230615            7.814449         0.110676         8.029524   \n",
       "min     -13.000000            0.000000         0.699000        47.000000   \n",
       "25%      -0.500000            2.721750         0.894000        68.740250   \n",
       "50%       2.000000            7.500000         0.965000        74.069500   \n",
       "75%       4.000000           14.230250         1.053500        79.284750   \n",
       "max      30.000000           44.118000         1.431000       102.929000   \n",
       "\n",
       "       FULL_GEOR030101  FULL_OOBM850104   NT_EFC195  AS_MeanAmphiMoment  \\\n",
       "count       758.000000       758.000000  758.000000          758.000000   \n",
       "mean          0.994212        -2.397922    0.084433           15.570067   \n",
       "std           0.032370         1.597138    0.278219           11.362589   \n",
       "min           0.889000        -7.844000    0.000000            0.060000   \n",
       "25%           0.973000        -3.457250    0.000000            5.709000   \n",
       "50%           0.994000        -2.238000    0.000000           15.057000   \n",
       "75%           1.013000        -1.306250    0.000000           25.290250   \n",
       "max           1.182000         2.017000    1.000000           50.098000   \n",
       "\n",
       "       AS_DAYM780201  AS_FUKS010112  CT_RACS820104  \n",
       "count     758.000000     758.000000     758.000000  \n",
       "mean       73.844204       5.904492       1.250189  \n",
       "std         8.915193       0.656911       0.218102  \n",
       "min        47.000000       3.843000       0.841000  \n",
       "25%        68.346000       5.471250       1.096000  \n",
       "50%        73.646000       5.935500       1.188000  \n",
       "75%        80.069250       6.375250       1.378500  \n",
       "max       102.929000       7.588000       2.283000  "
      ]
     },
     "execution_count": 15,
     "metadata": {},
     "output_type": "execute_result"
    }
   ],
   "source": [
    "test.describe()"
   ]
  },
  {
   "cell_type": "markdown",
   "metadata": {},
   "source": [
    "## 5. Class distribution of the data\n",
    "The data being used has a `CLASS` attribute.\n",
    "We therefore have to determine the number of clases, their labels/values and distribution of observations within these classes."
   ]
  },
  {
   "cell_type": "code",
   "execution_count": 16,
   "metadata": {},
   "outputs": [
    {
     "data": {
      "text/plain": [
       "2"
      ]
     },
     "execution_count": 16,
     "metadata": {},
     "output_type": "execute_result"
    }
   ],
   "source": [
    "# Checking for the number of classes in the data\n",
    "train['CLASS'].nunique()"
   ]
  },
  {
   "cell_type": "code",
   "execution_count": 17,
   "metadata": {},
   "outputs": [
    {
     "data": {
      "text/plain": [
       "array([1, 0])"
      ]
     },
     "execution_count": 17,
     "metadata": {},
     "output_type": "execute_result"
    }
   ],
   "source": [
    "# Checking for the class values\n",
    "train['CLASS'].unique()"
   ]
  },
  {
   "cell_type": "code",
   "execution_count": 18,
   "metadata": {},
   "outputs": [
    {
     "name": "stdout",
     "output_type": "stream",
     "text": [
      "There are 1519 instances in class 1 and 1519 instances in class 0.\n"
     ]
    },
    {
     "data": {
      "text/plain": [
       "<matplotlib.axes._subplots.AxesSubplot at 0x1a12045c50>"
      ]
     },
     "execution_count": 18,
     "metadata": {},
     "output_type": "execute_result"
    },
    {
     "data": {
      "image/png": "[encoded data removed]",
      "text/plain": [
       "<Figure size 432x288 with 1 Axes>"
      ]
     },
     "metadata": {
      "needs_background": "light"
     },
     "output_type": "display_data"
    }
   ],
   "source": [
    "# There are two classes i.e 1 and 0.\n",
    "# checking for number of instances in each class \n",
    "class1 = train.groupby('CLASS').size()[0].sum()\n",
    "class0 = train.groupby('CLASS').size()[1].sum()\n",
    "print(\"There are %s instances in class 1 and %s instances in class 0.\" % (class1, class0))\n",
    "# Visualizing the distribution of the data in the different classes\n",
    "train.groupby('CLASS').size().plot(kind='bar', color=('skyblue', 'pink'))"
   ]
  },
  {
   "cell_type": "markdown",
   "metadata": {},
   "source": [
    "The Classes 1 and 0 have equal instances and as such our observations are balanced.  \n",
    "Due to this uniform distribution, chances of algorithm bias are reduced.\n",
    "\n",
    "<div class = 'alert alert-success'>\n",
    "\n",
    "Great job!\n",
    "\n",
    "</div>"
   ]
  },
  {
   "cell_type": "markdown",
   "metadata": {},
   "source": [
    "## 6. Checking for correlation between the different attributes\n",
    "Correlation helps us determine how the different attributes relate with each other. It also helps us when deciding which attributes to select especially in the presence of highly correlated attributes in which case one of the two attributes would be sufficient.\n",
    "\n",
    "The `corr` function is used with Pearson's correlation method since most of the attributes are continous with the exception of `NT_EFC195` and `CLASS`.\n",
    "\n",
    "<div class = 'alert alert-success'>\n",
    "\n",
    "Great job! Good use of markdown.\n",
    "\n",
    "</div>\n",
    " "
   ]
  },
  {
   "cell_type": "code",
   "execution_count": 19,
   "metadata": {},
   "outputs": [
    {
     "data": {
      "text/html": [
       "<div>\n",
       "<style scoped>\n",
       "    .dataframe tbody tr th:only-of-type {\n",
       "        vertical-align: middle;\n",
       "    }\n",
       "\n",
       "    .dataframe tbody tr th {\n",
       "        vertical-align: top;\n",
       "    }\n",
       "\n",
       "    .dataframe thead th {\n",
       "        text-align: right;\n",
       "    }\n",
       "</style>\n",
       "<table border=\"1\" class=\"dataframe\">\n",
       "  <thead>\n",
       "    <tr style=\"text-align: right;\">\n",
       "      <th></th>\n",
       "      <th>FULL_Charge</th>\n",
       "      <th>FULL_AcidicMolPerc</th>\n",
       "      <th>FULL_AURR980107</th>\n",
       "      <th>FULL_DAYM780201</th>\n",
       "      <th>FULL_GEOR030101</th>\n",
       "      <th>FULL_OOBM850104</th>\n",
       "      <th>NT_EFC195</th>\n",
       "      <th>AS_MeanAmphiMoment</th>\n",
       "      <th>AS_DAYM780201</th>\n",
       "      <th>AS_FUKS010112</th>\n",
       "      <th>CT_RACS820104</th>\n",
       "      <th>CLASS</th>\n",
       "    </tr>\n",
       "  </thead>\n",
       "  <tbody>\n",
       "    <tr>\n",
       "      <th>FULL_Charge</th>\n",
       "      <td>1.000000</td>\n",
       "      <td>-0.612996</td>\n",
       "      <td>-0.490977</td>\n",
       "      <td>-0.434603</td>\n",
       "      <td>-0.058725</td>\n",
       "      <td>-0.283758</td>\n",
       "      <td>0.088068</td>\n",
       "      <td>0.355477</td>\n",
       "      <td>-0.365374</td>\n",
       "      <td>-0.090570</td>\n",
       "      <td>0.232929</td>\n",
       "      <td>0.534602</td>\n",
       "    </tr>\n",
       "    <tr>\n",
       "      <th>FULL_AcidicMolPerc</th>\n",
       "      <td>-0.612996</td>\n",
       "      <td>1.000000</td>\n",
       "      <td>0.794796</td>\n",
       "      <td>0.541481</td>\n",
       "      <td>0.115201</td>\n",
       "      <td>0.513344</td>\n",
       "      <td>-0.143168</td>\n",
       "      <td>-0.431590</td>\n",
       "      <td>0.449621</td>\n",
       "      <td>0.002334</td>\n",
       "      <td>-0.213543</td>\n",
       "      <td>-0.598816</td>\n",
       "    </tr>\n",
       "    <tr>\n",
       "      <th>FULL_AURR980107</th>\n",
       "      <td>-0.490977</td>\n",
       "      <td>0.794796</td>\n",
       "      <td>1.000000</td>\n",
       "      <td>0.548253</td>\n",
       "      <td>0.346139</td>\n",
       "      <td>0.462712</td>\n",
       "      <td>-0.169540</td>\n",
       "      <td>-0.426097</td>\n",
       "      <td>0.456260</td>\n",
       "      <td>0.032958</td>\n",
       "      <td>-0.403599</td>\n",
       "      <td>-0.584111</td>\n",
       "    </tr>\n",
       "    <tr>\n",
       "      <th>FULL_DAYM780201</th>\n",
       "      <td>-0.434603</td>\n",
       "      <td>0.541481</td>\n",
       "      <td>0.548253</td>\n",
       "      <td>1.000000</td>\n",
       "      <td>0.010118</td>\n",
       "      <td>0.334778</td>\n",
       "      <td>-0.090058</td>\n",
       "      <td>-0.408793</td>\n",
       "      <td>0.894191</td>\n",
       "      <td>0.055915</td>\n",
       "      <td>-0.326792</td>\n",
       "      <td>-0.554838</td>\n",
       "    </tr>\n",
       "    <tr>\n",
       "      <th>FULL_GEOR030101</th>\n",
       "      <td>-0.058725</td>\n",
       "      <td>0.115201</td>\n",
       "      <td>0.346139</td>\n",
       "      <td>0.010118</td>\n",
       "      <td>1.000000</td>\n",
       "      <td>0.319157</td>\n",
       "      <td>-0.230417</td>\n",
       "      <td>-0.160269</td>\n",
       "      <td>-0.029085</td>\n",
       "      <td>0.040480</td>\n",
       "      <td>-0.151935</td>\n",
       "      <td>-0.260470</td>\n",
       "    </tr>\n",
       "    <tr>\n",
       "      <th>FULL_OOBM850104</th>\n",
       "      <td>-0.283758</td>\n",
       "      <td>0.513344</td>\n",
       "      <td>0.462712</td>\n",
       "      <td>0.334778</td>\n",
       "      <td>0.319157</td>\n",
       "      <td>1.000000</td>\n",
       "      <td>-0.230561</td>\n",
       "      <td>-0.336297</td>\n",
       "      <td>0.275640</td>\n",
       "      <td>-0.452769</td>\n",
       "      <td>0.155304</td>\n",
       "      <td>-0.453287</td>\n",
       "    </tr>\n",
       "    <tr>\n",
       "      <th>NT_EFC195</th>\n",
       "      <td>0.088068</td>\n",
       "      <td>-0.143168</td>\n",
       "      <td>-0.169540</td>\n",
       "      <td>-0.090058</td>\n",
       "      <td>-0.230417</td>\n",
       "      <td>-0.230561</td>\n",
       "      <td>1.000000</td>\n",
       "      <td>0.178683</td>\n",
       "      <td>-0.036844</td>\n",
       "      <td>0.145924</td>\n",
       "      <td>0.080898</td>\n",
       "      <td>0.260702</td>\n",
       "    </tr>\n",
       "    <tr>\n",
       "      <th>AS_MeanAmphiMoment</th>\n",
       "      <td>0.355477</td>\n",
       "      <td>-0.431590</td>\n",
       "      <td>-0.426097</td>\n",
       "      <td>-0.408793</td>\n",
       "      <td>-0.160269</td>\n",
       "      <td>-0.336297</td>\n",
       "      <td>0.178683</td>\n",
       "      <td>1.000000</td>\n",
       "      <td>-0.322378</td>\n",
       "      <td>0.025580</td>\n",
       "      <td>0.171524</td>\n",
       "      <td>0.693552</td>\n",
       "    </tr>\n",
       "    <tr>\n",
       "      <th>AS_DAYM780201</th>\n",
       "      <td>-0.365374</td>\n",
       "      <td>0.449621</td>\n",
       "      <td>0.456260</td>\n",
       "      <td>0.894191</td>\n",
       "      <td>-0.029085</td>\n",
       "      <td>0.275640</td>\n",
       "      <td>-0.036844</td>\n",
       "      <td>-0.322378</td>\n",
       "      <td>1.000000</td>\n",
       "      <td>0.045562</td>\n",
       "      <td>-0.256060</td>\n",
       "      <td>-0.437168</td>\n",
       "    </tr>\n",
       "    <tr>\n",
       "      <th>AS_FUKS010112</th>\n",
       "      <td>-0.090570</td>\n",
       "      <td>0.002334</td>\n",
       "      <td>0.032958</td>\n",
       "      <td>0.055915</td>\n",
       "      <td>0.040480</td>\n",
       "      <td>-0.452769</td>\n",
       "      <td>0.145924</td>\n",
       "      <td>0.025580</td>\n",
       "      <td>0.045562</td>\n",
       "      <td>1.000000</td>\n",
       "      <td>-0.445284</td>\n",
       "      <td>0.033432</td>\n",
       "    </tr>\n",
       "    <tr>\n",
       "      <th>CT_RACS820104</th>\n",
       "      <td>0.232929</td>\n",
       "      <td>-0.213543</td>\n",
       "      <td>-0.403599</td>\n",
       "      <td>-0.326792</td>\n",
       "      <td>-0.151935</td>\n",
       "      <td>0.155304</td>\n",
       "      <td>0.080898</td>\n",
       "      <td>0.171524</td>\n",
       "      <td>-0.256060</td>\n",
       "      <td>-0.445284</td>\n",
       "      <td>1.000000</td>\n",
       "      <td>0.267652</td>\n",
       "    </tr>\n",
       "    <tr>\n",
       "      <th>CLASS</th>\n",
       "      <td>0.534602</td>\n",
       "      <td>-0.598816</td>\n",
       "      <td>-0.584111</td>\n",
       "      <td>-0.554838</td>\n",
       "      <td>-0.260470</td>\n",
       "      <td>-0.453287</td>\n",
       "      <td>0.260702</td>\n",
       "      <td>0.693552</td>\n",
       "      <td>-0.437168</td>\n",
       "      <td>0.033432</td>\n",
       "      <td>0.267652</td>\n",
       "      <td>1.000000</td>\n",
       "    </tr>\n",
       "  </tbody>\n",
       "</table>\n",
       "</div>"
      ],
      "text/plain": [
       "                    FULL_Charge  FULL_AcidicMolPerc  FULL_AURR980107  \\\n",
       "FULL_Charge            1.000000           -0.612996        -0.490977   \n",
       "FULL_AcidicMolPerc    -0.612996            1.000000         0.794796   \n",
       "FULL_AURR980107       -0.490977            0.794796         1.000000   \n",
       "FULL_DAYM780201       -0.434603            0.541481         0.548253   \n",
       "FULL_GEOR030101       -0.058725            0.115201         0.346139   \n",
       "FULL_OOBM850104       -0.283758            0.513344         0.462712   \n",
       "NT_EFC195              0.088068           -0.143168        -0.169540   \n",
       "AS_MeanAmphiMoment     0.355477           -0.431590        -0.426097   \n",
       "AS_DAYM780201         -0.365374            0.449621         0.456260   \n",
       "AS_FUKS010112         -0.090570            0.002334         0.032958   \n",
       "CT_RACS820104          0.232929           -0.213543        -0.403599   \n",
       "CLASS                  0.534602           -0.598816        -0.584111   \n",
       "\n",
       "                    FULL_DAYM780201  FULL_GEOR030101  FULL_OOBM850104  \\\n",
       "FULL_Charge               -0.434603        -0.058725        -0.283758   \n",
       "FULL_AcidicMolPerc         0.541481         0.115201         0.513344   \n",
       "FULL_AURR980107            0.548253         0.346139         0.462712   \n",
       "FULL_DAYM780201            1.000000         0.010118         0.334778   \n",
       "FULL_GEOR030101            0.010118         1.000000         0.319157   \n",
       "FULL_OOBM850104            0.334778         0.319157         1.000000   \n",
       "NT_EFC195                 -0.090058        -0.230417        -0.230561   \n",
       "AS_MeanAmphiMoment        -0.408793        -0.160269        -0.336297   \n",
       "AS_DAYM780201              0.894191        -0.029085         0.275640   \n",
       "AS_FUKS010112              0.055915         0.040480        -0.452769   \n",
       "CT_RACS820104             -0.326792        -0.151935         0.155304   \n",
       "CLASS                     -0.554838        -0.260470        -0.453287   \n",
       "\n",
       "                    NT_EFC195  AS_MeanAmphiMoment  AS_DAYM780201  \\\n",
       "FULL_Charge          0.088068            0.355477      -0.365374   \n",
       "FULL_AcidicMolPerc  -0.143168           -0.431590       0.449621   \n",
       "FULL_AURR980107     -0.169540           -0.426097       0.456260   \n",
       "FULL_DAYM780201     -0.090058           -0.408793       0.894191   \n",
       "FULL_GEOR030101     -0.230417           -0.160269      -0.029085   \n",
       "FULL_OOBM850104     -0.230561           -0.336297       0.275640   \n",
       "NT_EFC195            1.000000            0.178683      -0.036844   \n",
       "AS_MeanAmphiMoment   0.178683            1.000000      -0.322378   \n",
       "AS_DAYM780201       -0.036844           -0.322378       1.000000   \n",
       "AS_FUKS010112        0.145924            0.025580       0.045562   \n",
       "CT_RACS820104        0.080898            0.171524      -0.256060   \n",
       "CLASS                0.260702            0.693552      -0.437168   \n",
       "\n",
       "                    AS_FUKS010112  CT_RACS820104     CLASS  \n",
       "FULL_Charge             -0.090570       0.232929  0.534602  \n",
       "FULL_AcidicMolPerc       0.002334      -0.213543 -0.598816  \n",
       "FULL_AURR980107          0.032958      -0.403599 -0.584111  \n",
       "FULL_DAYM780201          0.055915      -0.326792 -0.554838  \n",
       "FULL_GEOR030101          0.040480      -0.151935 -0.260470  \n",
       "FULL_OOBM850104         -0.452769       0.155304 -0.453287  \n",
       "NT_EFC195                0.145924       0.080898  0.260702  \n",
       "AS_MeanAmphiMoment       0.025580       0.171524  0.693552  \n",
       "AS_DAYM780201            0.045562      -0.256060 -0.437168  \n",
       "AS_FUKS010112            1.000000      -0.445284  0.033432  \n",
       "CT_RACS820104           -0.445284       1.000000  0.267652  \n",
       "CLASS                    0.033432       0.267652  1.000000  "
      ]
     },
     "execution_count": 19,
     "metadata": {},
     "output_type": "execute_result"
    }
   ],
   "source": [
    "# Obtaining correlation coefficient values for the different attribute pairs\n",
    "train.corr(method='pearson')"
   ]
  },
  {
   "cell_type": "code",
   "execution_count": 20,
   "metadata": {},
   "outputs": [
    {
     "data": {
      "text/plain": [
       "<matplotlib.axes._subplots.AxesSubplot at 0x1a11dfb490>"
      ]
     },
     "execution_count": 20,
     "metadata": {},
     "output_type": "execute_result"
    },
    {
     "data": {
      "image/png": "[encoded data removed]",
      "text/plain": [
       "<Figure size 432x432 with 2 Axes>"
      ]
     },
     "metadata": {
      "needs_background": "light"
     },
     "output_type": "display_data"
    }
   ],
   "source": [
    "## Visualizing the correlation of attribute pairs using a heatmap\n",
    "plt.figure(figsize=(6,6))\n",
    "sns.heatmap(train.corr(method='pearson'),cmap='coolwarm')"
   ]
  },
  {
   "cell_type": "code",
   "execution_count": 21,
   "metadata": {},
   "outputs": [
    {
     "data": {
      "text/plain": [
       "FULL_Charge           0.534602\n",
       "FULL_AcidicMolPerc   -0.598816\n",
       "FULL_AURR980107      -0.584111\n",
       "FULL_DAYM780201      -0.554838\n",
       "FULL_GEOR030101      -0.260470\n",
       "FULL_OOBM850104      -0.453287\n",
       "NT_EFC195             0.260702\n",
       "AS_MeanAmphiMoment    0.693552\n",
       "AS_DAYM780201        -0.437168\n",
       "AS_FUKS010112         0.033432\n",
       "CT_RACS820104         0.267652\n",
       "CLASS                 1.000000\n",
       "Name: CLASS, dtype: float64"
      ]
     },
     "execution_count": 21,
     "metadata": {},
     "output_type": "execute_result"
    }
   ],
   "source": [
    "# correlation of the different attributes with the CLASS attribute\n",
    "train.corr(method='pearson')['CLASS']"
   ]
  },
  {
   "cell_type": "code",
   "execution_count": 22,
   "metadata": {},
   "outputs": [
    {
     "data": {
      "text/plain": [
       "<matplotlib.axes._subplots.AxesSubplot at 0x1a121f4e90>"
      ]
     },
     "execution_count": 22,
     "metadata": {},
     "output_type": "execute_result"
    },
    {
     "data": {
      "image/png": "[encoded data removed]",
      "text/plain": [
       "<Figure size 432x288 with 1 Axes>"
      ]
     },
     "metadata": {
      "needs_background": "light"
     },
     "output_type": "display_data"
    }
   ],
   "source": [
    "# Visualizing correlation of the different attributes with the CLASS attribute\n",
    "train.corr(method='pearson')['CLASS'].plot(kind='bar', color=('skyblue'))"
   ]
  },
  {
   "cell_type": "markdown",
   "metadata": {},
   "source": [
    "From the graph above, it can be observed that most attributes are negatively correlated with the `CLASS` attribute.\n",
    "\n",
    "<div class = 'alert alert-success'>\n",
    "\n",
    "Great job!\n",
    "\n",
    "What do we learn from this step? If they are negatively correlated, what does it tell us?\n",
    "\n",
    "</div>"
   ]
  },
  {
   "cell_type": "markdown",
   "metadata": {},
   "source": [
    "## 7. Cheking for skewdness of the data\n",
    "A skew is a deviation from the normal/Gausian ditribution such that the bell shaped curve is shifted to the right or the left.\n",
    "* Positively skewed: If the tail is on the right.\n",
    "* Negatively skewed: If the tail is on the left.\n",
    "\n",
    "To check for skewdness of the data, the `skew()` function is used."
   ]
  },
  {
   "cell_type": "code",
   "execution_count": 23,
   "metadata": {},
   "outputs": [
    {
     "data": {
      "text/plain": [
       "<matplotlib.axes._subplots.AxesSubplot at 0x7f2813d207f0>"
      ]
     },
     "execution_count": 23,
     "metadata": {},
     "output_type": "execute_result"
    },
    {
     "data": {
      "image/png": "[encoded data removed]",
      "text/plain": [
       "<Figure size 432x288 with 1 Axes>"
      ]
     },
     "metadata": {
      "needs_background": "light"
     },
     "output_type": "display_data"
    }
   ],
   "source": [
    "# Checking if the data is normally distributed\n",
    "train.skew().plot(kind='bar', color='orange')"
   ]
  },
  {
   "cell_type": "markdown",
   "metadata": {},
   "source": [
    "From the plot it can be observed that most of the attributes are positively skewed with the exception of attributes 4,6,9 and 10.\n",
    "\n",
    "<div class = 'alert alert-success'>\n",
    "\n",
    "Great job!\n",
    "\n",
    "How does this inform us in the context of ML\n",
    "\n",
    "</div>"
   ]
  },
  {
   "cell_type": "markdown",
   "metadata": {},
   "source": [
    "## 8. Understanding Data with Visualization\n",
    "In order to better understand the data, different visualizations can be used.\n",
    "This can be done using;\n",
    "\n",
    "#### a) Univariate plots\n",
    "These are plots for singular variables per plot.\n",
    "* Histograms\n",
    "* Density plots\n",
    "* Box plots\n",
    "\n",
    "#### b) Multivariate plots\n",
    "These represent more than one variable per plot.\n",
    "* Correlation Matrix Plot\n",
    "* Scatter Plot Matrix"
   ]
  },
  {
   "cell_type": "markdown",
   "metadata": {},
   "source": [
    "### a) Univariate plots\n",
    "\n"
   ]
  },
  {
   "cell_type": "code",
   "execution_count": 27,
   "metadata": {},
   "outputs": [
    {
     "data": {
      "text/plain": [
       "<Figure size 1080x1080 with 0 Axes>"
      ]
     },
     "metadata": {},
     "output_type": "display_data"
    },
    {
     "data": {
      "image/png": "[encoded data removed]",
      "text/plain": [
       "<Figure size 432x288 with 12 Axes>"
      ]
     },
     "metadata": {
      "needs_background": "light"
     },
     "output_type": "display_data"
    }
   ],
   "source": [
    "# Histograms\n",
    "plt.figure(figsize=(15,15))\n",
    "train.hist(color='orange')\n",
    "\n",
    "plt.subplots_adjust(bottom=1, right=2, top=3)\n",
    "\n",
    "plt.show()"
   ]
  },
  {
   "cell_type": "markdown",
   "metadata": {},
   "source": [
    "From the above plot, the distribution of the attributes can be observed.\n",
    "Noteworthy is the `CLASS` attribute which is categorical and uniformly distributed and the `NT_EFC195`attribute which also appears categorical but not uniformly distributed."
   ]
  },
  {
   "cell_type": "code",
   "execution_count": 24,
   "metadata": {},
   "outputs": [
    {
     "name": "stdout",
     "output_type": "stream",
     "text": [
      "The NT_EFC195 attribute has 2 values: 0 and 1.\n",
      "There are 2769 instances with 0's and 269 instances with 1's in the NT_EFC195 attribute.\n"
     ]
    },
    {
     "data": {
      "text/plain": [
       "<matplotlib.axes._subplots.AxesSubplot at 0x1a1d8d6ed0>"
      ]
     },
     "execution_count": 24,
     "metadata": {},
     "output_type": "execute_result"
    },
    {
     "data": {
      "image/png": "[encoded data removed]",
      "text/plain": [
       "<Figure size 432x288 with 1 Axes>"
      ]
     },
     "metadata": {
      "needs_background": "light"
     },
     "output_type": "display_data"
    }
   ],
   "source": [
    "# Zooming in on the NT_EFC195 attribute \n",
    "cont = train['NT_EFC195'].unique()\n",
    "print('The NT_EFC195 attribute has 2 values: %s and %s.' % (cont[0],cont[1]))\n",
    "gp0 = train.groupby('NT_EFC195').size()[0].sum()\n",
    "gp1 = train.groupby('NT_EFC195').size()[1].sum()\n",
    "print(\"There are %s instances with 0's and %s instances with 1's in the NT_EFC195 attribute.\" % (gp0, gp1))\n",
    "# Visualizing the distribution of the instances in the NT_EFC195 attribute \n",
    "train.groupby('NT_EFC195').size().plot(kind='bar', color=('orange'))"
   ]
  },
  {
   "cell_type": "markdown",
   "metadata": {},
   "source": [
    "From the above plot indicates that the variable NT_EFC195 is not uniformly distributed between the classes."
   ]
  },
  {
   "cell_type": "code",
   "execution_count": 25,
   "metadata": {},
   "outputs": [
    {
     "data": {
      "text/plain": [
       "<function matplotlib.pyplot.show(*args, **kw)>"
      ]
     },
     "execution_count": 25,
     "metadata": {},
     "output_type": "execute_result"
    },
    {
     "data": {
      "image/png": "[encoded data removed]",
      "text/plain": [
       "<Figure size 432x288 with 12 Axes>"
      ]
     },
     "metadata": {
      "needs_background": "light"
     },
     "output_type": "display_data"
    }
   ],
   "source": [
    "# Density plots\n",
    "train.plot(kind='density', subplots=True, layout=(4,3), sharex=False)\n",
    "plt.subplots_adjust(bottom=1, right=2, top=3)\n",
    "plt.show"
   ]
  },
  {
   "cell_type": "markdown",
   "metadata": {},
   "source": [
    "The density plots convey the same information as the histograms. "
   ]
  },
  {
   "cell_type": "markdown",
   "metadata": {},
   "source": [
    "<div class = 'alert alert-info'>\n",
    "\n",
    "What do we learn from the box plots?\n",
    "\n",
    "</div>"
   ]
  },
  {
   "cell_type": "code",
   "execution_count": 27,
   "metadata": {},
   "outputs": [
    {
     "data": {
      "image/png": "[encoded data removed]",
      "text/plain": [
       "<Figure size 432x288 with 12 Axes>"
      ]
     },
     "metadata": {
      "needs_background": "light"
     },
     "output_type": "display_data"
    }
   ],
   "source": [
    "# Box plots\n",
    "train.plot(kind='box', subplots=True, layout=(4,3), sharex=False,sharey=False)\n",
    "plt.subplots_adjust(bottom=1, right=2, top=3)\n",
    "\n",
    "plt.show()"
   ]
  },
  {
   "cell_type": "markdown",
   "metadata": {},
   "source": [
    "#### b) Multivariate plots\n",
    "\n",
    "<div class = 'alert alert-info'>\n",
    "\n",
    "Why do you choose these variables, any interest in them specifically.\n",
    "\n",
    "</div>"
   ]
  },
  {
   "cell_type": "code",
   "execution_count": 26,
   "metadata": {},
   "outputs": [
    {
     "data": {
      "text/plain": [
       "<seaborn.axisgrid.PairGrid at 0x1a21e8d9d0>"
      ]
     },
     "execution_count": 26,
     "metadata": {},
     "output_type": "execute_result"
    },
    {
     "data": {
      "image/png": "[encoded data removed]",
      "text/plain": [
       "<Figure size 402.375x360 with 6 Axes>"
      ]
     },
     "metadata": {
      "needs_background": "light"
     },
     "output_type": "display_data"
    }
   ],
   "source": [
    "# Visualizing using scatter plot matrix\n",
    "sns.pairplot(train, hue='CLASS',vars=['FULL_Charge','FULL_AcidicMolPerc'])"
   ]
  },
  {
   "cell_type": "markdown",
   "metadata": {},
   "source": [
    "# 9. Preparing Data for Machine Learning\n",
    "## Rescaling data\n",
    "Since the data has attributes with varying scales,rescalling is done so the attributes have the same scale.\n",
    "From `numpy`, the `set_printoptions` module is imported to determine the display of number of floating point values other Nump objects and from `scikit learn preprocessing` module, the `MinMaxScaler` option is imported to rescale the data. \n",
    "\n",
    "<div class = 'alert alert-success'>\n",
    "\n",
    "Good explanation\n",
    "\n",
    "</div>\n"
   ]
  },
  {
   "cell_type": "code",
   "execution_count": 28,
   "metadata": {},
   "outputs": [
    {
     "name": "stdout",
     "output_type": "stream",
     "text": [
      "[[0.457 0.    0.348 0.545 0.33  0.483 0.    0.005 0.508 0.415 0.182]\n",
      " [0.435 0.116 0.322 0.489 0.276 0.458 1.    0.011 0.421 0.586 0.475]\n",
      " [0.467 0.116 0.246 0.523 0.288 0.565 0.    0.011 0.442 0.273 0.666]\n",
      " [0.457 0.089 0.275 0.399 0.403 0.647 0.    0.011 0.405 0.153 0.424]\n",
      " [0.511 0.183 0.323 0.373 0.342 0.595 0.    0.011 0.5   0.196 0.536]]\n"
     ]
    }
   ],
   "source": [
    "from numpy import set_printoptions\n",
    "from sklearn.preprocessing import MinMaxScaler\n",
    "\n",
    "array = train.values\n",
    "# seperate array into input, X and output, Y components\n",
    "X = array[:,0:11]\n",
    "Y = array[:,11]\n",
    "scaler = MinMaxScaler(feature_range=(0,1))\n",
    "# set range of the scale to between 0 and 1.\n",
    "rescaledX = scaler.fit_transform(X)\n",
    "# summarize transformed data\n",
    "set_printoptions(precision=3)\n",
    "print(rescaledX[0:5,:])"
   ]
  },
  {
   "cell_type": "markdown",
   "metadata": {},
   "source": [
    "In the end, no rescaling of data was done since predictions with rescaled data had a poor result."
   ]
  },
  {
   "cell_type": "markdown",
   "metadata": {},
   "source": [
    "## 10. Feature selection\n",
    "Performance of machine learning algorithms is dependent on selected features. Highly informative features improve model performance while irrelevant, partially irrelevant and redundant features negatively impact model performance.\n",
    "\n",
    "Feature selection reduces overfitting,improves accuracy and reduces training time. \n",
    "\n",
    "Feature selection can be done using:\n",
    "* Univariate Selection\n",
    "* Recursive Feature Elimination\n",
    "* Principle Component Analysis\n",
    "* Feature Importance\n",
    "\n",
    "For this assignment, `Recursive Feature Elimination (RFE)` is used.\n",
    "`RFE` works by recursively removing attributes and building a model on those that remain. It uses the model accuracy to indentify the attributes, and their combinations, that contribute the most to predicting the target attribute."
   ]
  },
  {
   "cell_type": "code",
   "execution_count": 33,
   "metadata": {},
   "outputs": [
    {
     "name": "stdout",
     "output_type": "stream",
     "text": [
      "Num Features:  8\n",
      "Selected Feature:  [ True False  True False  True  True  True  True False  True  True]\n",
      "Feature Ranking:  [1 3 1 2 1 1 1 1 4 1 1]\n"
     ]
    }
   ],
   "source": [
    "from sklearn.feature_selection import RFE\n",
    "from sklearn.linear_model import LogisticRegression\n",
    "\n",
    "## Import the warnings module\n",
    "import warnings\n",
    "warnings.filterwarnings('ignore')\n",
    "\n",
    "model = LogisticRegression()\n",
    "rfe = RFE(model,8)\n",
    "fit = rfe.fit(X,Y)\n",
    "print(\"Num Features: \", fit.n_features_)\n",
    "print(\"Selected Feature: \", fit.support_)\n",
    "print(\"Feature Ranking: \", fit.ranking_)"
   ]
  },
  {
   "cell_type": "code",
   "execution_count": 30,
   "metadata": {},
   "outputs": [],
   "source": [
    "# Selecting features from train and test data\n",
    "train_data = X[:,fit.support_]\n",
    "test_d = test.values\n",
    "test_data = test_d[:,fit.support_]"
   ]
  },
  {
   "cell_type": "markdown",
   "metadata": {},
   "source": [
    "## 11. Prediction by algorithms"
   ]
  },
  {
   "cell_type": "markdown",
   "metadata": {},
   "source": [
    "Algorithms can be linear or non-linear.  \n",
    "**Linear algorithms include:**  \n",
    "* Logistic Regression\n",
    "* Linear Discriminant Analysis  \n",
    "\n",
    "**Non Linear algorithms include:**\n",
    "* K-Nearest Neigbours\n",
    "* Naive bayes\n",
    "* Classification and Regression Trees\n",
    "* Support vector machines\n"
   ]
  },
  {
   "cell_type": "markdown",
   "metadata": {},
   "source": [
    "### Linear algorithms"
   ]
  },
  {
   "cell_type": "code",
   "execution_count": 34,
   "metadata": {},
   "outputs": [
    {
     "name": "stdout",
     "output_type": "stream",
     "text": [
      "Accuracy:  91.40882159315338\n",
      "MCC:  0.8342865299822478\n",
      "[False  True]\n",
      "False:  383\n",
      "True:  375\n"
     ]
    }
   ],
   "source": [
    "# Logistic regression\n",
    "## Logistic regression model is a binary dependent variable.\n",
    "## Applying model with all features.\n",
    "from sklearn.model_selection import KFold\n",
    "from sklearn.model_selection import cross_val_score\n",
    "from sklearn.linear_model import LogisticRegression\n",
    "from sklearn.metrics import matthews_corrcoef\n",
    "from sklearn.metrics import plot_confusion_matrix\n",
    "\n",
    "# setting up the model\n",
    "model = LogisticRegression()\n",
    "\n",
    "# Cross validating the model on data split using Kfold approach\n",
    "num_folds = 7\n",
    "seed=9\n",
    "kfold = KFold(n_splits=num_folds, random_state=seed,shuffle=True)\n",
    "scoring='accuracy'\n",
    "results = cross_val_score(model, X, Y, cv=kfold, scoring=scoring)\n",
    "print('Accuracy: ',results.mean()*100)\n",
    "\n",
    "# Training the model and using it to make a prediction\n",
    "model.fit(X,Y)\n",
    "opt = model.predict(test_d)\n",
    "\n",
    "# Applying Matthews correlation coefficient on the model\n",
    "mcc = matthews_corrcoef(model.predict(X),Y)\n",
    "print('MCC: ',mcc)\n",
    "\n",
    "# converting model prediction to a dataframe and then a csv\n",
    "report = pd.DataFrame(opt)\n",
    "report.columns = [\"CLASS\"]\n",
    "report.index.name = \"Index\"\n",
    "report.replace(0.0,'False')\n",
    "report['CLASS']=report['CLASS'].map({0.0:False,1.0:True})\n",
    "\n",
    "report.to_csv(\"report_lr.csv\")\n",
    "# Confirming number of classes in model prediction dataframe\n",
    "print(report['CLASS'].unique())\n",
    "# Checking for number of instances in each class of the model prediction dataframe\n",
    "print('False: ',report.groupby('CLASS').size()[0].sum()) \n",
    "print('True: ',report.groupby('CLASS').size()[1].sum())\n",
    "\n",
    "#plot_confusion_matrix(model, train_data, Y, values_format = '.1g', cmap = 'Blues')"
   ]
  },
  {
   "cell_type": "markdown",
   "metadata": {},
   "source": [
    "The logistic regression algorithm is then applied on RFE selected features."
   ]
  },
  {
   "cell_type": "code",
   "execution_count": 35,
   "metadata": {},
   "outputs": [
    {
     "name": "stdout",
     "output_type": "stream",
     "text": [
      "Accuracy:  90.28966425279788\n",
      "MCC:  0.8054429005549071\n",
      "[False  True]\n",
      "False:  388\n",
      "True:  370\n"
     ]
    }
   ],
   "source": [
    "# Logistic regression\n",
    "## Logistic regression models a binary dependent variable.\n",
    "from sklearn.model_selection import KFold\n",
    "from sklearn.model_selection import cross_val_score\n",
    "from sklearn.linear_model import LogisticRegression\n",
    "from sklearn.metrics import matthews_corrcoef\n",
    "from sklearn.metrics import plot_confusion_matrix\n",
    "\n",
    "# setting up the model\n",
    "model = LogisticRegression()\n",
    "\n",
    "# Cross validating the model on data split using Kfold approach\n",
    "num_folds = 7\n",
    "seed=9\n",
    "kfold = KFold(n_splits=num_folds, random_state=seed,shuffle=True)\n",
    "scoring='accuracy'\n",
    "results = cross_val_score(model, train_data, Y, cv=kfold, scoring=scoring)\n",
    "print('Accuracy: ',results.mean()*100)\n",
    "\n",
    "# Training the model and using it to make a prediction\n",
    "model.fit( train_data,Y)\n",
    "opt = model.predict(test_data)\n",
    "\n",
    "# Applying Matthews correlation coefficient on the model\n",
    "mcc = matthews_corrcoef(model.predict(train_data),Y)\n",
    "print('MCC: ',mcc)\n",
    "\n",
    "# converting prediction to a dataframe and then a csv\n",
    "report = pd.DataFrame(opt)\n",
    "report.columns = [\"CLASS\"]\n",
    "report.index.name = \"Index\"\n",
    "report.replace(0.0,'False')\n",
    "report['CLASS']=report['CLASS'].map({0.0:False,1.0:True})\n",
    "\n",
    "report.to_csv(\"report_lr1.csv\")\n",
    "# Confirming number of classes in model prediction dataframe\n",
    "print(report['CLASS'].unique())\n",
    "# Checking for number of instances in each class of the model prediction dataframe\n",
    "print('False: ',report.groupby('CLASS').size()[0].sum())\n",
    "print('True: ',report.groupby('CLASS').size()[1].sum())\n",
    "\n",
    "#plot_confusion_matrix(model, train_data, Y, values_format = '.1g', cmap = 'Blues')"
   ]
  },
  {
   "cell_type": "markdown",
   "metadata": {},
   "source": [
    "From both models, the model run with all features has the higher accuracy and Matthews correlation coefficient."
   ]
  },
  {
   "cell_type": "code",
   "execution_count": 36,
   "metadata": {},
   "outputs": [
    {
     "name": "stdout",
     "output_type": "stream",
     "text": [
      "Accuracy:  90.42132982225148\n",
      "MCC:  0.8130045771530646\n",
      "[False  True]\n",
      "False:  405\n",
      "True:  353\n"
     ]
    }
   ],
   "source": [
    "# Linear Discriminant Analysis\n",
    "## LDA is used for binary and multiclass classification\n",
    "from sklearn.model_selection import KFold\n",
    "from sklearn.model_selection import cross_val_score\n",
    "from sklearn.discriminant_analysis import LinearDiscriminantAnalysis\n",
    "from sklearn.metrics import matthews_corrcoef\n",
    "\n",
    "# setting up the model\n",
    "model = LinearDiscriminantAnalysis()\n",
    "\n",
    "# Cross validating the model on data split using Kfold approach\n",
    "num_folds = 7\n",
    "seed=9\n",
    "kfold = KFold(n_splits=num_folds, random_state=seed,shuffle=True)\n",
    "scoring='accuracy'\n",
    "results = cross_val_score(model, train_data, Y, cv=kfold, scoring=scoring)\n",
    "print('Accuracy: ',results.mean()*100)\n",
    "\n",
    "# Training the model and using it to make a prediction\n",
    "model.fit( train_data,Y)\n",
    "opt = model.predict(test_data)\n",
    "\n",
    "# Applying Matthews correlation coefficient on the model\n",
    "mcc = matthews_corrcoef(model.predict(train_data),Y)\n",
    "print('MCC: ',mcc)\n",
    "\n",
    "# converting model prediction to a dataframe and then a csv\n",
    "report = pd.DataFrame(opt)\n",
    "report.columns = [\"CLASS\"]\n",
    "report.index.name = \"Index\"\n",
    "report.replace(0.0,'False')\n",
    "report['CLASS']=report['CLASS'].map({0.0:False,1.0:True})\n",
    "\n",
    "report.to_csv(\"report_lda.csv\")\n",
    "# Confirming number of classes in model prediction dataframe\n",
    "print(report['CLASS'].unique())\n",
    "# Checking for number of instances in each class of the model prediction dataframe\n",
    "print('False: ',report.groupby('CLASS').size()[0].sum()) \n",
    "print('True: ',report.groupby('CLASS').size()[1].sum())"
   ]
  },
  {
   "cell_type": "markdown",
   "metadata": {},
   "source": [
    "### Non-linear algorithms"
   ]
  },
  {
   "cell_type": "code",
   "execution_count": 37,
   "metadata": {},
   "outputs": [
    {
     "name": "stdout",
     "output_type": "stream",
     "text": [
      "Accuracy:  90.58602570783394\n",
      "MCC:  0.8690586462107053\n",
      "[False  True]\n",
      "False:  402\n",
      "True:  356\n"
     ]
    }
   ],
   "source": [
    "# K-Nearest Neighbours\n",
    "## This stores all available cases and classiies new cases based on a similarity measure.\n",
    "from sklearn.neighbors import KNeighborsClassifier\n",
    "from numpy import set_printoptions\n",
    "from sklearn.metrics import matthews_corrcoef\n",
    "\n",
    "num_folds = 10\n",
    "seed=9\n",
    "kfold = KFold(n_splits=num_folds, random_state=seed,shuffle=True)\n",
    "model = KNeighborsClassifier(n_neighbors=5)\n",
    "scoring='accuracy'\n",
    "results = cross_val_score(model, X, Y, cv=kfold, scoring=scoring)\n",
    "print('Accuracy: ',results.mean()*100)\n",
    "\n",
    "model.fit(X,Y)\n",
    "opt = model.predict(test_d)\n",
    "\n",
    "mcc = matthews_corrcoef(model.predict(X),Y)\n",
    "print('MCC: ',mcc)\n",
    "\n",
    "report = pd.DataFrame(opt)\n",
    "report.columns = [\"CLASS\"]\n",
    "report.index.name = \"Index\"\n",
    "report.replace(0.0,'False')\n",
    "report['CLASS']=report['CLASS'].map({0.0:False,1.0:True})\n",
    "\n",
    "report.to_csv(\"report_knn.csv\")\n",
    "print(report['CLASS'].unique())\n",
    "print('False: ',report.groupby('CLASS').size()[0].sum())\n",
    "print('True: ',report.groupby('CLASS').size()[1].sum())\n",
    "\n",
    "set_printoptions(precision=3)\n",
    "#plot_confusion_matrix(model, X, Y, values_format = '.1g', cmap = 'Blues')"
   ]
  },
  {
   "cell_type": "markdown",
   "metadata": {},
   "source": [
    "Compared to the linear algorithms, the K-nearest neighbours algorithm has a lower percentage accuracy but a higher MCC."
   ]
  },
  {
   "cell_type": "code",
   "execution_count": 38,
   "metadata": {},
   "outputs": [
    {
     "name": "stdout",
     "output_type": "stream",
     "text": [
      "Accuracy:  88.0815746048289\n",
      "MCC:  0.8407203694376205\n",
      "[ True False]\n",
      "False:  370\n",
      "True:  388\n"
     ]
    }
   ],
   "source": [
    "# Naive Bayes\n",
    "## This calculates the probability of each class and the conditional probability of each class given each input value.\n",
    "## Assumes independence of estimated probabilities for new data.\n",
    "from sklearn.naive_bayes import GaussianNB\n",
    "\n",
    "kfold = KFold(n_splits=10, random_state=7)\n",
    "model = GaussianNB()\n",
    "results = cross_val_score(model, X, Y, cv=kfold)\n",
    "print('Accuracy: ',results.mean()*100)\n",
    "\n",
    "model.fit(X,Y)\n",
    "opt = model.predict(test_d)\n",
    "\n",
    "mcc = matthews_corrcoef(model.predict(X),Y)\n",
    "print('MCC: ',mcc)\n",
    "\n",
    "report = pd.DataFrame(opt)\n",
    "report.columns = [\"CLASS\"]\n",
    "report.index.name = \"Index\"\n",
    "report.replace(0.0,'False')\n",
    "report['CLASS']=report['CLASS'].map({0.0:False,1.0:True})\n",
    "\n",
    "report.to_csv(\"report_nb.csv\")\n",
    "print(report['CLASS'].unique())\n",
    "print('False: ',report.groupby('CLASS').size()[0].sum())\n",
    "print('True: ',report.groupby('CLASS').size()[1].sum())"
   ]
  },
  {
   "cell_type": "code",
   "execution_count": 39,
   "metadata": {},
   "outputs": [
    {
     "name": "stdout",
     "output_type": "stream",
     "text": [
      "Accuracy:  0.7398438857043599\n",
      "MCC:  1.0\n",
      "[ True False]\n",
      "False:  387\n",
      "True:  371\n"
     ]
    }
   ],
   "source": [
    "# Classiffication and regression trees (CART)\n",
    "## CART/decision trees construct a binary tree where split points are chosen greedily by evaluating each attribute and value to minimize a cost function\n",
    "from sklearn.tree import DecisionTreeClassifier\n",
    "\n",
    "kfold = KFold(n_splits=10, random_state=7)\n",
    "model = DecisionTreeClassifier(random_state=40)\n",
    "results = cross_val_score(model, X, Y, cv=kfold)\n",
    "print('Accuracy: ',results.mean())\n",
    "\n",
    "model.fit(X,Y)\n",
    "opt = model.predict(test_d)\n",
    "\n",
    "mcc = matthews_corrcoef(model.predict(X), Y)\n",
    "print('MCC: ',mcc)\n",
    "\n",
    "report = pd.DataFrame(opt)\n",
    "report.columns = [\"CLASS\"]\n",
    "report.index.name = \"Index\"\n",
    "report.replace(0.0,'False')\n",
    "report['CLASS']=report['CLASS'].map({0.0:False,1.0:True})\n",
    "\n",
    "report.to_csv(\"report_cart.csv\")\n",
    "print(report['CLASS'].unique())\n",
    "print('False: ',report.groupby('CLASS').size()[0].sum())\n",
    "print('True: ',report.groupby('CLASS').size()[1].sum())"
   ]
  },
  {
   "cell_type": "markdown",
   "metadata": {},
   "source": [
    "CART with RFE selected features."
   ]
  },
  {
   "cell_type": "code",
   "execution_count": 40,
   "metadata": {},
   "outputs": [
    {
     "name": "stdout",
     "output_type": "stream",
     "text": [
      "Accuracy:  0.7398775403856175\n",
      "MCC:  1.0\n",
      "[ True False]\n",
      "False:  370\n",
      "True:  388\n"
     ]
    }
   ],
   "source": [
    "# Classiffication and regression trees (CART)\n",
    "## CART/decision trees construct a binary tree where split points are chosen greedily by evaluating each attribute and value to minimize a cost function\n",
    "from sklearn.tree import DecisionTreeClassifier\n",
    "\n",
    "kfold = KFold(n_splits=10, random_state=7)\n",
    "model = DecisionTreeClassifier(random_state=40)\n",
    "results = cross_val_score(model, train_data, Y, cv=kfold)\n",
    "print('Accuracy: ',results.mean())\n",
    "\n",
    "model.fit(train_data,Y)\n",
    "opt = model.predict(test_data)\n",
    "\n",
    "mcc = matthews_corrcoef(model.predict(train_data), Y)\n",
    "print('MCC: ',mcc)\n",
    "\n",
    "report = pd.DataFrame(opt)\n",
    "report.columns = [\"CLASS\"]\n",
    "report.index.name = \"Index\"\n",
    "report.replace(0.0,'False')\n",
    "report['CLASS']=report['CLASS'].map({0.0:False,1.0:True})\n",
    "\n",
    "report.to_csv(\"report_cart_rfe.csv\")\n",
    "print(report['CLASS'].unique())\n",
    "print('False: ',report.groupby('CLASS').size()[0].sum())\n",
    "print('True: ',report.groupby('CLASS').size()[1].sum())"
   ]
  },
  {
   "cell_type": "markdown",
   "metadata": {},
   "source": [
    "#### Support vector machine (SVM) algorithm  \n",
    "SVM uses the rbf kernel by default.  \n",
    "RBF stands for Radial Basic Function and works best for non-linear problems.\n",
    "As the problem at hand appears linear, the kernel can be changed to `linear` and the performance compared."
   ]
  },
  {
   "cell_type": "code",
   "execution_count": 41,
   "metadata": {},
   "outputs": [
    {
     "name": "stdout",
     "output_type": "stream",
     "text": [
      "0.9061902900816398\n",
      "MCC:  0.8187103751493263\n",
      "[False  True]\n",
      "False:  397\n",
      "True:  361\n"
     ]
    }
   ],
   "source": [
    "# Support Vector Machines\n",
    "## Using the default rbf kernel\n",
    "from sklearn.svm import SVC\n",
    "\n",
    "num_folds=10\n",
    "seed=39\n",
    "kfold = KFold(n_splits=num_folds, random_state=seed, shuffle=True)\n",
    "model = SVC()\n",
    "scoring='accuracy'\n",
    "results = cross_val_score(model, X, Y, cv=kfold, scoring=scoring)\n",
    "print(results.mean())\n",
    "\n",
    "model.fit(X,Y)\n",
    "opt = model.predict(test_d)\n",
    "\n",
    "mcc = matthews_corrcoef(model.predict(X),Y)\n",
    "print('MCC: ',mcc)\n",
    "\n",
    "\n",
    "report = pd.DataFrame(opt)\n",
    "report.columns = [\"CLASS\"]\n",
    "report.index.name = \"Index\"\n",
    "report.replace(0.0,'False')\n",
    "report['CLASS']=report['CLASS'].map({0.0:False,1.0:True})\n",
    "\n",
    "report.to_csv(\"report_svm_rbf.csv\")\n",
    "print(report['CLASS'].unique())\n",
    "print('False: ',report.groupby('CLASS').size()[0].sum())\n",
    "print('True: ',report.groupby('CLASS').size()[1].sum())"
   ]
  },
  {
   "cell_type": "code",
   "execution_count": 42,
   "metadata": {},
   "outputs": [
    {
     "name": "stdout",
     "output_type": "stream",
     "text": [
      "0.9180465085982282\n",
      "MCC:  0.8414394511707155\n",
      "[False  True]\n",
      "False:  385\n",
      "True:  373\n"
     ]
    }
   ],
   "source": [
    "# Support Vector Machines\n",
    "## Setting the kernel to linear\n",
    "from sklearn.svm import SVC\n",
    "\n",
    "num_folds=10\n",
    "seed=39\n",
    "kfold = KFold(n_splits=num_folds, random_state=seed, shuffle=True)\n",
    "model = SVC(kernel='linear')\n",
    "scoring='accuracy'\n",
    "results = cross_val_score(model, X, Y, cv=kfold, scoring=scoring)\n",
    "print(results.mean())\n",
    "\n",
    "model.fit(X,Y)\n",
    "opt = model.predict(test_d)\n",
    "\n",
    "mcc = matthews_corrcoef(model.predict(X),Y)\n",
    "print('MCC: ',mcc)\n",
    "\n",
    "\n",
    "report = pd.DataFrame(opt)\n",
    "report.columns = [\"CLASS\"]\n",
    "report.index.name = \"Index\"\n",
    "report.replace(0.0,'False')\n",
    "report['CLASS']=report['CLASS'].map({0.0:False,1.0:True})\n",
    "\n",
    "report.to_csv(\"report_svm_linear.csv\")\n",
    "print(report['CLASS'].unique())\n",
    "print('False: ',report.groupby('CLASS').size()[0].sum())\n",
    "print('True: ',report.groupby('CLASS').size()[1].sum())"
   ]
  },
  {
   "cell_type": "markdown",
   "metadata": {},
   "source": [
    "From the results obtained, the model performs better with the linear kernel than the rbf kernel as indicated by the accuracy and MCC."
   ]
  },
  {
   "cell_type": "markdown",
   "metadata": {},
   "source": [
    "# 12. Improving performance with Ensembles  \n",
    "To boost accuracy, ensembles can be used.\n",
    "These include;   \n",
    "* `Bagging` (bagged decision trees, random forests and extra trees) where multiple models usually of the same type are built from different subsamples of the training dataset.\n",
    "* `Boosting` (AdaBoost, stochastic gradient) where multiple models usually of the same type are built, each of which learns to fix the prediction errors of a prior model in the sequence of models.\n",
    "* `Voting` which build multiple models typically of differing types and use simple statistics such as mean to combine predictions. \n",
    "\n",
    "For this work, `Boosting` and `voting` algorithms are ensembles."
   ]
  },
  {
   "cell_type": "markdown",
   "metadata": {},
   "source": [
    "## Boosting Ensembles"
   ]
  },
  {
   "cell_type": "code",
   "execution_count": 43,
   "metadata": {},
   "outputs": [
    {
     "name": "stdout",
     "output_type": "stream",
     "text": [
      "0.7701895518499218\n",
      "MCC:  0.8730261590913062\n",
      "[ True False]\n",
      "False:  386\n",
      "True:  372\n"
     ]
    }
   ],
   "source": [
    "# AdaBoost Classification\n",
    "## It generally works by weighting instances in the dataset by how easy or difficult they are to classify.\n",
    "## This allows the algorithm to pay more or less attention to these instances in the construction of subsequent models.\n",
    "from pandas import read_csv\n",
    "from sklearn.model_selection import KFold\n",
    "from sklearn.model_selection import cross_val_score\n",
    "from sklearn.ensemble import AdaBoostClassifier\n",
    "\n",
    "num_trees = 30\n",
    "seed=7\n",
    "\n",
    "kfold = KFold(n_splits=10, random_state=seed)\n",
    "\n",
    "model = AdaBoostClassifier(n_estimators=num_trees, random_state=seed)\n",
    "results = cross_val_score(model, X, Y, cv=kfold)\n",
    "\n",
    "print(results.mean())\n",
    "\n",
    "model.fit(X,Y)\n",
    "opt = model.predict(test_d)\n",
    "\n",
    "mcc = matthews_corrcoef(model.predict(X),Y)\n",
    "print('MCC: ',mcc)\n",
    "\n",
    "\n",
    "report = pd.DataFrame(opt)\n",
    "report.columns = [\"CLASS\"]\n",
    "report.index.name = \"Index\"\n",
    "report.replace(0.0,'False')\n",
    "report['CLASS']=report['CLASS'].map({0.0:False,1.0:True})\n",
    "\n",
    "report.to_csv(\"report_AB.csv\")\n",
    "print(report['CLASS'].unique())\n",
    "print('False: ',report.groupby('CLASS').size()[0].sum())\n",
    "print('True: ',report.groupby('CLASS').size()[1].sum())"
   ]
  },
  {
   "cell_type": "code",
   "execution_count": 44,
   "metadata": {},
   "outputs": [
    {
     "name": "stdout",
     "output_type": "stream",
     "text": [
      "0.7882935990967518\n",
      "MCC:  0.9355236060852458\n",
      "[ True False]\n",
      "False:  385\n",
      "True:  373\n"
     ]
    }
   ],
   "source": [
    "# Stochastic Gradient Boosting classification\n",
    "\n",
    "from pandas import read_csv\n",
    "from sklearn.model_selection import KFold\n",
    "from sklearn.model_selection import cross_val_score\n",
    "from sklearn.ensemble import GradientBoostingClassifier\n",
    "\n",
    "\n",
    "seed = 7\n",
    "num_trees = 100\n",
    "\n",
    "kfold = KFold(n_splits=10, random_state=seed)\n",
    "model = GradientBoostingClassifier(n_estimators=num_trees, random_state=seed)\n",
    "results = cross_val_score(model, X, Y, cv=kfold)\n",
    "print(results.mean())\n",
    "\n",
    "model.fit(X,Y)\n",
    "opt = model.predict(test_d)\n",
    "\n",
    "mcc = matthews_corrcoef(model.predict(X),Y)\n",
    "print('MCC: ',mcc)\n",
    "\n",
    "\n",
    "report = pd.DataFrame(opt)\n",
    "report.columns = [\"CLASS\"]\n",
    "report.index.name = \"Index\"\n",
    "report.replace(0.0,'False')\n",
    "report['CLASS']=report['CLASS'].map({0.0:False,1.0:True})\n",
    "\n",
    "report.to_csv(\"report_GBC.csv\")\n",
    "print(report['CLASS'].unique())\n",
    "print('False: ',report.groupby('CLASS').size()[0].sum())\n",
    "print('True: ',report.groupby('CLASS').size()[1].sum())"
   ]
  },
  {
   "cell_type": "code",
   "execution_count": 45,
   "metadata": {},
   "outputs": [
    {
     "name": "stdout",
     "output_type": "stream",
     "text": [
      "0.787307842626368\n",
      "MCC:  0.9269836637327226\n",
      "[ True False]\n",
      "False:  383\n",
      "True:  375\n"
     ]
    }
   ],
   "source": [
    "# Stochastic X Gradient Boosting Classification\n",
    "from pandas import read_csv\n",
    "from sklearn.model_selection import KFold\n",
    "from sklearn.model_selection import cross_val_score\n",
    "from xgboost import XGBClassifier\n",
    "from sklearn.metrics import confusion_matrix\n",
    "\n",
    "seed = 7\n",
    "num_trees = 100\n",
    "\n",
    "kfold = KFold(n_splits=10, random_state=seed)\n",
    "model = XGBClassifier(n_estimators=num_trees, random_state=seed)\n",
    "results = cross_val_score(model, X, Y, cv=kfold)\n",
    "print(results.mean())\n",
    "\n",
    "model.fit(X,Y)\n",
    "opt = model.predict(test_d)\n",
    "\n",
    "mcc = matthews_corrcoef(model.predict(X),Y)\n",
    "print('MCC: ',mcc)\n",
    "\n",
    "\n",
    "report = pd.DataFrame(opt)\n",
    "report.columns = [\"CLASS\"]\n",
    "report.index.name = \"Index\"\n",
    "report.replace(0.0,'False')\n",
    "report['CLASS']=report['CLASS'].map({0.0:False,1.0:True})\n",
    "\n",
    "report.to_csv(\"report_XGB.csv\")\n",
    "print(report['CLASS'].unique())\n",
    "print('False: ',report.groupby('CLASS').size()[0].sum())\n",
    "print('True: ',report.groupby('CLASS').size()[1].sum())"
   ]
  },
  {
   "cell_type": "markdown",
   "metadata": {},
   "source": [
    "## Voting Ensemble"
   ]
  },
  {
   "cell_type": "code",
   "execution_count": 46,
   "metadata": {},
   "outputs": [
    {
     "name": "stdout",
     "output_type": "stream",
     "text": [
      "0.8307799200972728\n",
      "MCC:  0.8925178806925171\n",
      "[False  True]\n",
      "False:  390\n",
      "True:  368\n"
     ]
    }
   ],
   "source": [
    "# Voting Ensemble for Classification\n",
    "from pandas import read_csv\n",
    "from sklearn.model_selection import KFold\n",
    "from sklearn.model_selection import cross_val_score\n",
    "from sklearn.linear_model import LogisticRegression\n",
    "from sklearn.tree import DecisionTreeClassifier\n",
    "from xgboost import XGBClassifier\n",
    "from sklearn.ensemble import RandomForestClassifier\n",
    "from sklearn.svm import SVC\n",
    "from sklearn.ensemble import VotingClassifier\n",
    "\n",
    "# create the sub models\n",
    "estimators = []\n",
    "estimators.append(('LR', LogisticRegression()))\n",
    "estimators.append(('LDA', LinearDiscriminantAnalysis()))\n",
    "estimators.append(('KNN', KNeighborsClassifier()))\n",
    "estimators.append(('NB', GaussianNB()))\n",
    "estimators.append(('CART', DecisionTreeClassifier()))\n",
    "estimators.append(('SVM_rbf', SVC()))\n",
    "estimators.append(('SVM_linear', SVC(kernel='linear')))\n",
    "estimators.append(('AB', AdaBoostClassifier())) \n",
    "estimators.append(('GBC', GradientBoostingClassifier()))\n",
    "estimators.append(('XGB', XGBClassifier()))\n",
    "\n",
    "# create the ensemble model\n",
    "ensemble = VotingClassifier(estimators)\n",
    "results = cross_val_score(ensemble, X, Y, cv=kfold)\n",
    "print(results.mean())\n",
    "\n",
    "ensemble.fit(X,Y)\n",
    "opt = ensemble.predict(test_d)\n",
    "\n",
    "mcc = matthews_corrcoef(ensemble.predict(X),Y)\n",
    "print('MCC: ',mcc)\n",
    "\n",
    "\n",
    "report = pd.DataFrame(opt)\n",
    "report.columns = [\"CLASS\"]\n",
    "report.index.name = \"Index\"\n",
    "report.replace(0.0,'False')\n",
    "report['CLASS']=report['CLASS'].map({0.0:False,1.0:True})\n",
    "\n",
    "report.to_csv(\"report_vote.csv\")\n",
    "print(report['CLASS'].unique())\n",
    "print('False: ',report.groupby('CLASS').size()[0].sum())\n",
    "print('True: ',report.groupby('CLASS').size()[1].sum())"
   ]
  },
  {
   "cell_type": "markdown",
   "metadata": {},
   "source": [
    "## 13. Comparing Machine Learning Algorithms used"
   ]
  },
  {
   "cell_type": "code",
   "execution_count": 50,
   "metadata": {},
   "outputs": [
    {
     "name": "stdout",
     "output_type": "stream",
     "text": [
      "('LR', 0.9140839412888656, 'MCC: ', 0.8342865299822478, 'score: ', 0.8712572258609209)\n",
      "('LDA', 0.9186935469862776, 'MCC: ', 0.8377162908048379, 'score: ', 0.8632353313098651)\n",
      "('KNN', 0.9065116380059057, 'MCC: ', 0.8690586462107053, 'score: ', 0.8184834462987218)\n",
      "('NB', 0.9193546986277574, 'MCC: ', 0.8407203694376205, 'score: ', 1.0)\n",
      "('CART', 0.9009206183776272, 'MCC: ', 1.0, 'score: ', 0.7660594085245541)\n",
      "('SVM_rbf', 0.9088131839499741, 'MCC: ', 0.8187103751493263, 'score: ', 0.8413643707604765)\n",
      "('SVM_linear', 0.9190192374500608, 'MCC: ', 0.8414394511707155, 'score: ', 0.8820016475190336)\n",
      "('AB', 0.9285663105784264, 'MCC: ', 0.8848771929251248, 'score: ', 0.8526978735336366)\n",
      "('GBC', 0.9394291731804758, 'MCC: ', 0.9355236060852458, 'score: ', 0.8714432576134836)\n",
      "('XGB', 0.9391056539864515, 'MCC: ', 0.9269836637327226, 'score: ', 0.87653605323293)\n",
      "('VC', 0.9328447976376584, 'MCC: ', 0.8925178806925171, 'score: ', 0.8904974309653444)\n"
     ]
    }
   ],
   "source": [
    "# Compare perfomance of the different algorithms used\n",
    "from matplotlib import pyplot\n",
    "from sklearn.metrics import matthews_corrcoef\n",
    "\n",
    "models = []\n",
    "models.append(('LR', LogisticRegression()))\n",
    "models.append(('LDA', LinearDiscriminantAnalysis()))\n",
    "models.append(('KNN', KNeighborsClassifier()))\n",
    "models.append(('NB', GaussianNB()))\n",
    "models.append(('CART', DecisionTreeClassifier(random_state=40)))\n",
    "models.append(('SVM_rbf', SVC()))\n",
    "models.append(('SVM_linear', SVC(kernel='linear')))\n",
    "models.append(('AB', AdaBoostClassifier())) \n",
    "models.append(('GBC', GradientBoostingClassifier()))\n",
    "models.append(('XGB', XGBClassifier()))\n",
    "models.append(('VC',VotingClassifier(estimators)))\n",
    "\n",
    "results = []\n",
    "names = []\n",
    "scoring = 'accuracy'\n",
    "\n",
    "\n",
    "\n",
    "num_folds=10\n",
    "seed=7\n",
    "for name, model in models:\n",
    "    kfold = KFold(n_splits=num_folds, random_state=seed, shuffle=True)\n",
    "    cv_results = cross_val_score(model, X, Y, cv=kfold, scoring=scoring)\n",
    "    nb = GaussianNB()\n",
    "    nb.fit(X,Y)\n",
    "    f = nb.predict(test_d)\n",
    "    model.fit(X,Y)\n",
    "    results.append(cv_results)\n",
    "    names.append(name)\n",
    "    msg = (name, cv_results.mean(),'MCC: ',matthews_corrcoef(model.predict(X),Y),'score: ',matthews_corrcoef(model.predict(test_d),f))\n",
    "    print(msg)"
   ]
  },
  {
   "cell_type": "code",
   "execution_count": 51,
   "metadata": {},
   "outputs": [
    {
     "data": {
      "image/png": "[encoded data removed]",
      "text/plain": [
       "<Figure size 432x288 with 1 Axes>"
      ]
     },
     "metadata": {
      "needs_background": "light"
     },
     "output_type": "display_data"
    }
   ],
   "source": [
    "# A plot for comparing the different algorithms\n",
    "fig = pyplot.figure()\n",
    "fig.suptitle('Algorithm Comparison')\n",
    "ax = fig.add_subplot(111)\n",
    "pyplot.boxplot(results)\n",
    "ax.set_xticklabels(names)\n",
    "plt.xticks(rotation=45)\n",
    "pyplot.show()"
   ]
  },
  {
   "cell_type": "markdown",
   "metadata": {},
   "source": [
    "From the above graph, it can be observed that models implementing gradient boost classification have higher percentage accuracies.  \n",
    "However, other metrics have to be put in place to measure performance of a model such as Matthews correlation coefficient, area under the ROC curve or logarithmic loss since a single parameter is not enough to measure model performance and thus assist in model choice.\n",
    "\n",
    "\n",
    "<div class = 'alert alert-success'>\n",
    "\n",
    "- Great presentation.\n",
    "- Well organized code, easy to read.\n",
    "- This is going to make a good report.\n",
    "- Fo you: please read on these areas: GridSearch, Parameter optimizing and run samples on a gradient boosting algorithm of your choice.\n",
    "\n",
    "</div>\n"
   ]
  },
  {
   "cell_type": "code",
   "execution_count": null,
   "metadata": {},
   "outputs": [],
   "source": []
  }
 ],
 "metadata": {
  "kernelspec": {
   "display_name": "Python 3",
   "language": "python",
   "name": "python3"
  },
  "language_info": {
   "codemirror_mode": {
    "name": "ipython",
    "version": 3
   },
   "file_extension": ".py",
   "mimetype": "text/x-python",
   "name": "python",
   "nbconvert_exporter": "python",
   "pygments_lexer": "ipython3",
   "version": "3.7.4"
  },
  "varInspector": {
   "cols": {
    "lenName": 16,
    "lenType": 16,
    "lenVar": 40
   },
   "kernels_config": {
    "python": {
     "delete_cmd_postfix": "",
     "delete_cmd_prefix": "del ",
     "library": "var_list.py",
     "varRefreshCmd": "print(var_dic_list())"
    },
    "r": {
     "delete_cmd_postfix": ") ",
     "delete_cmd_prefix": "rm(",
     "library": "var_list.r",
     "varRefreshCmd": "cat(var_dic_list()) "
    }
   },
   "types_to_exclude": [
    "module",
    "function",
    "builtin_function_or_method",
    "instance",
    "_Feature"
   ],
   "window_display": false
  }
 },
 "nbformat": 4,
 "nbformat_minor": 4
}
