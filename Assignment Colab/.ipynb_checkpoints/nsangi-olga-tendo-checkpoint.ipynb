{
 "cells": [
  {
   "cell_type": "markdown",
   "metadata": {},
   "source": [
    "<div class = 'alert alert-success'>\n",
    "    Please look out for these cells for corrections."
   ]
  },
  {
   "cell_type": "code",
   "execution_count": 1,
   "metadata": {
    "_cell_guid": "b1076dfc-b9ad-4769-8c92-a6c4dae69d19",
    "_uuid": "8f2839f25d086af736a60e9eeb907d3b93b6e0e5"
   },
   "outputs": [
    {
     "name": "stdout",
     "output_type": "stream",
     "text": [
      "/kaggle/input/ace-class-assignment/Test.csv\n",
      "/kaggle/input/ace-class-assignment/AMP_TrainSet.csv\n"
     ]
    }
   ],
   "source": [
    "# This Python 3 environment comes with many helpful analytics libraries installed\n",
    "# It is defined by the kaggle/python docker image: https://github.com/kaggle/docker-python\n",
    "# For example, here's several helpful packages to load in \n",
    "\n",
    "import numpy as np # linear algebra\n",
    "import pandas as pd # data processing, CSV file I/O (e.g. pd.read_csv)\n",
    "import matplotlib.pyplot as plt\n",
    "import seaborn as sns\n",
    "\n",
    "\n",
    "# Input data files are available in the \"../input/\" directory.\n",
    "# For example, running this (by clicking run or pressing Shift+Enter) will list all files under the input directory\n",
    "\n",
    "import os\n",
    "for dirname, _, filenames in os.walk('/kaggle/input'):\n",
    "    for filename in filenames:\n",
    "        print(os.path.join(dirname, filename))\n",
    "# Any results you write to the current directory are saved as output.\n",
    "import warnings\n",
    "warnings.filterwarnings('ignore')"
   ]
  },
  {
   "cell_type": "markdown",
   "metadata": {},
   "source": [
    "## Naming the Training and test dataset using."
   ]
  },
  {
   "cell_type": "code",
   "execution_count": 2,
   "metadata": {
    "_cell_guid": "79c7e3d0-c299-4dcb-8224-4455121ee9b0",
    "_uuid": "d629ff2d2480ee46fbb7e2d37f6b5fab8052498a"
   },
   "outputs": [],
   "source": [
    "Train = pd.read_csv(\"../input/ace-class-assignment/AMP_TrainSet.csv\")\n",
    "Test = pd.read_csv(\"../input/ace-class-assignment/Test.csv\")"
   ]
  },
  {
   "cell_type": "markdown",
   "metadata": {},
   "source": [
    "## Confirming that the data has been read in and assigned to variables Train and Test"
   ]
  },
  {
   "cell_type": "code",
   "execution_count": 3,
   "metadata": {},
   "outputs": [
    {
     "data": {
      "text/html": [
       "<div>\n",
       "<style scoped>\n",
       "    .dataframe tbody tr th:only-of-type {\n",
       "        vertical-align: middle;\n",
       "    }\n",
       "\n",
       "    .dataframe tbody tr th {\n",
       "        vertical-align: top;\n",
       "    }\n",
       "\n",
       "    .dataframe thead th {\n",
       "        text-align: right;\n",
       "    }\n",
       "</style>\n",
       "<table border=\"1\" class=\"dataframe\">\n",
       "  <thead>\n",
       "    <tr style=\"text-align: right;\">\n",
       "      <th></th>\n",
       "      <th>FULL_Charge</th>\n",
       "      <th>FULL_AcidicMolPerc</th>\n",
       "      <th>FULL_AURR980107</th>\n",
       "      <th>FULL_DAYM780201</th>\n",
       "      <th>FULL_GEOR030101</th>\n",
       "      <th>FULL_OOBM850104</th>\n",
       "      <th>NT_EFC195</th>\n",
       "      <th>AS_MeanAmphiMoment</th>\n",
       "      <th>AS_DAYM780201</th>\n",
       "      <th>AS_FUKS010112</th>\n",
       "      <th>CT_RACS820104</th>\n",
       "      <th>CLASS</th>\n",
       "    </tr>\n",
       "  </thead>\n",
       "  <tbody>\n",
       "    <tr>\n",
       "      <th>0</th>\n",
       "      <td>5.0</td>\n",
       "      <td>0.000</td>\n",
       "      <td>0.951</td>\n",
       "      <td>74.842</td>\n",
       "      <td>0.975</td>\n",
       "      <td>-3.663</td>\n",
       "      <td>0</td>\n",
       "      <td>0.282</td>\n",
       "      <td>73.444</td>\n",
       "      <td>5.661</td>\n",
       "      <td>1.041</td>\n",
       "      <td>1</td>\n",
       "    </tr>\n",
       "    <tr>\n",
       "      <th>1</th>\n",
       "      <td>4.0</td>\n",
       "      <td>5.405</td>\n",
       "      <td>0.931</td>\n",
       "      <td>71.595</td>\n",
       "      <td>0.957</td>\n",
       "      <td>-4.011</td>\n",
       "      <td>1</td>\n",
       "      <td>0.600</td>\n",
       "      <td>68.222</td>\n",
       "      <td>6.537</td>\n",
       "      <td>1.453</td>\n",
       "      <td>1</td>\n",
       "    </tr>\n",
       "    <tr>\n",
       "      <th>2</th>\n",
       "      <td>5.5</td>\n",
       "      <td>5.405</td>\n",
       "      <td>0.873</td>\n",
       "      <td>73.595</td>\n",
       "      <td>0.961</td>\n",
       "      <td>-2.512</td>\n",
       "      <td>0</td>\n",
       "      <td>0.593</td>\n",
       "      <td>69.444</td>\n",
       "      <td>4.934</td>\n",
       "      <td>1.722</td>\n",
       "      <td>1</td>\n",
       "    </tr>\n",
       "    <tr>\n",
       "      <th>3</th>\n",
       "      <td>5.0</td>\n",
       "      <td>4.167</td>\n",
       "      <td>0.895</td>\n",
       "      <td>66.250</td>\n",
       "      <td>0.999</td>\n",
       "      <td>-1.362</td>\n",
       "      <td>0</td>\n",
       "      <td>0.614</td>\n",
       "      <td>67.222</td>\n",
       "      <td>4.316</td>\n",
       "      <td>1.382</td>\n",
       "      <td>1</td>\n",
       "    </tr>\n",
       "    <tr>\n",
       "      <th>4</th>\n",
       "      <td>7.5</td>\n",
       "      <td>8.537</td>\n",
       "      <td>0.932</td>\n",
       "      <td>64.720</td>\n",
       "      <td>0.979</td>\n",
       "      <td>-2.091</td>\n",
       "      <td>0</td>\n",
       "      <td>0.616</td>\n",
       "      <td>72.944</td>\n",
       "      <td>4.540</td>\n",
       "      <td>1.539</td>\n",
       "      <td>1</td>\n",
       "    </tr>\n",
       "    <tr>\n",
       "      <th>5</th>\n",
       "      <td>5.0</td>\n",
       "      <td>7.692</td>\n",
       "      <td>1.030</td>\n",
       "      <td>78.949</td>\n",
       "      <td>0.976</td>\n",
       "      <td>-3.091</td>\n",
       "      <td>1</td>\n",
       "      <td>0.511</td>\n",
       "      <td>78.778</td>\n",
       "      <td>5.992</td>\n",
       "      <td>1.091</td>\n",
       "      <td>1</td>\n",
       "    </tr>\n",
       "    <tr>\n",
       "      <th>6</th>\n",
       "      <td>3.0</td>\n",
       "      <td>6.897</td>\n",
       "      <td>0.930</td>\n",
       "      <td>78.586</td>\n",
       "      <td>0.957</td>\n",
       "      <td>-3.544</td>\n",
       "      <td>1</td>\n",
       "      <td>0.385</td>\n",
       "      <td>78.222</td>\n",
       "      <td>6.284</td>\n",
       "      <td>1.467</td>\n",
       "      <td>1</td>\n",
       "    </tr>\n",
       "    <tr>\n",
       "      <th>7</th>\n",
       "      <td>2.0</td>\n",
       "      <td>5.882</td>\n",
       "      <td>0.868</td>\n",
       "      <td>76.588</td>\n",
       "      <td>0.949</td>\n",
       "      <td>-5.832</td>\n",
       "      <td>0</td>\n",
       "      <td>0.154</td>\n",
       "      <td>76.588</td>\n",
       "      <td>6.479</td>\n",
       "      <td>1.086</td>\n",
       "      <td>1</td>\n",
       "    </tr>\n",
       "    <tr>\n",
       "      <th>8</th>\n",
       "      <td>7.0</td>\n",
       "      <td>2.632</td>\n",
       "      <td>0.857</td>\n",
       "      <td>60.447</td>\n",
       "      <td>1.012</td>\n",
       "      <td>-0.292</td>\n",
       "      <td>0</td>\n",
       "      <td>0.188</td>\n",
       "      <td>64.333</td>\n",
       "      <td>3.849</td>\n",
       "      <td>1.925</td>\n",
       "      <td>1</td>\n",
       "    </tr>\n",
       "    <tr>\n",
       "      <th>9</th>\n",
       "      <td>9.0</td>\n",
       "      <td>0.000</td>\n",
       "      <td>0.911</td>\n",
       "      <td>65.808</td>\n",
       "      <td>1.049</td>\n",
       "      <td>-3.888</td>\n",
       "      <td>0</td>\n",
       "      <td>0.361</td>\n",
       "      <td>63.222</td>\n",
       "      <td>6.327</td>\n",
       "      <td>1.216</td>\n",
       "      <td>1</td>\n",
       "    </tr>\n",
       "  </tbody>\n",
       "</table>\n",
       "</div>"
      ],
      "text/plain": [
       "   FULL_Charge  FULL_AcidicMolPerc  FULL_AURR980107  FULL_DAYM780201  \\\n",
       "0          5.0               0.000            0.951           74.842   \n",
       "1          4.0               5.405            0.931           71.595   \n",
       "2          5.5               5.405            0.873           73.595   \n",
       "3          5.0               4.167            0.895           66.250   \n",
       "4          7.5               8.537            0.932           64.720   \n",
       "5          5.0               7.692            1.030           78.949   \n",
       "6          3.0               6.897            0.930           78.586   \n",
       "7          2.0               5.882            0.868           76.588   \n",
       "8          7.0               2.632            0.857           60.447   \n",
       "9          9.0               0.000            0.911           65.808   \n",
       "\n",
       "   FULL_GEOR030101  FULL_OOBM850104  NT_EFC195  AS_MeanAmphiMoment  \\\n",
       "0            0.975           -3.663          0               0.282   \n",
       "1            0.957           -4.011          1               0.600   \n",
       "2            0.961           -2.512          0               0.593   \n",
       "3            0.999           -1.362          0               0.614   \n",
       "4            0.979           -2.091          0               0.616   \n",
       "5            0.976           -3.091          1               0.511   \n",
       "6            0.957           -3.544          1               0.385   \n",
       "7            0.949           -5.832          0               0.154   \n",
       "8            1.012           -0.292          0               0.188   \n",
       "9            1.049           -3.888          0               0.361   \n",
       "\n",
       "   AS_DAYM780201  AS_FUKS010112  CT_RACS820104  CLASS  \n",
       "0         73.444          5.661          1.041      1  \n",
       "1         68.222          6.537          1.453      1  \n",
       "2         69.444          4.934          1.722      1  \n",
       "3         67.222          4.316          1.382      1  \n",
       "4         72.944          4.540          1.539      1  \n",
       "5         78.778          5.992          1.091      1  \n",
       "6         78.222          6.284          1.467      1  \n",
       "7         76.588          6.479          1.086      1  \n",
       "8         64.333          3.849          1.925      1  \n",
       "9         63.222          6.327          1.216      1  "
      ]
     },
     "execution_count": 3,
     "metadata": {},
     "output_type": "execute_result"
    }
   ],
   "source": [
    "Train.head(10)"
   ]
  },
  {
   "cell_type": "markdown",
   "metadata": {},
   "source": [
    "## Dimensions of the data train set\n",
    "### Checking for the number of rows and columns in the data sets\n",
    "\n",
    "<div class = 'alert alert-info'>\n",
    "    \n",
    "   ## ??\n",
    "   \n",
    "   When you see these: \n",
    "   - I want to know if you understand the concept\n",
    "   - Why are you applying the concept\n",
    "   - What did you learn?\n",
    "   - I want to see that you know what you are doing."
   ]
  },
  {
   "cell_type": "code",
   "execution_count": 4,
   "metadata": {},
   "outputs": [
    {
     "data": {
      "text/plain": [
       "(3038, 12)"
      ]
     },
     "execution_count": 4,
     "metadata": {},
     "output_type": "execute_result"
    }
   ],
   "source": [
    "Train.shape"
   ]
  },
  {
   "cell_type": "markdown",
   "metadata": {},
   "source": [
    "## Establishing the attributes in the train data set"
   ]
  },
  {
   "cell_type": "code",
   "execution_count": 5,
   "metadata": {},
   "outputs": [
    {
     "data": {
      "text/plain": [
       "Index(['FULL_Charge', 'FULL_AcidicMolPerc', 'FULL_AURR980107',\n",
       "       'FULL_DAYM780201', 'FULL_GEOR030101', 'FULL_OOBM850104', 'NT_EFC195',\n",
       "       'AS_MeanAmphiMoment', 'AS_DAYM780201', 'AS_FUKS010112', 'CT_RACS820104',\n",
       "       'CLASS'],\n",
       "      dtype='object')"
      ]
     },
     "execution_count": 5,
     "metadata": {},
     "output_type": "execute_result"
    }
   ],
   "source": [
    "Train.columns"
   ]
  },
  {
   "cell_type": "markdown",
   "metadata": {},
   "source": [
    "## Establishing the data types for each attribute in the train data set. This helps in finding out which column has data types like strings that may need to be converted to foating points or integers to represent categorical or ordinal values. This can be done using df.dtype method or the df.info() method as shown in the two cells below, tho the df.info() is more informative.\n",
    "\n",
    "<div class = 'alert alert-info'>\n",
    "    \n",
    "   Why is everything so big? \n",
    "   <h1> like this?"
   ]
  },
  {
   "cell_type": "code",
   "execution_count": 6,
   "metadata": {},
   "outputs": [
    {
     "data": {
      "text/plain": [
       "FULL_Charge           float64\n",
       "FULL_AcidicMolPerc    float64\n",
       "FULL_AURR980107       float64\n",
       "FULL_DAYM780201       float64\n",
       "FULL_GEOR030101       float64\n",
       "FULL_OOBM850104       float64\n",
       "NT_EFC195               int64\n",
       "AS_MeanAmphiMoment    float64\n",
       "AS_DAYM780201         float64\n",
       "AS_FUKS010112         float64\n",
       "CT_RACS820104         float64\n",
       "CLASS                   int64\n",
       "dtype: object"
      ]
     },
     "execution_count": 6,
     "metadata": {},
     "output_type": "execute_result"
    }
   ],
   "source": [
    "Train.dtypes"
   ]
  },
  {
   "cell_type": "code",
   "execution_count": 7,
   "metadata": {},
   "outputs": [
    {
     "name": "stdout",
     "output_type": "stream",
     "text": [
      "<class 'pandas.core.frame.DataFrame'>\n",
      "RangeIndex: 3038 entries, 0 to 3037\n",
      "Data columns (total 12 columns):\n",
      "FULL_Charge           3038 non-null float64\n",
      "FULL_AcidicMolPerc    3038 non-null float64\n",
      "FULL_AURR980107       3038 non-null float64\n",
      "FULL_DAYM780201       3038 non-null float64\n",
      "FULL_GEOR030101       3038 non-null float64\n",
      "FULL_OOBM850104       3038 non-null float64\n",
      "NT_EFC195             3038 non-null int64\n",
      "AS_MeanAmphiMoment    3038 non-null float64\n",
      "AS_DAYM780201         3038 non-null float64\n",
      "AS_FUKS010112         3038 non-null float64\n",
      "CT_RACS820104         3038 non-null float64\n",
      "CLASS                 3038 non-null int64\n",
      "dtypes: float64(10), int64(2)\n",
      "memory usage: 284.9 KB\n"
     ]
    }
   ],
   "source": [
    "Train.info()"
   ]
  },
  {
   "cell_type": "markdown",
   "metadata": {},
   "source": [
    "## Statistical summary of the data in each column.\n",
    "### This helps understand the distribution of each column as this method returns values like percentiles,standard deviation, minimum and maximum values of each attribute. This way you can also find out if you have negative values in any attribute. This also helps in understanding the scales at which each attribute is at."
   ]
  },
  {
   "cell_type": "code",
   "execution_count": 8,
   "metadata": {},
   "outputs": [
    {
     "data": {
      "text/html": [
       "<div>\n",
       "<style scoped>\n",
       "    .dataframe tbody tr th:only-of-type {\n",
       "        vertical-align: middle;\n",
       "    }\n",
       "\n",
       "    .dataframe tbody tr th {\n",
       "        vertical-align: top;\n",
       "    }\n",
       "\n",
       "    .dataframe thead th {\n",
       "        text-align: right;\n",
       "    }\n",
       "</style>\n",
       "<table border=\"1\" class=\"dataframe\">\n",
       "  <thead>\n",
       "    <tr style=\"text-align: right;\">\n",
       "      <th></th>\n",
       "      <th>FULL_Charge</th>\n",
       "      <th>FULL_AcidicMolPerc</th>\n",
       "      <th>FULL_AURR980107</th>\n",
       "      <th>FULL_DAYM780201</th>\n",
       "      <th>FULL_GEOR030101</th>\n",
       "      <th>FULL_OOBM850104</th>\n",
       "      <th>NT_EFC195</th>\n",
       "      <th>AS_MeanAmphiMoment</th>\n",
       "      <th>AS_DAYM780201</th>\n",
       "      <th>AS_FUKS010112</th>\n",
       "      <th>CT_RACS820104</th>\n",
       "      <th>CLASS</th>\n",
       "    </tr>\n",
       "  </thead>\n",
       "  <tbody>\n",
       "    <tr>\n",
       "      <th>count</th>\n",
       "      <td>3038.000000</td>\n",
       "      <td>3038.000000</td>\n",
       "      <td>3038.000000</td>\n",
       "      <td>3038.000000</td>\n",
       "      <td>3038.000000</td>\n",
       "      <td>3038.000000</td>\n",
       "      <td>3038.000000</td>\n",
       "      <td>3038.000000</td>\n",
       "      <td>3038.000000</td>\n",
       "      <td>3038.000000</td>\n",
       "      <td>3038.000000</td>\n",
       "      <td>3038.000000</td>\n",
       "    </tr>\n",
       "    <tr>\n",
       "      <th>mean</th>\n",
       "      <td>2.060237</td>\n",
       "      <td>8.521520</td>\n",
       "      <td>0.971410</td>\n",
       "      <td>73.668760</td>\n",
       "      <td>0.994007</td>\n",
       "      <td>-2.432927</td>\n",
       "      <td>0.088545</td>\n",
       "      <td>15.683233</td>\n",
       "      <td>73.650828</td>\n",
       "      <td>5.911361</td>\n",
       "      <td>1.235255</td>\n",
       "      <td>0.500000</td>\n",
       "    </tr>\n",
       "    <tr>\n",
       "      <th>std</th>\n",
       "      <td>3.819929</td>\n",
       "      <td>7.586652</td>\n",
       "      <td>0.107413</td>\n",
       "      <td>8.527489</td>\n",
       "      <td>0.031333</td>\n",
       "      <td>1.707223</td>\n",
       "      <td>0.284133</td>\n",
       "      <td>11.575665</td>\n",
       "      <td>9.166092</td>\n",
       "      <td>0.693689</td>\n",
       "      <td>0.210012</td>\n",
       "      <td>0.500082</td>\n",
       "    </tr>\n",
       "    <tr>\n",
       "      <th>min</th>\n",
       "      <td>-16.000000</td>\n",
       "      <td>0.000000</td>\n",
       "      <td>0.684000</td>\n",
       "      <td>42.750000</td>\n",
       "      <td>0.866000</td>\n",
       "      <td>-10.432000</td>\n",
       "      <td>0.000000</td>\n",
       "      <td>0.041000</td>\n",
       "      <td>42.778000</td>\n",
       "      <td>3.533000</td>\n",
       "      <td>0.785000</td>\n",
       "      <td>0.000000</td>\n",
       "    </tr>\n",
       "    <tr>\n",
       "      <th>25%</th>\n",
       "      <td>0.000000</td>\n",
       "      <td>2.516000</td>\n",
       "      <td>0.895000</td>\n",
       "      <td>68.294000</td>\n",
       "      <td>0.974000</td>\n",
       "      <td>-3.606000</td>\n",
       "      <td>0.000000</td>\n",
       "      <td>5.587500</td>\n",
       "      <td>67.556000</td>\n",
       "      <td>5.459250</td>\n",
       "      <td>1.082000</td>\n",
       "      <td>0.000000</td>\n",
       "    </tr>\n",
       "    <tr>\n",
       "      <th>50%</th>\n",
       "      <td>2.000000</td>\n",
       "      <td>7.143000</td>\n",
       "      <td>0.963000</td>\n",
       "      <td>74.059500</td>\n",
       "      <td>0.994000</td>\n",
       "      <td>-2.296500</td>\n",
       "      <td>0.000000</td>\n",
       "      <td>14.988500</td>\n",
       "      <td>73.697000</td>\n",
       "      <td>5.925500</td>\n",
       "      <td>1.184000</td>\n",
       "      <td>0.500000</td>\n",
       "    </tr>\n",
       "    <tr>\n",
       "      <th>75%</th>\n",
       "      <td>4.000000</td>\n",
       "      <td>13.158000</td>\n",
       "      <td>1.041000</td>\n",
       "      <td>79.343750</td>\n",
       "      <td>1.011000</td>\n",
       "      <td>-1.283250</td>\n",
       "      <td>0.000000</td>\n",
       "      <td>26.807750</td>\n",
       "      <td>79.778000</td>\n",
       "      <td>6.382000</td>\n",
       "      <td>1.351000</td>\n",
       "      <td>1.000000</td>\n",
       "    </tr>\n",
       "    <tr>\n",
       "      <th>max</th>\n",
       "      <td>30.000000</td>\n",
       "      <td>46.667000</td>\n",
       "      <td>1.451000</td>\n",
       "      <td>101.682000</td>\n",
       "      <td>1.196000</td>\n",
       "      <td>3.576000</td>\n",
       "      <td>1.000000</td>\n",
       "      <td>51.280000</td>\n",
       "      <td>103.167000</td>\n",
       "      <td>8.662000</td>\n",
       "      <td>2.192000</td>\n",
       "      <td>1.000000</td>\n",
       "    </tr>\n",
       "  </tbody>\n",
       "</table>\n",
       "</div>"
      ],
      "text/plain": [
       "       FULL_Charge  FULL_AcidicMolPerc  FULL_AURR980107  FULL_DAYM780201  \\\n",
       "count  3038.000000         3038.000000      3038.000000      3038.000000   \n",
       "mean      2.060237            8.521520         0.971410        73.668760   \n",
       "std       3.819929            7.586652         0.107413         8.527489   \n",
       "min     -16.000000            0.000000         0.684000        42.750000   \n",
       "25%       0.000000            2.516000         0.895000        68.294000   \n",
       "50%       2.000000            7.143000         0.963000        74.059500   \n",
       "75%       4.000000           13.158000         1.041000        79.343750   \n",
       "max      30.000000           46.667000         1.451000       101.682000   \n",
       "\n",
       "       FULL_GEOR030101  FULL_OOBM850104    NT_EFC195  AS_MeanAmphiMoment  \\\n",
       "count      3038.000000      3038.000000  3038.000000         3038.000000   \n",
       "mean          0.994007        -2.432927     0.088545           15.683233   \n",
       "std           0.031333         1.707223     0.284133           11.575665   \n",
       "min           0.866000       -10.432000     0.000000            0.041000   \n",
       "25%           0.974000        -3.606000     0.000000            5.587500   \n",
       "50%           0.994000        -2.296500     0.000000           14.988500   \n",
       "75%           1.011000        -1.283250     0.000000           26.807750   \n",
       "max           1.196000         3.576000     1.000000           51.280000   \n",
       "\n",
       "       AS_DAYM780201  AS_FUKS010112  CT_RACS820104        CLASS  \n",
       "count    3038.000000    3038.000000    3038.000000  3038.000000  \n",
       "mean       73.650828       5.911361       1.235255     0.500000  \n",
       "std         9.166092       0.693689       0.210012     0.500082  \n",
       "min        42.778000       3.533000       0.785000     0.000000  \n",
       "25%        67.556000       5.459250       1.082000     0.000000  \n",
       "50%        73.697000       5.925500       1.184000     0.500000  \n",
       "75%        79.778000       6.382000       1.351000     1.000000  \n",
       "max       103.167000       8.662000       2.192000     1.000000  "
      ]
     },
     "execution_count": 8,
     "metadata": {},
     "output_type": "execute_result"
    }
   ],
   "source": [
    "Train.describe()"
   ]
  },
  {
   "cell_type": "markdown",
   "metadata": {},
   "source": [
    "### From the values above, there are no missing values since all counts in each column is equal. We can also observe that there are negative values in some attributes have a minimum values in negatives.\n",
    "\n",
    "<div class = 'alert alert-info'>\n",
    "    \n",
    "   ## ??"
   ]
  },
  {
   "cell_type": "markdown",
   "metadata": {},
   "source": [
    "## Since this is a classification problem, its important to check out the propotions of the values in the class to be predicted as its possible one class may have more values as compared to the others.\n",
    "\n",
    "<div class = 'alert alert-info'>\n",
    "    \n",
    "   ## ??"
   ]
  },
  {
   "cell_type": "code",
   "execution_count": 9,
   "metadata": {},
   "outputs": [
    {
     "data": {
      "text/plain": [
       "Text(0, 0.5, 'Distirbution')"
      ]
     },
     "execution_count": 9,
     "metadata": {},
     "output_type": "execute_result"
    },
    {
     "data": {
      "image/png": "[encoded data removed]",
      "text/plain": [
       "<Figure size 432x288 with 1 Axes>"
      ]
     },
     "metadata": {
      "needs_background": "light"
     },
     "output_type": "display_data"
    }
   ],
   "source": [
    "Train.groupby('CLASS').size().plot(kind='bar', color='Purple',edgecolor = 'black')\n",
    "# Plot formatting\n",
    "plt.legend(title = 'Class')\n",
    "plt.title('Bar Plot to show distribution of class variable')\n",
    "plt.xlabel('Class')\n",
    "plt.ylabel('Distirbution')"
   ]
  },
  {
   "cell_type": "code",
   "execution_count": 10,
   "metadata": {},
   "outputs": [
    {
     "data": {
      "text/plain": [
       "CLASS\n",
       "0    1519\n",
       "1    1519\n",
       "dtype: int64"
      ]
     },
     "execution_count": 10,
     "metadata": {},
     "output_type": "execute_result"
    }
   ],
   "source": [
    "# Checking propotions of attribute class\n",
    "Train.groupby('CLASS').size()"
   ]
  },
  {
   "cell_type": "markdown",
   "metadata": {},
   "source": [
    "### From above, the entries in the class attribute are equal."
   ]
  },
  {
   "cell_type": "markdown",
   "metadata": {},
   "source": [
    "## Establishing if there are any missing values in the attributes of the data set. This helps to give an insight on how to handle the missing values, whether to remove rows that have missing values or establishing a method like the mean,median ect to impute the NAs.  \n",
    "\n",
    "<div class = 'alert alert-success'>\n",
    "    \n",
    "   Good explanation."
   ]
  },
  {
   "cell_type": "code",
   "execution_count": 11,
   "metadata": {},
   "outputs": [
    {
     "data": {
      "text/plain": [
       "FULL_Charge           0\n",
       "FULL_AcidicMolPerc    0\n",
       "FULL_AURR980107       0\n",
       "FULL_DAYM780201       0\n",
       "FULL_GEOR030101       0\n",
       "FULL_OOBM850104       0\n",
       "NT_EFC195             0\n",
       "AS_MeanAmphiMoment    0\n",
       "AS_DAYM780201         0\n",
       "AS_FUKS010112         0\n",
       "CT_RACS820104         0\n",
       "CLASS                 0\n",
       "dtype: int64"
      ]
     },
     "execution_count": 11,
     "metadata": {},
     "output_type": "execute_result"
    }
   ],
   "source": [
    "Train.isna().sum()"
   ]
  },
  {
   "cell_type": "markdown",
   "metadata": {},
   "source": [
    "## Correlation between attributes.\n",
    "## This is done to establish the relationship between variables and how they may change or may not change each other. The pearson's correlation method is going to be used since it assumes normal distribution on attributes involved. A value of 0 shows no correlation between the attributes, while a correlation of -1 or 1 shows full negative or positive correlation between variables."
   ]
  },
  {
   "cell_type": "code",
   "execution_count": 12,
   "metadata": {},
   "outputs": [
    {
     "data": {
      "text/html": [
       "<div>\n",
       "<style scoped>\n",
       "    .dataframe tbody tr th:only-of-type {\n",
       "        vertical-align: middle;\n",
       "    }\n",
       "\n",
       "    .dataframe tbody tr th {\n",
       "        vertical-align: top;\n",
       "    }\n",
       "\n",
       "    .dataframe thead th {\n",
       "        text-align: right;\n",
       "    }\n",
       "</style>\n",
       "<table border=\"1\" class=\"dataframe\">\n",
       "  <thead>\n",
       "    <tr style=\"text-align: right;\">\n",
       "      <th></th>\n",
       "      <th>FULL_Charge</th>\n",
       "      <th>FULL_AcidicMolPerc</th>\n",
       "      <th>FULL_AURR980107</th>\n",
       "      <th>FULL_DAYM780201</th>\n",
       "      <th>FULL_GEOR030101</th>\n",
       "      <th>FULL_OOBM850104</th>\n",
       "      <th>NT_EFC195</th>\n",
       "      <th>AS_MeanAmphiMoment</th>\n",
       "      <th>AS_DAYM780201</th>\n",
       "      <th>AS_FUKS010112</th>\n",
       "      <th>CT_RACS820104</th>\n",
       "      <th>CLASS</th>\n",
       "    </tr>\n",
       "  </thead>\n",
       "  <tbody>\n",
       "    <tr>\n",
       "      <th>FULL_Charge</th>\n",
       "      <td>1.000000</td>\n",
       "      <td>-0.612996</td>\n",
       "      <td>-0.490977</td>\n",
       "      <td>-0.434603</td>\n",
       "      <td>-0.058725</td>\n",
       "      <td>-0.283758</td>\n",
       "      <td>0.088068</td>\n",
       "      <td>0.355477</td>\n",
       "      <td>-0.365374</td>\n",
       "      <td>-0.090570</td>\n",
       "      <td>0.232929</td>\n",
       "      <td>0.534602</td>\n",
       "    </tr>\n",
       "    <tr>\n",
       "      <th>FULL_AcidicMolPerc</th>\n",
       "      <td>-0.612996</td>\n",
       "      <td>1.000000</td>\n",
       "      <td>0.794796</td>\n",
       "      <td>0.541481</td>\n",
       "      <td>0.115201</td>\n",
       "      <td>0.513344</td>\n",
       "      <td>-0.143168</td>\n",
       "      <td>-0.431590</td>\n",
       "      <td>0.449621</td>\n",
       "      <td>0.002334</td>\n",
       "      <td>-0.213543</td>\n",
       "      <td>-0.598816</td>\n",
       "    </tr>\n",
       "    <tr>\n",
       "      <th>FULL_AURR980107</th>\n",
       "      <td>-0.490977</td>\n",
       "      <td>0.794796</td>\n",
       "      <td>1.000000</td>\n",
       "      <td>0.548253</td>\n",
       "      <td>0.346139</td>\n",
       "      <td>0.462712</td>\n",
       "      <td>-0.169540</td>\n",
       "      <td>-0.426097</td>\n",
       "      <td>0.456260</td>\n",
       "      <td>0.032958</td>\n",
       "      <td>-0.403599</td>\n",
       "      <td>-0.584111</td>\n",
       "    </tr>\n",
       "    <tr>\n",
       "      <th>FULL_DAYM780201</th>\n",
       "      <td>-0.434603</td>\n",
       "      <td>0.541481</td>\n",
       "      <td>0.548253</td>\n",
       "      <td>1.000000</td>\n",
       "      <td>0.010118</td>\n",
       "      <td>0.334778</td>\n",
       "      <td>-0.090058</td>\n",
       "      <td>-0.408793</td>\n",
       "      <td>0.894191</td>\n",
       "      <td>0.055915</td>\n",
       "      <td>-0.326792</td>\n",
       "      <td>-0.554838</td>\n",
       "    </tr>\n",
       "    <tr>\n",
       "      <th>FULL_GEOR030101</th>\n",
       "      <td>-0.058725</td>\n",
       "      <td>0.115201</td>\n",
       "      <td>0.346139</td>\n",
       "      <td>0.010118</td>\n",
       "      <td>1.000000</td>\n",
       "      <td>0.319157</td>\n",
       "      <td>-0.230417</td>\n",
       "      <td>-0.160269</td>\n",
       "      <td>-0.029085</td>\n",
       "      <td>0.040480</td>\n",
       "      <td>-0.151935</td>\n",
       "      <td>-0.260470</td>\n",
       "    </tr>\n",
       "    <tr>\n",
       "      <th>FULL_OOBM850104</th>\n",
       "      <td>-0.283758</td>\n",
       "      <td>0.513344</td>\n",
       "      <td>0.462712</td>\n",
       "      <td>0.334778</td>\n",
       "      <td>0.319157</td>\n",
       "      <td>1.000000</td>\n",
       "      <td>-0.230561</td>\n",
       "      <td>-0.336297</td>\n",
       "      <td>0.275640</td>\n",
       "      <td>-0.452769</td>\n",
       "      <td>0.155304</td>\n",
       "      <td>-0.453287</td>\n",
       "    </tr>\n",
       "    <tr>\n",
       "      <th>NT_EFC195</th>\n",
       "      <td>0.088068</td>\n",
       "      <td>-0.143168</td>\n",
       "      <td>-0.169540</td>\n",
       "      <td>-0.090058</td>\n",
       "      <td>-0.230417</td>\n",
       "      <td>-0.230561</td>\n",
       "      <td>1.000000</td>\n",
       "      <td>0.178683</td>\n",
       "      <td>-0.036844</td>\n",
       "      <td>0.145924</td>\n",
       "      <td>0.080898</td>\n",
       "      <td>0.260702</td>\n",
       "    </tr>\n",
       "    <tr>\n",
       "      <th>AS_MeanAmphiMoment</th>\n",
       "      <td>0.355477</td>\n",
       "      <td>-0.431590</td>\n",
       "      <td>-0.426097</td>\n",
       "      <td>-0.408793</td>\n",
       "      <td>-0.160269</td>\n",
       "      <td>-0.336297</td>\n",
       "      <td>0.178683</td>\n",
       "      <td>1.000000</td>\n",
       "      <td>-0.322378</td>\n",
       "      <td>0.025580</td>\n",
       "      <td>0.171524</td>\n",
       "      <td>0.693552</td>\n",
       "    </tr>\n",
       "    <tr>\n",
       "      <th>AS_DAYM780201</th>\n",
       "      <td>-0.365374</td>\n",
       "      <td>0.449621</td>\n",
       "      <td>0.456260</td>\n",
       "      <td>0.894191</td>\n",
       "      <td>-0.029085</td>\n",
       "      <td>0.275640</td>\n",
       "      <td>-0.036844</td>\n",
       "      <td>-0.322378</td>\n",
       "      <td>1.000000</td>\n",
       "      <td>0.045562</td>\n",
       "      <td>-0.256060</td>\n",
       "      <td>-0.437168</td>\n",
       "    </tr>\n",
       "    <tr>\n",
       "      <th>AS_FUKS010112</th>\n",
       "      <td>-0.090570</td>\n",
       "      <td>0.002334</td>\n",
       "      <td>0.032958</td>\n",
       "      <td>0.055915</td>\n",
       "      <td>0.040480</td>\n",
       "      <td>-0.452769</td>\n",
       "      <td>0.145924</td>\n",
       "      <td>0.025580</td>\n",
       "      <td>0.045562</td>\n",
       "      <td>1.000000</td>\n",
       "      <td>-0.445284</td>\n",
       "      <td>0.033432</td>\n",
       "    </tr>\n",
       "    <tr>\n",
       "      <th>CT_RACS820104</th>\n",
       "      <td>0.232929</td>\n",
       "      <td>-0.213543</td>\n",
       "      <td>-0.403599</td>\n",
       "      <td>-0.326792</td>\n",
       "      <td>-0.151935</td>\n",
       "      <td>0.155304</td>\n",
       "      <td>0.080898</td>\n",
       "      <td>0.171524</td>\n",
       "      <td>-0.256060</td>\n",
       "      <td>-0.445284</td>\n",
       "      <td>1.000000</td>\n",
       "      <td>0.267652</td>\n",
       "    </tr>\n",
       "    <tr>\n",
       "      <th>CLASS</th>\n",
       "      <td>0.534602</td>\n",
       "      <td>-0.598816</td>\n",
       "      <td>-0.584111</td>\n",
       "      <td>-0.554838</td>\n",
       "      <td>-0.260470</td>\n",
       "      <td>-0.453287</td>\n",
       "      <td>0.260702</td>\n",
       "      <td>0.693552</td>\n",
       "      <td>-0.437168</td>\n",
       "      <td>0.033432</td>\n",
       "      <td>0.267652</td>\n",
       "      <td>1.000000</td>\n",
       "    </tr>\n",
       "  </tbody>\n",
       "</table>\n",
       "</div>"
      ],
      "text/plain": [
       "                    FULL_Charge  FULL_AcidicMolPerc  FULL_AURR980107  \\\n",
       "FULL_Charge            1.000000           -0.612996        -0.490977   \n",
       "FULL_AcidicMolPerc    -0.612996            1.000000         0.794796   \n",
       "FULL_AURR980107       -0.490977            0.794796         1.000000   \n",
       "FULL_DAYM780201       -0.434603            0.541481         0.548253   \n",
       "FULL_GEOR030101       -0.058725            0.115201         0.346139   \n",
       "FULL_OOBM850104       -0.283758            0.513344         0.462712   \n",
       "NT_EFC195              0.088068           -0.143168        -0.169540   \n",
       "AS_MeanAmphiMoment     0.355477           -0.431590        -0.426097   \n",
       "AS_DAYM780201         -0.365374            0.449621         0.456260   \n",
       "AS_FUKS010112         -0.090570            0.002334         0.032958   \n",
       "CT_RACS820104          0.232929           -0.213543        -0.403599   \n",
       "CLASS                  0.534602           -0.598816        -0.584111   \n",
       "\n",
       "                    FULL_DAYM780201  FULL_GEOR030101  FULL_OOBM850104  \\\n",
       "FULL_Charge               -0.434603        -0.058725        -0.283758   \n",
       "FULL_AcidicMolPerc         0.541481         0.115201         0.513344   \n",
       "FULL_AURR980107            0.548253         0.346139         0.462712   \n",
       "FULL_DAYM780201            1.000000         0.010118         0.334778   \n",
       "FULL_GEOR030101            0.010118         1.000000         0.319157   \n",
       "FULL_OOBM850104            0.334778         0.319157         1.000000   \n",
       "NT_EFC195                 -0.090058        -0.230417        -0.230561   \n",
       "AS_MeanAmphiMoment        -0.408793        -0.160269        -0.336297   \n",
       "AS_DAYM780201              0.894191        -0.029085         0.275640   \n",
       "AS_FUKS010112              0.055915         0.040480        -0.452769   \n",
       "CT_RACS820104             -0.326792        -0.151935         0.155304   \n",
       "CLASS                     -0.554838        -0.260470        -0.453287   \n",
       "\n",
       "                    NT_EFC195  AS_MeanAmphiMoment  AS_DAYM780201  \\\n",
       "FULL_Charge          0.088068            0.355477      -0.365374   \n",
       "FULL_AcidicMolPerc  -0.143168           -0.431590       0.449621   \n",
       "FULL_AURR980107     -0.169540           -0.426097       0.456260   \n",
       "FULL_DAYM780201     -0.090058           -0.408793       0.894191   \n",
       "FULL_GEOR030101     -0.230417           -0.160269      -0.029085   \n",
       "FULL_OOBM850104     -0.230561           -0.336297       0.275640   \n",
       "NT_EFC195            1.000000            0.178683      -0.036844   \n",
       "AS_MeanAmphiMoment   0.178683            1.000000      -0.322378   \n",
       "AS_DAYM780201       -0.036844           -0.322378       1.000000   \n",
       "AS_FUKS010112        0.145924            0.025580       0.045562   \n",
       "CT_RACS820104        0.080898            0.171524      -0.256060   \n",
       "CLASS                0.260702            0.693552      -0.437168   \n",
       "\n",
       "                    AS_FUKS010112  CT_RACS820104     CLASS  \n",
       "FULL_Charge             -0.090570       0.232929  0.534602  \n",
       "FULL_AcidicMolPerc       0.002334      -0.213543 -0.598816  \n",
       "FULL_AURR980107          0.032958      -0.403599 -0.584111  \n",
       "FULL_DAYM780201          0.055915      -0.326792 -0.554838  \n",
       "FULL_GEOR030101          0.040480      -0.151935 -0.260470  \n",
       "FULL_OOBM850104         -0.452769       0.155304 -0.453287  \n",
       "NT_EFC195                0.145924       0.080898  0.260702  \n",
       "AS_MeanAmphiMoment       0.025580       0.171524  0.693552  \n",
       "AS_DAYM780201            0.045562      -0.256060 -0.437168  \n",
       "AS_FUKS010112            1.000000      -0.445284  0.033432  \n",
       "CT_RACS820104           -0.445284       1.000000  0.267652  \n",
       "CLASS                    0.033432       0.267652  1.000000  "
      ]
     },
     "execution_count": 12,
     "metadata": {},
     "output_type": "execute_result"
    }
   ],
   "source": [
    "Train.corr(method='pearson')"
   ]
  },
  {
   "cell_type": "markdown",
   "metadata": {},
   "source": [
    "## From the summary above, AS_DAYM780201 and FULL_DAYM780201  are the strongest positively correlated with a correlation of 0.894191 while FULL_AcidicMolPerc and FULL_Charge are the strongest negatively correlated attributes. This correlation can further be observed by plotting a heat map using seaborn to show the correlation of attributes with each other as shown below"
   ]
  },
  {
   "cell_type": "code",
   "execution_count": 13,
   "metadata": {},
   "outputs": [
    {
     "data": {
      "text/plain": [
       "<matplotlib.axes._subplots.AxesSubplot at 0x7f88083ffac8>"
      ]
     },
     "execution_count": 13,
     "metadata": {},
     "output_type": "execute_result"
    },
    {
     "data": {
      "image/png": "[encoded data removed]",
      "text/plain": [
       "<Figure size 720x720 with 2 Axes>"
      ]
     },
     "metadata": {
      "needs_background": "light"
     },
     "output_type": "display_data"
    }
   ],
   "source": [
    "plt.figure(figsize= (10,10))\n",
    "sns.heatmap(Train.corr(method = 'pearson'), cmap='Purples', robust=True, square=True, annot= True)"
   ]
  },
  {
   "cell_type": "markdown",
   "metadata": {},
   "source": [
    "## Using visualisation to understand the data at hand. Histograms, Density plots and Box and whisker plots are some of the plots used to understand the attribute distribution.\n",
    "## Histograms were used.\n",
    "\n",
    "<div class = 'alert alert-info'>\n",
    "    \n",
    "   ## ??"
   ]
  },
  {
   "cell_type": "markdown",
   "metadata": {},
   "source": [
    "### Using Histograms"
   ]
  },
  {
   "cell_type": "code",
   "execution_count": 14,
   "metadata": {},
   "outputs": [
    {
     "data": {
      "image/png": "[encoded data removed]",
      "text/plain": [
       "<Figure size 720x720 with 12 Axes>"
      ]
     },
     "metadata": {
      "needs_background": "light"
     },
     "output_type": "display_data"
    }
   ],
   "source": [
    "Train.hist(figsize=(10,10))\n",
    "plt.show()"
   ]
  },
  {
   "cell_type": "markdown",
   "metadata": {},
   "source": [
    "## From the histograms above, we can observe that attributes AS_MeanAmphiMoment, AS_DAYM780201, AS_FUKS010112, FULL_DAYM780201, FULL_GEOR030101, FULL_AURR980107,FULL_CHARGE have a normal. We can also tell from these plots that attribute CT_RACS820104 and FULL_AcidicMolPerc are skewed to the right. We can also tell that attributes NT_EFC195 and CLASS are categorical attributes. This can also be observed using density plots as shown below.\n",
    "\n",
    "<div class = 'alert alert-info'>\n",
    "    \n",
    "   ## ??"
   ]
  },
  {
   "cell_type": "markdown",
   "metadata": {},
   "source": [
    "### Using Density plots\n",
    "### With the density plot, we can easily make comparisons between variables in each column because the plot is less cluttered."
   ]
  },
  {
   "cell_type": "code",
   "execution_count": 15,
   "metadata": {},
   "outputs": [
    {
     "data": {
      "text/plain": [
       "<function matplotlib.pyplot.show(*args, **kw)>"
      ]
     },
     "execution_count": 15,
     "metadata": {},
     "output_type": "execute_result"
    },
    {
     "data": {
      "image/png": "[encoded data removed]",
      "text/plain": [
       "<Figure size 720x720 with 12 Axes>"
      ]
     },
     "metadata": {
      "needs_background": "light"
     },
     "output_type": "display_data"
    }
   ],
   "source": [
    "Train.plot(kind='density', figsize=(10,10), subplots=True, layout=(4,3), sharex=False)\n",
    "plt.show"
   ]
  },
  {
   "cell_type": "markdown",
   "metadata": {},
   "source": [
    "## Checking for the skewness of the data. Since many machine learning algorithms assume normal distribution,this allows one to know what attributes need to be corrected of skewness to improve the accuracy of the model. Skewness can be observed with bar plots of .skew().\n",
    "\n",
    "<div class = 'alert alert-success'>\n",
    "    Good explanation.\n",
    "    \n",
    "   So what did you findout?"
   ]
  },
  {
   "cell_type": "code",
   "execution_count": 16,
   "metadata": {},
   "outputs": [
    {
     "data": {
      "text/plain": [
       "<matplotlib.axes._subplots.AxesSubplot at 0x7f87c4087e10>"
      ]
     },
     "execution_count": 16,
     "metadata": {},
     "output_type": "execute_result"
    },
    {
     "data": {
      "image/png": "[encoded data removed]",
      "text/plain": [
       "<Figure size 720x432 with 1 Axes>"
      ]
     },
     "metadata": {
      "needs_background": "light"
     },
     "output_type": "display_data"
    }
   ],
   "source": [
    "Train.skew().plot(kind='bar', figsize=(10,6))"
   ]
  },
  {
   "cell_type": "code",
   "execution_count": 17,
   "metadata": {},
   "outputs": [
    {
     "data": {
      "text/plain": [
       "NT_EFC195\n",
       "0    2769\n",
       "1     269\n",
       "dtype: int64"
      ]
     },
     "execution_count": 17,
     "metadata": {},
     "output_type": "execute_result"
    }
   ],
   "source": [
    "# From above, attribute NT_EFC195 shows that its, skewed.\n",
    "Train.groupby('NT_EFC195').size()"
   ]
  },
  {
   "cell_type": "markdown",
   "metadata": {},
   "source": [
    "# Separating the train data set into output and input components"
   ]
  },
  {
   "cell_type": "code",
   "execution_count": 18,
   "metadata": {},
   "outputs": [],
   "source": [
    "A = Train.values\n",
    "X = A[:, 0:11]\n",
    "Y = A[:,11]"
   ]
  },
  {
   "cell_type": "markdown",
   "metadata": {},
   "source": [
    "## Spot checking classification algorithms since its a classification problem at hand.\n",
    "### This is done to know which algorithm is best suited for the problem at hand. Two linear machine learning algorithms(Logistic regression and Linear discriminant analysis) and four non-linear machine learning algorithm were used(k-nearest neighbors, naive bayes, support vector machines and classific regression tress. \n",
    "\n",
    "<div class = 'alert alert-info'>\n",
    "    \n",
    "   ## Less than 10 algorithms!!!"
   ]
  },
  {
   "cell_type": "code",
   "execution_count": 19,
   "metadata": {},
   "outputs": [
    {
     "name": "stdout",
     "output_type": "stream",
     "text": [
      "('LR', 0.8342865299822478)\n",
      "('LDA', 0.8377162908048379)\n",
      "('KNN', 0.8690586462107053)\n",
      "('CART', 1.0)\n",
      "('NB', 0.8407203694376205)\n",
      "('SVM', 0.8187103751493263)\n"
     ]
    },
    {
     "data": {
      "image/png": "[encoded data removed]",
      "text/plain": [
       "<Figure size 432x288 with 1 Axes>"
      ]
     },
     "metadata": {
      "needs_background": "light"
     },
     "output_type": "display_data"
    }
   ],
   "source": [
    "from pandas import read_csv\n",
    "from matplotlib import pyplot\n",
    "from sklearn.model_selection import KFold\n",
    "from sklearn.model_selection import cross_val_score\n",
    "from sklearn.linear_model import LogisticRegression\n",
    "from sklearn.tree import DecisionTreeClassifier\n",
    "from sklearn.neighbors import KNeighborsClassifier\n",
    "from sklearn.discriminant_analysis import LinearDiscriminantAnalysis\n",
    "from sklearn.naive_bayes import GaussianNB\n",
    "from sklearn.svm import SVC\n",
    "from sklearn.metrics import matthews_corrcoef\n",
    "\n",
    "#split the dataset \n",
    "#A = Train.values\n",
    "# Separating A into output and input components\n",
    "X = A[:, 0:11]\n",
    "Y = A[:, 11]\n",
    "# prepare models and add them to a list\n",
    "models = []\n",
    "models.append(('LR', LogisticRegression()))\n",
    "models.append(('LDA', LinearDiscriminantAnalysis()))\n",
    "models.append(('KNN', KNeighborsClassifier()))\n",
    "models.append(('CART', DecisionTreeClassifier()))\n",
    "models.append(('NB', GaussianNB()))\n",
    "models.append(('SVM', SVC()))\n",
    "#print(models)\n",
    "\n",
    "# evaluate each model in turn\n",
    "results = []\n",
    "names = []\n",
    "scoring = 'accuracy'\n",
    "\n",
    "for name, model in models:\n",
    "    kfold = KFold(n_splits=20, random_state=7)\n",
    "    cv_results = cross_val_score(model, X, Y, cv=kfold, scoring=scoring)\n",
    "    results.append(cv_results)\n",
    "    names.append(name)\n",
    "    model.fit(X, Y)\n",
    "\n",
    "    Prediction = model.predict(X)\n",
    "    msg = (name, matthews_corrcoef(Y, Prediction))\n",
    "    print(msg)\n",
    "\n",
    "# boxplot algorithm comparison\n",
    "fig = pyplot.figure()\n",
    "fig.suptitle('Algorithm Comparison')\n",
    "ax = fig.add_subplot(111)\n",
    "pyplot.boxplot(results)\n",
    "ax.set_xticklabels(names)\n",
    "pyplot.show()"
   ]
  },
  {
   "cell_type": "markdown",
   "metadata": {},
   "source": [
    "### From these results, it would suggest that both DecisionTreeClassifier, KNeighborsClassifier and GaussianNB are worthy of further study on this problem."
   ]
  },
  {
   "cell_type": "markdown",
   "metadata": {},
   "source": [
    "## Data Preparation.\n",
    "### This is important because this finds a way to best expose the structure of the problem to machine learning algorithim intended to be used. Since the data has attributes of varying  scales, its important to use one of the methods for data preparation like rescaling, standardization, normalization or binarization for better prediction. Here, rescaling is used to have all the attribute on the same scale."
   ]
  },
  {
   "cell_type": "code",
   "execution_count": 20,
   "metadata": {},
   "outputs": [
    {
     "name": "stdout",
     "output_type": "stream",
     "text": [
      "[[0.457 0.    0.348 0.545 0.33  0.483 0.    0.005 0.508 0.415 0.182]\n",
      " [0.435 0.116 0.322 0.489 0.276 0.458 1.    0.011 0.421 0.586 0.475]\n",
      " [0.467 0.116 0.246 0.523 0.288 0.565 0.    0.011 0.442 0.273 0.666]\n",
      " [0.457 0.089 0.275 0.399 0.403 0.647 0.    0.011 0.405 0.153 0.424]\n",
      " [0.511 0.183 0.323 0.373 0.342 0.595 0.    0.011 0.5   0.196 0.536]]\n"
     ]
    }
   ],
   "source": [
    "from numpy import set_printoptions\n",
    "from sklearn.preprocessing import MinMaxScaler\n",
    "\n",
    "A = Train.values\n",
    "# Separating A into output and input components\n",
    "X = A[:, 0:11]\n",
    "Y = A[:, 11]\n",
    "scaler = MinMaxScaler(feature_range= (0,1))\n",
    "rescaledX = scaler.fit_transform(X)\n",
    "\n",
    "# Summary of the transformed data\n",
    "set_printoptions(precision = 3) # This sets the number of floating point output after rescaling the data\n",
    "print(rescaledX[0:5, :]) # This is used as check to confirm that the data has been rescaled"
   ]
  },
  {
   "cell_type": "markdown",
   "metadata": {},
   "source": [
    "## Standardization\n",
    "### It is a useful technique to transform attributes with a Gaussian distribution and differing means and standard deviations to a standard Gaussian distribution with a mean of 0 and a standard deviation of 1"
   ]
  },
  {
   "cell_type": "code",
   "execution_count": 21,
   "metadata": {},
   "outputs": [
    {
     "name": "stdout",
     "output_type": "stream",
     "text": [
      "[[ 7.697e-01 -1.123e+00 -1.900e-01  1.376e-01 -6.067e-01 -7.206e-01\n",
      "  -3.117e-01 -1.331e+00 -2.257e-02 -3.610e-01 -9.251e-01]\n",
      " [ 5.079e-01 -4.109e-01 -3.763e-01 -2.432e-01 -1.181e+00 -9.245e-01\n",
      "   3.208e+00 -1.303e+00 -5.924e-01  9.021e-01  1.037e+00]\n",
      " [ 9.006e-01 -4.109e-01 -9.163e-01 -8.651e-03 -1.054e+00 -4.632e-02\n",
      "  -3.117e-01 -1.304e+00 -4.590e-01 -1.409e+00  2.318e+00]\n",
      " [ 7.697e-01 -5.741e-01 -7.115e-01 -8.701e-01  1.594e-01  6.274e-01\n",
      "  -3.117e-01 -1.302e+00 -7.015e-01 -2.300e+00  6.989e-01]\n",
      " [ 1.424e+00  2.041e-03 -3.670e-01 -1.050e+00 -4.790e-01  2.003e-01\n",
      "  -3.117e-01 -1.302e+00 -7.713e-02 -1.977e+00  1.447e+00]]\n"
     ]
    }
   ],
   "source": [
    "from numpy import set_printoptions\n",
    "from sklearn.preprocessing import StandardScaler\n",
    "B= Train.values\n",
    "#Separating the array into intput and output components\n",
    "X = B[:, 0:11]\n",
    "Y = B[:, 11]\n",
    "scaler2 = StandardScaler()\n",
    "standardizedX = scaler2.fit_transform(X)\n",
    "# A portion of the transformed data\n",
    "set_printoptions(precision = 3) # This sets the number of floating point output after rescaling the data\n",
    "print(standardizedX[0:5,:]) # This is used as check to confirm that the data has been rescaled"
   ]
  },
  {
   "cell_type": "markdown",
   "metadata": {},
   "source": [
    "## Feature selection\n",
    "### Statistical tests can be used to select those features that have the strongest relationship with the output variable. Feature selection is done on non transformed data using select k best using he univariate statistic F was used since it can work best with data containg negative values as opposed to chi2 that doesnt take in negative values."
   ]
  },
  {
   "cell_type": "code",
   "execution_count": 22,
   "metadata": {},
   "outputs": [
    {
     "data": {
      "text/html": [
       "<div>\n",
       "<style scoped>\n",
       "    .dataframe tbody tr th:only-of-type {\n",
       "        vertical-align: middle;\n",
       "    }\n",
       "\n",
       "    .dataframe tbody tr th {\n",
       "        vertical-align: top;\n",
       "    }\n",
       "\n",
       "    .dataframe thead th {\n",
       "        text-align: right;\n",
       "    }\n",
       "</style>\n",
       "<table border=\"1\" class=\"dataframe\">\n",
       "  <thead>\n",
       "    <tr style=\"text-align: right;\">\n",
       "      <th></th>\n",
       "      <th>features</th>\n",
       "      <th>scores</th>\n",
       "      <th>pvalue</th>\n",
       "    </tr>\n",
       "  </thead>\n",
       "  <tbody>\n",
       "    <tr>\n",
       "      <th>7</th>\n",
       "      <td>AS_MeanAmphiMoment</td>\n",
       "      <td>2813.868178</td>\n",
       "      <td>0.000000e+00</td>\n",
       "    </tr>\n",
       "    <tr>\n",
       "      <th>1</th>\n",
       "      <td>FULL_AcidicMolPerc</td>\n",
       "      <td>1697.249565</td>\n",
       "      <td>4.220004e-295</td>\n",
       "    </tr>\n",
       "    <tr>\n",
       "      <th>2</th>\n",
       "      <td>FULL_AURR980107</td>\n",
       "      <td>1572.280677</td>\n",
       "      <td>1.887905e-277</td>\n",
       "    </tr>\n",
       "    <tr>\n",
       "      <th>3</th>\n",
       "      <td>FULL_DAYM780201</td>\n",
       "      <td>1350.300743</td>\n",
       "      <td>6.997934e-245</td>\n",
       "    </tr>\n",
       "    <tr>\n",
       "      <th>0</th>\n",
       "      <td>FULL_Charge</td>\n",
       "      <td>1214.902838</td>\n",
       "      <td>3.404241e-224</td>\n",
       "    </tr>\n",
       "    <tr>\n",
       "      <th>5</th>\n",
       "      <td>FULL_OOBM850104</td>\n",
       "      <td>785.124798</td>\n",
       "      <td>7.441087e-154</td>\n",
       "    </tr>\n",
       "    <tr>\n",
       "      <th>8</th>\n",
       "      <td>AS_DAYM780201</td>\n",
       "      <td>717.317408</td>\n",
       "      <td>4.911002e-142</td>\n",
       "    </tr>\n",
       "    <tr>\n",
       "      <th>10</th>\n",
       "      <td>CT_RACS820104</td>\n",
       "      <td>234.274197</td>\n",
       "      <td>5.329249e-51</td>\n",
       "    </tr>\n",
       "  </tbody>\n",
       "</table>\n",
       "</div>"
      ],
      "text/plain": [
       "              features       scores         pvalue\n",
       "7   AS_MeanAmphiMoment  2813.868178   0.000000e+00\n",
       "1   FULL_AcidicMolPerc  1697.249565  4.220004e-295\n",
       "2      FULL_AURR980107  1572.280677  1.887905e-277\n",
       "3      FULL_DAYM780201  1350.300743  6.997934e-245\n",
       "0          FULL_Charge  1214.902838  3.404241e-224\n",
       "5      FULL_OOBM850104   785.124798  7.441087e-154\n",
       "8        AS_DAYM780201   717.317408  4.911002e-142\n",
       "10       CT_RACS820104   234.274197   5.329249e-51"
      ]
     },
     "execution_count": 22,
     "metadata": {},
     "output_type": "execute_result"
    }
   ],
   "source": [
    "from sklearn.feature_selection import SelectKBest, f_classif\n",
    "from numpy import set_printoptions\n",
    "\n",
    "#Feature Extraction\n",
    "bestfeat = SelectKBest(score_func=f_classif, k=8)\n",
    "fit = bestfeat.fit(X,Y)\n",
    "\n",
    "set_printoptions(precision=3) # This sets the number of floating point output after rescaling the data\n",
    "selected_features = fit.transform(X)\n",
    "\n",
    "scores = pd.DataFrame(fit.scores_)\n",
    "pvalues = pd.DataFrame(fit.pvalues_)\n",
    "columns = pd.DataFrame(Train.columns[0:11])\n",
    "\n",
    "selected_features = pd.concat([columns,scores, pvalues,], axis=1)\n",
    "selected_features.columns = ['features', 'scores', 'pvalue']\n",
    "selected_features.nlargest(8, \"scores\")"
   ]
  },
  {
   "cell_type": "markdown",
   "metadata": {},
   "source": [
    "### SelectKBest using the f statistic, gives scores to each attribute and takes the specified number of attributes with the highest scores. Attributes AS_MeanAmphiMoment, FULL_AcidicMolPerc, FULL_AURR980107, FULL_DAYM780201, FULL_Charge, FULL_OOBM850104, AS_DAYM780201 and CT_RACS820104 were the selected features."
   ]
  },
  {
   "cell_type": "markdown",
   "metadata": {},
   "source": [
    "### Chi2 statistical test was used to since there were no negative values in the attributes after rescaling with the minmax scaler."
   ]
  },
  {
   "cell_type": "code",
   "execution_count": 23,
   "metadata": {},
   "outputs": [
    {
     "data": {
      "text/html": [
       "<div>\n",
       "<style scoped>\n",
       "    .dataframe tbody tr th:only-of-type {\n",
       "        vertical-align: middle;\n",
       "    }\n",
       "\n",
       "    .dataframe tbody tr th {\n",
       "        vertical-align: top;\n",
       "    }\n",
       "\n",
       "    .dataframe thead th {\n",
       "        text-align: right;\n",
       "    }\n",
       "</style>\n",
       "<table border=\"1\" class=\"dataframe\">\n",
       "  <thead>\n",
       "    <tr style=\"text-align: right;\">\n",
       "      <th></th>\n",
       "      <th>features</th>\n",
       "      <th>scores</th>\n",
       "      <th>pvalue</th>\n",
       "    </tr>\n",
       "  </thead>\n",
       "  <tbody>\n",
       "    <tr>\n",
       "      <th>7</th>\n",
       "      <td>AS_MeanAmphiMoment</td>\n",
       "      <td>244.227728</td>\n",
       "      <td>4.708742e-55</td>\n",
       "    </tr>\n",
       "    <tr>\n",
       "      <th>6</th>\n",
       "      <td>NT_EFC195</td>\n",
       "      <td>188.197026</td>\n",
       "      <td>7.868482e-43</td>\n",
       "    </tr>\n",
       "    <tr>\n",
       "      <th>1</th>\n",
       "      <td>FULL_AcidicMolPerc</td>\n",
       "      <td>157.617513</td>\n",
       "      <td>3.751602e-36</td>\n",
       "    </tr>\n",
       "    <tr>\n",
       "      <th>2</th>\n",
       "      <td>FULL_AURR980107</td>\n",
       "      <td>54.231448</td>\n",
       "      <td>1.782118e-13</td>\n",
       "    </tr>\n",
       "    <tr>\n",
       "      <th>3</th>\n",
       "      <td>FULL_DAYM780201</td>\n",
       "      <td>37.311780</td>\n",
       "      <td>1.006747e-09</td>\n",
       "    </tr>\n",
       "    <tr>\n",
       "      <th>8</th>\n",
       "      <td>AS_DAYM780201</td>\n",
       "      <td>26.156224</td>\n",
       "      <td>3.148806e-07</td>\n",
       "    </tr>\n",
       "    <tr>\n",
       "      <th>5</th>\n",
       "      <td>FULL_OOBM850104</td>\n",
       "      <td>16.231433</td>\n",
       "      <td>5.605627e-05</td>\n",
       "    </tr>\n",
       "    <tr>\n",
       "      <th>0</th>\n",
       "      <td>FULL_Charge</td>\n",
       "      <td>15.245249</td>\n",
       "      <td>9.441397e-05</td>\n",
       "    </tr>\n",
       "  </tbody>\n",
       "</table>\n",
       "</div>"
      ],
      "text/plain": [
       "             features      scores        pvalue\n",
       "7  AS_MeanAmphiMoment  244.227728  4.708742e-55\n",
       "6           NT_EFC195  188.197026  7.868482e-43\n",
       "1  FULL_AcidicMolPerc  157.617513  3.751602e-36\n",
       "2     FULL_AURR980107   54.231448  1.782118e-13\n",
       "3     FULL_DAYM780201   37.311780  1.006747e-09\n",
       "8       AS_DAYM780201   26.156224  3.148806e-07\n",
       "5     FULL_OOBM850104   16.231433  5.605627e-05\n",
       "0         FULL_Charge   15.245249  9.441397e-05"
      ]
     },
     "execution_count": 23,
     "metadata": {},
     "output_type": "execute_result"
    }
   ],
   "source": [
    "from sklearn.feature_selection import SelectKBest\n",
    "from sklearn.feature_selection import chi2\n",
    "\n",
    "#Feature Extraction\n",
    "test = SelectKBest(score_func=chi2, k=8)\n",
    "fit = test.fit(rescaledX,Y)\n",
    "\n",
    "# Summary of scores \n",
    "set_printoptions(precision=3) # This sets the number of floating point output after rescaling the data\n",
    "#print(fit.scores_)\n",
    "selected_features1 = fit.transform(rescaledX)\n",
    "\n",
    "scores = pd.DataFrame(fit.scores_)\n",
    "pvalues = pd.DataFrame(fit.pvalues_)\n",
    "columns = pd.DataFrame(Train.columns[0:11])\n",
    "\n",
    "selected_features1 = pd.concat([columns,scores, pvalues,], axis=1)\n",
    "selected_features1.columns = ['features', 'scores', 'pvalue']\n",
    "selected_features1.nlargest(8, \"scores\")"
   ]
  },
  {
   "cell_type": "markdown",
   "metadata": {},
   "source": [
    "## Feature selection using the recursive feature selection method with LG"
   ]
  },
  {
   "cell_type": "code",
   "execution_count": 24,
   "metadata": {},
   "outputs": [
    {
     "ename": "NameError",
     "evalue": "name 'rescaledX2' is not defined",
     "output_type": "error",
     "traceback": [
      "\u001b[0;31m---------------------------------------------------------------------------\u001b[0m",
      "\u001b[0;31mNameError\u001b[0m                                 Traceback (most recent call last)",
      "\u001b[0;32m<ipython-input-24-57513500620e>\u001b[0m in \u001b[0;36m<module>\u001b[0;34m\u001b[0m\n\u001b[1;32m      3\u001b[0m \u001b[0mmodel\u001b[0m \u001b[0;34m=\u001b[0m \u001b[0mLogisticRegression\u001b[0m\u001b[0;34m(\u001b[0m\u001b[0;34m)\u001b[0m\u001b[0;34m\u001b[0m\u001b[0m\n\u001b[1;32m      4\u001b[0m \u001b[0mrfe\u001b[0m\u001b[0;34m=\u001b[0m \u001b[0mRFE\u001b[0m\u001b[0;34m(\u001b[0m\u001b[0mmodel\u001b[0m\u001b[0;34m,\u001b[0m\u001b[0;36m5\u001b[0m\u001b[0;34m)\u001b[0m\u001b[0;34m\u001b[0m\u001b[0m\n\u001b[0;32m----> 5\u001b[0;31m \u001b[0mfit\u001b[0m \u001b[0;34m=\u001b[0m \u001b[0mrfe\u001b[0m\u001b[0;34m.\u001b[0m\u001b[0mfit\u001b[0m\u001b[0;34m(\u001b[0m\u001b[0mrescaledX2\u001b[0m\u001b[0;34m,\u001b[0m \u001b[0mY\u001b[0m\u001b[0;34m)\u001b[0m\u001b[0;34m\u001b[0m\u001b[0m\n\u001b[0m\u001b[1;32m      6\u001b[0m \u001b[0mselectedfeaturesRFE\u001b[0m \u001b[0;34m=\u001b[0m \u001b[0mrescaledX2\u001b[0m\u001b[0;34m[\u001b[0m\u001b[0;34m:\u001b[0m\u001b[0;34m,\u001b[0m \u001b[0mfit\u001b[0m\u001b[0;34m.\u001b[0m\u001b[0msupport_\u001b[0m\u001b[0;34m]\u001b[0m\u001b[0;34m\u001b[0m\u001b[0m\n\u001b[1;32m      7\u001b[0m \u001b[0;34m\u001b[0m\u001b[0m\n",
      "\u001b[0;31mNameError\u001b[0m: name 'rescaledX2' is not defined"
     ]
    }
   ],
   "source": [
    "from sklearn.feature_selection import RFE\n",
    "from sklearn.linear_model import LogisticRegression\n",
    "model = LogisticRegression()\n",
    "rfe= RFE(model,5)\n",
    "fit = rfe.fit(rescaledX2, Y)\n",
    "selectedfeaturesRFE = rescaledX2[:, fit.support_]\n",
    "\n",
    "print(\"Num_Feature:\", fit.n_features_)\n",
    "print(\"Selected Features:\", fit.support_)\n",
    "print(\"Feature Ranking:\", fit.ranking_)"
   ]
  },
  {
   "cell_type": "markdown",
   "metadata": {},
   "source": [
    "## Evaluating Machine learning Alogorithms\n",
    "## K-fold Cross Validation\n",
    "### Cross validation is an approach that you can use to estimate the performance of a machine learning algorithm with less variance than a single train-test set split. It works by splitting the dataset into k-parts (e.g. k = 5 or k = 10). Each split of the data is called a fold. The algorithm is trained on k1 folds with one held back and tested on the held back fold. This is repeated so that each fold of the dataset is given a chance to be the held back test set. The choice of k must allow the size of each test partition to be large enough to be a reasonable sample of the problem, whilst allowing enough repetitions of the train-test evaluation of the algorithm to provide a fair estimate of the algorithms performance on unseen data. For modest sized datasets in the thousands or tens of thousands of records, k values of 3, 5 and 10 are common. In the example below we use 10-fold cross validation."
   ]
  },
  {
   "cell_type": "code",
   "execution_count": 25,
   "metadata": {},
   "outputs": [
    {
     "ename": "NameError",
     "evalue": "name 'selected_features_train' is not defined",
     "output_type": "error",
     "traceback": [
      "\u001b[0;31m---------------------------------------------------------------------------\u001b[0m",
      "\u001b[0;31mNameError\u001b[0m                                 Traceback (most recent call last)",
      "\u001b[0;32m<ipython-input-25-8757a9bafb21>\u001b[0m in \u001b[0;36m<module>\u001b[0;34m\u001b[0m\n\u001b[1;32m      7\u001b[0m \u001b[0mkfold\u001b[0m \u001b[0;34m=\u001b[0m \u001b[0mKFold\u001b[0m\u001b[0;34m(\u001b[0m\u001b[0mn_splits\u001b[0m\u001b[0;34m=\u001b[0m\u001b[0mnum_folds\u001b[0m\u001b[0;34m,\u001b[0m \u001b[0mrandom_state\u001b[0m\u001b[0;34m=\u001b[0m\u001b[0mseed\u001b[0m\u001b[0;34m)\u001b[0m\u001b[0;34m\u001b[0m\u001b[0m\n\u001b[1;32m      8\u001b[0m \u001b[0mmodel11\u001b[0m \u001b[0;34m=\u001b[0m \u001b[0mLogisticRegression\u001b[0m\u001b[0;34m(\u001b[0m\u001b[0;34m)\u001b[0m\u001b[0;34m\u001b[0m\u001b[0m\n\u001b[0;32m----> 9\u001b[0;31m \u001b[0mmodel11\u001b[0m\u001b[0;34m.\u001b[0m\u001b[0mfit\u001b[0m\u001b[0;34m(\u001b[0m\u001b[0mselected_features_train\u001b[0m\u001b[0;34m,\u001b[0m \u001b[0mY_train\u001b[0m\u001b[0;34m)\u001b[0m\u001b[0;34m\u001b[0m\u001b[0m\n\u001b[0m\u001b[1;32m     10\u001b[0m \u001b[0;34m\u001b[0m\u001b[0m\n\u001b[1;32m     11\u001b[0m \u001b[0mresults\u001b[0m \u001b[0;34m=\u001b[0m \u001b[0mcross_val_score\u001b[0m\u001b[0;34m(\u001b[0m\u001b[0mmodel11\u001b[0m\u001b[0;34m,\u001b[0m \u001b[0mselected_features\u001b[0m\u001b[0;34m,\u001b[0m \u001b[0mY\u001b[0m\u001b[0;34m,\u001b[0m \u001b[0mcv\u001b[0m\u001b[0;34m=\u001b[0m\u001b[0mkfold\u001b[0m\u001b[0;34m)\u001b[0m\u001b[0;34m\u001b[0m\u001b[0m\n",
      "\u001b[0;31mNameError\u001b[0m: name 'selected_features_train' is not defined"
     ]
    }
   ],
   "source": [
    "from sklearn.model_selection import KFold\n",
    "from sklearn.model_selection import cross_val_score\n",
    "from sklearn.linear_model import LogisticRegression\n",
    "\n",
    "num_folds = 10\n",
    "seed = 11\n",
    "kfold = KFold(n_splits=num_folds, random_state=seed)\n",
    "model11 = LogisticRegression()\n",
    "model11.fit(selected_features_train, Y_train)\n",
    "\n",
    "results = cross_val_score(model11, selected_features, Y, cv=kfold)\n",
    "Prediction = model11.predict(selected_features_train)\n",
    "print(\"MCC:\", (matthews_corrcoef(Y_train, Prediction)))\n",
    "print(\"Accuracy:\", (results.mean()*100.0))\n",
    "#Assigning the preditions of the model to variable AssignmentOutPut\n",
    "AssignmentOutPut11 = model11.predict(Test.values) \n",
    "#Converting AssignmentOutPut to a dataframe since its output is an array\n",
    "AssignmentOutPut11 = pd.DataFrame(AssignmentOutPut11)\n",
    "\n",
    "AssignmentOutPut11.columns = ['Class'] # Naming the output column\n",
    "AssignmentOutPut11.index.name = \"Index\" #Creating a column called index\n",
    "AssignmentOutPut11['Class'] = AssignmentOutPut11['Class'].map({0.0:False, 1.0:True}) # Converting 0.0 to false and 1.0 to true\n",
    "\n",
    "#Printing the number of False and Trues\n",
    "print(AssignmentOutPut11.groupby('Class').size()[0].sum())\n",
    "print(AssignmentOutPut11.groupby('Class').size()[1].sum())\n",
    "\n",
    "AssignmentOutPut11.to_csv('AssignmentOutPut1.csv') # Writing AssignmentOutPut1 to a csv file"
   ]
  },
  {
   "cell_type": "code",
   "execution_count": 26,
   "metadata": {},
   "outputs": [
    {
     "ename": "NameError",
     "evalue": "name 'selected_features_train' is not defined",
     "output_type": "error",
     "traceback": [
      "\u001b[0;31m---------------------------------------------------------------------------\u001b[0m",
      "\u001b[0;31mNameError\u001b[0m                                 Traceback (most recent call last)",
      "\u001b[0;32m<ipython-input-26-81f628d3fdb4>\u001b[0m in \u001b[0;36m<module>\u001b[0;34m\u001b[0m\n\u001b[1;32m      7\u001b[0m \u001b[0mkfold\u001b[0m \u001b[0;34m=\u001b[0m \u001b[0mKFold\u001b[0m\u001b[0;34m(\u001b[0m\u001b[0mn_splits\u001b[0m\u001b[0;34m=\u001b[0m\u001b[0mnum_folds\u001b[0m\u001b[0;34m,\u001b[0m \u001b[0mrandom_state\u001b[0m\u001b[0;34m=\u001b[0m\u001b[0mseed\u001b[0m\u001b[0;34m)\u001b[0m\u001b[0;34m\u001b[0m\u001b[0m\n\u001b[1;32m      8\u001b[0m \u001b[0mmodel22\u001b[0m \u001b[0;34m=\u001b[0m \u001b[0mGaussianNB\u001b[0m\u001b[0;34m(\u001b[0m\u001b[0;34m)\u001b[0m\u001b[0;34m\u001b[0m\u001b[0m\n\u001b[0;32m----> 9\u001b[0;31m \u001b[0mmodel22\u001b[0m\u001b[0;34m.\u001b[0m\u001b[0mfit\u001b[0m\u001b[0;34m(\u001b[0m\u001b[0mselected_features_train\u001b[0m\u001b[0;34m,\u001b[0m \u001b[0mY_train\u001b[0m\u001b[0;34m)\u001b[0m\u001b[0;34m\u001b[0m\u001b[0m\n\u001b[0m\u001b[1;32m     10\u001b[0m \u001b[0;34m\u001b[0m\u001b[0m\n\u001b[1;32m     11\u001b[0m \u001b[0mresults\u001b[0m \u001b[0;34m=\u001b[0m \u001b[0mcross_val_score\u001b[0m\u001b[0;34m(\u001b[0m\u001b[0mmodel22\u001b[0m\u001b[0;34m,\u001b[0m \u001b[0mselected_features\u001b[0m\u001b[0;34m,\u001b[0m \u001b[0mY\u001b[0m\u001b[0;34m,\u001b[0m \u001b[0mcv\u001b[0m\u001b[0;34m=\u001b[0m\u001b[0mkfold\u001b[0m\u001b[0;34m)\u001b[0m\u001b[0;34m\u001b[0m\u001b[0m\n",
      "\u001b[0;31mNameError\u001b[0m: name 'selected_features_train' is not defined"
     ]
    }
   ],
   "source": [
    "from sklearn.model_selection import KFold\n",
    "from sklearn.model_selection import cross_val_score\n",
    "from sklearn.naive_bayes import GaussianNB\n",
    "\n",
    "num_folds = 10\n",
    "seed = 22\n",
    "kfold = KFold(n_splits=num_folds, random_state=seed)\n",
    "model22 = GaussianNB()\n",
    "model22.fit(selected_features_train, Y_train)\n",
    "\n",
    "results = cross_val_score(model22, selected_features, Y, cv=kfold)\n",
    "Prediction = model22.predict(selected_features_train)\n",
    "print(\"MCC:\", (matthews_corrcoef(Y_train, Prediction)))\n",
    "print(\"Accuracy:\", (results.mean()*100.0))\n",
    "\n",
    "#Assigning the preditions of the model to variable AssignmentOutPut\n",
    "AssignmentOutPut22 = model22.predict(Test.values) \n",
    "#Converting AssignmentOutPut to a dataframe since its output is an array\n",
    "AssignmentOutPut22 = pd.DataFrame(AssignmentOutPut22)\n",
    "\n",
    "AssignmentOutPut22.columns = ['Class'] # Naming the output column\n",
    "AssignmentOutPut22.index.name = \"Index\" #Creating a column called index\n",
    "AssignmentOutPut22['Class'] = AssignmentOutPut22['Class'].map({0.0:False, 1.0:True}) # Converting 0.0 to false and 1.0 to true\n",
    "\n",
    "#Printing the number of False and Trues\n",
    "print(AssignmentOutPut22.groupby('Class').size()[0].sum())\n",
    "print(AssignmentOutPut22.groupby('Class').size()[1].sum())\n",
    "\n",
    "AssignmentOutPut22.to_csv('AssignmentOutPut22.csv') # Writing AssignmentOutPut1 to a csv file"
   ]
  },
  {
   "cell_type": "code",
   "execution_count": 27,
   "metadata": {},
   "outputs": [
    {
     "ename": "NameError",
     "evalue": "name 'selected_features_train' is not defined",
     "output_type": "error",
     "traceback": [
      "\u001b[0;31m---------------------------------------------------------------------------\u001b[0m",
      "\u001b[0;31mNameError\u001b[0m                                 Traceback (most recent call last)",
      "\u001b[0;32m<ipython-input-27-20db47961da3>\u001b[0m in \u001b[0;36m<module>\u001b[0;34m\u001b[0m\n\u001b[1;32m      7\u001b[0m \u001b[0mkfold\u001b[0m \u001b[0;34m=\u001b[0m \u001b[0mKFold\u001b[0m\u001b[0;34m(\u001b[0m\u001b[0mn_splits\u001b[0m\u001b[0;34m=\u001b[0m\u001b[0mnum_folds\u001b[0m\u001b[0;34m,\u001b[0m \u001b[0mrandom_state\u001b[0m\u001b[0;34m=\u001b[0m\u001b[0mseed\u001b[0m\u001b[0;34m)\u001b[0m\u001b[0;34m\u001b[0m\u001b[0m\n\u001b[1;32m      8\u001b[0m \u001b[0mmodel33\u001b[0m \u001b[0;34m=\u001b[0m \u001b[0mKNeighborsClassifier\u001b[0m\u001b[0;34m(\u001b[0m\u001b[0;34m)\u001b[0m\u001b[0;34m\u001b[0m\u001b[0m\n\u001b[0;32m----> 9\u001b[0;31m \u001b[0mmodel33\u001b[0m\u001b[0;34m.\u001b[0m\u001b[0mfit\u001b[0m\u001b[0;34m(\u001b[0m\u001b[0mselected_features_train\u001b[0m\u001b[0;34m,\u001b[0m \u001b[0mY_train\u001b[0m\u001b[0;34m)\u001b[0m\u001b[0;34m\u001b[0m\u001b[0m\n\u001b[0m\u001b[1;32m     10\u001b[0m \u001b[0;34m\u001b[0m\u001b[0m\n\u001b[1;32m     11\u001b[0m \u001b[0mresults\u001b[0m \u001b[0;34m=\u001b[0m \u001b[0mcross_val_score\u001b[0m\u001b[0;34m(\u001b[0m\u001b[0mmodel33\u001b[0m\u001b[0;34m,\u001b[0m \u001b[0mselected_features\u001b[0m\u001b[0;34m,\u001b[0m \u001b[0mY\u001b[0m\u001b[0;34m,\u001b[0m \u001b[0mcv\u001b[0m\u001b[0;34m=\u001b[0m\u001b[0mkfold\u001b[0m\u001b[0;34m)\u001b[0m\u001b[0;34m\u001b[0m\u001b[0m\n",
      "\u001b[0;31mNameError\u001b[0m: name 'selected_features_train' is not defined"
     ]
    }
   ],
   "source": [
    "from sklearn.model_selection import KFold\n",
    "from sklearn.model_selection import cross_val_score\n",
    "from sklearn.neighbors import KNeighborsClassifier\n",
    "\n",
    "num_folds = 10\n",
    "seed = 33\n",
    "kfold = KFold(n_splits=num_folds, random_state=seed)\n",
    "model33 = KNeighborsClassifier()\n",
    "model33.fit(selected_features_train, Y_train)\n",
    "\n",
    "results = cross_val_score(model33, selected_features, Y, cv=kfold)\n",
    "print(\"MCC:\", (matthews_corrcoef(Y_train, Prediction)))\n",
    "print(\"Accuracy:\", (results.mean()*100.0))\n",
    "\n",
    "#Assigning the preditions of the model to variable AssignmentOutPut\n",
    "AssignmentOutPut33 = model33.predict(Test.values) \n",
    "#Converting AssignmentOutPut to a dataframe since its output is an array\n",
    "AssignmentOutPut33 = pd.DataFrame(AssignmentOutPut33)\n",
    "\n",
    "AssignmentOutPut33.columns = ['Class'] # Naming the output column\n",
    "AssignmentOutPut33.index.name = \"Index\" #Creating a column called index\n",
    "AssignmentOutPut33['Class'] = AssignmentOutPut33['Class'].map({0.0:False, 1.0:True}) # Converting 0.0 to false and 1.0 to true\n",
    "\n",
    "#Printing the number of False and Trues\n",
    "print(AssignmentOutPut33.groupby('Class').size()[0].sum())\n",
    "print(AssignmentOutPut33.groupby('Class').size()[1].sum())\n",
    "\n",
    "AssignmentOutPut33.to_csv('AssignmentOutPut33.csv') # Writing AssignmentOutPut1 to a csv file"
   ]
  },
  {
   "cell_type": "code",
   "execution_count": 28,
   "metadata": {},
   "outputs": [
    {
     "ename": "NameError",
     "evalue": "name 'selected_features_train' is not defined",
     "output_type": "error",
     "traceback": [
      "\u001b[0;31m---------------------------------------------------------------------------\u001b[0m",
      "\u001b[0;31mNameError\u001b[0m                                 Traceback (most recent call last)",
      "\u001b[0;32m<ipython-input-28-f59e53423add>\u001b[0m in \u001b[0;36m<module>\u001b[0;34m\u001b[0m\n\u001b[1;32m      7\u001b[0m \u001b[0mkfold\u001b[0m \u001b[0;34m=\u001b[0m \u001b[0mKFold\u001b[0m\u001b[0;34m(\u001b[0m\u001b[0mn_splits\u001b[0m\u001b[0;34m=\u001b[0m\u001b[0mnum_folds\u001b[0m\u001b[0;34m,\u001b[0m \u001b[0mrandom_state\u001b[0m\u001b[0;34m=\u001b[0m\u001b[0mseed\u001b[0m\u001b[0;34m)\u001b[0m\u001b[0;34m\u001b[0m\u001b[0m\n\u001b[1;32m      8\u001b[0m \u001b[0mmodel44\u001b[0m \u001b[0;34m=\u001b[0m \u001b[0mDecisionTreeClassifier\u001b[0m\u001b[0;34m(\u001b[0m\u001b[0;34m)\u001b[0m\u001b[0;34m\u001b[0m\u001b[0m\n\u001b[0;32m----> 9\u001b[0;31m \u001b[0mmodel44\u001b[0m\u001b[0;34m.\u001b[0m\u001b[0mfit\u001b[0m\u001b[0;34m(\u001b[0m\u001b[0mselected_features_train\u001b[0m\u001b[0;34m,\u001b[0m \u001b[0mY_train\u001b[0m\u001b[0;34m)\u001b[0m\u001b[0;34m\u001b[0m\u001b[0m\n\u001b[0m\u001b[1;32m     10\u001b[0m \u001b[0;34m\u001b[0m\u001b[0m\n\u001b[1;32m     11\u001b[0m \u001b[0mresults\u001b[0m \u001b[0;34m=\u001b[0m \u001b[0mcross_val_score\u001b[0m\u001b[0;34m(\u001b[0m\u001b[0mmodel44\u001b[0m\u001b[0;34m,\u001b[0m \u001b[0mselected_features\u001b[0m\u001b[0;34m,\u001b[0m \u001b[0mY\u001b[0m\u001b[0;34m,\u001b[0m \u001b[0mcv\u001b[0m\u001b[0;34m=\u001b[0m\u001b[0mkfold\u001b[0m\u001b[0;34m)\u001b[0m\u001b[0;34m\u001b[0m\u001b[0m\n",
      "\u001b[0;31mNameError\u001b[0m: name 'selected_features_train' is not defined"
     ]
    }
   ],
   "source": [
    "from sklearn.model_selection import KFold\n",
    "from sklearn.model_selection import cross_val_score\n",
    "from sklearn.tree import DecisionTreeClassifier\n",
    "\n",
    "num_folds = 10\n",
    "seed = 44\n",
    "kfold = KFold(n_splits=num_folds, random_state=seed)\n",
    "model44 = DecisionTreeClassifier()\n",
    "model44.fit(selected_features_train, Y_train)\n",
    "\n",
    "results = cross_val_score(model44, selected_features, Y, cv=kfold)\n",
    "print(\"MCC:\", (matthews_corrcoef(Y_train, Prediction)))\n",
    "print(\"Accuracy:\", (results.mean()*100.0))\n",
    "\n",
    "#Assigning the preditions of the model to variable AssignmentOutPut\n",
    "AssignmentOutPut44 = model44.predict(Test.values) \n",
    "#Converting AssignmentOutPut to a dataframe since its output is an array\n",
    "AssignmentOutPut44 = pd.DataFrame(AssignmentOutPut44)\n",
    "\n",
    "AssignmentOutPut44.columns = ['Class'] # Naming the output column\n",
    "AssignmentOutPut44.index.name = \"Index\" #Creating a column called index\n",
    "AssignmentOutPut44['Class'] = AssignmentOutPut44['Class'].map({0.0:False, 1.0:True}) # Converting 0.0 to false and 1.0 to true\n",
    "\n",
    "#Printing the number of False and Trues\n",
    "print(AssignmentOutPut44.groupby('Class').size()[0].sum())\n",
    "print(AssignmentOutPut44.groupby('Class').size()[1].sum())\n",
    "\n",
    "AssignmentOutPut44.to_csv('AssignmentOutPut44.csv') # Writing AssignmentOutPut1 to a csv file"
   ]
  },
  {
   "cell_type": "code",
   "execution_count": 29,
   "metadata": {},
   "outputs": [
    {
     "ename": "NameError",
     "evalue": "name 'selected_features_train' is not defined",
     "output_type": "error",
     "traceback": [
      "\u001b[0;31m---------------------------------------------------------------------------\u001b[0m",
      "\u001b[0;31mNameError\u001b[0m                                 Traceback (most recent call last)",
      "\u001b[0;32m<ipython-input-29-ecae1274351a>\u001b[0m in \u001b[0;36m<module>\u001b[0;34m\u001b[0m\n\u001b[1;32m      7\u001b[0m \u001b[0mkfold\u001b[0m \u001b[0;34m=\u001b[0m \u001b[0mKFold\u001b[0m\u001b[0;34m(\u001b[0m\u001b[0mn_splits\u001b[0m\u001b[0;34m=\u001b[0m\u001b[0mnum_folds\u001b[0m\u001b[0;34m,\u001b[0m \u001b[0mrandom_state\u001b[0m\u001b[0;34m=\u001b[0m\u001b[0mseed\u001b[0m\u001b[0;34m)\u001b[0m\u001b[0;34m\u001b[0m\u001b[0m\n\u001b[1;32m      8\u001b[0m \u001b[0mmodel55\u001b[0m \u001b[0;34m=\u001b[0m \u001b[0mSVC\u001b[0m\u001b[0;34m(\u001b[0m\u001b[0;34m)\u001b[0m\u001b[0;34m\u001b[0m\u001b[0m\n\u001b[0;32m----> 9\u001b[0;31m \u001b[0mmodel55\u001b[0m\u001b[0;34m.\u001b[0m\u001b[0mfit\u001b[0m\u001b[0;34m(\u001b[0m\u001b[0mselected_features_train\u001b[0m\u001b[0;34m,\u001b[0m \u001b[0mY_train\u001b[0m\u001b[0;34m)\u001b[0m\u001b[0;34m\u001b[0m\u001b[0m\n\u001b[0m\u001b[1;32m     10\u001b[0m \u001b[0;34m\u001b[0m\u001b[0m\n\u001b[1;32m     11\u001b[0m \u001b[0mresults\u001b[0m \u001b[0;34m=\u001b[0m \u001b[0mcross_val_score\u001b[0m\u001b[0;34m(\u001b[0m\u001b[0mmodel55\u001b[0m\u001b[0;34m,\u001b[0m \u001b[0mselected_features\u001b[0m\u001b[0;34m,\u001b[0m \u001b[0mY\u001b[0m\u001b[0;34m,\u001b[0m \u001b[0mcv\u001b[0m\u001b[0;34m=\u001b[0m\u001b[0mkfold\u001b[0m\u001b[0;34m)\u001b[0m\u001b[0;34m\u001b[0m\u001b[0m\n",
      "\u001b[0;31mNameError\u001b[0m: name 'selected_features_train' is not defined"
     ]
    }
   ],
   "source": [
    "from sklearn.model_selection import KFold\n",
    "from sklearn.model_selection import cross_val_score\n",
    "from sklearn.svm import SVC\n",
    "\n",
    "num_folds = 55\n",
    "seed = 6\n",
    "kfold = KFold(n_splits=num_folds, random_state=seed)\n",
    "model55 = SVC()\n",
    "model55.fit(selected_features_train, Y_train)\n",
    "\n",
    "results = cross_val_score(model55, selected_features, Y, cv=kfold)\n",
    "print(\"MCC:\", (matthews_corrcoef(Y_train, Prediction)))\n",
    "print(\"Accuracy:\", (results.mean()*100.0))\n",
    "\n",
    "#Assigning the preditions of the model to variable AssignmentOutPut\n",
    "AssignmentOutPut55 = model55.predict(Test.values) \n",
    "#Converting AssignmentOutPut to a dataframe since its output is an array\n",
    "AssignmentOutPut55 = pd.DataFrame(AssignmentOutPut55)\n",
    "\n",
    "AssignmentOutPut55.columns = ['Class'] # Naming the output column\n",
    "AssignmentOutPut55.index.name = \"Index\" #Creating a column called index\n",
    "AssignmentOutPut55['Class'] = AssignmentOutPut55['Class'].map({0.0:False, 1.0:True}) # Converting 0.0 to false and 1.0 to true\n",
    "\n",
    "#Printing the number of False and Trues\n",
    "print(AssignmentOutPut55.groupby('Class').size()[0].sum())\n",
    "print(AssignmentOutPut55.groupby('Class').size()[1].sum())\n",
    "\n",
    "AssignmentOutPut55.to_csv('AssignmentOutPut55.csv') # Writing AssignmentOutPut1 to a csv file"
   ]
  },
  {
   "cell_type": "markdown",
   "metadata": {},
   "source": [
    "## Evaluating Machine learning Alogorithms\n",
    "## Split into Train and Test set"
   ]
  },
  {
   "cell_type": "markdown",
   "metadata": {},
   "source": [
    "## Non rescaled data"
   ]
  },
  {
   "cell_type": "code",
   "execution_count": 30,
   "metadata": {},
   "outputs": [
    {
     "name": "stdout",
     "output_type": "stream",
     "text": [
      "MCC: 0.8283116428616907\n",
      "Accuracy: 91.92422731804587\n",
      "387\n",
      "371\n"
     ]
    }
   ],
   "source": [
    "from sklearn.model_selection import train_test_split\n",
    "from sklearn.metrics import matthews_corrcoef\n",
    "from sklearn.linear_model import LogisticRegression\n",
    "\n",
    "A = Train.values\n",
    "# Separating A into output and input components\n",
    "X = A[:, 0:11]\n",
    "Y = A[:, 11]\n",
    "test_size = 0.33\n",
    "seed = 1\n",
    "selected_features_train, selected_features_test, Y_train, Y_test = train_test_split(X, Y, test_size = test_size, random_state = seed)\n",
    "my_model1 = LogisticRegression()\n",
    "my_model1.fit(selected_features_train, Y_train)\n",
    "result = my_model1.score(selected_features_test, Y_test)\n",
    "\n",
    "Prediction = my_model1.predict(selected_features_train)\n",
    "print(\"MCC:\", (matthews_corrcoef(Y_train, Prediction)))\n",
    "print(\"Accuracy:\", (result*100.0))\n",
    "\n",
    "#Assigning the preditions of the model to variable AssignmentOutPut\n",
    "AssignmentOutPut1 = my_model1.predict(Test.values) \n",
    "#Converting AssignmentOutPut to a dataframe since its output is an array\n",
    "AssignmentOutPut1 = pd.DataFrame(AssignmentOutPut1)\n",
    "\n",
    "AssignmentOutPut1.columns = ['Class'] # Naming the output column\n",
    "AssignmentOutPut1.index.name = \"Index\" #Creating a column called index\n",
    "AssignmentOutPut1['Class'] = AssignmentOutPut1['Class'].map({0.0:False, 1.0:True}) # Converting 0.0 to false and 1.0 to true\n",
    "\n",
    "#Printing the number of False and Trues\n",
    "print(AssignmentOutPut1.groupby('Class').size()[0].sum())\n",
    "print(AssignmentOutPut1.groupby('Class').size()[1].sum())\n",
    "\n",
    "AssignmentOutPut1.to_csv('AssignmentOutPut1.csv') # Writing AssignmentOutPut1 to a csv file"
   ]
  },
  {
   "cell_type": "code",
   "execution_count": 31,
   "metadata": {},
   "outputs": [
    {
     "name": "stdout",
     "output_type": "stream",
     "text": [
      "MCC: 0.8566012373350099\n",
      "Accuracy: 90.62811565304088\n",
      "397\n",
      "361\n"
     ]
    }
   ],
   "source": [
    "from sklearn.model_selection import train_test_split\n",
    "from sklearn.metrics import matthews_corrcoef\n",
    "from sklearn.neighbors import KNeighborsClassifier\n",
    "\n",
    "A = Train.values\n",
    "# Separating A into output and input components\n",
    "X = A[:, 0:11]\n",
    "Y = A[:, 11]\n",
    "test_size = 0.33\n",
    "seed = 2\n",
    "selected_features_train, selected_features_test, Y_train, Y_test = train_test_split(X, Y, test_size = test_size, random_state = seed)\n",
    "my_model2 = KNeighborsClassifier()\n",
    "my_model2.fit(selected_features_train, Y_train)\n",
    "result = my_model2.score(selected_features_test, Y_test)\n",
    "\n",
    "Prediction = my_model2.predict(selected_features_train)\n",
    "print(\"MCC:\", (matthews_corrcoef(Y_train, Prediction)))\n",
    "print(\"Accuracy:\", (result*100.0))\n",
    "\n",
    "#Assigning the preditions of the model to variable AssignmentOutPut\n",
    "AssignmentOutPut2 = my_model2.predict(Test.values) \n",
    "#Converting AssignmentOutPut to a dataframe since its output is an array\n",
    "AssignmentOutPut2 = pd.DataFrame(AssignmentOutPut2)\n",
    "# Converting AssignmentOutPut to a dataframe since its output is an array\n",
    "AssignmentOutPut2.columns = ['Class'] # Naming the out\n",
    "AssignmentOutPut2.index.name = \"Index\" #Creating a column called index\n",
    "AssignmentOutPut2['Class'] = AssignmentOutPut2['Class'].map({0.0:False, 1.0:True}) # Converting 0.0 to false and 1.0 to true\n",
    "\n",
    "#Printing the number of False and Trues\n",
    "print(AssignmentOutPut2.groupby('Class').size()[0].sum())\n",
    "print(AssignmentOutPut2.groupby('Class').size()[1].sum())\n",
    "\n",
    "AssignmentOutPut2.to_csv('AssignmentOutPut2.csv') # Writing AssignmentOutPut1 to a csv file"
   ]
  },
  {
   "cell_type": "code",
   "execution_count": 32,
   "metadata": {},
   "outputs": [
    {
     "name": "stdout",
     "output_type": "stream",
     "text": [
      "MCC: 1.0\n",
      "Accuracy: 90.72781655034895\n",
      "387\n",
      "371\n"
     ]
    }
   ],
   "source": [
    "from sklearn.model_selection import train_test_split\n",
    "from sklearn.metrics import matthews_corrcoef\n",
    "from sklearn.tree import DecisionTreeClassifier\n",
    "\n",
    "A = Train.values\n",
    "# Separating A into output and input components\n",
    "X = A[:, 0:11]\n",
    "Y = A[:, 11]\n",
    "test_size = 0.33\n",
    "seed = 3\n",
    "selected_features_train, selected_features_test, Y_train, Y_test = train_test_split(X, Y, test_size = test_size, random_state = seed)\n",
    "my_model3 = DecisionTreeClassifier()\n",
    "my_model3.fit(selected_features_train, Y_train)\n",
    "result = my_model3.score(selected_features_test, Y_test)\n",
    "\n",
    "Prediction = my_model3.predict(selected_features_train)\n",
    "print(\"MCC:\", (matthews_corrcoef(Y_train, Prediction)))\n",
    "print(\"Accuracy:\", (result*100.0))\n",
    "AssignmentOutPut3 = my_model3.predict(Test.values) #Assigning the preditions of the model to variable AssignmentOutPut\n",
    "\n",
    "AssignmentOutPut3 = pd.DataFrame(AssignmentOutPut3)\n",
    "# Converting AssignmentOutPut to a dataframe since its output is an array\n",
    "AssignmentOutPut3.columns = ['Class'] # Naming the out\n",
    "AssignmentOutPut3.index.name = \"Index\" #Creating a column called index\n",
    "AssignmentOutPut3['Class'] = AssignmentOutPut3['Class'].map({0.0:False, 1.0:True}) # Converting 0.0 to false and 1.0 to true\n",
    "\n",
    "#Printing the number of False and Trues\n",
    "print(AssignmentOutPut3.groupby('Class').size()[0].sum())\n",
    "print(AssignmentOutPut3.groupby('Class').size()[1].sum())\n",
    "\n",
    "AssignmentOutPut1.to_csv('AssignmentOutPut3.csv') # Writing AssignmentOutPut1 to a csv file\n"
   ]
  },
  {
   "cell_type": "code",
   "execution_count": 33,
   "metadata": {},
   "outputs": [
    {
     "name": "stdout",
     "output_type": "stream",
     "text": [
      "MCC: 0.8417648773342619\n",
      "Accuracy: 91.92422731804587\n",
      "369\n",
      "389\n"
     ]
    }
   ],
   "source": [
    "from sklearn.model_selection import train_test_split\n",
    "from sklearn.metrics import matthews_corrcoef\n",
    "from sklearn.naive_bayes import GaussianNB\n",
    "\n",
    "A = Train.values\n",
    "# Separating A into output and input components\n",
    "X = A[:, 0:11]\n",
    "Y = A[:, 11]\n",
    "test_size = 0.33\n",
    "seed = 4\n",
    "selected_features_train, selected_features_test, Y_train, Y_test = train_test_split(X, Y, test_size = test_size, random_state = seed)\n",
    "my_model4 = GaussianNB()\n",
    "my_model4.fit(selected_features_train, Y_train)\n",
    "result = my_model4.score(selected_features_test, Y_test)\n",
    "\n",
    "Prediction = my_model4.predict(selected_features_train)\n",
    "print(\"MCC:\", (matthews_corrcoef(Y_train, Prediction)))\n",
    "print(\"Accuracy:\", (result*100.0))\n",
    "\n",
    "AssignmentOutPut4 = my_model4.predict(Test.values) #Assigning the preditions of the model to variable AssignmentOutPut\n",
    "\n",
    "AssignmentOutPut4 = pd.DataFrame(AssignmentOutPut4)\n",
    "# Converting AssignmentOutPut to a dataframe since its output is an array\n",
    "AssignmentOutPut4.columns = ['Class'] # Naming the out\n",
    "AssignmentOutPut4.index.name = \"Index\" #Creating a column called index\n",
    "AssignmentOutPut4['Class'] = AssignmentOutPut4['Class'].map({0.0:False, 1.0:True}) # Converting 0.0 to false and 1.0 to true\n",
    "\n",
    "AssignmentOutPut4.to_csv('AssignmentOutPut4.csv') # Writing AssignmentOutPut1 to a csv file\n",
    "#Printing the number of False and Trues\n",
    "print(AssignmentOutPut4.groupby('Class').size()[0].sum())\n",
    "print(AssignmentOutPut4.groupby('Class').size()[1].sum())"
   ]
  },
  {
   "cell_type": "code",
   "execution_count": 34,
   "metadata": {},
   "outputs": [
    {
     "name": "stdout",
     "output_type": "stream",
     "text": [
      "MCC: 0.8164151115601915\n",
      "Accuracy: 91.12662013958126\n",
      "405\n",
      "353\n"
     ]
    }
   ],
   "source": [
    "from sklearn.model_selection import train_test_split\n",
    "from sklearn.metrics import matthews_corrcoef\n",
    "from sklearn.svm import SVC\n",
    "\n",
    "A = Train.values\n",
    "# Separating A into output and input components\n",
    "X = A[:, 0:11]\n",
    "Y = A[:, 11]\n",
    "test_size = 0.33\n",
    "seed = 5\n",
    "selected_features_train, selected_features_test, Y_train, Y_test = train_test_split(X, Y, test_size = test_size, random_state = seed)\n",
    "my_model5 = SVC()\n",
    "my_model5.fit(selected_features_train, Y_train)\n",
    "result = my_model5.score(selected_features_test, Y_test)\n",
    "\n",
    "Prediction = my_model5.predict(selected_features_train)\n",
    "print(\"MCC:\", (matthews_corrcoef(Y_train, Prediction)))\n",
    "print(\"Accuracy:\", (result*100.0))\n",
    "AssignmentOutPut5 = my_model5.predict(Test.values) #Assigning the preditions of the model to variable AssignmentOutPut\n",
    "\n",
    "AssignmentOutPut5 = pd.DataFrame(AssignmentOutPut5)\n",
    "# Converting AssignmentOutPut to a dataframe since its output is an array\n",
    "AssignmentOutPut5.columns = ['Class'] # Naming the out\n",
    "AssignmentOutPut5.index.name = \"Index\" #Creating a column called index\n",
    "AssignmentOutPut5['Class'] = AssignmentOutPut5['Class'].map({0.0:False, 1.0:True}) # Converting 0.0 to false and 1.0 to true\n",
    "\n",
    "AssignmentOutPut1.to_csv('AssignmentOutPut5.csv') # Writing AssignmentOutPut1 to a csv file\n",
    "#Printing the number of False and Trues\n",
    "print(AssignmentOutPut5.groupby('Class').size()[0].sum())\n",
    "print(AssignmentOutPut5.groupby('Class').size()[1].sum())"
   ]
  },
  {
   "cell_type": "code",
   "execution_count": 35,
   "metadata": {},
   "outputs": [
    {
     "name": "stdout",
     "output_type": "stream",
     "text": [
      "MCC: 0.8376165100283083\n",
      "Accuracy: 91.72482552342971\n",
      "403\n",
      "355\n"
     ]
    }
   ],
   "source": [
    "from sklearn.model_selection import train_test_split\n",
    "from sklearn.discriminant_analysis import LinearDiscriminantAnalysis\n",
    "from sklearn.metrics import matthews_corrcoef\n",
    "\n",
    "A = Train.values\n",
    "# Separating A into output and input components\n",
    "X = A[:, 0:11]\n",
    "Y = A[:, 11]\n",
    "test_size = 0.33\n",
    "seed = 6\n",
    "selected_features_train, selected_features_test, Y_train, Y_test = train_test_split(X, Y, test_size = test_size, random_state = seed)\n",
    "my_model6 = LinearDiscriminantAnalysis()\n",
    "my_model6.fit(selected_features_train, Y_train)\n",
    "result = my_model6.score(selected_features_test, Y_test)\n",
    "\n",
    "Prediction = my_model6.predict(selected_features_train)\n",
    "print(\"MCC:\", (matthews_corrcoef(Y_train, Prediction)))\n",
    "print(\"Accuracy:\", (result*100.0))\n",
    "AssignmentOutPut6 = my_model6.predict(Test.values) #Assigning the preditions of the model to variable AssignmentOutPut\n",
    "\n",
    "AssignmentOutPut6 = pd.DataFrame(AssignmentOutPut6)\n",
    "# Converting AssignmentOutPut to a dataframe since its output is an array\n",
    "AssignmentOutPut6.columns = ['Class'] # Naming the out\n",
    "AssignmentOutPut6.index.name = \"Index\" #Creating a column called index\n",
    "AssignmentOutPut6['Class'] = AssignmentOutPut6['Class'].map({0.0:False, 1.0:True}) # Converting 0.0 to false and 1.0 to true\n",
    "\n",
    "AssignmentOutPut6.to_csv('AssignmentOutPut6.csv') # Writing AssignmentOutPut1 to a csv file\n",
    "#Printing the number of False and Trues\n",
    "print(AssignmentOutPut6.groupby('Class').size()[0].sum())\n",
    "print(AssignmentOutPut6.groupby('Class').size()[1].sum())"
   ]
  }
 ],
 "metadata": {
  "kernelspec": {
   "display_name": "Python 3",
   "language": "python",
   "name": "python3"
  },
  "language_info": {
   "codemirror_mode": {
    "name": "ipython",
    "version": 3
   },
   "file_extension": ".py",
   "mimetype": "text/x-python",
   "name": "python",
   "nbconvert_exporter": "python",
   "pygments_lexer": "ipython3",
   "version": "3.7.4"
  },
  "varInspector": {
   "cols": {
    "lenName": 16,
    "lenType": 16,
    "lenVar": 40
   },
   "kernels_config": {
    "python": {
     "delete_cmd_postfix": "",
     "delete_cmd_prefix": "del ",
     "library": "var_list.py",
     "varRefreshCmd": "print(var_dic_list())"
    },
    "r": {
     "delete_cmd_postfix": ") ",
     "delete_cmd_prefix": "rm(",
     "library": "var_list.r",
     "varRefreshCmd": "cat(var_dic_list()) "
    }
   },
   "types_to_exclude": [
    "module",
    "function",
    "builtin_function_or_method",
    "instance",
    "_Feature"
   ],
   "window_display": false
  }
 },
 "nbformat": 4,
 "nbformat_minor": 4
}
