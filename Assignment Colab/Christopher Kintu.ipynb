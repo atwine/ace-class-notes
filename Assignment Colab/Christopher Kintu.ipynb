{
 "cells": [
  {
   "cell_type": "code",
   "execution_count": 1,
   "metadata": {
    "_cell_guid": "b1076dfc-b9ad-4769-8c92-a6c4dae69d19",
    "_uuid": "8f2839f25d086af736a60e9eeb907d3b93b6e0e5"
   },
   "outputs": [],
   "source": [
    "#First importing the necessary libraries helpful in building and/or testing the model\n",
    "#Three main libraries for a start: numpy, pandas, matplotlib.pyplot\n",
    "#numpy is for linear algebra, pandas for data processing\n",
    "\n",
    "import pandas as pd\n",
    "import numpy as np\n",
    "import matplotlib.pyplot as plt\n"
   ]
  },
  {
   "cell_type": "markdown",
   "metadata": {},
   "source": [
    "# Kintu Christopher\n",
    "## This is my assignment.\n",
    "## I am in to win the competition\n",
    "\n",
    "```import os\n",
    "for dirname, _, filenames in os.walk('/kaggle/input'):\n",
    "    for filename in filenames:\n",
    "        print(os.path.join(dirname, filename))```\n",
    "        \n",
    " \n"
   ]
  },
  {
   "cell_type": "code",
   "execution_count": 2,
   "metadata": {},
   "outputs": [],
   "source": [
    "\n",
    "# Input data files necessary for this assignment were obtained from \"../input/\" directory.\n",
    "\n",
    "#import os\n",
    "#for dirname, _, filenames in os.walk('/kaggle/input'):\n",
    "#    for filename in filenames:\n",
    "#        print(os.path.join(dirname, filename))\n",
    "\n"
   ]
  },
  {
   "cell_type": "code",
   "execution_count": 3,
   "metadata": {},
   "outputs": [],
   "source": [
    "#ignoring warnings: It is necessary to import while ignoring warnings\n",
    "\n",
    "import warnings\n",
    "warnings.filterwarnings('ignore')"
   ]
  },
  {
   "cell_type": "code",
   "execution_count": 4,
   "metadata": {},
   "outputs": [],
   "source": [
    "# The data sets are loaded and read as below in form of csv files\n",
    "Train = pd.read_csv(\"../AMP Data Sets/AMP_TrainSet.csv\")\n",
    "Test = pd.read_csv(\"../AMP Data Sets/Test.csv\")"
   ]
  },
  {
   "cell_type": "markdown",
   "metadata": {},
   "source": [
    "# Data visualization\n",
    "## The data is loaded for viewing directly from the ACE_class_Assignment folder. This displays, in tabular format, the real values we are to work with."
   ]
  },
  {
   "cell_type": "code",
   "execution_count": 5,
   "metadata": {},
   "outputs": [
    {
     "data": {
      "text/plain": [
       "((3038, 12), (758, 11))"
      ]
     },
     "execution_count": 5,
     "metadata": {},
     "output_type": "execute_result"
    }
   ],
   "source": [
    "#There is need to know how many dimensions our data has\n",
    "# This helps me to know how many rows or columns are in each data set and also how large the data set is.\n",
    "#Too many rows and columns require a longer time to train the model.\n",
    "\n",
    "Train.shape, Test.shape\n",
    "\n",
    "# The Train data set has 12 columns and 3038 rows. \n",
    "# The Test data set has 758 rows and 11 columns\n",
    "#This means our Train data is large enough to train the algorithm without over training or under training"
   ]
  },
  {
   "cell_type": "code",
   "execution_count": 6,
   "metadata": {},
   "outputs": [
    {
     "data": {
      "text/plain": [
       "Index(['FULL_Charge', 'FULL_AcidicMolPerc', 'FULL_AURR980107',\n",
       "       'FULL_DAYM780201', 'FULL_GEOR030101', 'FULL_OOBM850104', 'NT_EFC195',\n",
       "       'AS_MeanAmphiMoment', 'AS_DAYM780201', 'AS_FUKS010112', 'CT_RACS820104',\n",
       "       'CLASS'],\n",
       "      dtype='object')"
      ]
     },
     "execution_count": 6,
     "metadata": {},
     "output_type": "execute_result"
    }
   ],
   "source": [
    "#Checking the column variables for the Train data set\n",
    "#This gives me an idea of the variables I am dealing with and how they are labelled.\n",
    "\n",
    "Train.columns"
   ]
  },
  {
   "cell_type": "code",
   "execution_count": 7,
   "metadata": {},
   "outputs": [
    {
     "data": {
      "text/plain": [
       "Index(['FULL_Charge', 'FULL_AcidicMolPerc', 'FULL_AURR980107',\n",
       "       'FULL_DAYM780201', 'FULL_GEOR030101', 'FULL_OOBM850104', 'NT_EFC195',\n",
       "       'AS_MeanAmphiMoment', 'AS_DAYM780201', 'AS_FUKS010112',\n",
       "       'CT_RACS820104'],\n",
       "      dtype='object')"
      ]
     },
     "execution_count": 7,
     "metadata": {},
     "output_type": "execute_result"
    }
   ],
   "source": [
    "#Similarly, checking for column variables for the Test data set\n",
    "\n",
    "Test.columns"
   ]
  },
  {
   "cell_type": "code",
   "execution_count": 8,
   "metadata": {},
   "outputs": [
    {
     "data": {
      "text/plain": [
       "FULL_Charge           float64\n",
       "FULL_AcidicMolPerc    float64\n",
       "FULL_AURR980107       float64\n",
       "FULL_DAYM780201       float64\n",
       "FULL_GEOR030101       float64\n",
       "FULL_OOBM850104       float64\n",
       "NT_EFC195               int64\n",
       "AS_MeanAmphiMoment    float64\n",
       "AS_DAYM780201         float64\n",
       "AS_FUKS010112         float64\n",
       "CT_RACS820104         float64\n",
       "CLASS                   int64\n",
       "dtype: object"
      ]
     },
     "execution_count": 8,
     "metadata": {},
     "output_type": "execute_result"
    }
   ],
   "source": [
    "# It is good to also take a look at they data types for each data set. \n",
    "#Just incase there are strings that need to be converted into floats \n",
    "\n",
    "#First, the train data set\n",
    "Train.dtypes\n",
    "\n",
    "#The data type of the train set is an object\n",
    "#The column variables are all floats and integers as shown below"
   ]
  },
  {
   "cell_type": "code",
   "execution_count": 9,
   "metadata": {},
   "outputs": [
    {
     "data": {
      "text/plain": [
       "FULL_Charge           float64\n",
       "FULL_AcidicMolPerc    float64\n",
       "FULL_AURR980107       float64\n",
       "FULL_DAYM780201       float64\n",
       "FULL_GEOR030101       float64\n",
       "FULL_OOBM850104       float64\n",
       "NT_EFC195               int64\n",
       "AS_MeanAmphiMoment    float64\n",
       "AS_DAYM780201         float64\n",
       "AS_FUKS010112         float64\n",
       "CT_RACS820104         float64\n",
       "dtype: object"
      ]
     },
     "execution_count": 9,
     "metadata": {},
     "output_type": "execute_result"
    }
   ],
   "source": [
    "#Similarly, for the Test data set\n",
    "\n",
    "Test.dtypes\n",
    "\n",
    "#It is an object, with floats and integers only. \n",
    "#This is good, we dont need to change anything.\n",
    "#We are good to go."
   ]
  },
  {
   "cell_type": "markdown",
   "metadata": {},
   "source": [
    "# Checking for quick statistical comparisons\n",
    "## This will quickly give me a view of the relationship between variables."
   ]
  },
  {
   "cell_type": "code",
   "execution_count": 10,
   "metadata": {},
   "outputs": [
    {
     "data": {
      "text/html": [
       "<div>\n",
       "<style scoped>\n",
       "    .dataframe tbody tr th:only-of-type {\n",
       "        vertical-align: middle;\n",
       "    }\n",
       "\n",
       "    .dataframe tbody tr th {\n",
       "        vertical-align: top;\n",
       "    }\n",
       "\n",
       "    .dataframe thead th {\n",
       "        text-align: right;\n",
       "    }\n",
       "</style>\n",
       "<table border=\"1\" class=\"dataframe\">\n",
       "  <thead>\n",
       "    <tr style=\"text-align: right;\">\n",
       "      <th></th>\n",
       "      <th>FULL_Charge</th>\n",
       "      <th>FULL_AcidicMolPerc</th>\n",
       "      <th>FULL_AURR980107</th>\n",
       "      <th>FULL_DAYM780201</th>\n",
       "      <th>FULL_GEOR030101</th>\n",
       "      <th>FULL_OOBM850104</th>\n",
       "      <th>NT_EFC195</th>\n",
       "      <th>AS_MeanAmphiMoment</th>\n",
       "      <th>AS_DAYM780201</th>\n",
       "      <th>AS_FUKS010112</th>\n",
       "      <th>CT_RACS820104</th>\n",
       "      <th>CLASS</th>\n",
       "    </tr>\n",
       "  </thead>\n",
       "  <tbody>\n",
       "    <tr>\n",
       "      <th>count</th>\n",
       "      <td>3038.000000</td>\n",
       "      <td>3038.000000</td>\n",
       "      <td>3038.000000</td>\n",
       "      <td>3038.000000</td>\n",
       "      <td>3038.000000</td>\n",
       "      <td>3038.000000</td>\n",
       "      <td>3038.000000</td>\n",
       "      <td>3038.000000</td>\n",
       "      <td>3038.000000</td>\n",
       "      <td>3038.000000</td>\n",
       "      <td>3038.000000</td>\n",
       "      <td>3038.000000</td>\n",
       "    </tr>\n",
       "    <tr>\n",
       "      <th>mean</th>\n",
       "      <td>2.060237</td>\n",
       "      <td>8.521520</td>\n",
       "      <td>0.971410</td>\n",
       "      <td>73.668760</td>\n",
       "      <td>0.994007</td>\n",
       "      <td>-2.432927</td>\n",
       "      <td>0.088545</td>\n",
       "      <td>15.683233</td>\n",
       "      <td>73.650828</td>\n",
       "      <td>5.911361</td>\n",
       "      <td>1.235255</td>\n",
       "      <td>0.500000</td>\n",
       "    </tr>\n",
       "    <tr>\n",
       "      <th>std</th>\n",
       "      <td>3.819929</td>\n",
       "      <td>7.586652</td>\n",
       "      <td>0.107413</td>\n",
       "      <td>8.527489</td>\n",
       "      <td>0.031333</td>\n",
       "      <td>1.707223</td>\n",
       "      <td>0.284133</td>\n",
       "      <td>11.575665</td>\n",
       "      <td>9.166092</td>\n",
       "      <td>0.693689</td>\n",
       "      <td>0.210012</td>\n",
       "      <td>0.500082</td>\n",
       "    </tr>\n",
       "    <tr>\n",
       "      <th>min</th>\n",
       "      <td>-16.000000</td>\n",
       "      <td>0.000000</td>\n",
       "      <td>0.684000</td>\n",
       "      <td>42.750000</td>\n",
       "      <td>0.866000</td>\n",
       "      <td>-10.432000</td>\n",
       "      <td>0.000000</td>\n",
       "      <td>0.041000</td>\n",
       "      <td>42.778000</td>\n",
       "      <td>3.533000</td>\n",
       "      <td>0.785000</td>\n",
       "      <td>0.000000</td>\n",
       "    </tr>\n",
       "    <tr>\n",
       "      <th>25%</th>\n",
       "      <td>0.000000</td>\n",
       "      <td>2.516000</td>\n",
       "      <td>0.895000</td>\n",
       "      <td>68.294000</td>\n",
       "      <td>0.974000</td>\n",
       "      <td>-3.606000</td>\n",
       "      <td>0.000000</td>\n",
       "      <td>5.587500</td>\n",
       "      <td>67.556000</td>\n",
       "      <td>5.459250</td>\n",
       "      <td>1.082000</td>\n",
       "      <td>0.000000</td>\n",
       "    </tr>\n",
       "    <tr>\n",
       "      <th>50%</th>\n",
       "      <td>2.000000</td>\n",
       "      <td>7.143000</td>\n",
       "      <td>0.963000</td>\n",
       "      <td>74.059500</td>\n",
       "      <td>0.994000</td>\n",
       "      <td>-2.296500</td>\n",
       "      <td>0.000000</td>\n",
       "      <td>14.988500</td>\n",
       "      <td>73.697000</td>\n",
       "      <td>5.925500</td>\n",
       "      <td>1.184000</td>\n",
       "      <td>0.500000</td>\n",
       "    </tr>\n",
       "    <tr>\n",
       "      <th>75%</th>\n",
       "      <td>4.000000</td>\n",
       "      <td>13.158000</td>\n",
       "      <td>1.041000</td>\n",
       "      <td>79.343750</td>\n",
       "      <td>1.011000</td>\n",
       "      <td>-1.283250</td>\n",
       "      <td>0.000000</td>\n",
       "      <td>26.807750</td>\n",
       "      <td>79.778000</td>\n",
       "      <td>6.382000</td>\n",
       "      <td>1.351000</td>\n",
       "      <td>1.000000</td>\n",
       "    </tr>\n",
       "    <tr>\n",
       "      <th>max</th>\n",
       "      <td>30.000000</td>\n",
       "      <td>46.667000</td>\n",
       "      <td>1.451000</td>\n",
       "      <td>101.682000</td>\n",
       "      <td>1.196000</td>\n",
       "      <td>3.576000</td>\n",
       "      <td>1.000000</td>\n",
       "      <td>51.280000</td>\n",
       "      <td>103.167000</td>\n",
       "      <td>8.662000</td>\n",
       "      <td>2.192000</td>\n",
       "      <td>1.000000</td>\n",
       "    </tr>\n",
       "  </tbody>\n",
       "</table>\n",
       "</div>"
      ],
      "text/plain": [
       "       FULL_Charge  FULL_AcidicMolPerc  FULL_AURR980107  FULL_DAYM780201  \\\n",
       "count  3038.000000         3038.000000      3038.000000      3038.000000   \n",
       "mean      2.060237            8.521520         0.971410        73.668760   \n",
       "std       3.819929            7.586652         0.107413         8.527489   \n",
       "min     -16.000000            0.000000         0.684000        42.750000   \n",
       "25%       0.000000            2.516000         0.895000        68.294000   \n",
       "50%       2.000000            7.143000         0.963000        74.059500   \n",
       "75%       4.000000           13.158000         1.041000        79.343750   \n",
       "max      30.000000           46.667000         1.451000       101.682000   \n",
       "\n",
       "       FULL_GEOR030101  FULL_OOBM850104    NT_EFC195  AS_MeanAmphiMoment  \\\n",
       "count      3038.000000      3038.000000  3038.000000         3038.000000   \n",
       "mean          0.994007        -2.432927     0.088545           15.683233   \n",
       "std           0.031333         1.707223     0.284133           11.575665   \n",
       "min           0.866000       -10.432000     0.000000            0.041000   \n",
       "25%           0.974000        -3.606000     0.000000            5.587500   \n",
       "50%           0.994000        -2.296500     0.000000           14.988500   \n",
       "75%           1.011000        -1.283250     0.000000           26.807750   \n",
       "max           1.196000         3.576000     1.000000           51.280000   \n",
       "\n",
       "       AS_DAYM780201  AS_FUKS010112  CT_RACS820104        CLASS  \n",
       "count    3038.000000    3038.000000    3038.000000  3038.000000  \n",
       "mean       73.650828       5.911361       1.235255     0.500000  \n",
       "std         9.166092       0.693689       0.210012     0.500082  \n",
       "min        42.778000       3.533000       0.785000     0.000000  \n",
       "25%        67.556000       5.459250       1.082000     0.000000  \n",
       "50%        73.697000       5.925500       1.184000     0.500000  \n",
       "75%        79.778000       6.382000       1.351000     1.000000  \n",
       "max       103.167000       8.662000       2.192000     1.000000  "
      ]
     },
     "execution_count": 10,
     "metadata": {},
     "output_type": "execute_result"
    }
   ],
   "source": [
    "#We check out quick summary statistics for both data sets\n",
    "\n",
    "Train.describe()"
   ]
  },
  {
   "cell_type": "code",
   "execution_count": 11,
   "metadata": {},
   "outputs": [
    {
     "data": {
      "text/html": [
       "<div>\n",
       "<style scoped>\n",
       "    .dataframe tbody tr th:only-of-type {\n",
       "        vertical-align: middle;\n",
       "    }\n",
       "\n",
       "    .dataframe tbody tr th {\n",
       "        vertical-align: top;\n",
       "    }\n",
       "\n",
       "    .dataframe thead th {\n",
       "        text-align: right;\n",
       "    }\n",
       "</style>\n",
       "<table border=\"1\" class=\"dataframe\">\n",
       "  <thead>\n",
       "    <tr style=\"text-align: right;\">\n",
       "      <th></th>\n",
       "      <th>FULL_Charge</th>\n",
       "      <th>FULL_AcidicMolPerc</th>\n",
       "      <th>FULL_AURR980107</th>\n",
       "      <th>FULL_DAYM780201</th>\n",
       "      <th>FULL_GEOR030101</th>\n",
       "      <th>FULL_OOBM850104</th>\n",
       "      <th>NT_EFC195</th>\n",
       "      <th>AS_MeanAmphiMoment</th>\n",
       "      <th>AS_DAYM780201</th>\n",
       "      <th>AS_FUKS010112</th>\n",
       "      <th>CT_RACS820104</th>\n",
       "    </tr>\n",
       "  </thead>\n",
       "  <tbody>\n",
       "    <tr>\n",
       "      <th>count</th>\n",
       "      <td>758.000000</td>\n",
       "      <td>758.000000</td>\n",
       "      <td>758.000000</td>\n",
       "      <td>758.000000</td>\n",
       "      <td>758.000000</td>\n",
       "      <td>758.000000</td>\n",
       "      <td>758.000000</td>\n",
       "      <td>758.000000</td>\n",
       "      <td>758.000000</td>\n",
       "      <td>758.000000</td>\n",
       "      <td>758.000000</td>\n",
       "    </tr>\n",
       "    <tr>\n",
       "      <th>mean</th>\n",
       "      <td>2.073879</td>\n",
       "      <td>8.945091</td>\n",
       "      <td>0.973046</td>\n",
       "      <td>73.821891</td>\n",
       "      <td>0.994212</td>\n",
       "      <td>-2.397922</td>\n",
       "      <td>0.084433</td>\n",
       "      <td>15.570067</td>\n",
       "      <td>73.844204</td>\n",
       "      <td>5.904492</td>\n",
       "      <td>1.250189</td>\n",
       "    </tr>\n",
       "    <tr>\n",
       "      <th>std</th>\n",
       "      <td>4.230615</td>\n",
       "      <td>7.814449</td>\n",
       "      <td>0.110676</td>\n",
       "      <td>8.029524</td>\n",
       "      <td>0.032370</td>\n",
       "      <td>1.597138</td>\n",
       "      <td>0.278219</td>\n",
       "      <td>11.362589</td>\n",
       "      <td>8.915193</td>\n",
       "      <td>0.656911</td>\n",
       "      <td>0.218102</td>\n",
       "    </tr>\n",
       "    <tr>\n",
       "      <th>min</th>\n",
       "      <td>-13.000000</td>\n",
       "      <td>0.000000</td>\n",
       "      <td>0.699000</td>\n",
       "      <td>47.000000</td>\n",
       "      <td>0.889000</td>\n",
       "      <td>-7.844000</td>\n",
       "      <td>0.000000</td>\n",
       "      <td>0.060000</td>\n",
       "      <td>47.000000</td>\n",
       "      <td>3.843000</td>\n",
       "      <td>0.841000</td>\n",
       "    </tr>\n",
       "    <tr>\n",
       "      <th>25%</th>\n",
       "      <td>-0.500000</td>\n",
       "      <td>2.721750</td>\n",
       "      <td>0.894000</td>\n",
       "      <td>68.740250</td>\n",
       "      <td>0.973000</td>\n",
       "      <td>-3.457250</td>\n",
       "      <td>0.000000</td>\n",
       "      <td>5.709000</td>\n",
       "      <td>68.346000</td>\n",
       "      <td>5.471250</td>\n",
       "      <td>1.096000</td>\n",
       "    </tr>\n",
       "    <tr>\n",
       "      <th>50%</th>\n",
       "      <td>2.000000</td>\n",
       "      <td>7.500000</td>\n",
       "      <td>0.965000</td>\n",
       "      <td>74.069500</td>\n",
       "      <td>0.994000</td>\n",
       "      <td>-2.238000</td>\n",
       "      <td>0.000000</td>\n",
       "      <td>15.057000</td>\n",
       "      <td>73.646000</td>\n",
       "      <td>5.935500</td>\n",
       "      <td>1.188000</td>\n",
       "    </tr>\n",
       "    <tr>\n",
       "      <th>75%</th>\n",
       "      <td>4.000000</td>\n",
       "      <td>14.230250</td>\n",
       "      <td>1.053500</td>\n",
       "      <td>79.284750</td>\n",
       "      <td>1.013000</td>\n",
       "      <td>-1.306250</td>\n",
       "      <td>0.000000</td>\n",
       "      <td>25.290250</td>\n",
       "      <td>80.069250</td>\n",
       "      <td>6.375250</td>\n",
       "      <td>1.378500</td>\n",
       "    </tr>\n",
       "    <tr>\n",
       "      <th>max</th>\n",
       "      <td>30.000000</td>\n",
       "      <td>44.118000</td>\n",
       "      <td>1.431000</td>\n",
       "      <td>102.929000</td>\n",
       "      <td>1.182000</td>\n",
       "      <td>2.017000</td>\n",
       "      <td>1.000000</td>\n",
       "      <td>50.098000</td>\n",
       "      <td>102.929000</td>\n",
       "      <td>7.588000</td>\n",
       "      <td>2.283000</td>\n",
       "    </tr>\n",
       "  </tbody>\n",
       "</table>\n",
       "</div>"
      ],
      "text/plain": [
       "       FULL_Charge  FULL_AcidicMolPerc  FULL_AURR980107  FULL_DAYM780201  \\\n",
       "count   758.000000          758.000000       758.000000       758.000000   \n",
       "mean      2.073879            8.945091         0.973046        73.821891   \n",
       "std       4.230615            7.814449         0.110676         8.029524   \n",
       "min     -13.000000            0.000000         0.699000        47.000000   \n",
       "25%      -0.500000            2.721750         0.894000        68.740250   \n",
       "50%       2.000000            7.500000         0.965000        74.069500   \n",
       "75%       4.000000           14.230250         1.053500        79.284750   \n",
       "max      30.000000           44.118000         1.431000       102.929000   \n",
       "\n",
       "       FULL_GEOR030101  FULL_OOBM850104   NT_EFC195  AS_MeanAmphiMoment  \\\n",
       "count       758.000000       758.000000  758.000000          758.000000   \n",
       "mean          0.994212        -2.397922    0.084433           15.570067   \n",
       "std           0.032370         1.597138    0.278219           11.362589   \n",
       "min           0.889000        -7.844000    0.000000            0.060000   \n",
       "25%           0.973000        -3.457250    0.000000            5.709000   \n",
       "50%           0.994000        -2.238000    0.000000           15.057000   \n",
       "75%           1.013000        -1.306250    0.000000           25.290250   \n",
       "max           1.182000         2.017000    1.000000           50.098000   \n",
       "\n",
       "       AS_DAYM780201  AS_FUKS010112  CT_RACS820104  \n",
       "count     758.000000     758.000000     758.000000  \n",
       "mean       73.844204       5.904492       1.250189  \n",
       "std         8.915193       0.656911       0.218102  \n",
       "min        47.000000       3.843000       0.841000  \n",
       "25%        68.346000       5.471250       1.096000  \n",
       "50%        73.646000       5.935500       1.188000  \n",
       "75%        80.069250       6.375250       1.378500  \n",
       "max       102.929000       7.588000       2.283000  "
      ]
     },
     "execution_count": 11,
     "metadata": {},
     "output_type": "execute_result"
    }
   ],
   "source": [
    "#summary statistics for the Test data set too\n",
    "\n",
    "Test.describe()"
   ]
  },
  {
   "cell_type": "markdown",
   "metadata": {},
   "source": [
    "# Attribute Correlations\n",
    "## It is important to check whether different attributes have a positive or negative correlation or none."
   ]
  },
  {
   "cell_type": "code",
   "execution_count": 12,
   "metadata": {},
   "outputs": [
    {
     "data": {
      "text/html": [
       "<div>\n",
       "<style scoped>\n",
       "    .dataframe tbody tr th:only-of-type {\n",
       "        vertical-align: middle;\n",
       "    }\n",
       "\n",
       "    .dataframe tbody tr th {\n",
       "        vertical-align: top;\n",
       "    }\n",
       "\n",
       "    .dataframe thead th {\n",
       "        text-align: right;\n",
       "    }\n",
       "</style>\n",
       "<table border=\"1\" class=\"dataframe\">\n",
       "  <thead>\n",
       "    <tr style=\"text-align: right;\">\n",
       "      <th></th>\n",
       "      <th>FULL_Charge</th>\n",
       "      <th>FULL_AcidicMolPerc</th>\n",
       "      <th>FULL_AURR980107</th>\n",
       "      <th>FULL_DAYM780201</th>\n",
       "      <th>FULL_GEOR030101</th>\n",
       "      <th>FULL_OOBM850104</th>\n",
       "      <th>NT_EFC195</th>\n",
       "      <th>AS_MeanAmphiMoment</th>\n",
       "      <th>AS_DAYM780201</th>\n",
       "      <th>AS_FUKS010112</th>\n",
       "      <th>CT_RACS820104</th>\n",
       "      <th>CLASS</th>\n",
       "    </tr>\n",
       "  </thead>\n",
       "  <tbody>\n",
       "    <tr>\n",
       "      <th>FULL_Charge</th>\n",
       "      <td>1.000000</td>\n",
       "      <td>-0.612996</td>\n",
       "      <td>-0.490977</td>\n",
       "      <td>-0.434603</td>\n",
       "      <td>-0.058725</td>\n",
       "      <td>-0.283758</td>\n",
       "      <td>0.088068</td>\n",
       "      <td>0.355477</td>\n",
       "      <td>-0.365374</td>\n",
       "      <td>-0.090570</td>\n",
       "      <td>0.232929</td>\n",
       "      <td>0.534602</td>\n",
       "    </tr>\n",
       "    <tr>\n",
       "      <th>FULL_AcidicMolPerc</th>\n",
       "      <td>-0.612996</td>\n",
       "      <td>1.000000</td>\n",
       "      <td>0.794796</td>\n",
       "      <td>0.541481</td>\n",
       "      <td>0.115201</td>\n",
       "      <td>0.513344</td>\n",
       "      <td>-0.143168</td>\n",
       "      <td>-0.431590</td>\n",
       "      <td>0.449621</td>\n",
       "      <td>0.002334</td>\n",
       "      <td>-0.213543</td>\n",
       "      <td>-0.598816</td>\n",
       "    </tr>\n",
       "    <tr>\n",
       "      <th>FULL_AURR980107</th>\n",
       "      <td>-0.490977</td>\n",
       "      <td>0.794796</td>\n",
       "      <td>1.000000</td>\n",
       "      <td>0.548253</td>\n",
       "      <td>0.346139</td>\n",
       "      <td>0.462712</td>\n",
       "      <td>-0.169540</td>\n",
       "      <td>-0.426097</td>\n",
       "      <td>0.456260</td>\n",
       "      <td>0.032958</td>\n",
       "      <td>-0.403599</td>\n",
       "      <td>-0.584111</td>\n",
       "    </tr>\n",
       "    <tr>\n",
       "      <th>FULL_DAYM780201</th>\n",
       "      <td>-0.434603</td>\n",
       "      <td>0.541481</td>\n",
       "      <td>0.548253</td>\n",
       "      <td>1.000000</td>\n",
       "      <td>0.010118</td>\n",
       "      <td>0.334778</td>\n",
       "      <td>-0.090058</td>\n",
       "      <td>-0.408793</td>\n",
       "      <td>0.894191</td>\n",
       "      <td>0.055915</td>\n",
       "      <td>-0.326792</td>\n",
       "      <td>-0.554838</td>\n",
       "    </tr>\n",
       "    <tr>\n",
       "      <th>FULL_GEOR030101</th>\n",
       "      <td>-0.058725</td>\n",
       "      <td>0.115201</td>\n",
       "      <td>0.346139</td>\n",
       "      <td>0.010118</td>\n",
       "      <td>1.000000</td>\n",
       "      <td>0.319157</td>\n",
       "      <td>-0.230417</td>\n",
       "      <td>-0.160269</td>\n",
       "      <td>-0.029085</td>\n",
       "      <td>0.040480</td>\n",
       "      <td>-0.151935</td>\n",
       "      <td>-0.260470</td>\n",
       "    </tr>\n",
       "    <tr>\n",
       "      <th>FULL_OOBM850104</th>\n",
       "      <td>-0.283758</td>\n",
       "      <td>0.513344</td>\n",
       "      <td>0.462712</td>\n",
       "      <td>0.334778</td>\n",
       "      <td>0.319157</td>\n",
       "      <td>1.000000</td>\n",
       "      <td>-0.230561</td>\n",
       "      <td>-0.336297</td>\n",
       "      <td>0.275640</td>\n",
       "      <td>-0.452769</td>\n",
       "      <td>0.155304</td>\n",
       "      <td>-0.453287</td>\n",
       "    </tr>\n",
       "    <tr>\n",
       "      <th>NT_EFC195</th>\n",
       "      <td>0.088068</td>\n",
       "      <td>-0.143168</td>\n",
       "      <td>-0.169540</td>\n",
       "      <td>-0.090058</td>\n",
       "      <td>-0.230417</td>\n",
       "      <td>-0.230561</td>\n",
       "      <td>1.000000</td>\n",
       "      <td>0.178683</td>\n",
       "      <td>-0.036844</td>\n",
       "      <td>0.145924</td>\n",
       "      <td>0.080898</td>\n",
       "      <td>0.260702</td>\n",
       "    </tr>\n",
       "    <tr>\n",
       "      <th>AS_MeanAmphiMoment</th>\n",
       "      <td>0.355477</td>\n",
       "      <td>-0.431590</td>\n",
       "      <td>-0.426097</td>\n",
       "      <td>-0.408793</td>\n",
       "      <td>-0.160269</td>\n",
       "      <td>-0.336297</td>\n",
       "      <td>0.178683</td>\n",
       "      <td>1.000000</td>\n",
       "      <td>-0.322378</td>\n",
       "      <td>0.025580</td>\n",
       "      <td>0.171524</td>\n",
       "      <td>0.693552</td>\n",
       "    </tr>\n",
       "    <tr>\n",
       "      <th>AS_DAYM780201</th>\n",
       "      <td>-0.365374</td>\n",
       "      <td>0.449621</td>\n",
       "      <td>0.456260</td>\n",
       "      <td>0.894191</td>\n",
       "      <td>-0.029085</td>\n",
       "      <td>0.275640</td>\n",
       "      <td>-0.036844</td>\n",
       "      <td>-0.322378</td>\n",
       "      <td>1.000000</td>\n",
       "      <td>0.045562</td>\n",
       "      <td>-0.256060</td>\n",
       "      <td>-0.437168</td>\n",
       "    </tr>\n",
       "    <tr>\n",
       "      <th>AS_FUKS010112</th>\n",
       "      <td>-0.090570</td>\n",
       "      <td>0.002334</td>\n",
       "      <td>0.032958</td>\n",
       "      <td>0.055915</td>\n",
       "      <td>0.040480</td>\n",
       "      <td>-0.452769</td>\n",
       "      <td>0.145924</td>\n",
       "      <td>0.025580</td>\n",
       "      <td>0.045562</td>\n",
       "      <td>1.000000</td>\n",
       "      <td>-0.445284</td>\n",
       "      <td>0.033432</td>\n",
       "    </tr>\n",
       "    <tr>\n",
       "      <th>CT_RACS820104</th>\n",
       "      <td>0.232929</td>\n",
       "      <td>-0.213543</td>\n",
       "      <td>-0.403599</td>\n",
       "      <td>-0.326792</td>\n",
       "      <td>-0.151935</td>\n",
       "      <td>0.155304</td>\n",
       "      <td>0.080898</td>\n",
       "      <td>0.171524</td>\n",
       "      <td>-0.256060</td>\n",
       "      <td>-0.445284</td>\n",
       "      <td>1.000000</td>\n",
       "      <td>0.267652</td>\n",
       "    </tr>\n",
       "    <tr>\n",
       "      <th>CLASS</th>\n",
       "      <td>0.534602</td>\n",
       "      <td>-0.598816</td>\n",
       "      <td>-0.584111</td>\n",
       "      <td>-0.554838</td>\n",
       "      <td>-0.260470</td>\n",
       "      <td>-0.453287</td>\n",
       "      <td>0.260702</td>\n",
       "      <td>0.693552</td>\n",
       "      <td>-0.437168</td>\n",
       "      <td>0.033432</td>\n",
       "      <td>0.267652</td>\n",
       "      <td>1.000000</td>\n",
       "    </tr>\n",
       "  </tbody>\n",
       "</table>\n",
       "</div>"
      ],
      "text/plain": [
       "                    FULL_Charge  FULL_AcidicMolPerc  FULL_AURR980107  \\\n",
       "FULL_Charge            1.000000           -0.612996        -0.490977   \n",
       "FULL_AcidicMolPerc    -0.612996            1.000000         0.794796   \n",
       "FULL_AURR980107       -0.490977            0.794796         1.000000   \n",
       "FULL_DAYM780201       -0.434603            0.541481         0.548253   \n",
       "FULL_GEOR030101       -0.058725            0.115201         0.346139   \n",
       "FULL_OOBM850104       -0.283758            0.513344         0.462712   \n",
       "NT_EFC195              0.088068           -0.143168        -0.169540   \n",
       "AS_MeanAmphiMoment     0.355477           -0.431590        -0.426097   \n",
       "AS_DAYM780201         -0.365374            0.449621         0.456260   \n",
       "AS_FUKS010112         -0.090570            0.002334         0.032958   \n",
       "CT_RACS820104          0.232929           -0.213543        -0.403599   \n",
       "CLASS                  0.534602           -0.598816        -0.584111   \n",
       "\n",
       "                    FULL_DAYM780201  FULL_GEOR030101  FULL_OOBM850104  \\\n",
       "FULL_Charge               -0.434603        -0.058725        -0.283758   \n",
       "FULL_AcidicMolPerc         0.541481         0.115201         0.513344   \n",
       "FULL_AURR980107            0.548253         0.346139         0.462712   \n",
       "FULL_DAYM780201            1.000000         0.010118         0.334778   \n",
       "FULL_GEOR030101            0.010118         1.000000         0.319157   \n",
       "FULL_OOBM850104            0.334778         0.319157         1.000000   \n",
       "NT_EFC195                 -0.090058        -0.230417        -0.230561   \n",
       "AS_MeanAmphiMoment        -0.408793        -0.160269        -0.336297   \n",
       "AS_DAYM780201              0.894191        -0.029085         0.275640   \n",
       "AS_FUKS010112              0.055915         0.040480        -0.452769   \n",
       "CT_RACS820104             -0.326792        -0.151935         0.155304   \n",
       "CLASS                     -0.554838        -0.260470        -0.453287   \n",
       "\n",
       "                    NT_EFC195  AS_MeanAmphiMoment  AS_DAYM780201  \\\n",
       "FULL_Charge          0.088068            0.355477      -0.365374   \n",
       "FULL_AcidicMolPerc  -0.143168           -0.431590       0.449621   \n",
       "FULL_AURR980107     -0.169540           -0.426097       0.456260   \n",
       "FULL_DAYM780201     -0.090058           -0.408793       0.894191   \n",
       "FULL_GEOR030101     -0.230417           -0.160269      -0.029085   \n",
       "FULL_OOBM850104     -0.230561           -0.336297       0.275640   \n",
       "NT_EFC195            1.000000            0.178683      -0.036844   \n",
       "AS_MeanAmphiMoment   0.178683            1.000000      -0.322378   \n",
       "AS_DAYM780201       -0.036844           -0.322378       1.000000   \n",
       "AS_FUKS010112        0.145924            0.025580       0.045562   \n",
       "CT_RACS820104        0.080898            0.171524      -0.256060   \n",
       "CLASS                0.260702            0.693552      -0.437168   \n",
       "\n",
       "                    AS_FUKS010112  CT_RACS820104     CLASS  \n",
       "FULL_Charge             -0.090570       0.232929  0.534602  \n",
       "FULL_AcidicMolPerc       0.002334      -0.213543 -0.598816  \n",
       "FULL_AURR980107          0.032958      -0.403599 -0.584111  \n",
       "FULL_DAYM780201          0.055915      -0.326792 -0.554838  \n",
       "FULL_GEOR030101          0.040480      -0.151935 -0.260470  \n",
       "FULL_OOBM850104         -0.452769       0.155304 -0.453287  \n",
       "NT_EFC195                0.145924       0.080898  0.260702  \n",
       "AS_MeanAmphiMoment       0.025580       0.171524  0.693552  \n",
       "AS_DAYM780201            0.045562      -0.256060 -0.437168  \n",
       "AS_FUKS010112            1.000000      -0.445284  0.033432  \n",
       "CT_RACS820104           -0.445284       1.000000  0.267652  \n",
       "CLASS                    0.033432       0.267652  1.000000  "
      ]
     },
     "execution_count": 12,
     "metadata": {},
     "output_type": "execute_result"
    }
   ],
   "source": [
    "#Assuming a Gaussian distribution for both data stes; we shall use the pearson correlation\n",
    "\n",
    "Train.corr(method = 'pearson')\n"
   ]
  },
  {
   "cell_type": "code",
   "execution_count": 13,
   "metadata": {},
   "outputs": [
    {
     "data": {
      "text/html": [
       "<div>\n",
       "<style scoped>\n",
       "    .dataframe tbody tr th:only-of-type {\n",
       "        vertical-align: middle;\n",
       "    }\n",
       "\n",
       "    .dataframe tbody tr th {\n",
       "        vertical-align: top;\n",
       "    }\n",
       "\n",
       "    .dataframe thead th {\n",
       "        text-align: right;\n",
       "    }\n",
       "</style>\n",
       "<table border=\"1\" class=\"dataframe\">\n",
       "  <thead>\n",
       "    <tr style=\"text-align: right;\">\n",
       "      <th></th>\n",
       "      <th>FULL_Charge</th>\n",
       "      <th>FULL_AcidicMolPerc</th>\n",
       "      <th>FULL_AURR980107</th>\n",
       "      <th>FULL_DAYM780201</th>\n",
       "      <th>FULL_GEOR030101</th>\n",
       "      <th>FULL_OOBM850104</th>\n",
       "      <th>NT_EFC195</th>\n",
       "      <th>AS_MeanAmphiMoment</th>\n",
       "      <th>AS_DAYM780201</th>\n",
       "      <th>AS_FUKS010112</th>\n",
       "      <th>CT_RACS820104</th>\n",
       "    </tr>\n",
       "  </thead>\n",
       "  <tbody>\n",
       "    <tr>\n",
       "      <th>FULL_Charge</th>\n",
       "      <td>1.000000</td>\n",
       "      <td>-0.636153</td>\n",
       "      <td>-0.512634</td>\n",
       "      <td>-0.423297</td>\n",
       "      <td>-0.041073</td>\n",
       "      <td>-0.267569</td>\n",
       "      <td>0.048003</td>\n",
       "      <td>0.315226</td>\n",
       "      <td>-0.333469</td>\n",
       "      <td>-0.117356</td>\n",
       "      <td>0.239915</td>\n",
       "    </tr>\n",
       "    <tr>\n",
       "      <th>FULL_AcidicMolPerc</th>\n",
       "      <td>-0.636153</td>\n",
       "      <td>1.000000</td>\n",
       "      <td>0.813635</td>\n",
       "      <td>0.514432</td>\n",
       "      <td>0.150881</td>\n",
       "      <td>0.474707</td>\n",
       "      <td>-0.084944</td>\n",
       "      <td>-0.357758</td>\n",
       "      <td>0.402034</td>\n",
       "      <td>0.141849</td>\n",
       "      <td>-0.294068</td>\n",
       "    </tr>\n",
       "    <tr>\n",
       "      <th>FULL_AURR980107</th>\n",
       "      <td>-0.512634</td>\n",
       "      <td>0.813635</td>\n",
       "      <td>1.000000</td>\n",
       "      <td>0.519587</td>\n",
       "      <td>0.420289</td>\n",
       "      <td>0.453385</td>\n",
       "      <td>-0.124539</td>\n",
       "      <td>-0.359845</td>\n",
       "      <td>0.409438</td>\n",
       "      <td>0.142190</td>\n",
       "      <td>-0.436791</td>\n",
       "    </tr>\n",
       "    <tr>\n",
       "      <th>FULL_DAYM780201</th>\n",
       "      <td>-0.423297</td>\n",
       "      <td>0.514432</td>\n",
       "      <td>0.519587</td>\n",
       "      <td>1.000000</td>\n",
       "      <td>0.082603</td>\n",
       "      <td>0.295562</td>\n",
       "      <td>-0.095313</td>\n",
       "      <td>-0.331024</td>\n",
       "      <td>0.847809</td>\n",
       "      <td>0.136920</td>\n",
       "      <td>-0.341753</td>\n",
       "    </tr>\n",
       "    <tr>\n",
       "      <th>FULL_GEOR030101</th>\n",
       "      <td>-0.041073</td>\n",
       "      <td>0.150881</td>\n",
       "      <td>0.420289</td>\n",
       "      <td>0.082603</td>\n",
       "      <td>1.000000</td>\n",
       "      <td>0.348001</td>\n",
       "      <td>-0.186815</td>\n",
       "      <td>-0.161173</td>\n",
       "      <td>0.006709</td>\n",
       "      <td>0.053917</td>\n",
       "      <td>-0.231629</td>\n",
       "    </tr>\n",
       "    <tr>\n",
       "      <th>FULL_OOBM850104</th>\n",
       "      <td>-0.267569</td>\n",
       "      <td>0.474707</td>\n",
       "      <td>0.453385</td>\n",
       "      <td>0.295562</td>\n",
       "      <td>0.348001</td>\n",
       "      <td>1.000000</td>\n",
       "      <td>-0.193132</td>\n",
       "      <td>-0.268725</td>\n",
       "      <td>0.235712</td>\n",
       "      <td>-0.383245</td>\n",
       "      <td>0.080936</td>\n",
       "    </tr>\n",
       "    <tr>\n",
       "      <th>NT_EFC195</th>\n",
       "      <td>0.048003</td>\n",
       "      <td>-0.084944</td>\n",
       "      <td>-0.124539</td>\n",
       "      <td>-0.095313</td>\n",
       "      <td>-0.186815</td>\n",
       "      <td>-0.193132</td>\n",
       "      <td>1.000000</td>\n",
       "      <td>0.099988</td>\n",
       "      <td>-0.074133</td>\n",
       "      <td>0.164965</td>\n",
       "      <td>0.071861</td>\n",
       "    </tr>\n",
       "    <tr>\n",
       "      <th>AS_MeanAmphiMoment</th>\n",
       "      <td>0.315226</td>\n",
       "      <td>-0.357758</td>\n",
       "      <td>-0.359845</td>\n",
       "      <td>-0.331024</td>\n",
       "      <td>-0.161173</td>\n",
       "      <td>-0.268725</td>\n",
       "      <td>0.099988</td>\n",
       "      <td>1.000000</td>\n",
       "      <td>-0.221153</td>\n",
       "      <td>0.007911</td>\n",
       "      <td>0.144333</td>\n",
       "    </tr>\n",
       "    <tr>\n",
       "      <th>AS_DAYM780201</th>\n",
       "      <td>-0.333469</td>\n",
       "      <td>0.402034</td>\n",
       "      <td>0.409438</td>\n",
       "      <td>0.847809</td>\n",
       "      <td>0.006709</td>\n",
       "      <td>0.235712</td>\n",
       "      <td>-0.074133</td>\n",
       "      <td>-0.221153</td>\n",
       "      <td>1.000000</td>\n",
       "      <td>0.108141</td>\n",
       "      <td>-0.250624</td>\n",
       "    </tr>\n",
       "    <tr>\n",
       "      <th>AS_FUKS010112</th>\n",
       "      <td>-0.117356</td>\n",
       "      <td>0.141849</td>\n",
       "      <td>0.142190</td>\n",
       "      <td>0.136920</td>\n",
       "      <td>0.053917</td>\n",
       "      <td>-0.383245</td>\n",
       "      <td>0.164965</td>\n",
       "      <td>0.007911</td>\n",
       "      <td>0.108141</td>\n",
       "      <td>1.000000</td>\n",
       "      <td>-0.402763</td>\n",
       "    </tr>\n",
       "    <tr>\n",
       "      <th>CT_RACS820104</th>\n",
       "      <td>0.239915</td>\n",
       "      <td>-0.294068</td>\n",
       "      <td>-0.436791</td>\n",
       "      <td>-0.341753</td>\n",
       "      <td>-0.231629</td>\n",
       "      <td>0.080936</td>\n",
       "      <td>0.071861</td>\n",
       "      <td>0.144333</td>\n",
       "      <td>-0.250624</td>\n",
       "      <td>-0.402763</td>\n",
       "      <td>1.000000</td>\n",
       "    </tr>\n",
       "  </tbody>\n",
       "</table>\n",
       "</div>"
      ],
      "text/plain": [
       "                    FULL_Charge  FULL_AcidicMolPerc  FULL_AURR980107  \\\n",
       "FULL_Charge            1.000000           -0.636153        -0.512634   \n",
       "FULL_AcidicMolPerc    -0.636153            1.000000         0.813635   \n",
       "FULL_AURR980107       -0.512634            0.813635         1.000000   \n",
       "FULL_DAYM780201       -0.423297            0.514432         0.519587   \n",
       "FULL_GEOR030101       -0.041073            0.150881         0.420289   \n",
       "FULL_OOBM850104       -0.267569            0.474707         0.453385   \n",
       "NT_EFC195              0.048003           -0.084944        -0.124539   \n",
       "AS_MeanAmphiMoment     0.315226           -0.357758        -0.359845   \n",
       "AS_DAYM780201         -0.333469            0.402034         0.409438   \n",
       "AS_FUKS010112         -0.117356            0.141849         0.142190   \n",
       "CT_RACS820104          0.239915           -0.294068        -0.436791   \n",
       "\n",
       "                    FULL_DAYM780201  FULL_GEOR030101  FULL_OOBM850104  \\\n",
       "FULL_Charge               -0.423297        -0.041073        -0.267569   \n",
       "FULL_AcidicMolPerc         0.514432         0.150881         0.474707   \n",
       "FULL_AURR980107            0.519587         0.420289         0.453385   \n",
       "FULL_DAYM780201            1.000000         0.082603         0.295562   \n",
       "FULL_GEOR030101            0.082603         1.000000         0.348001   \n",
       "FULL_OOBM850104            0.295562         0.348001         1.000000   \n",
       "NT_EFC195                 -0.095313        -0.186815        -0.193132   \n",
       "AS_MeanAmphiMoment        -0.331024        -0.161173        -0.268725   \n",
       "AS_DAYM780201              0.847809         0.006709         0.235712   \n",
       "AS_FUKS010112              0.136920         0.053917        -0.383245   \n",
       "CT_RACS820104             -0.341753        -0.231629         0.080936   \n",
       "\n",
       "                    NT_EFC195  AS_MeanAmphiMoment  AS_DAYM780201  \\\n",
       "FULL_Charge          0.048003            0.315226      -0.333469   \n",
       "FULL_AcidicMolPerc  -0.084944           -0.357758       0.402034   \n",
       "FULL_AURR980107     -0.124539           -0.359845       0.409438   \n",
       "FULL_DAYM780201     -0.095313           -0.331024       0.847809   \n",
       "FULL_GEOR030101     -0.186815           -0.161173       0.006709   \n",
       "FULL_OOBM850104     -0.193132           -0.268725       0.235712   \n",
       "NT_EFC195            1.000000            0.099988      -0.074133   \n",
       "AS_MeanAmphiMoment   0.099988            1.000000      -0.221153   \n",
       "AS_DAYM780201       -0.074133           -0.221153       1.000000   \n",
       "AS_FUKS010112        0.164965            0.007911       0.108141   \n",
       "CT_RACS820104        0.071861            0.144333      -0.250624   \n",
       "\n",
       "                    AS_FUKS010112  CT_RACS820104  \n",
       "FULL_Charge             -0.117356       0.239915  \n",
       "FULL_AcidicMolPerc       0.141849      -0.294068  \n",
       "FULL_AURR980107          0.142190      -0.436791  \n",
       "FULL_DAYM780201          0.136920      -0.341753  \n",
       "FULL_GEOR030101          0.053917      -0.231629  \n",
       "FULL_OOBM850104         -0.383245       0.080936  \n",
       "NT_EFC195                0.164965       0.071861  \n",
       "AS_MeanAmphiMoment       0.007911       0.144333  \n",
       "AS_DAYM780201            0.108141      -0.250624  \n",
       "AS_FUKS010112            1.000000      -0.402763  \n",
       "CT_RACS820104           -0.402763       1.000000  "
      ]
     },
     "execution_count": 13,
     "metadata": {},
     "output_type": "execute_result"
    }
   ],
   "source": [
    "#Correlation on the Test data set\n",
    "\n",
    "Test.corr(method = 'pearson')\n",
    "\n",
    "#A quci eyeball shows all variables have some form of correlation to each other. \n",
    "#There is no variable with zero correlation to another"
   ]
  },
  {
   "cell_type": "markdown",
   "metadata": {},
   "source": [
    "# Plotting the data\n",
    "## Upon noticing some correlation, it is good to cisualize it in a heatmap"
   ]
  },
  {
   "cell_type": "code",
   "execution_count": 14,
   "metadata": {},
   "outputs": [],
   "source": [
    "# Visualizing correlations between attributes using heatmaps\n",
    "#import the necessary library; seaborn\n",
    "\n",
    "import seaborn as sns\n"
   ]
  },
  {
   "cell_type": "code",
   "execution_count": 15,
   "metadata": {},
   "outputs": [
    {
     "data": {
      "text/plain": [
       "<matplotlib.axes._subplots.AxesSubplot at 0x110ba9e10>"
      ]
     },
     "execution_count": 15,
     "metadata": {},
     "output_type": "execute_result"
    },
    {
     "data": {
      "image/png": "[encoded data removed]",
      "text/plain": [
       "<Figure size 432x432 with 2 Axes>"
      ]
     },
     "metadata": {
      "needs_background": "light"
     },
     "output_type": "display_data"
    }
   ],
   "source": [
    "#plot a heat map for the Test data set\n",
    "plt.figure(figsize=(6,6))\n",
    "sns.heatmap(Test.corr(method='pearson'))"
   ]
  },
  {
   "cell_type": "code",
   "execution_count": 16,
   "metadata": {},
   "outputs": [
    {
     "data": {
      "text/plain": [
       "<matplotlib.axes._subplots.AxesSubplot at 0x1a1e7fcd90>"
      ]
     },
     "execution_count": 16,
     "metadata": {},
     "output_type": "execute_result"
    },
    {
     "data": {
      "image/png": "[encoded data removed]",
      "text/plain": [
       "<Figure size 432x432 with 2 Axes>"
      ]
     },
     "metadata": {
      "needs_background": "light"
     },
     "output_type": "display_data"
    }
   ],
   "source": [
    "#Heat map for the Train data set\n",
    "plt.figure(figsize=(6,6))\n",
    "sns.heatmap(Train.corr(method='pearson'))"
   ]
  },
  {
   "cell_type": "markdown",
   "metadata": {},
   "source": [
    "## Testing for skewness of variables\n",
    "# This will be important incase some variables are skewed either positively or negatively since we are assuming a Gaussian distribution. Correcting for this skewness improves on the accuracy of the model."
   ]
  },
  {
   "cell_type": "code",
   "execution_count": 17,
   "metadata": {},
   "outputs": [
    {
     "data": {
      "text/plain": [
       "<matplotlib.axes._subplots.AxesSubplot at 0x1a1e97cd90>"
      ]
     },
     "execution_count": 17,
     "metadata": {},
     "output_type": "execute_result"
    },
    {
     "data": {
      "image/png": "[encoded data removed]",
      "text/plain": [
       "<Figure size 432x288 with 1 Axes>"
      ]
     },
     "metadata": {
      "needs_background": "light"
     },
     "output_type": "display_data"
    }
   ],
   "source": [
    "#Skewness of distributions on the Train data set\n",
    "Train.skew().plot(kind= 'bar')\n",
    "\n",
    "#The NT_EFC195 show a high right skew (above 1).\n",
    "#We shall have to correct for this to improve the model accuracy\n",
    "#This we shall do by finding the square root, cube root or a logarithmic transformation"
   ]
  },
  {
   "cell_type": "code",
   "execution_count": 18,
   "metadata": {},
   "outputs": [
    {
     "data": {
      "text/plain": [
       "<matplotlib.axes._subplots.AxesSubplot at 0x1a1eb62b50>"
      ]
     },
     "execution_count": 18,
     "metadata": {},
     "output_type": "execute_result"
    },
    {
     "data": {
      "image/png": "[encoded data removed]",
      "text/plain": [
       "<Figure size 432x288 with 1 Axes>"
      ]
     },
     "metadata": {
      "needs_background": "light"
     },
     "output_type": "display_data"
    }
   ],
   "source": [
    "#Testing for skewness on the Train Data set\n",
    "\n",
    "Test.skew().plot(kind= 'bar')\n",
    "\n",
    "# This data set also has a high positive skew for the NT_EFC195 variable as well"
   ]
  },
  {
   "cell_type": "markdown",
   "metadata": {},
   "source": [
    "## Understanding my data\n",
    "# Different plots will give me a good insight into what to do next with the data I have.Plots like histograms, scatter plots are good to give a genearl view"
   ]
  },
  {
   "cell_type": "code",
   "execution_count": 19,
   "metadata": {},
   "outputs": [
    {
     "data": {
      "text/plain": [
       "<Figure size 1080x1080 with 0 Axes>"
      ]
     },
     "metadata": {},
     "output_type": "display_data"
    },
    {
     "data": {
      "image/png": "[encoded data removed]",
      "text/plain": [
       "<Figure size 432x288 with 12 Axes>"
      ]
     },
     "metadata": {
      "needs_background": "light"
     },
     "output_type": "display_data"
    }
   ],
   "source": [
    "#Plotting a histogram for the Train Data\n",
    "\n",
    "plt.figure(figsize=(15,15))\n",
    "Train.hist()\n",
    "plt.show()\n"
   ]
  },
  {
   "cell_type": "code",
   "execution_count": 20,
   "metadata": {},
   "outputs": [
    {
     "data": {
      "text/plain": [
       "<Figure size 1080x1080 with 0 Axes>"
      ]
     },
     "metadata": {},
     "output_type": "display_data"
    },
    {
     "data": {
      "image/png": "[encoded data removed]",
      "text/plain": [
       "<Figure size 432x288 with 12 Axes>"
      ]
     },
     "metadata": {
      "needs_background": "light"
     },
     "output_type": "display_data"
    }
   ],
   "source": [
    "#Plotting a histogram for the Test Data\n",
    "\n",
    "plt.figure(figsize=(15,15))\n",
    "Test.hist()\n",
    "plt.show()"
   ]
  },
  {
   "cell_type": "code",
   "execution_count": 21,
   "metadata": {},
   "outputs": [],
   "source": [
    "#Rug plots\n",
    "#The rugplots are like histograms except they show every single data point on the x-axis, allowing us to visualize all of the actual values\n",
    "#Both the Train and Test rugplots indicate some kind of left skew. This we need to take into account when designing the model"
   ]
  },
  {
   "cell_type": "code",
   "execution_count": 22,
   "metadata": {},
   "outputs": [
    {
     "ename": "ValueError",
     "evalue": "too many values to unpack (expected 2)",
     "output_type": "error",
     "traceback": [
      "\u001b[0;31m---------------------------------------------------------------------------\u001b[0m",
      "\u001b[0;31mValueError\u001b[0m                                Traceback (most recent call last)",
      "\u001b[0;32m<ipython-input-22-84866a0d4399>\u001b[0m in \u001b[0;36m<module>\u001b[0;34m\u001b[0m\n\u001b[0;32m----> 1\u001b[0;31m \u001b[0msns\u001b[0m\u001b[0;34m.\u001b[0m\u001b[0mdistplot\u001b[0m\u001b[0;34m(\u001b[0m\u001b[0mTrain\u001b[0m\u001b[0;34m,\u001b[0m \u001b[0mhist\u001b[0m \u001b[0;34m=\u001b[0m \u001b[0;32mFalse\u001b[0m\u001b[0;34m,\u001b[0m \u001b[0mkde\u001b[0m \u001b[0;34m=\u001b[0m \u001b[0;32mTrue\u001b[0m\u001b[0;34m,\u001b[0m \u001b[0mrug\u001b[0m \u001b[0;34m=\u001b[0m \u001b[0;32mTrue\u001b[0m\u001b[0;34m,\u001b[0m \u001b[0mcolor\u001b[0m \u001b[0;34m=\u001b[0m \u001b[0;34m'darkblue'\u001b[0m\u001b[0;34m,\u001b[0m \u001b[0mkde_kws\u001b[0m\u001b[0;34m=\u001b[0m\u001b[0;34m{\u001b[0m\u001b[0;34m'linewidth'\u001b[0m\u001b[0;34m:\u001b[0m \u001b[0;36m3\u001b[0m\u001b[0;34m}\u001b[0m\u001b[0;34m,\u001b[0m \u001b[0mrug_kws\u001b[0m\u001b[0;34m=\u001b[0m\u001b[0;34m{\u001b[0m\u001b[0;34m'color'\u001b[0m\u001b[0;34m:\u001b[0m \u001b[0;34m'black'\u001b[0m\u001b[0;34m}\u001b[0m\u001b[0;34m)\u001b[0m\u001b[0;34m\u001b[0m\u001b[0;34m\u001b[0m\u001b[0m\n\u001b[0m",
      "\u001b[0;32m/opt/anaconda3/lib/python3.7/site-packages/seaborn/distributions.py\u001b[0m in \u001b[0;36mdistplot\u001b[0;34m(a, bins, hist, kde, rug, fit, hist_kws, kde_kws, rug_kws, fit_kws, color, vertical, norm_hist, axlabel, label, ax)\u001b[0m\n\u001b[1;32m    229\u001b[0m     \u001b[0;32mif\u001b[0m \u001b[0mkde\u001b[0m\u001b[0;34m:\u001b[0m\u001b[0;34m\u001b[0m\u001b[0;34m\u001b[0m\u001b[0m\n\u001b[1;32m    230\u001b[0m         \u001b[0mkde_color\u001b[0m \u001b[0;34m=\u001b[0m \u001b[0mkde_kws\u001b[0m\u001b[0;34m.\u001b[0m\u001b[0mpop\u001b[0m\u001b[0;34m(\u001b[0m\u001b[0;34m\"color\"\u001b[0m\u001b[0;34m,\u001b[0m \u001b[0mcolor\u001b[0m\u001b[0;34m)\u001b[0m\u001b[0;34m\u001b[0m\u001b[0;34m\u001b[0m\u001b[0m\n\u001b[0;32m--> 231\u001b[0;31m         \u001b[0mkdeplot\u001b[0m\u001b[0;34m(\u001b[0m\u001b[0ma\u001b[0m\u001b[0;34m,\u001b[0m \u001b[0mvertical\u001b[0m\u001b[0;34m=\u001b[0m\u001b[0mvertical\u001b[0m\u001b[0;34m,\u001b[0m \u001b[0max\u001b[0m\u001b[0;34m=\u001b[0m\u001b[0max\u001b[0m\u001b[0;34m,\u001b[0m \u001b[0mcolor\u001b[0m\u001b[0;34m=\u001b[0m\u001b[0mkde_color\u001b[0m\u001b[0;34m,\u001b[0m \u001b[0;34m**\u001b[0m\u001b[0mkde_kws\u001b[0m\u001b[0;34m)\u001b[0m\u001b[0;34m\u001b[0m\u001b[0;34m\u001b[0m\u001b[0m\n\u001b[0m\u001b[1;32m    232\u001b[0m         \u001b[0;32mif\u001b[0m \u001b[0mkde_color\u001b[0m \u001b[0;34m!=\u001b[0m \u001b[0mcolor\u001b[0m\u001b[0;34m:\u001b[0m\u001b[0;34m\u001b[0m\u001b[0;34m\u001b[0m\u001b[0m\n\u001b[1;32m    233\u001b[0m             \u001b[0mkde_kws\u001b[0m\u001b[0;34m[\u001b[0m\u001b[0;34m\"color\"\u001b[0m\u001b[0;34m]\u001b[0m \u001b[0;34m=\u001b[0m \u001b[0mkde_color\u001b[0m\u001b[0;34m\u001b[0m\u001b[0;34m\u001b[0m\u001b[0m\n",
      "\u001b[0;32m/opt/anaconda3/lib/python3.7/site-packages/seaborn/distributions.py\u001b[0m in \u001b[0;36mkdeplot\u001b[0;34m(data, data2, shade, vertical, kernel, bw, gridsize, cut, clip, legend, cumulative, shade_lowest, cbar, cbar_ax, cbar_kws, ax, **kwargs)\u001b[0m\n\u001b[1;32m    662\u001b[0m         \u001b[0mwarn\u001b[0m \u001b[0;34m=\u001b[0m \u001b[0;32mTrue\u001b[0m\u001b[0;34m\u001b[0m\u001b[0;34m\u001b[0m\u001b[0m\n\u001b[1;32m    663\u001b[0m         \u001b[0mbivariate\u001b[0m \u001b[0;34m=\u001b[0m \u001b[0;32mTrue\u001b[0m\u001b[0;34m\u001b[0m\u001b[0;34m\u001b[0m\u001b[0m\n\u001b[0;32m--> 664\u001b[0;31m         \u001b[0mx\u001b[0m\u001b[0;34m,\u001b[0m \u001b[0my\u001b[0m \u001b[0;34m=\u001b[0m \u001b[0mdata\u001b[0m\u001b[0;34m.\u001b[0m\u001b[0mT\u001b[0m\u001b[0;34m\u001b[0m\u001b[0;34m\u001b[0m\u001b[0m\n\u001b[0m\u001b[1;32m    665\u001b[0m     \u001b[0;32melif\u001b[0m \u001b[0misinstance\u001b[0m\u001b[0;34m(\u001b[0m\u001b[0mdata\u001b[0m\u001b[0;34m,\u001b[0m \u001b[0mpd\u001b[0m\u001b[0;34m.\u001b[0m\u001b[0mDataFrame\u001b[0m\u001b[0;34m)\u001b[0m \u001b[0;32mand\u001b[0m \u001b[0mnp\u001b[0m\u001b[0;34m.\u001b[0m\u001b[0mndim\u001b[0m\u001b[0;34m(\u001b[0m\u001b[0mdata\u001b[0m\u001b[0;34m)\u001b[0m \u001b[0;34m>\u001b[0m \u001b[0;36m1\u001b[0m\u001b[0;34m:\u001b[0m\u001b[0;34m\u001b[0m\u001b[0;34m\u001b[0m\u001b[0m\n\u001b[1;32m    666\u001b[0m         \u001b[0mwarn\u001b[0m \u001b[0;34m=\u001b[0m \u001b[0;32mTrue\u001b[0m\u001b[0;34m\u001b[0m\u001b[0;34m\u001b[0m\u001b[0m\n",
      "\u001b[0;31mValueError\u001b[0m: too many values to unpack (expected 2)"
     ]
    },
    {
     "data": {
      "image/png": "[encoded data removed]",
      "text/plain": [
       "<Figure size 432x288 with 1 Axes>"
      ]
     },
     "metadata": {
      "needs_background": "light"
     },
     "output_type": "display_data"
    }
   ],
   "source": [
    "sns.distplot(Train, hist = False, kde = True, rug = True, color = 'darkblue', kde_kws={'linewidth': 3}, rug_kws={'color': 'black'})"
   ]
  },
  {
   "cell_type": "code",
   "execution_count": null,
   "metadata": {},
   "outputs": [
    {
     "ename": "ValueError",
     "evalue": "too many values to unpack (expected 2)",
     "output_type": "error",
     "traceback": [
      "\u001b[0;31m---------------------------------------------------------------------------\u001b[0m",
      "\u001b[0;31mValueError\u001b[0m                                Traceback (most recent call last)",
      "\u001b[0;32m<ipython-input-23-8fc30a3fc3a5>\u001b[0m in \u001b[0;36m<module>\u001b[0;34m\u001b[0m\n\u001b[0;32m----> 1\u001b[0;31m \u001b[0msns\u001b[0m\u001b[0;34m.\u001b[0m\u001b[0mdistplot\u001b[0m\u001b[0;34m(\u001b[0m\u001b[0mTest\u001b[0m\u001b[0;34m,\u001b[0m \u001b[0mhist\u001b[0m \u001b[0;34m=\u001b[0m \u001b[0;32mFalse\u001b[0m\u001b[0;34m,\u001b[0m \u001b[0mkde\u001b[0m \u001b[0;34m=\u001b[0m \u001b[0;32mTrue\u001b[0m\u001b[0;34m,\u001b[0m \u001b[0mrug\u001b[0m \u001b[0;34m=\u001b[0m \u001b[0;32mTrue\u001b[0m\u001b[0;34m,\u001b[0m \u001b[0mcolor\u001b[0m \u001b[0;34m=\u001b[0m \u001b[0;34m'darkblue'\u001b[0m\u001b[0;34m,\u001b[0m \u001b[0mkde_kws\u001b[0m\u001b[0;34m=\u001b[0m\u001b[0;34m{\u001b[0m\u001b[0;34m'linewidth'\u001b[0m\u001b[0;34m:\u001b[0m \u001b[0;36m3\u001b[0m\u001b[0;34m}\u001b[0m\u001b[0;34m,\u001b[0m \u001b[0mrug_kws\u001b[0m\u001b[0;34m=\u001b[0m\u001b[0;34m{\u001b[0m\u001b[0;34m'color'\u001b[0m\u001b[0;34m:\u001b[0m \u001b[0;34m'black'\u001b[0m\u001b[0;34m}\u001b[0m\u001b[0;34m)\u001b[0m\u001b[0;34m\u001b[0m\u001b[0;34m\u001b[0m\u001b[0m\n\u001b[0m",
      "\u001b[0;32m/opt/anaconda3/lib/python3.7/site-packages/seaborn/distributions.py\u001b[0m in \u001b[0;36mdistplot\u001b[0;34m(a, bins, hist, kde, rug, fit, hist_kws, kde_kws, rug_kws, fit_kws, color, vertical, norm_hist, axlabel, label, ax)\u001b[0m\n\u001b[1;32m    229\u001b[0m     \u001b[0;32mif\u001b[0m \u001b[0mkde\u001b[0m\u001b[0;34m:\u001b[0m\u001b[0;34m\u001b[0m\u001b[0;34m\u001b[0m\u001b[0m\n\u001b[1;32m    230\u001b[0m         \u001b[0mkde_color\u001b[0m \u001b[0;34m=\u001b[0m \u001b[0mkde_kws\u001b[0m\u001b[0;34m.\u001b[0m\u001b[0mpop\u001b[0m\u001b[0;34m(\u001b[0m\u001b[0;34m\"color\"\u001b[0m\u001b[0;34m,\u001b[0m \u001b[0mcolor\u001b[0m\u001b[0;34m)\u001b[0m\u001b[0;34m\u001b[0m\u001b[0;34m\u001b[0m\u001b[0m\n\u001b[0;32m--> 231\u001b[0;31m         \u001b[0mkdeplot\u001b[0m\u001b[0;34m(\u001b[0m\u001b[0ma\u001b[0m\u001b[0;34m,\u001b[0m \u001b[0mvertical\u001b[0m\u001b[0;34m=\u001b[0m\u001b[0mvertical\u001b[0m\u001b[0;34m,\u001b[0m \u001b[0max\u001b[0m\u001b[0;34m=\u001b[0m\u001b[0max\u001b[0m\u001b[0;34m,\u001b[0m \u001b[0mcolor\u001b[0m\u001b[0;34m=\u001b[0m\u001b[0mkde_color\u001b[0m\u001b[0;34m,\u001b[0m \u001b[0;34m**\u001b[0m\u001b[0mkde_kws\u001b[0m\u001b[0;34m)\u001b[0m\u001b[0;34m\u001b[0m\u001b[0;34m\u001b[0m\u001b[0m\n\u001b[0m\u001b[1;32m    232\u001b[0m         \u001b[0;32mif\u001b[0m \u001b[0mkde_color\u001b[0m \u001b[0;34m!=\u001b[0m \u001b[0mcolor\u001b[0m\u001b[0;34m:\u001b[0m\u001b[0;34m\u001b[0m\u001b[0;34m\u001b[0m\u001b[0m\n\u001b[1;32m    233\u001b[0m             \u001b[0mkde_kws\u001b[0m\u001b[0;34m[\u001b[0m\u001b[0;34m\"color\"\u001b[0m\u001b[0;34m]\u001b[0m \u001b[0;34m=\u001b[0m \u001b[0mkde_color\u001b[0m\u001b[0;34m\u001b[0m\u001b[0;34m\u001b[0m\u001b[0m\n",
      "\u001b[0;32m/opt/anaconda3/lib/python3.7/site-packages/seaborn/distributions.py\u001b[0m in \u001b[0;36mkdeplot\u001b[0;34m(data, data2, shade, vertical, kernel, bw, gridsize, cut, clip, legend, cumulative, shade_lowest, cbar, cbar_ax, cbar_kws, ax, **kwargs)\u001b[0m\n\u001b[1;32m    662\u001b[0m         \u001b[0mwarn\u001b[0m \u001b[0;34m=\u001b[0m \u001b[0;32mTrue\u001b[0m\u001b[0;34m\u001b[0m\u001b[0;34m\u001b[0m\u001b[0m\n\u001b[1;32m    663\u001b[0m         \u001b[0mbivariate\u001b[0m \u001b[0;34m=\u001b[0m \u001b[0;32mTrue\u001b[0m\u001b[0;34m\u001b[0m\u001b[0;34m\u001b[0m\u001b[0m\n\u001b[0;32m--> 664\u001b[0;31m         \u001b[0mx\u001b[0m\u001b[0;34m,\u001b[0m \u001b[0my\u001b[0m \u001b[0;34m=\u001b[0m \u001b[0mdata\u001b[0m\u001b[0;34m.\u001b[0m\u001b[0mT\u001b[0m\u001b[0;34m\u001b[0m\u001b[0;34m\u001b[0m\u001b[0m\n\u001b[0m\u001b[1;32m    665\u001b[0m     \u001b[0;32melif\u001b[0m \u001b[0misinstance\u001b[0m\u001b[0;34m(\u001b[0m\u001b[0mdata\u001b[0m\u001b[0;34m,\u001b[0m \u001b[0mpd\u001b[0m\u001b[0;34m.\u001b[0m\u001b[0mDataFrame\u001b[0m\u001b[0;34m)\u001b[0m \u001b[0;32mand\u001b[0m \u001b[0mnp\u001b[0m\u001b[0;34m.\u001b[0m\u001b[0mndim\u001b[0m\u001b[0;34m(\u001b[0m\u001b[0mdata\u001b[0m\u001b[0;34m)\u001b[0m \u001b[0;34m>\u001b[0m \u001b[0;36m1\u001b[0m\u001b[0;34m:\u001b[0m\u001b[0;34m\u001b[0m\u001b[0;34m\u001b[0m\u001b[0m\n\u001b[1;32m    666\u001b[0m         \u001b[0mwarn\u001b[0m \u001b[0;34m=\u001b[0m \u001b[0;32mTrue\u001b[0m\u001b[0;34m\u001b[0m\u001b[0;34m\u001b[0m\u001b[0m\n",
      "\u001b[0;31mValueError\u001b[0m: too many values to unpack (expected 2)"
     ]
    },
    {
     "data": {
      "image/png": "[encoded data removed]",
      "text/plain": [
       "<Figure size 432x288 with 1 Axes>"
      ]
     },
     "metadata": {
      "needs_background": "light"
     },
     "output_type": "display_data"
    }
   ],
   "source": [
    "sns.distplot(Test, hist = False, kde = True, rug = True, color = 'darkblue', kde_kws={'linewidth': 3}, rug_kws={'color': 'black'})"
   ]
  },
  {
   "cell_type": "code",
   "execution_count": null,
   "metadata": {},
   "outputs": [],
   "source": [
    "#Box plots"
   ]
  },
  {
   "cell_type": "code",
   "execution_count": null,
   "metadata": {},
   "outputs": [],
   "source": [
    "#Train\n",
    "Train.plot(kind='box', subplots=True, layout=(12,12), sharex=False, sharey=False)\n",
    "plt.show()"
   ]
  },
  {
   "cell_type": "code",
   "execution_count": null,
   "metadata": {},
   "outputs": [],
   "source": [
    "#Test\n",
    "Test.plot(kind='box', subplots=True, layout=(12,12), sharex=False, sharey=False)\n",
    "plt.show()"
   ]
  },
  {
   "cell_type": "code",
   "execution_count": null,
   "metadata": {},
   "outputs": [],
   "source": [
    "#Scatter Plot matrix\n",
    "#scatter plot matrix shows the relationship between two variables as dots in two dimensions all at once"
   ]
  },
  {
   "cell_type": "code",
   "execution_count": null,
   "metadata": {},
   "outputs": [],
   "source": [
    "#sns.pairplot(Train)\n",
    "#The scatter plot for the train dataset indicates a mixture of correlations for different variables. \n",
    "#Some have a positive strong correlation, others a negative correlation"
   ]
  },
  {
   "cell_type": "code",
   "execution_count": null,
   "metadata": {},
   "outputs": [],
   "source": [
    "#Test data scatter plot\n",
    "#sns.pairplot(Test)\n",
    "#Similarly, some have aa positive correlation and negative correlation between different paired variables"
   ]
  },
  {
   "cell_type": "markdown",
   "metadata": {},
   "source": [
    "# Preparing Data for machine learning"
   ]
  },
  {
   "cell_type": "markdown",
   "metadata": {},
   "source": [
    "# Rescaling Data"
   ]
  },
  {
   "cell_type": "code",
   "execution_count": null,
   "metadata": {},
   "outputs": [],
   "source": [
    "#Rescaling\n",
    "#Since I might use features like regression and neural networks and algorithms that use distance measures like k-Nearest Neighbors. \n",
    "#I need to rescale my data using scikit-learn using the MinMaxScaler class"
   ]
  },
  {
   "cell_type": "code",
   "execution_count": null,
   "metadata": {},
   "outputs": [],
   "source": [
    "#We rescale to make sure all our data values lie in a scale from 0 to 1\n",
    "#from numpy import set_printoptions\n",
    "#from sklearn.preprocessing import MinMaxScaler\n",
    "\n",
    "#array = Train.values\n",
    "# separate array into input and output components\n",
    "#X = array[:,0:11]\n",
    "#Y = array[:,11]\n",
    "#scaler = MinMaxScaler(feature_range=(0, 1))\n",
    "#rescaledX = scaler.fit_transform(X)\n",
    "# summarize transformed data\n",
    "#set_printoptions(precision=3)\n",
    "#print(rescaledX[0:5,:])\n",
    "\n",
    "#Indeed all our data values have been rescaled"
   ]
  },
  {
   "cell_type": "markdown",
   "metadata": {},
   "source": [
    "# standardization of data\n",
    "```from sklearn.preprocessing import StandardScaler\n",
    "\n",
    "array2 = data.values\n",
    "#separate array into input and output components\n",
    "X = array2[:,0:8]\n",
    "Y = array2[:,8]\n",
    "scaler = StandardScaler().fit(X)\n",
    "rescaledX = scaler.transform(X)\n",
    "# summarize transformed data\n",
    "set_printoptions(precision=3)\n",
    "print(rescaledX[0:5,:])\n",
    "```\n",
    "\n",
    "# Normalization of data\n",
    "``from sklearn.preprocessing import Normalizer\n",
    "\n",
    "array3 = data.values\n",
    "#separate array into input and output components\n",
    "X = array3[:,0:8]\n",
    "Y = array3[:,8]\n",
    "scaler = Normalizer().fit(X)\n",
    "normalizedX = scaler.transform(X)\n",
    "#summarize transformed data\n",
    "set_printoptions(precision=3)\n",
    "print(normalizedX[0:5,:])\n",
    "print(type(normalizedX))#print the data type so we can know what we are \n",
    "#working with in the dataset.\n",
    "```\n",
    "\n",
    "```# Binarizing data\n",
    "from sklearn.preprocessing import Binarizer\n",
    "\n",
    "array4 = data.values\n",
    "#separate array into input and output components\n",
    "X = array4[:,0:11]\n",
    "Y = array4[:,11]\n",
    "binarizer = Binarizer(threshold=0.0).fit(X)\n",
    "binaryX = binarizer.transform(X)\n",
    "#summarize transformed data\n",
    "set_printoptions(precision=3)\n",
    "print(binaryX[0:5,:])\n",
    "```\n",
    "\n"
   ]
  },
  {
   "cell_type": "markdown",
   "metadata": {},
   "source": [
    "# using Standardized generation"
   ]
  },
  {
   "cell_type": "code",
   "execution_count": null,
   "metadata": {},
   "outputs": [],
   "source": [
    "#standardizing data\n",
    "#from sklearn.preprocessing import StandardScaler\n",
    "\n",
    "#array2 = Train.values\n",
    "# separating array into input and output components\n",
    "#X = array2[:,0:11]\n",
    "#Y = array2[:,11]\n",
    "#scaler = StandardScaler().fit(X)\n",
    "#rescaledX = scaler.transform(X)\n",
    "\n",
    "# summarizing transformed data\n",
    "#set_printoptions(precision=3)\n",
    "#print(rescaledX[0:5,:])"
   ]
  },
  {
   "cell_type": "markdown",
   "metadata": {},
   "source": [
    "# Binarizing data\n",
    "## This will help incase there are probabilities in the data that need to be turned into crisp values."
   ]
  },
  {
   "cell_type": "code",
   "execution_count": null,
   "metadata": {},
   "outputs": [],
   "source": [
    "# binarization\n",
    "# It will turn data into 0s and 1s\n",
    "from numpy import set_printoptions\n",
    "from sklearn.preprocessing import Binarizer\n",
    "\n",
    "array4 = Train.values\n",
    "# separate array into input and output components\n",
    "X = array4[:,0:11]\n",
    "Y = array4[:,11]\n",
    "binarizer = Binarizer(threshold=0.0).fit(X)\n",
    "binaryX = binarizer.transform(X)\n",
    "# summarize transformed data\n",
    "set_printoptions(precision=3)\n",
    "print(binaryX[0:7,:]) #I am selecting the 7 best attributes out of the 11 to cover atleast 50% of the selected attributes\n"
   ]
  },
  {
   "cell_type": "markdown",
   "metadata": {},
   "source": [
    "# Feature Selection"
   ]
  },
  {
   "cell_type": "code",
   "execution_count": null,
   "metadata": {},
   "outputs": [],
   "source": [
    "#Using the Recursive elimination\n",
    "#from sklearn.feature_selection import RFE\n",
    "#from sklearn.linear_model import LogisticRegression\n",
    "\n",
    "#array_1 = Train.values\n",
    "#X = array_1[:,0:11]\n",
    "#Y = array_1[:,11]\n",
    "\n",
    "# Extracting features\n",
    "#model = LogisticRegression()\n",
    "#rfe = RFE(model, 3)\n",
    "#fit = rfe.fit(X, Y)\n",
    "#print(\"Num Features: \",  fit.n_features_)\n",
    "#print(\"Selected Features:\",  fit.support_)\n",
    "#print(\"Feature Ranking: \",  fit.ranking_)"
   ]
  },
  {
   "cell_type": "code",
   "execution_count": null,
   "metadata": {},
   "outputs": [],
   "source": [
    "#evaluating perfomance\n",
    "#from sklearn.model_selection import train_test_split\n",
    "#from sklearn.linear_model import LogisticRegression\n",
    "\n",
    "#array = Train.values\n",
    "#X = array[:,0:11]\n",
    "#Y = array[:,11]\n",
    "#test_size = 0.33\n",
    "#seed = 10\n",
    "#X_train, X_test, Y_train, Y_test = train_test_split(X, Y, test_size=test_size, random_state=seed)\n",
    "#model = LogisticRegression()\n",
    "#model.fit(X_train, Y_train)\n",
    "#result = model.score(X_test, Y_test)\n",
    "#print(\"Accuracy: \",  (result*100.0))"
   ]
  },
  {
   "cell_type": "code",
   "execution_count": null,
   "metadata": {},
   "outputs": [],
   "source": [
    "#model output"
   ]
  },
  {
   "cell_type": "code",
   "execution_count": null,
   "metadata": {},
   "outputs": [],
   "source": [
    "#out = model.predict(Test.values)\n",
    "\n",
    "#KC = pd.DataFrame(out) #Converting to data frame\n",
    "#KC.columns=[\"CLASS\"] #Naming the column\n",
    "#KC.index.name=\"Index\" #Creating a column index\n",
    "#KC[\"CLASS\"]=KC[\"CLASS\"].map({0.0:False,1.0:True}) # Chaninging 0 to \"False\" 1 to \"True\"\n",
    "\n",
    "#KC.to_csv(\"KC_csv\") ## Writing a csv file\n",
    "#print(KC['CLASS'].unique())\n",
    "#print(KC['CLASS'].nunique())\n",
    "\n",
    "#printing the numbers of False and True\n",
    "#print(KC.groupby('CLASS').size()[0].sum()) #\n",
    "#print(KC.groupby('CLASS').size()[1].sum())"
   ]
  },
  {
   "cell_type": "code",
   "execution_count": null,
   "metadata": {},
   "outputs": [],
   "source": [
    "#from sklearn.preprocessing import StandardScaler\n",
    "\n",
    "#array2 = Train.values\n",
    "# separating array into input and output components\n",
    "#X = array2[:,0:11]\n",
    "#Y = array2[:,11]\n",
    "#scaler = StandardScaler().fit(X)\n",
    "#rescaledX = scaler.transform(X)\n",
    "# transformed data should be summarized using the code below\n",
    "#set_printoptions(precision=3)\n",
    "#print(rescaledX[0:5,:])"
   ]
  },
  {
   "cell_type": "markdown",
   "metadata": {},
   "source": [
    "# Principal Component analysis feature"
   ]
  },
  {
   "cell_type": "code",
   "execution_count": null,
   "metadata": {},
   "outputs": [],
   "source": [
    "#Training the model using PCA as the feature of choice\n",
    "#from sklearn.decomposition import PCA\n",
    "\n",
    "#array = Train.values\n",
    "#X = array[:,0:11]\n",
    "#Y = array[:,11]\n",
    "\n",
    "# feature extraction\n",
    "#pca = PCA(n_components=3)\n",
    "#fit = pca.fit(X)\n",
    "# summarize components\n",
    "#print(\"Explained Variance: \" , fit.explained_variance_ratio_)\n",
    "#print(fit.components_)"
   ]
  },
  {
   "cell_type": "markdown",
   "metadata": {},
   "source": [
    "# Output model using PCA as the feature"
   ]
  },
  {
   "cell_type": "code",
   "execution_count": null,
   "metadata": {},
   "outputs": [],
   "source": [
    "#out = model.predict(Test.values)\n",
    "\n",
    "#KC2 = pd.DataFrame(out) #Converting the data to data frame\n",
    "#KC2.columns=[\"CLASS\"] #Naming the column\n",
    "#KC2.index.name=\"Index\" #Creating a column index\n",
    "#KC2[\"CLASS\"]=KC2[\"CLASS\"].map({0.0:False,1.0:True}) # Chaninging 0 to \"False\" 1 to \"True\"\n",
    "\n",
    "#KC2.to_csv(\"KC2_csv\") # obtaininng a csv file\n",
    "#print(KC2['CLASS'].unique())\n",
    "#print(KC2['CLASS'].nunique())\n",
    "\n",
    "#printing the numbers of False and True\n",
    "#print(KC2.groupby('CLASS').size()[0].sum()) #\n",
    "#print(KC2.groupby('CLASS').size()[1].sum())"
   ]
  },
  {
   "cell_type": "code",
   "execution_count": null,
   "metadata": {},
   "outputs": [],
   "source": [
    "#print(\"Hello\")"
   ]
  },
  {
   "cell_type": "markdown",
   "metadata": {},
   "source": [
    "# sklearn.feature_selection.SelectFromModel\n",
    "## Parameters for the model\n",
    "\n",
    "### estimator: object\n",
    "```The base estimator from which the transformer is built. This can be both a fitted (if prefit is set to True) or a non-fitted estimator. The estimator must have either a feature_importances_ or coef_ attribute after fitting.\n",
    "Features whose importance is greater or equal are kept while the others are discarded. If “median” (resp. “mean”), then the threshold value is the median (resp. the mean) of the feature importances. A scaling factor (e.g., “1.25*mean”) may also be used. If None and if the estimator has a parameter penalty set to l1, either explicitly or implicitly (e.g, Lasso), the threshold used is 1e-5. Otherwise, “mean” is used by default.\n",
    "Whether a prefit model is expected to be passed into the constructor directly or not. If True, transform must be called directly and SelectFromModel cannot be used with cross_val_score, GridSearchCV and similar utilities that clone the estimator. Otherwise train the model using fit and then transform to do feature selection.```"
   ]
  },
  {
   "cell_type": "code",
   "execution_count": null,
   "metadata": {},
   "outputs": [],
   "source": [
    "from sklearn.feature_selection import SelectFromModel\n",
    "from sklearn.linear_model import LogisticRegression\n",
    "\n",
    "array6 = Train.values\n",
    "X = array6[:,0:11]\n",
    "Y = array6[:,11]\n",
    "\n",
    "#fitting to the model\n",
    "selector = SelectFromModel(estimator=LogisticRegression()).fit(X, Y)\n",
    "selector.estimator_.coef_\n",
    "array6\n",
    "selector.threshold_\n",
    "\n",
    "selector.get_support()\n",
    "array6\n",
    "selector.transform(X)\n"
   ]
  },
  {
   "cell_type": "markdown",
   "metadata": {},
   "source": [
    "# Logistic model output"
   ]
  },
  {
   "cell_type": "code",
   "execution_count": null,
   "metadata": {},
   "outputs": [],
   "source": [
    "#model2 = model.predict(Test.values)\n",
    "\n",
    "#KC3 = pd.DataFrame(model2) #Converting the data to data frame\n",
    "#KC3.columns=[\"CLASS\"] #Naming the column\n",
    "#KC3.index.name=\"Index\" #Creating a column index\n",
    "#KC3[\"CLASS\"]=KC3[\"CLASS\"].map({0.0:False,1.0:True}) # Chaninging 0 to \"False\" 1 to \"True\"\n",
    "\n",
    "#KC3.to_csv(\"KC3_csv\") # obtaininng a csv file\n",
    "#print(KC3['CLASS'].unique())\n",
    "#print(KC3['CLASS'].nunique())\n",
    "\n",
    "#printing the numbers of False and True\n",
    "#print(KC3.groupby('CLASS').size()[0].sum()) \n",
    "#print(KC3.groupby('CLASS').size()[1].sum())"
   ]
  },
  {
   "cell_type": "markdown",
   "metadata": {},
   "source": [
    "# Recursive feature model elimination"
   ]
  },
  {
   "cell_type": "code",
   "execution_count": null,
   "metadata": {},
   "outputs": [],
   "source": [
    "#import numpy as np\n",
    "#from sklearn.feature_selection import RFE\n",
    "#from sklearn.svm import SVR\n",
    "#array8 = Train.values\n",
    "#array8 = Train.values\n",
    "#X = array8[:,0:11]\n",
    "#Y = array8[:,11]\n",
    "#estimator = SVR(kernel=\"linear\")\n",
    "#selector = RFE(estimator, 5, step=1)\n",
    "#selector = selector.fit(X, Y)\n",
    "#set_printoptions(precision=3)\n",
    "#print(estimator[0:7,:]) #To print out the chosen 7 attributes that best fit the data"
   ]
  },
  {
   "cell_type": "code",
   "execution_count": null,
   "metadata": {},
   "outputs": [],
   "source": [
    "#from sklearn.linear_model import ElasticNet\n",
    "#from sklearn.datasets import make_regression\n",
    "#X, Y = Train(n_features=2, random_state=0)\n",
    "#regr = ElasticNet(random_state=0)\n",
    "#regr.fit(X, Y)\n",
    "#ElasticNet(random_state=0)\n",
    "#print(regr.coef_)\n",
    "#print(regr.intercept_)\n",
    "#print(regr.predict([[0, 0]]))\n",
    "\n",
    "#model2 = model.predict(Test.values)\n",
    "\n",
    "#KC3 = pd.DataFrame(model2) #Converting the data to data frame\n",
    "#KC3.columns=[\"CLASS\"] #Naming the column\n",
    "#KC3.index.name=\"Index\" #Creating a column index\n",
    "#KC3[\"CLASS\"]=KC3[\"CLASS\"].map({0.0:False,1.0:True}) # Chaninging 0 to \"False\" 1 to \"True\"\n",
    "\n",
    "#KC3.to_csv(\"KC3_csv\") # obtaininng a csv file\n",
    "#print(KC3['CLASS'].unique())\n",
    "#print(KC3['CLASS'].nunique())\n",
    "\n",
    "#printing the numbers of False and True\n",
    "#print(KC3.groupby('CLASS').size()[0].sum()) \n",
    "#print(KC3.groupby('CLASS').size()[1].sum())\n"
   ]
  },
  {
   "cell_type": "code",
   "execution_count": null,
   "metadata": {},
   "outputs": [],
   "source": [
    "from sklearn import linear_model\n",
    "reg = linear_model.Lasso(alpha=0.1)\n",
    "reg.fit([[0, 0], [1, 1]], [0, 1])\n",
    "Lasso(alpha=0.1)\n",
    "reg.predict([[1, 1]])\n",
    "array([0.8])"
   ]
  },
  {
   "cell_type": "markdown",
   "metadata": {},
   "source": [
    "# Comparison of different models\n",
    "## To select which model works best\n",
    "```A comparison of all models will enable me select out which models best suit the data.\n",
    "From these, I can pick out which one gives best accuracy and perfom an MCM statistics.```\n"
   ]
  },
  {
   "cell_type": "markdown",
   "metadata": {},
   "source": [
    "# Linear regression\n",
    "```Linear regression fits a linear model with coefficients to minimize the residual sum of squares between the observed targets in the dataset, and the targets predicted by the linear approximation. Linear regression will enable me fit the best line on the distributions in the data. There are more advanced ways to fit a line to data, but in general, I want the line to go through the \"middle\" of the points.```\n",
    "\n",
    "# Histogram-based Gradient Boosting Classification Tree\n",
    "```Although Gradient boosting is a greedy algorithm and can overfit a training dataset quickly, It can benefit from regularization methods that penalize various parts of the algorithm and generally improve the performance of the algorithm by reducing overfitting. I want to use this model to checkfo overfitting .```\n",
    "\n",
    "# K-fold\n",
    "```When we split the dataset into training and test set, we use only a subset of data and we know when we train on fewer observations the model will not perform well and overestimate the test error rate for the model to fit on the entire dataset. We correct for this by using a K-fold cross-validation with a specified number of kfolds. Cross-validation will give me a more accurate estimate of a model’s performance```\n",
    "\n",
    "# XGBClassifier\n",
    "```XGBoost is an efficient and easy to use an algorithm which delivers high performance and accuracy as compared to other algorithms. I added XGBClassifier because it has in-built L1 (Lasso Regression) and L2 (Ridge Regression) regularization which prevents the model from overfitting.```\n",
    "\n",
    "# RandomForestClassifier \n",
    "``` I added Random forest classifier because it is one of the most accurate learning algorithms available. For many data sets, it produces a highly accurate classifier. It runs efficiently on large databases. It can handle thousands of input variables without variable deletion. It will be a good basis to compare other models```\n",
    "\n",
    "# SGDClassifier\n",
    "``` Stochastic Gradient Descent (SGD) is a simple yet very efficient approach to discriminative learning of linear classifiers under convex loss functions such as (linear) Support Vector Machines and Logistic Regression. I chose to add it as one of the models has been successfully applied to large-scale and sparse machine learning problems often encountered in text classification and natural language processing. This classifier supports multi-class classification by combining multiple binary classifiers in a “one versus all” (OVA) scheme.```\n",
    "\n",
    "# DecisionTreeClassifier\n",
    "```Thi algorithm is simpler to understand, interpret and visualize. Effort required for Data preparation is minimal. Additionally, decision trees combined into an ensemble create some of the best binary classifiers.```\n",
    "\n",
    "# BaggingClassifier \n",
    "```Bagging takes the advantage of ensemble learning wherein multiple weak learner outperform a single strong learner. It helps reduce variance and thus helps us avoid overfitting. There is loss of interpretability of the model. There can possibly be a problem of high bias if not modeled properly.```\n",
    "\n",
    "# Coss validation score\n",
    "```Using cross validation can give me a hint of how well my model is doing, and it has the advantage of being very robust (as opposed to simple train-test split). It can be also used in hyper-tuning of parameters: for a given parameters, using the CV score to optimize its value in a robust way.```\n",
    "\n",
    "# LogisticRegression \n",
    "```I chose Logistic Regression because performs well when the dataset is linearly separable.Logistic regression is less prone to over-fitting but it can overfit in high dimensional datasets. Logistic Regression not only gives a measure of how relevant a predictor (coefficient size) is, but also its direction of association (positive or negative). Logistic regression is easier to implement, interpret and very efficient to train. It would work well in prediciting my model.```\n",
    "\n",
    "# KNeighborsClassifier\n",
    "```I chose this algorithm because it is simple and easy to implement. There's no need to build a model, tune several parameters, or make additional assumptions. The algorithm is versatile. It can be used for classification, regression, and search.```\n",
    "\n",
    "# LinearDiscriminantAnalysis\n",
    "```LDA in the binary-class case has been shown to be equivalent to linear regression with the class label as the output. This implies that LDA for binary-class classiﬁcations can be formulated as a least squares problem. It will give me a good comparison with the linear regression model already included.```\n",
    "\n",
    "# GaussianNB \n",
    "```I chose the naive Bayesian classifier because they are extremely fast for both training and prediction. They provide straightforward probabilistic prediction. This classifier needs less training data, highly scalable. It scales linearly with the number of predictors and data points. Can be used for both binary and mult-iclass classification problems. Can make probabilistic predictions. Handles continuous and discrete data. Not sensitive to irrelevant features. It would therefore be a good model to include in the testing algorithms```\n",
    "\n",
    "# SVC\n",
    "``I added this model beause SVM Classifiers offer good accuracy and perform faster prediction compared to Naïve Bayes algorithm.They willhelp me audit the naive bayes classifier. They also use less memory because they use a subset of training points in the decision phase. SVM works well with a clear margin of separation and with high dimensional space. Evenwhen my dimentional space is not that big, its worth a try.```\n",
    "\n",
    "# HistGradientBoostingClassifier\n",
    "```This is one of the ensemble methods. The goal of ensemble methods is to combine the predictions of several base estimators built with a given learning algorithm in order to improve generalizability / robustness over a single estimator. It will give me a good comparison with the model.```\n",
    "\n",
    "\n",
    "\n",
    "\n",
    "\n",
    "\n"
   ]
  },
  {
   "cell_type": "code",
   "execution_count": null,
   "metadata": {},
   "outputs": [],
   "source": [
    "# Models comparison\n",
    "from sklearn import linear_model\n",
    "from sklearn.experimental import enable_hist_gradient_boosting\n",
    "from sklearn.model_selection import KFold\n",
    "from xgboost import XGBClassifier\n",
    "from sklearn.ensemble import RandomForestClassifier\n",
    "from sklearn.linear_model import SGDClassifier\n",
    "from sklearn.tree import DecisionTreeClassifier\n",
    "from sklearn.ensemble import BaggingClassifier\n",
    "from sklearn.model_selection import cross_val_score\n",
    "from sklearn.linear_model import LogisticRegression\n",
    "from sklearn.neighbors import KNeighborsClassifier\n",
    "from sklearn.discriminant_analysis import LinearDiscriminantAnalysis\n",
    "from sklearn.naive_bayes import GaussianNB\n",
    "from sklearn.svm import SVC\n",
    "from sklearn.ensemble import HistGradientBoostingClassifier"
   ]
  },
  {
   "cell_type": "code",
   "execution_count": null,
   "metadata": {},
   "outputs": [],
   "source": [
    "# Combining all models\n",
    "models = []\n",
    "models.append(('LR', LogisticRegression()))\n",
    "models.append(('LDA', LinearDiscriminantAnalysis()))\n",
    "models.append(('RFC',RandomForestClassifier()))\n",
    "models.append(('BAG',BaggingClassifier()))\n",
    "models.append(('XGB',XGBClassifier()))\n",
    "models.append(('SGD',SGDClassifier()))\n",
    "models.append(('HGB',HistGradientBoostingClassifier()))\n",
    "models.append(('NB', GaussianNB()))\n",
    "models.append(('SVM', SVC()))"
   ]
  },
  {
   "cell_type": "markdown",
   "metadata": {},
   "source": [
    "# EStimating accuracy of the models\n",
    "## Model accuracy\n",
    "```The accuracy of the models is determined to inform the next step over which is the most \n",
    "accurate model to follow.```"
   ]
  },
  {
   "cell_type": "code",
   "execution_count": null,
   "metadata": {},
   "outputs": [],
   "source": [
    "# The comparative accuracies of the models is determined\n",
    "\n",
    "results = []\n",
    "names = []\n",
    "scoring = 'accuracy'\n",
    "\n",
    "for name, model in models:\n",
    "    kfold = KFold(n_splits=10, random_state=7)\n",
    "    cv_results = cross_val_score(model, X, Y, cv=kfold, scoring=scoring)\n",
    "    results.append(cv_results)\n",
    "    names.append(name)\n",
    "    kc4 = (name, cv_results.mean(), cv_results.std())\n",
    "    print(kc4)"
   ]
  },
  {
   "cell_type": "markdown",
   "metadata": {},
   "source": [
    "# Model chosen\n",
    "## NB', GaussianNB() \n",
    "```GaussianNB shows the highest accuracy, at 88%.\n",
    "I chose to test this further. Furtherstill, I choose this particular model because of the boxplot comparison\n",
    "It has a small error from the mean. Thus its accuracy can be trusted to a better extent compared to other models```"
   ]
  },
  {
   "cell_type": "markdown",
   "metadata": {},
   "source": [
    "# Graph to show comparisons"
   ]
  },
  {
   "cell_type": "code",
   "execution_count": null,
   "metadata": {},
   "outputs": [],
   "source": [
    "fig = plt.figure()\n",
    "fig.suptitle('Comparison of models')\n",
    "ax = fig.add_subplot(111)\n",
    "plt.boxplot(results)\n",
    "ax.set_xticklabels(names)\n",
    "plt.show()"
   ]
  },
  {
   "cell_type": "markdown",
   "metadata": {},
   "source": [
    "# Testing the model on Matthew's Correlation Coefficient\n",
    "``` To futher test for a better metric than accuracy, I will test the GaussianNB modle on Matthew's correlation```"
   ]
  },
  {
   "cell_type": "code",
   "execution_count": null,
   "metadata": {},
   "outputs": [],
   "source": [
    "from sklearn.model_selection import train_test_split\n",
    "from sklearn.metrics import matthews_corrcoef\n",
    "\n",
    "array= Train.values\n",
    "X = array[:,0:11]\n",
    "Y = array[:,11]\n",
    "test_size = 0.33\n",
    "seed = 7\n",
    "X_train, X_test, Y_train, Y_test = train_test_split(X, Y, test_size=test_size,\n",
    "random_state=seed)\n",
    "\n",
    "kintu_model2 = LogisticRegression()\n",
    "kintu_model2.fit(X_train, Y_train)\n",
    "\n",
    "predicted3= kintu_model2.predict(X_test)\n",
    "comp_mat = matthews_corrcoef(Y_test, predicted3)\n",
    "print(comp_mat)\n",
    "\n",
    "#Mathews correlation coefficient gives a moderate"
   ]
  },
  {
   "cell_type": "markdown",
   "metadata": {},
   "source": [
    "# Generating the csv file\n",
    "``` I generate a csv file to enable me judge the accuracy of this model and submit to the competition.```"
   ]
  },
  {
   "cell_type": "code",
   "execution_count": null,
   "metadata": {},
   "outputs": [],
   "source": [
    "#Generating a csv file\n",
    "kintu_df=pd.DataFrame(predicted3)\n",
    "kintu_df.columns=['CLASS']\n",
    "kintu_df.index.names=[\"Index\"]\n",
    "kintu_df['CLASS']=kintu_df['CLASS'].map({0.0:False, 1.0:True})\n",
    "kintu_df\n",
    "kintu_df.to_csv('KC_model2_csv')\n",
    "print(kintu_df['CLASS'].unique())"
   ]
  },
  {
   "cell_type": "markdown",
   "metadata": {},
   "source": [
    "# Re-testingLinear Regression\n",
    "```Running each model seperately to allow me change certain parameters \n",
    "that are not possible tochange when doing an overall comparison```"
   ]
  },
  {
   "cell_type": "code",
   "execution_count": null,
   "metadata": {},
   "outputs": [],
   "source": [
    "import numpy as np\n",
    "from sklearn.linear_model import LinearRegression\n",
    "array2 = Train.values\n",
    "reg = LinearRegression().fit(X, Y)\n",
    "reg.score(X, Y)\n",
    "scoring = ('Accuracy')\n",
    "reg.coef_\n",
    "reg.intercept_\n",
    "xp = reg.predict(X)\n",
    "xp\n"
   ]
  },
  {
   "cell_type": "code",
   "execution_count": null,
   "metadata": {},
   "outputs": [],
   "source": []
  }
 ],
 "metadata": {
  "kernelspec": {
   "display_name": "Python 3",
   "language": "python",
   "name": "python3"
  },
  "language_info": {
   "codemirror_mode": {
    "name": "ipython",
    "version": 3
   },
   "file_extension": ".py",
   "mimetype": "text/x-python",
   "name": "python",
   "nbconvert_exporter": "python",
   "pygments_lexer": "ipython3",
   "version": "3.7.4"
  },
  "varInspector": {
   "cols": {
    "lenName": 16,
    "lenType": 16,
    "lenVar": 40
   },
   "kernels_config": {
    "python": {
     "delete_cmd_postfix": "",
     "delete_cmd_prefix": "del ",
     "library": "var_list.py",
     "varRefreshCmd": "print(var_dic_list())"
    },
    "r": {
     "delete_cmd_postfix": ") ",
     "delete_cmd_prefix": "rm(",
     "library": "var_list.r",
     "varRefreshCmd": "cat(var_dic_list()) "
    }
   },
   "types_to_exclude": [
    "module",
    "function",
    "builtin_function_or_method",
    "instance",
    "_Feature"
   ],
   "window_display": false
  }
 },
 "nbformat": 4,
 "nbformat_minor": 4
}
