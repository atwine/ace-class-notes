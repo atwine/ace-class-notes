{
 "cells": [
  {
   "cell_type": "markdown",
   "metadata": {},
   "source": [
    "<img src= 'big_data_3.jpeg' style=\"width:700px;height:400px;\"/>\n",
    "\n",
    "# Big-Bio Data Analysis\n",
    "\n",
    "by `Atwine Mugume Twinamatsiko`  [Github](https://github.com/atwine), [LinkedIn](https://www.linkedin.com/in/mugume-twinamatsiko-atwine-976ab12b/)\n",
    "\n",
    "#### What questions we need to answer in this lecture:\n",
    "\n",
    "- What is this course about? (What is big data?)\n",
    "- What is Artificial Intelligence and ML.\n",
    "- How have these fields impacted the health sector.\n",
    "- Where do I start? What do I need?\n",
    "\n",
    "\n",
    "#### The platforms that we are going to use:\n",
    "\n",
    "- Jupyter Notebook (Python/R)\n",
    "- R-Studio\n",
    "- Weka\n",
    "\n",
    "#### At the end of this tutorial you will learn the following:\n",
    "\n",
    "- Learning Platforms for Machine Learning and AI.\n",
    "- Editors for your code(Jupyter Notebook,R-studio).\n",
    "- Simple intro to `Numpy`.\n",
    "- Simple intro to `Pandas`.\n",
    "- Simple intro to `Matplotlib`\n",
    "- Simple intro to `tidyverse`"
   ]
  },
  {
   "cell_type": "markdown",
   "metadata": {},
   "source": [
    "# What is big Data?\n",
    "\n",
    "<img src= 'big_data_1.png' style=\"width:700px;height:400px;\"/>\n",
    "\n",
    "The term big data comes from the notion that the data we are collecting today is in overwhelming amounts.\n",
    "\n",
    "Since the advent of IP-version6 everything that is connected to the internet is collecting information and this has caused an avelance of data of all types.\n",
    "\n",
    "<img src= 'big_data_2.png' style=\"width:700px;height:400px;\"/>\n",
    "\n",
    "## What is bio-big data?\n",
    "\n",
    "<img src= 'big_data_4.png' style=\"width:700px;height:400px;\"/>\n",
    "\n",
    "Biological big data, in this instance is data that is collected for specifically a biological domain. This contains images, documents, social media instances, videos specific to the biological field.\n",
    "\n",
    "## What we want to achieve in this course:\n",
    "\n",
    "### Objective: <u>`Our objective in this course is to teach you methods that will assist you to analyse this data and make useful decisions out of it.`</u>\n",
    "\n",
    "<img src= 'big_data_4.jpg' style=\"width:700px;height:400px;\"/>"
   ]
  },
  {
   "cell_type": "markdown",
   "metadata": {},
   "source": [
    "<div class=\"alert alert-block alert-success\"/>"
   ]
  },
  {
   "cell_type": "markdown",
   "metadata": {},
   "source": [
    "# What is Artificial Intelligence (AI) \n",
    "\n",
    "\n",
    "<div class=\"alert alert-block alert-info\">\n",
    "    <h2>What is Intelligence?</h2>\n",
    "    <p>Definition of intelligence from mariam Webster Dictionary\n",
    "<p>(1): The ability to learn or understand or to deal with new or trying situations : \n",
    "\n",
    "<p>(2): The ability to apply knowledge to manipulate one's environment or to think abstractly as measured by objective criteria (such as tests)</p>\n",
    "\n",
    "</div>\n",
    "\n",
    "<img src= 'intro3.png' style=\"width:700px;height:400px;\"/>\n",
    "\n",
    "## Acting Humanly (The Turing Test)\n",
    "\n",
    "### The Turing Test:\n",
    "\n",
    "<p>\n",
    "During the test, one of the humans functions as the questioner, while the second human and the computer function as respondents. The questioner interrogates the respondents within a specific subject area, using a specified format and context. After a preset length of time or number of questions, the questioner is then asked to decide which respondent was human and which was a computer.\n",
    "\n",
    "The test is repeated many times. If the questioner makes the correct determination in half of the test runs or less, the computer is considered to have artificial intelligence because the questioner regards it as \"just as human\" as the human respondent.\n",
    "</p>\n",
    "\n",
    "<img src= 'intro4.jpg' style=\"width:700px;height:400px;\"/>\n",
    "\n",
    "\n",
    "## Necessities for an AI to pass Turings Test\n",
    "\n",
    "In order for an AI to be able to pass the test there are some requirements it has to pass in ordr to pass off as a human or fool a human for that matter and these are stated and explained below:\n",
    "\n",
    "### Natural Language Processing\n",
    "\n",
    "The AI needs to be able to interface with humans in a language that Humans can understand well -- the field puts more emphasis on the ability of the computer to understand human. This deals in learning to hear, speak, read and write human languages\n",
    "\n",
    ">Short for `natural language processing`, NLP is a branch of artificial intelligence that deals with analyzing, understanding and generating the languages that humans use naturally in order to interface with computers in both written and spoken contexts using natural human languages instead of computer languages.\n",
    "\n",
    "\n",
    "### Knowledge Representation\n",
    "\n",
    "`What is knowledge representation?`\n",
    "\n",
    "Humans are best at understanding, reasoning, and interpreting knowledge. Human knows things, which is knowledge and as per their knowledge they perform various actions in the real world. But how machines do all these things comes under knowledge representation and reasoning. Hence we can describe Knowledge representation as following:\n",
    "\n",
    "- Knowledge representation and reasoning (KR, KRR) is the part of Artificial intelligence which concerned with AI agents thinking and how thinking contributes to intelligent behavior of agents.\n",
    "\n",
    "- It is responsible for representing information about the real world so that a computer can understand and can utilize this knowledge to solve the complex real world problems such as diagnosis a medical condition or communicating with humans in natural language.\n",
    "\n",
    "- It is also a way which describes how we can represent knowledge in artificial intelligence. Knowledge representation is not just storing data into some database, but it also enables an intelligent machine to learn from that knowledge and experiences so that it can behave intelligently like a human.\n",
    "\n",
    "What to Represent:\n",
    "Following are the kind of knowledge which needs to be represented in AI systems:\n",
    "\n",
    "- Object: All the facts about objects in our world domain. E.g., Guitars contains strings, trumpets are brass instruments.\n",
    "\n",
    "- Events: Events are the actions which occur in our world.\n",
    "\n",
    "- Performance: It describe behavior which involves knowledge about how to do things.\n",
    "\n",
    "- Meta-knowledge: It is knowledge about what we know.\n",
    "\n",
    "- Facts: Facts are the truths about the real world and what we represent.\n",
    "\n",
    "- Knowledge-Base: The central component of the knowledge-based agents is the knowledge base. It is represented as KB. The Knowledgebase is a group of the Sentences (Here, sentences are used as a technical term and not identical with the English language).\n",
    "\n",
    "- Knowledge: Knowledge is awareness or familiarity gained by experiences of facts, data, and situations. Following are the types of knowledge in artificial intelligence:\n",
    "\n",
    "\n",
    "### Automated Reasoning\n",
    "\n",
    "Automated reasoning is an area of cognitive science (involves knowledge representation and reasoning) and metalogic dedicated to understanding different aspects of reasoning. The study of automated reasoning helps produce computer programs that allow computers to reason completely, or nearly completely, automatically. \n",
    "\n",
    "Although automated reasoning is considered a sub-field of artificial intelligence, it also has connections with theoretical computer science, and even philosophy.\n",
    "\n",
    "<img src= 'intro9.png' style=\"width:700px;height:400px;\"/>\n",
    "\n",
    "\n"
   ]
  },
  {
   "cell_type": "markdown",
   "metadata": {},
   "source": [
    "<div class=\"alert alert-block alert-success\"/>"
   ]
  },
  {
   "cell_type": "markdown",
   "metadata": {},
   "source": [
    "### Machine Learning\n",
    "<img src= 'intro10.jpg' style=\"width:700px;height:400px;\"/>\n",
    "\n",
    "__Machine learning is an application of artificial intelligence (AI) that provides systems the ability to automatically learn and improve from experience without being explicitly programmed. Machine learning focuses on the development of computer programs that can access data and use it learn for themselves.__\n",
    "\n",
    "The process of learning begins with observations or data, such as examples, direct experience, or instruction, in order to look for patterns in data and make better decisions in the future based on the examples that we provide. The primary aim is to allow the computers learn automatically without human intervention or assistance and adjust actions accordingly.\n",
    "\n",
    "### Some machine learning methods\n",
    "\n",
    "Machine learning algorithms are often categorized as supervised or unsupervised.\n",
    "\n",
    "## `Supervised machine learning` algorithms can apply what has been learned in the past to new data using labeled examples to predict future events. \n",
    "\n",
    "## In contrast, `unsupervised machine learning` algorithms are used when the information used to train is neither classified nor labeled. Unsupervised learning studies how systems can infer a function to describe a hidden structure from unlabeled data. \n",
    "\n",
    "\n",
    "## `Reinforcement machine learning algorithms` is a learning method that interacts with its environment by producing actions and discovers errors or rewards. Trial and error search and delayed reward are the most relevant characteristics of reinforcement learning. "
   ]
  },
  {
   "cell_type": "markdown",
   "metadata": {},
   "source": [
    "<div class=\"alert alert-block alert-success\"/>"
   ]
  },
  {
   "cell_type": "markdown",
   "metadata": {},
   "source": [
    "## Computer Vision\n",
    "\n",
    "\n",
    "According to `Prof. Fei-Fei Li`, computer vision is defined as “a subset of mainstream artificial intelligence that deals with the science of making computers or machines visually enabled, i.e., they can analyze and understand an image.” \n",
    "\n",
    "In short this part of artificial intelligence helps computers ability to see as humans do.\n",
    "\n",
    "This doesn't stop at images but also video classification\n",
    "\n",
    "`Computer Vision Applications`\n",
    "There are many computer vision applications out in the market. Below are just a few:\n",
    "\n",
    "- Automatic inspection (image-based automated inspection), e.g., in manufacturing applications\n",
    "\n",
    "- Assisting humans in identification tasks (to identify object/species using their properties), e.g., a species identification system\n",
    "\n",
    "- Controlling processes (in a way of monitoring robots), e.g., an industrial robot\n",
    "\n",
    "- Detecting events, e.g., for visual surveillance or people counting\n",
    "\n",
    "- Modeling objects or environments (using drones can analyses about climatic factors that leads to change in vegetation, etc.), e.g., medical image analysis or topographical modeling\n",
    "\n",
    "- Navigation, e.g., by an autonomous vehicle or mobile robot\n",
    "\n",
    "- Organizing information, e.g., for indexing databases of images and image sequences\n",
    "\n",
    "\n",
    "<img src= 'intro11.jpeg' style=\"width:600px;height:400px;\"/>"
   ]
  },
  {
   "cell_type": "markdown",
   "metadata": {},
   "source": [
    "<div class=\"alert alert-block alert-warning\"/>"
   ]
  },
  {
   "cell_type": "markdown",
   "metadata": {},
   "source": [
    "# Artificial Intelligence in Health\n",
    "\n",
    "<div class=\"alert alert-block alert-success\"/>\n",
    "<img src='hlt3.png' style=\"width:600px;height:400px;\"/>\n",
    "</div>\n",
    "\n",
    "### What is Artificial Intelligence in Healthcare?\n",
    "\n",
    "Machine learning has the potential to provide data-driven clinical decision support (CDS) to physicians and hospital staff paving the way for an increased revenue potential. \n",
    "\n",
    "Machine learning, a subset of AI designed to identify patterns, uses algorithms and data to give automated insights to healthcare providers.\n",
    "\n",
    "Examples of AI in Healthcare and Medicine\n",
    "<div class=\"alert alert-block alert-success\"/>\n",
    "\n",
    "> Business Insider Intelligence reported that researchers at the University of North Carolina Lineberger Comprehensive Cancer Center used IBM Watson's Genomic product to identify specific treatments for over 1,000 patients. The product performed big data analysis to determine treatment options for people with tumors who were showing genetic abnormalities.\n",
    "\n",
    "> Comparatively, Google's Cloud Healthcare application programming interface (API) includes CDS offerings and other AI solutions that help doctors make more informed clinical decisions regarding patients. AI used in Google Cloud takes data from users' electronic health records through machine learning creating insights for healthcare providers to make better clinical decisions.\n",
    "\n",
    "</div>\n",
    "\n",
    "\n",
    "### How is AI used in healthcare?\n",
    "AI is still a relatively new technology, especially in the healthcare industry where adoption remains in its infancy. As AI and machine learning tools become more sophisticated, their use cases have expanded; however, adoption of AI remains low, according to John Frownfelter, chief medical information officer at Jvion.\n",
    "\n",
    "\"We're still in the hype phase where many organizations are trying to understand how it fits into an overall strategy,\" said Frownfelter. \"Early AI was seen … with more of an emphasis on pattern recognition for billing processes. It has evolved to a much more sophisticated use of deep machine learning and leveraging the power of big data.\"\n",
    "\n",
    "Modern AI applications include wide-ranging use cases, from cybersecurity to radiographic imaging, Frownfelter said. As AI applications continue to improve, the entire healthcare industry could undergo a shift. Here are some of the major ways AI is expected to shape healthcare in the coming years.\n",
    "\n",
    "### Diagnostics\n",
    "AI excels at categorizing data, especially once it has been exposed to large amounts of data on the subject. That creates great promise for AI when it comes to diagnostics – medical imaging analysis and patient medical records, genetics, and more can all be combined to improve diagnostic outcomes. Moreover, AI tools can use similar information to craft unique treatment approaches and offer recommendations to doctors.\n",
    "\n",
    "`\"The really interesting developments are in the clinical arena,\" said Frownfelter. \"Clinical prescriptive analytics is probably the closest AI is getting to support direct patient care in 2019.\"`\n",
    "\n",
    "\n",
    "### Robot-assisted surgery\n",
    "\n",
    "Robotic surgeries allow surgeons to use smaller tools and make more precise incisions. Surgeons (and patients) could also benefit from AI by combining medical records with real-time data during operations, as well as drawing on data from previous successful surgeries of the same type. Accenture, a technology consulting firm, estimates that AI-enabled, robot-assisted surgery could save the U.S. healthcare industry $40 billion annually by 2026.\n",
    "\n",
    "<img src='hlt2.jpg' style=\"width:700px;height:400px;\"/>\n",
    "\n",
    "### Virtual nursing assistants\n",
    "Think of virtual nursing assistants like an Alexa for your hospital bedside. These virtual assistants replicate the typical behavior of a nurse by assisting patients with their daily routines, reminding them to take medications or go to appointments, helping answer medical questions and more. __Accenture estimates that virtual nursing assistants could be the second-largest source of annual savings for the U.S. healthcare industry, cutting as much as $20 billion in costs.__\n",
    "\n",
    "### Administrative workflow assistance\n",
    "Naturally, medical practices, hospitals and other points of care result in a great deal of paperwork. In fact, it was consolidating and digitizing these records that led to the industry-wide adoption of electronic health records systems. AI has already started to make its way into these systems and can be used to streamline administrative functions as well. Accenture estimates that new efficiencies in administrative workflow due to emerging AI technologies could result in $18 billion in annual savings.\n",
    "\n",
    "\n",
    "\n",
    "\n"
   ]
  },
  {
   "cell_type": "markdown",
   "metadata": {},
   "source": [
    "## Top 10 Applications of Machine Learning in Pharma and Medicine\n",
    "\n",
    "The increasingly growing number of applications of machine learning in healthcare allows us to glimpse at a future where data, analysis, and innovation work hand-in-hand to help countless patients without them ever realizing it. Soon, it will be quite common to find ML-based applications embedded with real-time patient data available from different healthcare systems in multiple countries, thereby increasing the efficacy of new treatment options which were unavailable before.\n",
    "\n",
    "Here are the top 10 applications of machine learning in healthcare -\n",
    "\n",
    "\n",
    "### Identifying Diseases and Diagnosis\n",
    "__One of the chief ML applications in healthcare is the identification and diagnosis of diseases and ailments which are otherwise considered hard-to-diagnose.__ This can include anything from cancers which are tough to catch during the initial stages, to other genetic diseases. \n",
    "\n",
    "IBM Watson Genomics is a prime example of how integrating cognitive computing with genome-based tumor sequencing can help in making a fast diagnosis. Berg, the biopharma giant is leveraging AI to develop therapeutic treatments in areas such as oncology. P1vital's PReDicT (Predicting Response to Depression Treatment) aims to develop a commercially feasible way to diagnose and provide treatment in routine clinical conditions.\n",
    "\n",
    "<img src='hlt1.jpg' style=\"width:700px;height:400px;\"/>\n",
    "\n",
    "\n",
    "### Drug Discovery and Manufacturing\n",
    "One of the primary clinical applications of machine learning lies in early-stage drug discovery process. This also includes R&D technologies such as next-generation sequencing and precision medicine which can help in finding alternative paths for therapy of multifactorial diseases. \n",
    "\n",
    "Currently, the machine learning techniques involve unsupervised learning which can identify patterns in data without providing any predictions. Project Hanover developed by Microsoft is using ML-based technologies for multiple initiatives including developing AI-based technology for cancer treatment and personalizing drug combination for AML (Acute Myeloid Leukemia).\n",
    "\n",
    "\n",
    "### Medical Imaging Diagnosis\n",
    "Machine learning and deep learning are both responsible for the breakthrough technology called Computer Vision. \n",
    "\n",
    "This has found acceptance in the InnerEye initiative developed by Microsoft which works on image diagnostic tools for image analysis. As machine learning becomes more accessible and as they grow in their explanatory capacity, expect to see more data sources from varied medical imagery become a part of this AI-driven diagnostic process.\n",
    "\n",
    "<img src='hlt4.jpg' style=\"width:700px;height:400px;\"/>\n",
    "\n",
    "\n",
    "### Personalized Medicine\n",
    "\n",
    "Personalized treatments can not only be more effective by pairing individual health with predictive analytics but is also ripe are for further research and better disease assessment. \n",
    "\n",
    "Currently, physicians are limited to choosing from a specific set of diagnoses or estimate the risk to the patient based on his symptomatic history and available genetic information. But machine learning in medicine is making great strides, and IBM Watson Oncology is at the forefront of this movement by leveraging patient medical history to help generate multiple treatment options. \n",
    "\n",
    "In the coming years, we will see more devices and biosensors with sophisticated health measurement capabilities hit the market, allowing more data to become readily available for such cutting-edge ML-based healthcare technologies.\n",
    "\n",
    "\n",
    "<div class=\"alert alert-info\"/>\n",
    "<img src='hlt5.jpg' style=\"width:700px;height:400px;\"/></div>\n",
    "\n",
    "\n",
    "### Machine Learning-based Behavioral Modification\n",
    "Behavioral modification is an important part of preventive medicine, and ever since the proliferation of machine learning in healthcare, countless startups are cropping up in the fields of cancer prevention and identification, patient treatment, etc. \n",
    "\n",
    "Somatix is a B2B2C-based data analytics company which has released an ML-based app to recognize gestures which we make in our daily lives, allowing us to understand our unconscious behavior and make necessary changes.\n",
    "\n",
    "\n",
    "### Clinical Trial and Research\n",
    "Machine learning has several potential applications in the field of clinical trials and research. As anybody in the pharma industry would tell you, clinical trials cost a lot of time and money and can take years to complete in many cases. \n",
    "\n",
    "Applying ML-based predictive analytics to identify potential clinical trial candidates can help researchers draw a pool from a wide variety of data points, such as previous doctor visits, social media, etc. \n",
    "\n",
    "Machine learning has also found usage in ensuring real-time monitoring and data access of the trial participants, finding the best sample size to be tested, and leveraging the power of electronic records to reduce data-based errors.\n",
    "\n",
    "\n",
    "### Image Analysis: Better Radiotherapy\n",
    "One of the most sought-after applications of machine learning in healthcare is in the field of Radiology. Medical image analysis has many discrete variables which can arise at any particular moment of time. \n",
    "\n",
    "There are many lesions, cancer foci, etc. which cannot be simply modeled using complex equations. Since ML-based algorithms learn from the multitude of different samples available on-hand, it becomes easier to diagnose and find the variables. \n",
    "\n",
    "One of the most popular uses of machine learning in medical image analysis is the classification of objects such as lesions into categories such as normal or abnormal, lesion or non-lesion, etc. \n",
    "\n",
    "Google's DeepMind Health is actively helping researchers in UCLH develop algorithms which can detect the difference between healthy and cancerous tissue and improve radiation treatment for the same.\n",
    "\n",
    "\n",
    "### Outbreak Prediction\n",
    "AI-based technologies and machine learning are today also being put to use in monitoring and predicting epidemics around the world. \n",
    "\n",
    "Today, scientists have access to a large amount of data collected from satellites, real-time social media updates, website information, etc. Artificial neural networks help to collate this information and predict everything from malaria outbreaks to severe chronic infectious diseases. \n",
    "\n",
    "Predicting these outbreaks is especially helpful in third-world countries as they lack in crucial medical infrastructure and educational systems. A primary example of this is the ProMED-mail, an Internet-based reporting platform which monitors evolving diseases and emerging ones and provides outbreak reports in real-time.\n",
    "\n",
    "\n",
    "<div class=\"alert alert-info\"/>\n",
    "<img src='hlt9.jpg' style=\"width:700px;height:400px;\"/></div>"
   ]
  },
  {
   "cell_type": "markdown",
   "metadata": {},
   "source": [
    "<div class=\"alert alert-info\"/></div>"
   ]
  },
  {
   "cell_type": "markdown",
   "metadata": {},
   "source": [
    "# Where to start:\n",
    "\n",
    "To get started we need:\n",
    "\n",
    "- Platform/ Environment (Jupyter Notebooks, R-studio)\n",
    "- Language (Python, R)"
   ]
  },
  {
   "cell_type": "markdown",
   "metadata": {},
   "source": [
    "# Practicing Platforms:\n",
    "\n",
    "These are platforms that you can access GPUs for free:\n",
    "\n",
    "\n",
    "- ### [Kaggle](kaggle.com)\n",
    "\n",
    "<img src='kaggle.png' style=\"width:700px;height:400px;\"/>"
   ]
  },
  {
   "cell_type": "markdown",
   "metadata": {},
   "source": [
    "<div class=\"alert alert-info\"/></div>"
   ]
  },
  {
   "cell_type": "markdown",
   "metadata": {},
   "source": [
    "- ## [Google Colab](colab.research.google.com)\n",
    "\n",
    "Here you can get:(free)\n",
    "- GPU\n",
    "- TPU\n",
    "\n",
    "<img src='colab.png' style=\"width:700px;height:400px;\"/>"
   ]
  },
  {
   "cell_type": "markdown",
   "metadata": {},
   "source": [
    "<div class=\"alert alert-info\"/></div>"
   ]
  },
  {
   "cell_type": "markdown",
   "metadata": {},
   "source": [
    "- ## [Git Hub](www.github.com)\n",
    "\n",
    "This is a platform you can use to see what people have worked on.\n",
    "\n",
    "You are able to fork what people have done and use it on your laptop or machine to practice the use of some \n",
    "techniques and other things.\n",
    "\n",
    "### In order to get this teaching material you need to get a github account so that we can move together.\n",
    "\n",
    "1- Get a github account for free\n",
    "2- Download git and install it on your machine\n",
    "3- Clone the repository like this:\n",
    "\n",
    "#### In Jupyter Notebook:\n",
    "```\n",
    "!git clone https://github.com/atwine/ace-class-notes.git\n",
    "```\n",
    "\n",
    "#### On command line use this command:\n",
    "\n",
    "```\n",
    "git clone https://github.com/atwine/ace-class-notes.git\n",
    "```\n",
    "\n",
    "<img src='github.png' style=\"width:700px;height:400px;\"/>"
   ]
  },
  {
   "cell_type": "markdown",
   "metadata": {},
   "source": [
    "<div class=\"alert alert-info\"/></div>"
   ]
  },
  {
   "cell_type": "code",
   "execution_count": null,
   "metadata": {},
   "outputs": [],
   "source": []
  },
  {
   "cell_type": "markdown",
   "metadata": {},
   "source": [
    "\n",
    "## What you need to have to get started:-\n",
    "\n",
    "Let us look at some of the things we need to get started, now that you have a new computer what do you do?\n",
    "\n",
    "- ## [Install Python](https://www.python.org/)\n",
    "Python is a programming language that is one of the mostly used in Machine Learning and Artificial intelligence.\n",
    "\n",
    "It is fast, easy to use (the systax is simple to understand) and is open source (anyone can use it).\n",
    "\n",
    "Normally python comes installed on your pc, but there are upgrades, in case of that you need to download the latest from the python official website.\n",
    "\n",
    "<img src='python.png' style=\"width:700px;height:400px;\"/>\n",
    "\n",
    "- ### An Environment:\n",
    " In order to start coding you need an environment where you will write your code. The environments differ depending on choice. I am going to list two different ones.\n",
    " \n",
    " ### Anaconda (Python & R)\n",
    " [Link](www.anacond.org) with this environment you are able to write both Python and R code for machine learning and deep learning.\n",
    " \n",
    " <img src='anaconda.png' style=\"width:700px;height:400px;\"/>\n",
    " \n",
    " After installing this software you will be able to access Jupyter Notebook local server so that you will be able to work with RStudio all intalled in one navigator.\n",
    " \n",
    " ### R Studio\n",
    " You are able to launch R Studio from anaconda navigator (plus many other editors). With this environment you are able to work with R which is an alternative for python.\n",
    " \n",
    " <img src='rstudio.png' style=\"width:700px;height:400px;\"/>\n",
    " \n",
    " ### Anaconda Navigator\n",
    " \n",
    "  <img src='anaconda navigator.png' style=\"width:700px;height:400px;\"/>\n",
    "  \n",
    "  \n",
    "## Jupyter notebooks\n",
    "\n",
    "What problem does jupyter solve: for a newbie to this arena you can get intimidated with setting up an environment for AI and ML. In a few steps with Jupyter you can have a working server and frontend web based application to help you get started quickly!\n",
    "\n",
    "Jupyter is a free, open-source, interactive web tool known as a computational notebook, which researchers can use to combine software code, computational output, explanatory text and multimedia resources in a single document.\n",
    "\n",
    "The Jupyter notebook has two components. Users input programming code or text in rectangular cells in a front-end web page. The browser then passes that code to a back-end ‘kernel’, which runs the code and returns the results\n",
    "\n",
    "Here is a great [article on Jupyter Notebooks](https://www.analyticsvidhya.com/blog/2018/05/starters-guide-jupyter-notebook/)\n",
    "\n",
    "<img src='Jupyternotebooks.png' style=\"width:700px;height:400px;\"/>\n",
    "\n",
    "### [Interesting Jupyter Notebooks](https://github.com/jupyter/jupyter/wiki/A-gallery-of-interesting-Jupyter-Notebooks#statistics-machine-learning-and-data-science)\n",
    "\n",
    "You can also build widgets with in Jupyter Notebooks and many other things.\n",
    "\n",
    "<img src='Jupyterwidget.gif' style=\"width:700px;height:400px;\"/>"
   ]
  },
  {
   "cell_type": "markdown",
   "metadata": {},
   "source": [
    "\n",
    "<div class=\"alert alert-block alert-success\"/>\n",
    "\n",
    "Introduction to: [Python](https://github.com/cuttlefishh/python-for-data-analysis)\n",
    "\n",
    "</div>"
   ]
  },
  {
   "cell_type": "markdown",
   "metadata": {},
   "source": [
    "\n",
    "<div class=\"alert alert-block alert-success\"/>\n",
    "\n",
    "Introduction to: [Numpy](https://github.com/RahulR432/NumPyTutorial/blob/master/Numpy%20Tutorial.ipynb)\n",
    "\n",
    "</div>"
   ]
  },
  {
   "cell_type": "markdown",
   "metadata": {},
   "source": [
    "<div class=\"alert alert-block alert-success\"/>\n",
    "\n",
    "Introduction to: [Pandas](https://github.com/guipsamora/pandas_exercises)\n",
    "\n",
    "</div>"
   ]
  },
  {
   "cell_type": "markdown",
   "metadata": {},
   "source": [
    "<div class=\"alert alert-block alert-success\"/>\n",
    "\n",
    "Visualization for AI and ML [Searborn-- Matplotlib](https://github.com/clair513/Seaborn-Tutorial)\n",
    "\n",
    "</div>"
   ]
  },
  {
   "cell_type": "markdown",
   "metadata": {},
   "source": [
    "<div class=\"alert alert-block alert-success\"/>\n",
    "\n",
    "Exploratory Data Analysis intro: -- > Next"
   ]
  },
  {
   "cell_type": "code",
   "execution_count": null,
   "metadata": {},
   "outputs": [],
   "source": []
  }
 ],
 "metadata": {
  "kernelspec": {
   "display_name": "Python 3",
   "language": "python",
   "name": "python3"
  },
  "language_info": {
   "codemirror_mode": {
    "name": "ipython",
    "version": 3
   },
   "file_extension": ".py",
   "mimetype": "text/x-python",
   "name": "python",
   "nbconvert_exporter": "python",
   "pygments_lexer": "ipython3",
   "version": "3.7.3"
  },
  "varInspector": {
   "cols": {
    "lenName": 16,
    "lenType": 16,
    "lenVar": 40
   },
   "kernels_config": {
    "python": {
     "delete_cmd_postfix": "",
     "delete_cmd_prefix": "del ",
     "library": "var_list.py",
     "varRefreshCmd": "print(var_dic_list())"
    },
    "r": {
     "delete_cmd_postfix": ") ",
     "delete_cmd_prefix": "rm(",
     "library": "var_list.r",
     "varRefreshCmd": "cat(var_dic_list()) "
    }
   },
   "types_to_exclude": [
    "module",
    "function",
    "builtin_function_or_method",
    "instance",
    "_Feature"
   ],
   "window_display": false
  }
 },
 "nbformat": 4,
 "nbformat_minor": 2
}
